{
 "cells": [
  {
   "cell_type": "code",
   "execution_count": 1,
   "metadata": {},
   "outputs": [
    {
     "name": "stdout",
     "output_type": "stream",
     "text": [
      "Aloha\n"
     ]
    }
   ],
   "source": [
    "# 1\n",
    "outfile = open(\"Greetings.txt\", 'w')\n",
    "outfile.write(\"Hello\\n\")\n",
    "outfile.write(\"Aloha\\n\")\n",
    "outfile.close()\n",
    "\n",
    "infile = open(\"Greetings.txt\", 'r')\n",
    "for line in infile:\n",
    "    text = infile.readline().rstrip()\n",
    "infile.close()\n",
    "print(text)"
   ]
  },
  {
   "cell_type": "code",
   "execution_count": 2,
   "metadata": {},
   "outputs": [
    {
     "name": "stdout",
     "output_type": "stream",
     "text": [
      "Hello\n"
     ]
    }
   ],
   "source": [
    "# 2\n",
    "outfile = open(\"Greetings.txt\", 'w')\n",
    "outfile.write(\"Hello\\n\")\n",
    "outfile.write(\"Aloha\\n\")\n",
    "outfile.close()\n",
    "\n",
    "infile = open(\"Greetings.txt\", 'r')\n",
    "text = infile.readline().rstrip()\n",
    "infile.close()\n",
    "print(text)"
   ]
  },
  {
   "cell_type": "code",
   "execution_count": 3,
   "metadata": {},
   "outputs": [
    {
     "name": "stdout",
     "output_type": "stream",
     "text": [
      "Hello\n",
      "Aloha\n"
     ]
    }
   ],
   "source": [
    "# 3\n",
    "list1 = [\"Hello\\n\", \"Aloha\\n\"]\n",
    "outfile = open(\"Greetings.txt\", 'w')\n",
    "outfile.writelines(list1)\n",
    "outfile.close()\n",
    "\n",
    "infile = open(\"Greetings.txt\", 'r')\n",
    "text = infile.read()\n",
    "infile.close()\n",
    "print(text.rstrip())"
   ]
  },
  {
   "cell_type": "code",
   "execution_count": 4,
   "metadata": {},
   "outputs": [
    {
     "name": "stdout",
     "output_type": "stream",
     "text": [
      "Hello\n",
      "Aloha\n",
      "Hello\n",
      "Aloha\n"
     ]
    }
   ],
   "source": [
    "# 4\n",
    "list1 = [\"Hello\\n\", \"Aloha\\n\"]\n",
    "outfile = open(\"Greetings.txt\", 'a')\n",
    "outfile.writelines(list1)\n",
    "outfile.close()\n",
    "infile = open(\"Greetings.txt\", 'r')\n",
    "text = infile.read().rstrip()\n",
    "infile.close()\n",
    "print(text)"
   ]
  },
  {
   "cell_type": "code",
   "execution_count": 5,
   "metadata": {},
   "outputs": [
    {
     "name": "stdout",
     "output_type": "stream",
     "text": [
      "6\n"
     ]
    }
   ],
   "source": [
    "# 5\n",
    "\n",
    "print(len(set(\"Bookkeeper\")))"
   ]
  },
  {
   "cell_type": "code",
   "execution_count": 6,
   "metadata": {},
   "outputs": [
    {
     "data": {
      "text/plain": [
       "{'B', 'e', 'k', 'o', 'p', 'r'}"
      ]
     },
     "execution_count": 6,
     "metadata": {},
     "output_type": "execute_result"
    }
   ],
   "source": [
    "set(\"Bookkeeper\")"
   ]
  },
  {
   "cell_type": "code",
   "execution_count": 7,
   "metadata": {},
   "outputs": [
    {
     "name": "stdout",
     "output_type": "stream",
     "text": [
      "[1, 3, 4]\n"
     ]
    }
   ],
   "source": [
    "# 6\n",
    "\n",
    "print(sorted(set([3,4,1,4,3])))"
   ]
  },
  {
   "cell_type": "code",
   "execution_count": 8,
   "metadata": {},
   "outputs": [
    {
     "data": {
      "text/plain": [
       "{1, 3, 4}"
      ]
     },
     "execution_count": 8,
     "metadata": {},
     "output_type": "execute_result"
    }
   ],
   "source": [
    "set([3,4,1,4,3])"
   ]
  },
  {
   "cell_type": "code",
   "execution_count": 9,
   "metadata": {},
   "outputs": [
    {
     "name": "stdout",
     "output_type": "stream",
     "text": [
      "[4, 1, 0, 1, 4]\n"
     ]
    }
   ],
   "source": [
    "# 7\n",
    "\n",
    "print([x**2 for x in range(-2, 3)])"
   ]
  },
  {
   "cell_type": "code",
   "execution_count": 10,
   "metadata": {},
   "outputs": [
    {
     "name": "stdout",
     "output_type": "stream",
     "text": [
      "{0, 1, 4}\n"
     ]
    }
   ],
   "source": [
    "print({x ** 2 for x in range(-2, 3)})"
   ]
  },
  {
   "cell_type": "code",
   "execution_count": 11,
   "metadata": {},
   "outputs": [
    {
     "name": "stdout",
     "output_type": "stream",
     "text": [
      "[0, 1, 4]\n"
     ]
    }
   ],
   "source": [
    "# 8\n",
    "\n",
    "print(sorted({x ** 2 for x in range(-2, 3)}))"
   ]
  },
  {
   "cell_type": "code",
   "execution_count": 12,
   "metadata": {},
   "outputs": [
    {
     "name": "stdout",
     "output_type": "stream",
     "text": [
      "['Believe', 'in', 'yourself.']\n",
      "Believe in yourself.\n"
     ]
    }
   ],
   "source": [
    "# 9\n",
    "\n",
    "s = {\"Believe\", \"yourself.\"}\n",
    "s.add(\"in\")\n",
    "print(sorted(s))\n",
    "print(\" \".join(sorted(s)))"
   ]
  },
  {
   "cell_type": "code",
   "execution_count": 13,
   "metadata": {},
   "outputs": [
    {
     "name": "stdout",
     "output_type": "stream",
     "text": [
      "Never give up.\n"
     ]
    }
   ],
   "source": [
    "# 10\n",
    "\n",
    "s = {\"Always\", \"up.\", \"give\", \"Never\"}\n",
    "s.discard(\"Always\")\n",
    "print(\" \".join(sorted(s, key=len, reverse=True)))"
   ]
  },
  {
   "cell_type": "code",
   "execution_count": 14,
   "metadata": {},
   "outputs": [
    {
     "data": {
      "text/plain": [
       "['Never', 'give', 'up.']"
      ]
     },
     "execution_count": 14,
     "metadata": {},
     "output_type": "execute_result"
    }
   ],
   "source": [
    "sorted(s, key=len, reverse=True)"
   ]
  },
  {
   "cell_type": "code",
   "execution_count": 15,
   "metadata": {},
   "outputs": [
    {
     "data": {
      "text/plain": [
       "{'Never', 'give', 'up.'}"
      ]
     },
     "execution_count": 15,
     "metadata": {},
     "output_type": "execute_result"
    }
   ],
   "source": [
    "s"
   ]
  },
  {
   "cell_type": "code",
   "execution_count": 16,
   "metadata": {},
   "outputs": [
    {
     "name": "stdout",
     "output_type": "stream",
     "text": [
      "['a', 'c', 't']\n"
     ]
    }
   ],
   "source": [
    "# 11\n",
    "\n",
    "s = set(\"cat\")\n",
    "s.add('t')\n",
    "print(sorted(s))"
   ]
  },
  {
   "cell_type": "code",
   "execution_count": 17,
   "metadata": {},
   "outputs": [
    {
     "data": {
      "text/plain": [
       "{'a', 'c', 't'}"
      ]
     },
     "execution_count": 17,
     "metadata": {},
     "output_type": "execute_result"
    }
   ],
   "source": [
    "s"
   ]
  },
  {
   "cell_type": "code",
   "execution_count": 18,
   "metadata": {},
   "outputs": [
    {
     "name": "stdout",
     "output_type": "stream",
     "text": [
      "['z', 'o', 'n', 'e']\n"
     ]
    }
   ],
   "source": [
    "# 12\n",
    "\n",
    "s = set(\"dozen\")\n",
    "s.discard('d')\n",
    "print(sorted(s, reverse=True))"
   ]
  },
  {
   "cell_type": "code",
   "execution_count": 19,
   "metadata": {},
   "outputs": [],
   "source": [
    "outfile = open(\"ABC1.txt\", 'w')\n",
    "outfile.write(\"A\\n\")\n",
    "outfile.write(\"B\\n\")\n",
    "outfile.write(\"C\\n\")\n",
    "outfile.close()"
   ]
  },
  {
   "cell_type": "code",
   "execution_count": 20,
   "metadata": {},
   "outputs": [],
   "source": [
    "# 13\n",
    "\n",
    "infile = open(\"ABC.txt\", 'w') # 'w'는 파일에 내용을 삽입할 때 사용됨.\n",
    "line = infile.write('a') # readline는 'r'일 때 사용가능함.\n",
    "infile.close()"
   ]
  },
  {
   "cell_type": "code",
   "execution_count": 21,
   "metadata": {},
   "outputs": [],
   "source": [
    "# 14\n",
    "\n",
    "outfile = open(\"ABC1.txt\", 'a') # 파일 양 옆에 \"\" 표시를 해야 함.\n",
    "outfile.write(\"D\\n\")\n",
    "outfile.close()"
   ]
  },
  {
   "cell_type": "code",
   "execution_count": 22,
   "metadata": {},
   "outputs": [],
   "source": [
    "# 15\n",
    "\n",
    "infile = open(\"ABC1.txt\", 'r')\n",
    "line = infile.readline()\n",
    "infile.close() # infile.close() 로 해야 함."
   ]
  },
  {
   "cell_type": "code",
   "execution_count": 23,
   "metadata": {},
   "outputs": [],
   "source": [
    "# 16\n",
    "\n",
    "outfile = open(\"ABC2.txt\", 'w') # 'w'로 바꾸어야 함.\n",
    "outfile.write(\"D/n\")\n",
    "outfile.close()"
   ]
  },
  {
   "cell_type": "code",
   "execution_count": 24,
   "metadata": {},
   "outputs": [],
   "source": [
    "# 17\n",
    "\n",
    "outfile = open(\"Data.txt\", 'w')\n",
    "for i in range(5):\n",
    "    outfile.write(str(i)+'\\n') # str로 변환해줘야 함.\n",
    "outfile.close()"
   ]
  },
  {
   "cell_type": "code",
   "execution_count": 25,
   "metadata": {},
   "outputs": [
    {
     "name": "stdout",
     "output_type": "stream",
     "text": [
      "2\n"
     ]
    }
   ],
   "source": [
    "# 18\n",
    "\n",
    "list1 = [\"spam\\n\", \"eggs\\n\"]\n",
    "outfile = open(\"Data1.txt\", 'w')\n",
    "outfile.writelines(list1)\n",
    " # outfile은 len 함수의 인자가 될 수 없음.\n",
    "outfile.close()\n",
    "\n",
    "infile = open(\"Data1.txt\", 'r')\n",
    "list1 = [line.rstrip() for line in infile]\n",
    "infile.close()\n",
    "print(len(list1))"
   ]
  },
  {
   "cell_type": "code",
   "execution_count": 26,
   "metadata": {},
   "outputs": [
    {
     "name": "stdout",
     "output_type": "stream",
     "text": [
      "Hello\n",
      "Aloha\n"
     ]
    }
   ],
   "source": [
    "# 19\n",
    "list1 = [\"Hello\\n\", \"Aloha\"]\n",
    "outfile = open(\"Greet.txt\", 'w')\n",
    "outfile.writelines(list1)\n",
    "outfile.close()\n",
    "infile = open(\"Greet.txt\", 'r')\n",
    "text = infile.read()\n",
    "infile.close()\n",
    " # infile 앞에 위치해야 함.\n",
    "\n",
    "print(text)"
   ]
  },
  {
   "cell_type": "code",
   "execution_count": 27,
   "metadata": {},
   "outputs": [],
   "source": [
    "# 20\n",
    "\n",
    "list1 = [\"spam\", \"and\", \"eggs\"]\n",
    "outfile = open(\"Data3.txt\", 'w')\n",
    "for word in list1:\n",
    "    outfile.write(word + \"\\n\")\n",
    "    outfile.write(str(len(word))+\"\\n\")\n",
    "outfile.close()"
   ]
  },
  {
   "cell_type": "code",
   "execution_count": 28,
   "metadata": {},
   "outputs": [
    {
     "name": "stdout",
     "output_type": "stream",
     "text": [
      "D/n\n"
     ]
    }
   ],
   "source": [
    "# 21\n",
    "\n",
    "infile = open(\"ABC2.txt\", 'r')\n",
    "line = infile.readline()\n",
    "infile.close()\n",
    "\n",
    "print(line)"
   ]
  },
  {
   "cell_type": "code",
   "execution_count": 29,
   "metadata": {},
   "outputs": [
    {
     "data": {
      "text/plain": [
       "[(3, 4), 5, 'xyz']"
      ]
     },
     "execution_count": 29,
     "metadata": {},
     "output_type": "execute_result"
    }
   ],
   "source": [
    "# 22\n",
    "\n",
    "set1 = {\"xyz\", 5, (3,4)} # 집합은 imutable한 값들로 구성해야 함(리스트 안됨)\n",
    "list1 = list(set1)\n",
    "list1"
   ]
  },
  {
   "cell_type": "code",
   "execution_count": 30,
   "metadata": {},
   "outputs": [],
   "source": [
    "# 23 파일이 만들어짐.\n",
    "# 24 File already exists.\n",
    "\n",
    "import os.path\n",
    "\n",
    "if os.path.isfile(\"ABC5.txt\"):\n",
    "    print(\"File already exists.\")\n",
    "else:\n",
    "    infile = open(\"ABC5.txt\", 'w')\n",
    "    infile.write(\"a\\nb\\nc\\n\")\n",
    "    infile.close()"
   ]
  },
  {
   "cell_type": "code",
   "execution_count": 31,
   "metadata": {},
   "outputs": [],
   "source": [
    "# 25\n",
    "\n",
    "def removeDuplicates(list1):\n",
    "    list2 = []\n",
    "    for item in list1:\n",
    "        if item not in list2:\n",
    "            list2.append(item)\n",
    "    return list2"
   ]
  },
  {
   "cell_type": "code",
   "execution_count": 32,
   "metadata": {},
   "outputs": [],
   "source": [
    "def removeDuplicates(list1):\n",
    "    set1 = set(list1)\n",
    "    return list(set1)"
   ]
  },
  {
   "cell_type": "code",
   "execution_count": 33,
   "metadata": {},
   "outputs": [],
   "source": [
    "# 26\n",
    "\n",
    "def findItemsInBoth(list1, list2):\n",
    "    list3 = []\n",
    "    for item in list1:\n",
    "        if (item in list2) and (item not in list3):\n",
    "            list3.append(item)\n",
    "    return list3"
   ]
  },
  {
   "cell_type": "code",
   "execution_count": 34,
   "metadata": {},
   "outputs": [],
   "source": [
    "def findItemsInBoth(list1, list2):\n",
    "    set1 = set(list1).intersection(set(list2))\n",
    "    return list(set1)"
   ]
  },
  {
   "cell_type": "code",
   "execution_count": 35,
   "metadata": {},
   "outputs": [],
   "source": [
    "# 27\n",
    "\n",
    "def findItemInEither(list1, list2):\n",
    "    list3 = []\n",
    "    for item in list1:\n",
    "        if (item not in list3):\n",
    "            list3.append(item)\n",
    "    for item in list2:\n",
    "        if (item not in list3):\n",
    "            list3.append(item)\n",
    "    return list3"
   ]
  },
  {
   "cell_type": "code",
   "execution_count": 36,
   "metadata": {},
   "outputs": [],
   "source": [
    "def findItemInEither(list1, list2):\n",
    "    set1 = set(list1).union(set(list2))\n",
    "    return list(set1)"
   ]
  },
  {
   "cell_type": "code",
   "execution_count": 37,
   "metadata": {},
   "outputs": [
    {
     "data": {
      "text/plain": [
       "[1, 2, 3, 4]"
      ]
     },
     "execution_count": 37,
     "metadata": {},
     "output_type": "execute_result"
    }
   ],
   "source": [
    "list1 = [1,2]\n",
    "list2 = [3,4]\n",
    "\n",
    "findItemInEither(list1, list2)"
   ]
  },
  {
   "cell_type": "code",
   "execution_count": 38,
   "metadata": {},
   "outputs": [
    {
     "name": "stdout",
     "output_type": "stream",
     "text": [
      "{'Shell', 'Kay', 'Knuth', 'Mills'}\n"
     ]
    }
   ],
   "source": [
    "# 28\n",
    "\n",
    "names = [\"Donald Shell\", \"Harlan Mills\", \"Donald Knuth\", \"Alan Kay\"]\n",
    "setLN = set()\n",
    "for name in names:\n",
    "    setLN.add(name.split()[-1])\n",
    "print(setLN)"
   ]
  },
  {
   "cell_type": "code",
   "execution_count": 39,
   "metadata": {},
   "outputs": [
    {
     "data": {
      "text/plain": [
       "{'Kay', 'Knuth', 'Mills', 'Shell'}"
      ]
     },
     "execution_count": 39,
     "metadata": {},
     "output_type": "execute_result"
    }
   ],
   "source": [
    "{x.split()[-1] for x in names}"
   ]
  },
  {
   "cell_type": "code",
   "execution_count": 40,
   "metadata": {},
   "outputs": [
    {
     "name": "stdout",
     "output_type": "stream",
     "text": [
      "Four score and seven years ago, our fathers brought forth on this continent a new nation:\n",
      "The Gettysburg Address contains 268 words.\n",
      "The Gettysburg Address contains 139 different words.\n"
     ]
    }
   ],
   "source": [
    "# 29\n",
    "\n",
    "infile = open(\"./Programs/Ch5/Gettysburg.txt\", 'r')\n",
    "originalLine = infile.readline()\n",
    "print(originalLine[:89])\n",
    "originalLine = originalLine.lower()\n",
    "line = \"\"\n",
    "for ch in originalLine:\n",
    "    if ('a' <= ch <= 'z') or (ch == \" \"):\n",
    "        line += ch\n",
    "        \n",
    "listOfWords = line.split()\n",
    "setOfWords = set(listOfWords)\n",
    "print(\"The Gettysburg Address contains\", len(listOfWords), \"words.\")\n",
    "print(\"The Gettysburg Address contains\", len(setOfWords), \"different words.\")"
   ]
  },
  {
   "cell_type": "code",
   "execution_count": 41,
   "metadata": {},
   "outputs": [
    {
     "data": {
      "text/plain": [
       "'\\ninfile = open(\"Programs/Ch5/NYTimes.txt\", \\'r\\')\\ntimesList = [line.rstrip() for line in infile]\\ninfile.close()\\n\\ntimeSet = set(timeList)\\ninfile = open(\"Programs/Ch5/WSJ.txt\", \\'r\\')\\nwsjList = [line.rstrip() for line in infile]\\ninfile.close()\\n\\nwsjSet = set(wsjList)\\ncombinationSet = timesSet.union(wsjSet)\\ncombinationList = list(combinationSet)\\ncombinationString = (\\'\\n\\').join(combinationList)\\n\\noutfile = open(\"NewFile.txt\", \\'w\\')\\noutfile.write(combinationString)\\noutfile.close()\\n'"
      ]
     },
     "execution_count": 41,
     "metadata": {},
     "output_type": "execute_result"
    }
   ],
   "source": [
    "# 30 ~ #32 파일 없음.\n",
    "\"\"\"\n",
    "infile = open(\"Programs/Ch5/NYTimes.txt\", 'r')\n",
    "timesList = [line.rstrip() for line in infile]\n",
    "infile.close()\n",
    "\n",
    "timeSet = set(timeList)\n",
    "infile = open(\"Programs/Ch5/WSJ.txt\", 'r')\n",
    "wsjList = [line.rstrip() for line in infile]\n",
    "infile.close()\n",
    "\n",
    "wsjSet = set(wsjList)\n",
    "combinationSet = timesSet.union(wsjSet)\n",
    "combinationList = list(combinationSet)\n",
    "combinationString = ('\\n').join(combinationList)\n",
    "\n",
    "outfile = open(\"NewFile.txt\", 'w')\n",
    "outfile.write(combinationString)\n",
    "outfile.close()\n",
    "\"\"\""
   ]
  },
  {
   "cell_type": "code",
   "execution_count": 42,
   "metadata": {},
   "outputs": [],
   "source": [
    "# 33\n",
    "\n",
    "infile = open(\"./Programs/Ch5/Pre1990.txt\", 'r')\n",
    "pre1990List = [line.rstrip() for line in infile]\n",
    "infile.close()\n",
    "\n",
    "infile = open(\"./Programs/Ch5/Retired.txt\", 'r')\n",
    "retiredColorsList = [line.rstrip() for line in infile]\n",
    "infile.close()\n",
    "\n",
    "infile = open(\"./Programs/Ch5/Added.txt\", 'r')\n",
    "addedColorsList = [line.rstrip() for line in infile]\n",
    "infile.close()\n",
    "\n",
    "pre1990Set = set(pre1990List)\n",
    "retiredColorsSet = set(retiredColorsList)\n",
    "addedColorsSet = set(addedColorsList)\n",
    "\n",
    "set1 = pre1990Set.difference(retiredColorsSet)\n",
    "set2 = set1.union(addedColorsSet)\n",
    "\n",
    "list1 = list(set2)\n",
    "list1.sort()\n",
    "\n",
    "string1 = '\\n'.join(list1)\n",
    "\n",
    "outfile = open(\"Post1990.txt\", 'w')\n",
    "outfile.write(string1)\n",
    "outfile.close()"
   ]
  },
  {
   "cell_type": "code",
   "execution_count": 43,
   "metadata": {},
   "outputs": [
    {
     "name": "stdout",
     "output_type": "stream",
     "text": [
      "The file Numbers.txt\n",
      "contains 6 numbers.\n"
     ]
    }
   ],
   "source": [
    "# 34\n",
    "\n",
    "def main():\n",
    "    number = getNumbers(\"Numbers.txt\")\n",
    "    print(\"The file Numbers.txt\\ncontains\", str(number), \"numbers.\")\n",
    "    \n",
    "def getNumbers(fileName):\n",
    "    infile = open(\"./Programs/Ch5/Numbers.txt\", 'r')\n",
    "    number = 0\n",
    "    for line in infile:\n",
    "        number += 1\n",
    "    infile.close()\n",
    "    return number\n",
    "\n",
    "main()   "
   ]
  },
  {
   "cell_type": "code",
   "execution_count": 44,
   "metadata": {},
   "outputs": [
    {
     "name": "stdout",
     "output_type": "stream",
     "text": [
      "The largest number in the \n",
      "file Numbers.txt is 9.\n"
     ]
    }
   ],
   "source": [
    "# 35\n",
    "\n",
    "def main():\n",
    "    max1 = getMax(\"Numbers.txt\")\n",
    "    print(\"The largest number in the \\nfile Numbers.txt is\", str(max1) + \".\")\n",
    "    \n",
    "def getMax(fileName):\n",
    "    infile = open(\"./Programs/Ch5/Numbers.txt\", 'r')\n",
    "    max = int(infile.readline())\n",
    "    for line in infile:\n",
    "        num = int(line)\n",
    "        if num > max:\n",
    "            max = num\n",
    "    infile.close()\n",
    "    return max\n",
    "\n",
    "main()    "
   ]
  },
  {
   "cell_type": "code",
   "execution_count": 45,
   "metadata": {},
   "outputs": [
    {
     "name": "stdout",
     "output_type": "stream",
     "text": [
      "The smallest number in the \n",
      "file Numbers.txt is 2.\n"
     ]
    }
   ],
   "source": [
    "# 36\n",
    "\n",
    "def main():\n",
    "    min1 = getMin(\"Numbers.txt\")\n",
    "    print(\"The smallest number in the \\nfile Numbers.txt is\", str(min1) + \".\")\n",
    "    \n",
    "def getMin(fileName):\n",
    "    infile = open(\"./Programs/Ch5/\"+fileName, 'r')\n",
    "    min = int(infile.readline())\n",
    "    for line in infile:\n",
    "        num = int(line)\n",
    "        if num < min:\n",
    "            min = num\n",
    "    infile.close()\n",
    "    return min\n",
    "\n",
    "main()"
   ]
  },
  {
   "cell_type": "code",
   "execution_count": 46,
   "metadata": {},
   "outputs": [
    {
     "name": "stdout",
     "output_type": "stream",
     "text": [
      "The sum of the numbers in\n",
      "the file Numbers.txt is 30.\n"
     ]
    }
   ],
   "source": [
    "# 37\n",
    "\n",
    "def main():\n",
    "    sum = getSum(\"Numbers.txt\")\n",
    "    print(\"The sum of the numbers in\\nthe file Numbers.txt is\", str(sum) + \".\")\n",
    "    \n",
    "def getSum(fileName):\n",
    "    infile = open(\"./Programs/Ch5/\"+fileName, 'r')\n",
    "    sum = 0\n",
    "    for line in infile:\n",
    "        sum += int(line)\n",
    "    infile.close()\n",
    "    return sum\n",
    "\n",
    "main()"
   ]
  },
  {
   "cell_type": "code",
   "execution_count": 47,
   "metadata": {},
   "outputs": [
    {
     "name": "stdout",
     "output_type": "stream",
     "text": [
      "The average of the numbers in\n",
      "the file Numbers.txt is 5.0.\n"
     ]
    }
   ],
   "source": [
    "# 38\n",
    "\n",
    "def main():\n",
    "    avg = getAvg(\"Numbers.txt\")\n",
    "    print(\"The average of the numbers in\\nthe file Numbers.txt is\", str(avg) + \".\")\n",
    "    \n",
    "def getAvg(fileName):\n",
    "    infile = open(\"./Programs/Ch5/\"+fileName, 'r')\n",
    "    sum = 0\n",
    "    count = 0\n",
    "    for line in infile:\n",
    "        sum += int(line)\n",
    "        count += 1\n",
    "    infile.close()\n",
    "    avg = sum / count\n",
    "    return avg\n",
    "\n",
    "main()"
   ]
  },
  {
   "cell_type": "code",
   "execution_count": 48,
   "metadata": {},
   "outputs": [
    {
     "name": "stdout",
     "output_type": "stream",
     "text": [
      "The average of the numbers in\n",
      "the file Numbers.txt is 4.\n"
     ]
    }
   ],
   "source": [
    "# 39\n",
    "\n",
    "def main():\n",
    "    numLast = getLast(\"Numbers.txt\")\n",
    "    print(\"The average of the numbers in\\nthe file Numbers.txt is\", str(numLast) + \".\")\n",
    "    \n",
    "def getLast(fileName):\n",
    "    infile = open(\"./Programs/Ch5/\"+fileName, 'r')\n",
    "    for line in infile:\n",
    "        pass\n",
    "    numLast = int(line)\n",
    "    return numLast\n",
    "\n",
    "main()"
   ]
  },
  {
   "cell_type": "code",
   "execution_count": 49,
   "metadata": {},
   "outputs": [],
   "source": [
    "# 40\n",
    "\n",
    "import os\n",
    "\n",
    "infile = open(\"Programs/Ch5/SomeMonths.txt\", 'r')\n",
    "outfile = open(\"Temp1.txt\", 'w')\n",
    "for month in infile:\n",
    "    if 'r' not in month.rstrip().lower():\n",
    "        outfile.write(month)\n",
    "infile.close()\n",
    "outfile.close()\n",
    "os.rename(\"Temp1.txt\", \"SomeMonths.txt\")"
   ]
  },
  {
   "cell_type": "code",
   "execution_count": 50,
   "metadata": {},
   "outputs": [],
   "source": [
    "# 41\n",
    "\n",
    "import os\n",
    "\n",
    "infile = open(\"./Programs/Ch5/ShortColors.txt\", 'r')\n",
    "outfile = open(\"Temp2.txt\", 'w')\n",
    "for color in infile:\n",
    "    if len(color.rstrip()) < 6:\n",
    "        outfile.write(color)\n",
    "infile.close()\n",
    "outfile.close()\n",
    "# os.remove(\"Programs/Ch5/ShortColors.txt\")\n",
    "os.rename(\"Temp2.txt\", \"ShortColors.txt\")"
   ]
  },
  {
   "cell_type": "code",
   "execution_count": 51,
   "metadata": {},
   "outputs": [],
   "source": [
    "# 42\n",
    "\n",
    "import os\n",
    "\n",
    "infile = open(\"./Programs/Ch5/SomePlayers.txt\", 'r')\n",
    "outfile = open(\"Temp3.txt\", 'w')\n",
    "for player in infile:\n",
    "    vowel = (\"a\", \"e\", \"i\", \"o\", \"u\")\n",
    "    if player.rstrip().lower().startswith(vowel):\n",
    "        outfile.write(player)\n",
    "infile.close()\n",
    "outfile.close()\n",
    "# os.remove(\"SomePlayers.txt\")\n",
    "os.rename(\"Temp3.txt\", \"SomePlayers.txt\")"
   ]
  },
  {
   "cell_type": "code",
   "execution_count": 52,
   "metadata": {},
   "outputs": [
    {
     "name": "stdout",
     "output_type": "stream",
     "text": [
      "18 different states have\n",
      "produced presidents of the\n",
      "United States.\n"
     ]
    }
   ],
   "source": [
    "# 44\n",
    "\n",
    "import os\n",
    "\n",
    "infile = open(\"./Programs/Ch5/PresStates.txt\", 'r')\n",
    "outfile = open(\"Temp4.txt\", 'w')\n",
    "stateList = []\n",
    "for state in infile:\n",
    "    stateList.append(state)\n",
    "stateSet = set(stateList)\n",
    "stateList2 = list(stateSet)\n",
    "outfile.writelines(stateList2)\n",
    "infile.close()\n",
    "outfile.close()\n",
    "\n",
    "# os.remove(\"ShortColors.txt\")\n",
    "os.rename(\"Temp4.txt\", \"PresStates.txt\")\n",
    "\n",
    "print(len(stateList2), \"different states have\")\n",
    "print(\"produced presidents of the\\nUnited States.\")"
   ]
  },
  {
   "cell_type": "code",
   "execution_count": 53,
   "metadata": {},
   "outputs": [
    {
     "name": "stdout",
     "output_type": "stream",
     "text": [
      "Enter the lower number for the range: 1\n",
      "Enter the upper number for the range: 3\n",
      "  1 George Washington\n",
      "  2 John Adams\n",
      "  3 Thomas Jefferson\n"
     ]
    }
   ],
   "source": [
    "# 45\n",
    "\n",
    "def main():\n",
    "    lowerNumber, upperNumber = getRange()\n",
    "    displayPresidents(lowerNumber, upperNumber)\n",
    "    \n",
    "def getRange():\n",
    "    lowerNumber = int(input(\"Enter the lower number for the range: \"))\n",
    "    upperNumber = int(input(\"Enter the upper number for the range: \"))\n",
    "    return (lowerNumber, upperNumber)\n",
    "\n",
    "def displayPresidents(lowerNumber, upperNumber):\n",
    "    infile = open(\"./Programs/Ch5/USpres.txt\", 'r')\n",
    "    count = 0\n",
    "    for pres in infile:\n",
    "        count += 1\n",
    "        if lowerNumber <= count <= upperNumber:\n",
    "            print(\" \", count, pres, end = \"\")\n",
    "            \n",
    "main()"
   ]
  }
 ],
 "metadata": {
  "kernelspec": {
   "display_name": "Python 3",
   "language": "python",
   "name": "python3"
  },
  "language_info": {
   "codemirror_mode": {
    "name": "ipython",
    "version": 3
   },
   "file_extension": ".py",
   "mimetype": "text/x-python",
   "name": "python",
   "nbconvert_exporter": "python",
   "pygments_lexer": "ipython3",
   "version": "3.7.7"
  }
 },
 "nbformat": 4,
 "nbformat_minor": 4
}
