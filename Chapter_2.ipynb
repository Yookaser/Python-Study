{
 "cells": [
  {
   "cell_type": "markdown",
   "metadata": {},
   "source": [
    "## Chapter 1-2. Strings(문자열)"
   ]
  },
  {
   "cell_type": "markdown",
   "metadata": {},
   "source": [
    "## 1) 개요\n",
    "- 문자 하나 또는 문자가 모인 단어나 문장 또는 단락 등을 문자열이라 함.\n",
    "- 즉, 문자열은 \"일련의 문자 모임\"이라고 할 수 있음.\n",
    "- 파이썬에서 작은따옴표나 큰따옴표를 앞뒤로 둘러싸 '문자열' 또는 \"문자열\"처럼 표현함.\n",
    "- 따옴표로 둘러싸인 숫자도 문자열로 취급함.(예: '21', '1.1592' 등)\n",
    "- 따옴표로 둘어싸이면 모두 문자열이라고 할 수 있음.\n",
    "- 문자열이 길거나 여러 줄로 표현하기 위해 삼중따옴표 사용 가능\n",
    "    - 삼중따옴표는 작은따옴표나 큰따옴표를 연속적으로 3개씩 문자열 앞뒤에 둘어싸는 것!\n",
    "    - 삼중따옴표는 코드 내 주석으로 사용가능"
   ]
  },
  {
   "cell_type": "code",
   "execution_count": 1,
   "metadata": {},
   "outputs": [
    {
     "name": "stdout",
     "output_type": "stream",
     "text": [
      "Hello World!\n"
     ]
    }
   ],
   "source": [
    "print(\"Hello World!\")"
   ]
  },
  {
   "cell_type": "code",
   "execution_count": 2,
   "metadata": {},
   "outputs": [
    {
     "name": "stdout",
     "output_type": "stream",
     "text": [
      "Hello Python\n"
     ]
    }
   ],
   "source": [
    "print('Hello Python')"
   ]
  },
  {
   "cell_type": "code",
   "execution_count": 3,
   "metadata": {},
   "outputs": [
    {
     "ename": "SyntaxError",
     "evalue": "EOL while scanning string literal (<ipython-input-3-39078635e4da>, line 1)",
     "output_type": "error",
     "traceback": [
      "\u001b[0;36m  File \u001b[0;32m\"<ipython-input-3-39078635e4da>\"\u001b[0;36m, line \u001b[0;32m1\u001b[0m\n\u001b[0;31m    print(\"Hello string!')\u001b[0m\n\u001b[0m                          ^\u001b[0m\n\u001b[0;31mSyntaxError\u001b[0m\u001b[0;31m:\u001b[0m EOL while scanning string literal\n"
     ]
    }
   ],
   "source": [
    "# 문자열의 따옴표는 앞뒤를 동일하게 사용해야 함.\n",
    "print(\"Hello string!')"
   ]
  },
  {
   "cell_type": "code",
   "execution_count": 1,
   "metadata": {},
   "outputs": [
    {
     "name": "stdout",
     "output_type": "stream",
     "text": [
      "한양대학교\n"
     ]
    }
   ],
   "source": [
    "print(\"한양\" \"대학교\")"
   ]
  },
  {
   "cell_type": "code",
   "execution_count": 2,
   "metadata": {},
   "outputs": [
    {
     "name": "stdout",
     "output_type": "stream",
     "text": [
      "한양대학교\n"
     ]
    }
   ],
   "source": [
    "print(\"한양\"+\"대학교\")"
   ]
  },
  {
   "cell_type": "code",
   "execution_count": 3,
   "metadata": {},
   "outputs": [
    {
     "name": "stdout",
     "output_type": "stream",
     "text": [
      "한양대학교\n"
     ]
    }
   ],
   "source": [
    "print(\"한양\"+'대학교')"
   ]
  },
  {
   "cell_type": "code",
   "execution_count": 4,
   "metadata": {},
   "outputs": [
    {
     "name": "stdout",
     "output_type": "stream",
     "text": [
      "한양 대학교\n"
     ]
    }
   ],
   "source": [
    "print(\"한양 \" + \"대학교\")"
   ]
  },
  {
   "cell_type": "code",
   "execution_count": 5,
   "metadata": {},
   "outputs": [
    {
     "name": "stdout",
     "output_type": "stream",
     "text": [
      "한양한양한양\n"
     ]
    }
   ],
   "source": [
    "print(\"한양\"*3)"
   ]
  },
  {
   "cell_type": "code",
   "execution_count": 6,
   "metadata": {},
   "outputs": [
    {
     "name": "stdout",
     "output_type": "stream",
     "text": [
      "한양 한양 한양 \n"
     ]
    }
   ],
   "source": [
    "print(\"한양 \"*3)"
   ]
  },
  {
   "cell_type": "code",
   "execution_count": 7,
   "metadata": {},
   "outputs": [
    {
     "name": "stdout",
     "output_type": "stream",
     "text": [
      "한양 한양 한양 한양 한양 \n"
     ]
    }
   ],
   "source": [
    "print(5*\"한양 \")"
   ]
  },
  {
   "cell_type": "code",
   "execution_count": 8,
   "metadata": {},
   "outputs": [
    {
     "ename": "TypeError",
     "evalue": "can't multiply sequence by non-int of type 'str'",
     "output_type": "error",
     "traceback": [
      "\u001b[0;31m---------------------------------------------------------------------------\u001b[0m",
      "\u001b[0;31mTypeError\u001b[0m                                 Traceback (most recent call last)",
      "\u001b[0;32m<ipython-input-8-0c1df7c2699a>\u001b[0m in \u001b[0;36m<module>\u001b[0;34m\u001b[0m\n\u001b[0;32m----> 1\u001b[0;31m \u001b[0mprint\u001b[0m\u001b[0;34m(\u001b[0m\u001b[0;34m\"한양\"\u001b[0m\u001b[0;34m*\u001b[0m\u001b[0;34m\"대학교\"\u001b[0m\u001b[0;34m)\u001b[0m\u001b[0;34m\u001b[0m\u001b[0;34m\u001b[0m\u001b[0m\n\u001b[0m",
      "\u001b[0;31mTypeError\u001b[0m: can't multiply sequence by non-int of type 'str'"
     ]
    }
   ],
   "source": [
    "print(\"한양\"*\"대학교\")"
   ]
  },
  {
   "cell_type": "code",
   "execution_count": 3,
   "metadata": {},
   "outputs": [
    {
     "name": "stdout",
     "output_type": "stream",
     "text": [
      "나는 한양대학교를 다니는 것이\n",
      "너무나도 자랑스럽다\n"
     ]
    }
   ],
   "source": [
    "print('''나는 한양대학교를 다니는 것이\n",
    "너무나도 자랑스럽다''')"
   ]
  },
  {
   "cell_type": "code",
   "execution_count": 2,
   "metadata": {},
   "outputs": [
    {
     "name": "stdout",
     "output_type": "stream",
     "text": [
      "나도 한양대학교를 다니는 것이\n",
      "무척 자랑스럽다.\n"
     ]
    }
   ],
   "source": [
    "print(\"\"\"나도 한양대학교를 다니는 것이\n",
    "무척 자랑스럽다.\"\"\")"
   ]
  },
  {
   "cell_type": "code",
   "execution_count": 4,
   "metadata": {},
   "outputs": [
    {
     "name": "stdout",
     "output_type": "stream",
     "text": [
      "원의 원주율은 3.14이다.\n"
     ]
    }
   ],
   "source": [
    "print(\"원의 원주율은 \"+\"3.14\"+\"이다.\")"
   ]
  },
  {
   "cell_type": "code",
   "execution_count": 6,
   "metadata": {},
   "outputs": [
    {
     "name": "stdout",
     "output_type": "stream",
     "text": [
      "파이썬 언어! 반가워 반가워 반가워 \n"
     ]
    }
   ],
   "source": [
    "print(\"파이썬 \" + \"언어! \"+3*\"반가워 \")"
   ]
  },
  {
   "cell_type": "code",
   "execution_count": 7,
   "metadata": {},
   "outputs": [
    {
     "name": "stdout",
     "output_type": "stream",
     "text": [
      "파이썬은 즐겁다.\n"
     ]
    }
   ],
   "source": [
    "print(\"파이썬은\"+\" 즐겁다.\")"
   ]
  },
  {
   "cell_type": "code",
   "execution_count": 9,
   "metadata": {},
   "outputs": [
    {
     "name": "stdout",
     "output_type": "stream",
     "text": [
      "# 이후는 주석\n",
      "string: \"python\"\n",
      "number: 1 5 3.14\n",
      "'string: 'python'\n"
     ]
    }
   ],
   "source": [
    "'''python.py\n",
    "   2020.09 by Hun Park'''\n",
    "\n",
    "print('# 이후는 주석') # 한 줄에서 문장 이후에도 주석 사용 가능\n",
    "print('string: \"python\"') # 큰따옴표 내부에서 작은따옴표는 문자열\n",
    "print(\"number: 1 5 3.14\") # 문자열 내부에서 숫자도 문자열\n",
    "print(\"'string: 'python'\") # 작은따옴표 내부에서 큰따옴표는 문자열"
   ]
  },
  {
   "cell_type": "markdown",
   "metadata": {},
   "source": [
    " ## 2) 문자열 인덱싱\n",
    " - 문자열을 구성하는 문자는 0부터 시작되는 첨자(index)를 대괄호 안에 기술해 인덱싱이 가능함.\n",
    " - 문자열의 첫 글자는 첨자 0으로 표현되고, 문자열의 끝 글자는 첨자 -1로 표현됨.\n",
    " - 문자열의 두번째 글자는 첨자 1로 표현됨.\n",
    "     - str1이 문자열로 이루어진 변수에서 str1[0]은 문자열 첫번째 글자를 나타냄.\n",
    "     - str1[1]은 문자열 두번째 글자를 나타냄.\n",
    "     - str1[-1]은 문자열 마지막 글자를 나타냄."
   ]
  },
  {
   "cell_type": "code",
   "execution_count": 1,
   "metadata": {},
   "outputs": [
    {
     "data": {
      "text/plain": [
       "'p'"
      ]
     },
     "execution_count": 1,
     "metadata": {},
     "output_type": "execute_result"
    }
   ],
   "source": [
    "'python'[0]"
   ]
  },
  {
   "cell_type": "code",
   "execution_count": 2,
   "metadata": {},
   "outputs": [
    {
     "data": {
      "text/plain": [
       "'y'"
      ]
     },
     "execution_count": 2,
     "metadata": {},
     "output_type": "execute_result"
    }
   ],
   "source": [
    "'python'[1]"
   ]
  },
  {
   "cell_type": "code",
   "execution_count": 3,
   "metadata": {},
   "outputs": [
    {
     "data": {
      "text/plain": [
       "'h'"
      ]
     },
     "execution_count": 3,
     "metadata": {},
     "output_type": "execute_result"
    }
   ],
   "source": [
    "'python'[3]"
   ]
  },
  {
   "cell_type": "code",
   "execution_count": 4,
   "metadata": {},
   "outputs": [
    {
     "data": {
      "text/plain": [
       "'n'"
      ]
     },
     "execution_count": 4,
     "metadata": {},
     "output_type": "execute_result"
    }
   ],
   "source": [
    "'python'[-1]"
   ]
  },
  {
   "cell_type": "code",
   "execution_count": 7,
   "metadata": {},
   "outputs": [
    {
     "data": {
      "text/plain": [
       "'o'"
      ]
     },
     "execution_count": 7,
     "metadata": {},
     "output_type": "execute_result"
    }
   ],
   "source": [
    "'python'[-2]"
   ]
  },
  {
   "cell_type": "code",
   "execution_count": 5,
   "metadata": {},
   "outputs": [
    {
     "ename": "IndexError",
     "evalue": "string index out of range",
     "output_type": "error",
     "traceback": [
      "\u001b[0;31m---------------------------------------------------------------------------\u001b[0m",
      "\u001b[0;31mIndexError\u001b[0m                                Traceback (most recent call last)",
      "\u001b[0;32m<ipython-input-5-dbab44ca8057>\u001b[0m in \u001b[0;36m<module>\u001b[0;34m\u001b[0m\n\u001b[0;32m----> 1\u001b[0;31m \u001b[0;34m'python'\u001b[0m\u001b[0;34m[\u001b[0m\u001b[0;36m6\u001b[0m\u001b[0;34m]\u001b[0m\u001b[0;34m\u001b[0m\u001b[0;34m\u001b[0m\u001b[0m\n\u001b[0m",
      "\u001b[0;31mIndexError\u001b[0m: string index out of range"
     ]
    }
   ],
   "source": [
    "'python'[6]"
   ]
  },
  {
   "cell_type": "code",
   "execution_count": 6,
   "metadata": {},
   "outputs": [
    {
     "ename": "IndexError",
     "evalue": "string index out of range",
     "output_type": "error",
     "traceback": [
      "\u001b[0;31m---------------------------------------------------------------------------\u001b[0m",
      "\u001b[0;31mIndexError\u001b[0m                                Traceback (most recent call last)",
      "\u001b[0;32m<ipython-input-6-df790b63004b>\u001b[0m in \u001b[0;36m<module>\u001b[0;34m\u001b[0m\n\u001b[0;32m----> 1\u001b[0;31m \u001b[0;34m'python'\u001b[0m\u001b[0;34m[\u001b[0m\u001b[0;34m-\u001b[0m\u001b[0;36m8\u001b[0m\u001b[0;34m]\u001b[0m\u001b[0;34m\u001b[0m\u001b[0;34m\u001b[0m\u001b[0m\n\u001b[0m",
      "\u001b[0;31mIndexError\u001b[0m: string index out of range"
     ]
    }
   ],
   "source": [
    "'python'[-8]"
   ]
  },
  {
   "cell_type": "markdown",
   "metadata": {},
   "source": [
    "## 3) 문자열 슬라이싱\n",
    "- 문자열 인덱싱이 하나의 문자만을 추출하는 방법이라면, 문자열 슬라이싱은 일련의 여러개 문자열을 추출하는 방법이다.\n",
    "- str1[m:n]은 참조m의 문자부터 참조(n-1) 문자까지를 추출함.\n",
    "- 예를 들어, \"Python\"[0:4]은 첫번째 문자(index 0)부터 네번째 문자(index 3)까지를 추출함."
   ]
  },
  {
   "cell_type": "code",
   "execution_count": 1,
   "metadata": {},
   "outputs": [
    {
     "data": {
      "text/plain": [
       "'Pyth'"
      ]
     },
     "execution_count": 1,
     "metadata": {},
     "output_type": "execute_result"
    }
   ],
   "source": [
    "\"Python\"[0:4]"
   ]
  },
  {
   "cell_type": "code",
   "execution_count": 2,
   "metadata": {},
   "outputs": [
    {
     "data": {
      "text/plain": [
       "'Just '"
      ]
     },
     "execution_count": 2,
     "metadata": {},
     "output_type": "execute_result"
    }
   ],
   "source": [
    "\"Just a moment\"[0:5]"
   ]
  },
  {
   "cell_type": "code",
   "execution_count": 3,
   "metadata": {},
   "outputs": [
    {
     "data": {
      "text/plain": [
       "'t a m'"
      ]
     },
     "execution_count": 3,
     "metadata": {},
     "output_type": "execute_result"
    }
   ],
   "source": [
    "\"Just a moment\"[3:8]"
   ]
  },
  {
   "cell_type": "code",
   "execution_count": 4,
   "metadata": {},
   "outputs": [
    {
     "data": {
      "text/plain": [
       "'a momen'"
      ]
     },
     "execution_count": 4,
     "metadata": {},
     "output_type": "execute_result"
    }
   ],
   "source": [
    "\"Just a moment\"[5:-1]"
   ]
  },
  {
   "cell_type": "code",
   "execution_count": 5,
   "metadata": {},
   "outputs": [
    {
     "data": {
      "text/plain": [
       "'Just a moment'"
      ]
     },
     "execution_count": 5,
     "metadata": {},
     "output_type": "execute_result"
    }
   ],
   "source": [
    "\"Just a moment\"[0:13]"
   ]
  },
  {
   "cell_type": "code",
   "execution_count": 6,
   "metadata": {},
   "outputs": [
    {
     "data": {
      "text/plain": [
       "'Just a momen'"
      ]
     },
     "execution_count": 6,
     "metadata": {},
     "output_type": "execute_result"
    }
   ],
   "source": [
    "\"Just a moment\"[0:-1]"
   ]
  },
  {
   "cell_type": "markdown",
   "metadata": {},
   "source": [
    "## 3) find & rfind 기능\n",
    "- find: 찾고자 하는 문자열이 처음 발견되는 index 값을 나타냄.\n",
    "- rfind: 오른쪽으로부터 찾고자 하는 문자열이 처음 발견되는 index 값을 나타냄.\n",
    "- 값을 찾지 못한 경우 -1을 나타냄."
   ]
  },
  {
   "cell_type": "code",
   "execution_count": 8,
   "metadata": {},
   "outputs": [
    {
     "data": {
      "text/plain": [
       "2"
      ]
     },
     "execution_count": 8,
     "metadata": {},
     "output_type": "execute_result"
    }
   ],
   "source": [
    "str1 = \"한양대학교\"\n",
    "str1.find(\"대\")"
   ]
  },
  {
   "cell_type": "code",
   "execution_count": 9,
   "metadata": {},
   "outputs": [
    {
     "data": {
      "text/plain": [
       "1"
      ]
     },
     "execution_count": 9,
     "metadata": {},
     "output_type": "execute_result"
    }
   ],
   "source": [
    "str1.rfind(\"양\")"
   ]
  },
  {
   "cell_type": "code",
   "execution_count": 10,
   "metadata": {},
   "outputs": [],
   "source": [
    "str2 = \"한양대학교 한양대학교\""
   ]
  },
  {
   "cell_type": "code",
   "execution_count": 11,
   "metadata": {},
   "outputs": [
    {
     "data": {
      "text/plain": [
       "4"
      ]
     },
     "execution_count": 11,
     "metadata": {},
     "output_type": "execute_result"
    }
   ],
   "source": [
    "str2.find(\"교\")"
   ]
  },
  {
   "cell_type": "code",
   "execution_count": 12,
   "metadata": {},
   "outputs": [
    {
     "data": {
      "text/plain": [
       "8"
      ]
     },
     "execution_count": 12,
     "metadata": {},
     "output_type": "execute_result"
    }
   ],
   "source": [
    "str2.rfind(\"대\")"
   ]
  },
  {
   "cell_type": "code",
   "execution_count": 13,
   "metadata": {},
   "outputs": [
    {
     "data": {
      "text/plain": [
       "-1"
      ]
     },
     "execution_count": 13,
     "metadata": {},
     "output_type": "execute_result"
    }
   ],
   "source": [
    "str2.find(\"나\")"
   ]
  },
  {
   "cell_type": "code",
   "execution_count": 14,
   "metadata": {},
   "outputs": [
    {
     "data": {
      "text/plain": [
       "-1"
      ]
     },
     "execution_count": 14,
     "metadata": {},
     "output_type": "execute_result"
    }
   ],
   "source": [
    "str2.rfind(\"해\")"
   ]
  },
  {
   "cell_type": "code",
   "execution_count": 15,
   "metadata": {},
   "outputs": [
    {
     "name": "stdout",
     "output_type": "stream",
     "text": [
      "Python\n",
      "y n th\n",
      "6\n",
      "-1\n",
      "9\n"
     ]
    }
   ],
   "source": [
    "# Example 1\n",
    "print(\"Python\")\n",
    "print(\"Python\"[1], \"Python\"[5], \"Python\"[2:4])\n",
    "\n",
    "str1 = \"Hello World!\"\n",
    "print(str1.find('W'))\n",
    "print(str1.find('x'))\n",
    "print(str1.rfind('l'))"
   ]
  },
  {
   "cell_type": "code",
   "execution_count": 16,
   "metadata": {},
   "outputs": [
    {
     "name": "stdout",
     "output_type": "stream",
     "text": [
      "Python\n",
      "n t yth\n",
      "g\n",
      "m & e\n",
      "spam & egg\n"
     ]
    }
   ],
   "source": [
    "# Example 2\n",
    "print(\"Python\")\n",
    "print(\"Python\"[-1], \"Python\"[-4], \"Python\"[-5:-2])\n",
    "\n",
    "str1 = \"spam & eggs\"\n",
    "print(str1[-2])\n",
    "print(str1[-8:-3])\n",
    "print(str1[0:-1])"
   ]
  },
  {
   "cell_type": "markdown",
   "metadata": {},
   "source": [
    "- str[m:n]에서 맨 마지막 문자가 생략되는 경우 str[m:]를 사용할 수 있음."
   ]
  },
  {
   "cell_type": "code",
   "execution_count": 17,
   "metadata": {},
   "outputs": [],
   "source": [
    "str = '한양대학교'"
   ]
  },
  {
   "cell_type": "code",
   "execution_count": 18,
   "metadata": {},
   "outputs": [
    {
     "data": {
      "text/plain": [
       "'한양대학'"
      ]
     },
     "execution_count": 18,
     "metadata": {},
     "output_type": "execute_result"
    }
   ],
   "source": [
    "str[0:-1]"
   ]
  },
  {
   "cell_type": "code",
   "execution_count": 19,
   "metadata": {},
   "outputs": [
    {
     "data": {
      "text/plain": [
       "'한양대학교'"
      ]
     },
     "execution_count": 19,
     "metadata": {},
     "output_type": "execute_result"
    }
   ],
   "source": [
    "str[0:]"
   ]
  },
  {
   "cell_type": "code",
   "execution_count": 20,
   "metadata": {},
   "outputs": [
    {
     "data": {
      "text/plain": [
       "'한양대학'"
      ]
     },
     "execution_count": 20,
     "metadata": {},
     "output_type": "execute_result"
    }
   ],
   "source": [
    "str[:-1]"
   ]
  },
  {
   "cell_type": "code",
   "execution_count": 21,
   "metadata": {},
   "outputs": [
    {
     "data": {
      "text/plain": [
       "'한양대학교'"
      ]
     },
     "execution_count": 21,
     "metadata": {},
     "output_type": "execute_result"
    }
   ],
   "source": [
    "str[:]"
   ]
  },
  {
   "cell_type": "code",
   "execution_count": 22,
   "metadata": {},
   "outputs": [
    {
     "name": "stdout",
     "output_type": "stream",
     "text": [
      "thon Pyth Python\n",
      "hon Pyt Pyt\n"
     ]
    }
   ],
   "source": [
    "# Example 3\n",
    "print(\"Python\"[2:], \"Python\"[:4], \"Python\"[:])\n",
    "print(\"Python\"[-3:], \"Python\"[:-3], \"Python\"[:-3])"
   ]
  },
  {
   "cell_type": "code",
   "execution_count": 20,
   "metadata": {},
   "outputs": [
    {
     "name": "stdout",
     "output_type": "stream",
     "text": [
      "13\n",
      "Month  Python  Pytho\n",
      "onthy Python \n"
     ]
    }
   ],
   "source": [
    "# Example 3-1\n",
    "str = 'Monthy Python'\n",
    "print(len(str))\n",
    "\n",
    "print(str[0:5], str[6:], str[6:12])\n",
    "print(str[-12:-7], str[-6:], str[-6:0])"
   ]
  },
  {
   "cell_type": "markdown",
   "metadata": {},
   "source": [
    "- str[start:end:step]으로 문자 사이의 간격을 step으로 조정 가능"
   ]
  },
  {
   "cell_type": "code",
   "execution_count": 21,
   "metadata": {},
   "outputs": [
    {
     "data": {
      "text/plain": [
       "'python'"
      ]
     },
     "execution_count": 21,
     "metadata": {},
     "output_type": "execute_result"
    }
   ],
   "source": [
    "'python'[::1] # 전체 문자열을 반환함."
   ]
  },
  {
   "cell_type": "code",
   "execution_count": 22,
   "metadata": {},
   "outputs": [
    {
     "data": {
      "text/plain": [
       "'yh'"
      ]
     },
     "execution_count": 22,
     "metadata": {},
     "output_type": "execute_result"
    }
   ],
   "source": [
    "'python'[1:5:2]"
   ]
  },
  {
   "cell_type": "code",
   "execution_count": 23,
   "metadata": {},
   "outputs": [
    {
     "data": {
      "text/plain": [
       "'yo'"
      ]
     },
     "execution_count": 23,
     "metadata": {},
     "output_type": "execute_result"
    }
   ],
   "source": [
    "'python'[1:5:3]"
   ]
  },
  {
   "cell_type": "code",
   "execution_count": 24,
   "metadata": {},
   "outputs": [
    {
     "data": {
      "text/plain": [
       "'nohtyp'"
      ]
     },
     "execution_count": 24,
     "metadata": {},
     "output_type": "execute_result"
    }
   ],
   "source": [
    "'python'[::-1] # 역순의 문자열을 반환함."
   ]
  },
  {
   "cell_type": "code",
   "execution_count": 25,
   "metadata": {},
   "outputs": [
    {
     "data": {
      "text/plain": [
       "'nohty'"
      ]
     },
     "execution_count": 25,
     "metadata": {},
     "output_type": "execute_result"
    }
   ],
   "source": [
    "'python'[5:0:-1]"
   ]
  },
  {
   "cell_type": "code",
   "execution_count": 26,
   "metadata": {},
   "outputs": [
    {
     "data": {
      "text/plain": [
       "'nohtyp'"
      ]
     },
     "execution_count": 26,
     "metadata": {},
     "output_type": "execute_result"
    }
   ],
   "source": [
    "'python'[-1:-7:-1]"
   ]
  },
  {
   "cell_type": "code",
   "execution_count": null,
   "metadata": {},
   "outputs": [],
   "source": [
    "# Example 3-2\n",
    "str = '일요일 기러기'\n",
    "print(str[:3], str[4:])\n",
    "print(str[:-4], str[-3:])\n",
    "print(str[:], str[::], str[::1])\n",
    "print(str[::2])\n",
    "print(str[::3])\n",
    "print(str[::-2])\n",
    "print(str[::-1])\n"
   ]
  },
  {
   "cell_type": "markdown",
   "metadata": {},
   "source": [
    "## 4) 문자열 관련 메소드 I\n",
    "- len: 문자열 글자수를 의미함.\n",
    "- upper: 문자열의 글자를 모두 대문자로 변경함.\n",
    "- lower: 문자열의 글자를 모두 소문자로 변경함.\n",
    "- count: 문자열 내 문자군의 개수를 나타냄.\n",
    "- capitalize: 문자열의 글자 중 첫글자는 대문자로 나머지 글자는 소문자로 변경함.\n",
    "- title: 문자열 내 각 단어의 첫글자를 대문자로 변경함. 나머지 글자는 소문자로 변경함.\n",
    "- rstrip: 문자열의 오른쪽 끝 공백을 제거함.\n",
    "- replace: 특정 문자열을 원하는 문자열로 바꿈.\n",
    "- sqapcase: 대문자는 소문자로, 소문자는 대문자로 바꿈"
   ]
  },
  {
   "cell_type": "code",
   "execution_count": 2,
   "metadata": {},
   "outputs": [
    {
     "data": {
      "text/plain": [
       "'Python'"
      ]
     },
     "execution_count": 2,
     "metadata": {},
     "output_type": "execute_result"
    }
   ],
   "source": [
    "str1 = \"Python\"\n",
    "str1"
   ]
  },
  {
   "cell_type": "code",
   "execution_count": 4,
   "metadata": {},
   "outputs": [
    {
     "data": {
      "text/plain": [
       "6"
      ]
     },
     "execution_count": 4,
     "metadata": {},
     "output_type": "execute_result"
    }
   ],
   "source": [
    "len(str1)"
   ]
  },
  {
   "cell_type": "code",
   "execution_count": 5,
   "metadata": {},
   "outputs": [
    {
     "data": {
      "text/plain": [
       "'PYTHON'"
      ]
     },
     "execution_count": 5,
     "metadata": {},
     "output_type": "execute_result"
    }
   ],
   "source": [
    "str1.upper()"
   ]
  },
  {
   "cell_type": "code",
   "execution_count": 6,
   "metadata": {},
   "outputs": [
    {
     "data": {
      "text/plain": [
       "'python'"
      ]
     },
     "execution_count": 6,
     "metadata": {},
     "output_type": "execute_result"
    }
   ],
   "source": [
    "str1.lower()"
   ]
  },
  {
   "cell_type": "code",
   "execution_count": 7,
   "metadata": {},
   "outputs": [
    {
     "data": {
      "text/plain": [
       "1"
      ]
     },
     "execution_count": 7,
     "metadata": {},
     "output_type": "execute_result"
    }
   ],
   "source": [
    "str1.count('th')"
   ]
  },
  {
   "cell_type": "code",
   "execution_count": 8,
   "metadata": {},
   "outputs": [
    {
     "data": {
      "text/plain": [
       "2"
      ]
     },
     "execution_count": 8,
     "metadata": {},
     "output_type": "execute_result"
    }
   ],
   "source": [
    "str2 = 'Python Python'\n",
    "str2.count('th')"
   ]
  },
  {
   "cell_type": "code",
   "execution_count": 9,
   "metadata": {},
   "outputs": [
    {
     "data": {
      "text/plain": [
       "'Code'"
      ]
     },
     "execution_count": 9,
     "metadata": {},
     "output_type": "execute_result"
    }
   ],
   "source": [
    "\"coDE\".capitalize()"
   ]
  },
  {
   "cell_type": "code",
   "execution_count": 10,
   "metadata": {},
   "outputs": [
    {
     "data": {
      "text/plain": [
       "'Ben Hur'"
      ]
     },
     "execution_count": 10,
     "metadata": {},
     "output_type": "execute_result"
    }
   ],
   "source": [
    "\"beN hur\".title()"
   ]
  },
  {
   "cell_type": "code",
   "execution_count": 11,
   "metadata": {},
   "outputs": [
    {
     "data": {
      "text/plain": [
       "'Ben hur'"
      ]
     },
     "execution_count": 11,
     "metadata": {},
     "output_type": "execute_result"
    }
   ],
   "source": [
    "\"beN hur\".capitalize()"
   ]
  },
  {
   "cell_type": "code",
   "execution_count": 22,
   "metadata": {},
   "outputs": [
    {
     "name": "stdout",
     "output_type": "stream",
     "text": [
      "python   \n",
      "   python\n",
      "python\n"
     ]
    }
   ],
   "source": [
    "print('   python   '.lstrip())\n",
    "print('   python   '.rstrip())\n",
    "print('   python   '.strip())"
   ]
  },
  {
   "cell_type": "code",
   "execution_count": 2,
   "metadata": {},
   "outputs": [
    {
     "name": "stdout",
     "output_type": "stream",
     "text": [
      "파이썬은 인기 있는 언어 중 하나이다.\n",
      "자바는인기있는언어중하나이다.\n"
     ]
    }
   ],
   "source": [
    "str3 = '자바는 인기 있는 언어 중 하나이다.'\n",
    "print(str3.replace('자바는', '파이썬은'))\n",
    "print(str3.replace(' ', ''))\n",
    "\n",
    "# 문자열은 수정될 수 없는 자료로서 한 번 만들어진 문자열은 수정될 수 없다는 특징이 있으며,\n",
    "# replace 메소드로 문자열 자체가 수정되는 것이 아니라 \n",
    "# replace() 메소드 기능이 작용한 새로운 문자열을 반환한다는 것에 주의할 필요가 있음."
   ]
  },
  {
   "cell_type": "code",
   "execution_count": 3,
   "metadata": {},
   "outputs": [
    {
     "name": "stdout",
     "output_type": "stream",
     "text": [
      "Python! Python! Python!\n",
      "Python! 파이썬 파이썬\n",
      "Python! Python! 파이썬\n"
     ]
    }
   ],
   "source": [
    "# replace(old, new, count)에서 문자열 old를 new로 대체하는데,\n",
    "# 옵션인 count는 대체횟수를 지정함.\n",
    "# 옵션인 count가 없으면 모두 바꾸고, 있으면 앞에서부터 지정한 횟수만큼 바꿈.\n",
    "\n",
    "str4 = '파이썬 파이썬 파이썬'\n",
    "print(str4.replace('파이썬', 'Python!'))\n",
    "print(str4.replace('파이썬', 'Python!', 1))\n",
    "print(str4.replace('파이썬', 'Python!', 2))"
   ]
  },
  {
   "cell_type": "markdown",
   "metadata": {},
   "source": [
    "## 5) 문자열 관련 메소드 II\n",
    "- find: 문자열의 부분 문자열이 맨 처음에 위치한 첨자를 반환, 찾는 문자열이 없는 경우 -1을 반환함.\n",
    "- index: find 메소드와 동일한 기능, 찾는 문자열이 없는 경우 ValueError를 발생시킴.\n",
    "- rfind & rindex: 역순으로 부분 문자열을 찾아 반환\n",
    "- split: 문자열을 공백을 기준으로 문자열을 분할\n",
    "- center: 문자열 폭을 지정하고 중앙에 문자열을 배치\n",
    "- ljust & rjust: 문자열 폭을 지정하고 왼쪽 혹은 오른쪽으로 정렬\n",
    "- partition, rpartition: 해당 문자를 기준으로 나누기(rpartition은 오른쪽부터 찾음)"
   ]
  },
  {
   "cell_type": "code",
   "execution_count": 4,
   "metadata": {},
   "outputs": [
    {
     "name": "stdout",
     "output_type": "stream",
     "text": [
      "0\n",
      "0\n",
      "5\n",
      "5\n"
     ]
    }
   ],
   "source": [
    "str = '자바 C 파이썬 코볼'\n",
    "print(str.find('자바'))\n",
    "print(str.index('자바'))\n",
    "print(str.find('파이썬'))\n",
    "print(str.find('파'))"
   ]
  },
  {
   "cell_type": "code",
   "execution_count": 5,
   "metadata": {},
   "outputs": [
    {
     "name": "stdout",
     "output_type": "stream",
     "text": [
      "-1\n"
     ]
    }
   ],
   "source": [
    "print(str.find('C+'))"
   ]
  },
  {
   "cell_type": "code",
   "execution_count": 6,
   "metadata": {},
   "outputs": [
    {
     "ename": "ValueError",
     "evalue": "substring not found",
     "output_type": "error",
     "traceback": [
      "\u001b[0;31m---------------------------------------------------------------------------\u001b[0m",
      "\u001b[0;31mValueError\u001b[0m                                Traceback (most recent call last)",
      "\u001b[0;32m<ipython-input-6-1a965769928c>\u001b[0m in \u001b[0;36m<module>\u001b[0;34m\u001b[0m\n\u001b[0;32m----> 1\u001b[0;31m \u001b[0mprint\u001b[0m\u001b[0;34m(\u001b[0m\u001b[0mstr\u001b[0m\u001b[0;34m.\u001b[0m\u001b[0mindex\u001b[0m\u001b[0;34m(\u001b[0m\u001b[0;34m'JAVA'\u001b[0m\u001b[0;34m)\u001b[0m\u001b[0;34m)\u001b[0m\u001b[0;34m\u001b[0m\u001b[0;34m\u001b[0m\u001b[0m\n\u001b[0m",
      "\u001b[0;31mValueError\u001b[0m: substring not found"
     ]
    }
   ],
   "source": [
    "print(str.index('JAVA'))"
   ]
  },
  {
   "cell_type": "code",
   "execution_count": 9,
   "metadata": {},
   "outputs": [
    {
     "data": {
      "text/plain": [
       "12"
      ]
     },
     "execution_count": 9,
     "metadata": {},
     "output_type": "execute_result"
    }
   ],
   "source": [
    "'python ipython'.rfind('on')"
   ]
  },
  {
   "cell_type": "code",
   "execution_count": 10,
   "metadata": {},
   "outputs": [
    {
     "data": {
      "text/plain": [
       "8"
      ]
     },
     "execution_count": 10,
     "metadata": {},
     "output_type": "execute_result"
    }
   ],
   "source": [
    "'python ipython'.rindex('py')"
   ]
  },
  {
   "cell_type": "code",
   "execution_count": 7,
   "metadata": {},
   "outputs": [
    {
     "data": {
      "text/plain": [
       "['사과', '배', '복숭아', '딸기', '포도']"
      ]
     },
     "execution_count": 7,
     "metadata": {},
     "output_type": "execute_result"
    }
   ],
   "source": [
    "'사과 배 복숭아 딸기 포도'.split()"
   ]
  },
  {
   "cell_type": "code",
   "execution_count": 8,
   "metadata": {},
   "outputs": [
    {
     "data": {
      "text/plain": [
       "['데스크탑', '100000,', '노트북', '1800000,', '스마트폰', '1200000']"
      ]
     },
     "execution_count": 8,
     "metadata": {},
     "output_type": "execute_result"
    }
   ],
   "source": [
    "'데스크탑 100000, 노트북 1800000, 스마트폰 1200000'.split()"
   ]
  },
  {
   "cell_type": "code",
   "execution_count": 13,
   "metadata": {},
   "outputs": [
    {
     "data": {
      "text/plain": [
       "['데스크탑 100000', ' 노트북 1800000', ' 스마트폰 1200000']"
      ]
     },
     "execution_count": 13,
     "metadata": {},
     "output_type": "execute_result"
    }
   ],
   "source": [
    "'데스크탑 100000, 노트북 1800000, 스마트폰 1200000'.split(',')"
   ]
  },
  {
   "cell_type": "code",
   "execution_count": 14,
   "metadata": {},
   "outputs": [
    {
     "data": {
      "text/plain": [
       "['데스크탑 100000', '노트북 1800000', '스마트폰 1200000']"
      ]
     },
     "execution_count": 14,
     "metadata": {},
     "output_type": "execute_result"
    }
   ],
   "source": [
    "'데스크탑 100000, 노트북 1800000, 스마트폰 1200000'.split(', ')"
   ]
  },
  {
   "cell_type": "code",
   "execution_count": 16,
   "metadata": {},
   "outputs": [
    {
     "name": "stdout",
     "output_type": "stream",
     "text": [
      "*********** 파이썬 강좌 ***********\n",
      "            파이썬 강좌            \n",
      "=========== 파이썬 강좌 ===========\n"
     ]
    }
   ],
   "source": [
    "print(' 파이썬 강좌 '.center(30, '*'))\n",
    "print(' 파이썬 강좌 '.center(30))\n",
    "print(' 파이썬 강좌 '.center(30, '='))"
   ]
  },
  {
   "cell_type": "code",
   "execution_count": 18,
   "metadata": {},
   "outputs": [
    {
     "name": "stdout",
     "output_type": "stream",
     "text": [
      "python              \n",
      "python**************\n",
      "              python\n",
      "==============python\n"
     ]
    }
   ],
   "source": [
    "print('python'.ljust(20))\n",
    "print('python'.ljust(20, '*'))\n",
    "print('python'.rjust(20))\n",
    "print('python'.rjust(20, '='))"
   ]
  },
  {
   "cell_type": "markdown",
   "metadata": {},
   "source": [
    "## 6) Chained Methods\n",
    "- 아래의 두 개의 코드가 있다고 가정하자.\n",
    "    - praise = \"Good Doggie\".upper()\n",
    "    - numberOfGees = praise.count('G')\n",
    "- 파이썬에서는 두 개의 코드를 하나로 표현할 수 있다. 즉, 두 개의 코드를 사슬처럼 묶을 수 있다. 이를 chained method라고 한다.\n",
    "    - numberOfGees = \"Good Doggie\".upper().count('G')"
   ]
  },
  {
   "cell_type": "code",
   "execution_count": 13,
   "metadata": {},
   "outputs": [
    {
     "data": {
      "text/plain": [
       "2"
      ]
     },
     "execution_count": 13,
     "metadata": {},
     "output_type": "execute_result"
    }
   ],
   "source": [
    "\"Hanyang University\".upper().count('I')"
   ]
  },
  {
   "cell_type": "markdown",
   "metadata": {},
   "source": [
    "## 7) Input 함수\n",
    "- input 함수는 입력되는 표준입력을 문자열로 읽어 반환하는 함수이고, input 함수에서 반환되는 입력 문자열을 변수에 저장하려면 대입 연산자 =를 사용해 변수에 저장함.\n",
    "- 예) town = input(\"Enter the name of your city: \")\n",
    "    - 위 코드를 실행하면 \"Enter the name of your city: \"라는 문자열이 표시되고, 프로그램이 멈춤.\n",
    "    - 도시명을 입력하고, 엔터를 누르면, town 변수에 도시 이름이 할당됨."
   ]
  },
  {
   "cell_type": "code",
   "execution_count": 14,
   "metadata": {},
   "outputs": [
    {
     "name": "stdout",
     "output_type": "stream",
     "text": [
      "Enter the name of your city: Ansan\n"
     ]
    }
   ],
   "source": [
    "town = input(\"Enter the name of your city: \")"
   ]
  },
  {
   "cell_type": "code",
   "execution_count": 15,
   "metadata": {},
   "outputs": [
    {
     "data": {
      "text/plain": [
       "'Ansan'"
      ]
     },
     "execution_count": 15,
     "metadata": {},
     "output_type": "execute_result"
    }
   ],
   "source": [
    "town"
   ]
  },
  {
   "cell_type": "code",
   "execution_count": 16,
   "metadata": {},
   "outputs": [
    {
     "name": "stdout",
     "output_type": "stream",
     "text": [
      "Enter a full name: Hun Park\n",
      "Last name: Park\n",
      "First name(s); Hun\n"
     ]
    }
   ],
   "source": [
    "# Example 4\n",
    "fullName = input(\"Enter a full name: \")\n",
    "n = fullName.rfind(\" \")\n",
    "print(\"Last name:\", fullName[n+1:])\n",
    "print(\"First name(s);\", fullName[:n])"
   ]
  },
  {
   "cell_type": "code",
   "execution_count": 6,
   "metadata": {},
   "outputs": [
    {
     "name": "stdout",
     "output_type": "stream",
     "text": [
      "대학은?한양대\n",
      "이름은?박훈\n",
      "대학: 한양대 이름: 박훈\n"
     ]
    }
   ],
   "source": [
    "# Example 4-1\n",
    "univ = input('대학은?')\n",
    "name = input('이름은?')\n",
    "print('대학:', univ, '이름:', name)"
   ]
  },
  {
   "cell_type": "code",
   "execution_count": 18,
   "metadata": {},
   "outputs": [
    {
     "name": "stdout",
     "output_type": "stream",
     "text": [
      "원하는 행성은?지구\n",
      "지구 반지름은?6400\n",
      "지구 반지름: 6400\n",
      "지구 둘레길이 40192.0\n"
     ]
    }
   ],
   "source": [
    "# Example 4-2\n",
    "planet = input('원하는 행성은?')\n",
    "strRadius = input(planet + ' 반지름은?')\n",
    "radius = int(strRadius)\n",
    "\n",
    "length = 2*3.14*radius\n",
    "print(planet, '반지름:', radius)\n",
    "print(planet, '둘레길이', length)"
   ]
  },
  {
   "cell_type": "code",
   "execution_count": 12,
   "metadata": {},
   "outputs": [
    {
     "name": "stdout",
     "output_type": "stream",
     "text": [
      "2개의 단어를 빈 공간으로 구분해 입력하세요.사과 복숭아\n",
      "사과 복숭아\n",
      "과사 아숭복\n"
     ]
    }
   ],
   "source": [
    "# Example 4-3\n",
    "str = input('2개의 단어를 빈 공간으로 구분해 입력하세요.')\n",
    "pos = str.find(' ')\n",
    "preWord = str[:pos]\n",
    "postWord = str[pos+1:]\n",
    "print(preWord, postWord)\n",
    "print(preWord[::-1], postWord[::-1])"
   ]
  },
  {
   "cell_type": "markdown",
   "metadata": {},
   "source": [
    "## 7) int, float, eval, 그리고 str 함수\n",
    "- int 함수: 문자열이 숫자로 이루어진 경우, 문자열 타입의 숫자를 정수 타입으로 변경함.\n",
    "    - 실수로 이루어진 데이터를 정수 형태로 변경하기도 함.\n",
    "- float 함수: 문자열이 숫자로 이루어진 경우, 문자열 타입의 숫자를 실수 타입으로 변경함.\n",
    "    - 정수로 이루어진 데이터를 실수 형태로 변경하기도 함.\n",
    "- eval 함수: 숫자들의 연산으로 이루어진 문자열 내 연산을 수행하여 결과값을 정수나 실수로 계산함.\n",
    "- str 함수: 정수나 실수로 이루어진 데이터를 문자열 형태로 데이터 타입을 변경함."
   ]
  },
  {
   "cell_type": "code",
   "execution_count": 7,
   "metadata": {},
   "outputs": [
    {
     "data": {
      "text/plain": [
       "12"
      ]
     },
     "execution_count": 7,
     "metadata": {},
     "output_type": "execute_result"
    }
   ],
   "source": [
    "int(12.5) # 실수 12.5를 정수 12로 변경함. 소수첫째자리에서 버림으로 정수로 변경함."
   ]
  },
  {
   "cell_type": "code",
   "execution_count": 8,
   "metadata": {},
   "outputs": [
    {
     "data": {
      "text/plain": [
       "12"
      ]
     },
     "execution_count": 8,
     "metadata": {},
     "output_type": "execute_result"
    }
   ],
   "source": [
    "int('12') # 문자열 '12'를 정수 12로 변경함."
   ]
  },
  {
   "cell_type": "code",
   "execution_count": 1,
   "metadata": {},
   "outputs": [
    {
     "ename": "ValueError",
     "evalue": "invalid literal for int() with base 10: '12.5'",
     "output_type": "error",
     "traceback": [
      "\u001b[0;31m---------------------------------------------------------------------------\u001b[0m",
      "\u001b[0;31mValueError\u001b[0m                                Traceback (most recent call last)",
      "\u001b[0;32m<ipython-input-1-d572a699879c>\u001b[0m in \u001b[0;36m<module>\u001b[0;34m\u001b[0m\n\u001b[0;32m----> 1\u001b[0;31m \u001b[0mint\u001b[0m\u001b[0;34m(\u001b[0m\u001b[0;34m'12.5'\u001b[0m\u001b[0;34m)\u001b[0m \u001b[0;31m# 문자열 '12.5'를 정수로 변경하고자 할 때 오류가 발생함. 문자열이 정수 형태이어야 함.\u001b[0m\u001b[0;34m\u001b[0m\u001b[0;34m\u001b[0m\u001b[0m\n\u001b[0m",
      "\u001b[0;31mValueError\u001b[0m: invalid literal for int() with base 10: '12.5'"
     ]
    }
   ],
   "source": [
    "int('12.5') # 문자열 '12.5'를 정수로 변경하고자 할 때 오류가 발생함. 문자열이 정수 형태이어야 함."
   ]
  },
  {
   "cell_type": "code",
   "execution_count": 1,
   "metadata": {},
   "outputs": [
    {
     "data": {
      "text/plain": [
       "5.0"
      ]
     },
     "execution_count": 1,
     "metadata": {},
     "output_type": "execute_result"
    }
   ],
   "source": [
    "float(5) # 정수 5를 실수 5.0으로 변경함."
   ]
  },
  {
   "cell_type": "code",
   "execution_count": 2,
   "metadata": {},
   "outputs": [
    {
     "data": {
      "text/plain": [
       "5.9"
      ]
     },
     "execution_count": 2,
     "metadata": {},
     "output_type": "execute_result"
    }
   ],
   "source": [
    "float('5.9') # 문자열 '5.9'를 실수 5.9로 변경함."
   ]
  },
  {
   "cell_type": "code",
   "execution_count": 12,
   "metadata": {},
   "outputs": [
    {
     "data": {
      "text/plain": [
       "5.0"
      ]
     },
     "execution_count": 12,
     "metadata": {},
     "output_type": "execute_result"
    }
   ],
   "source": [
    "float('5') # 문자열 '5'을 실수 5.0으로 변경함."
   ]
  },
  {
   "cell_type": "code",
   "execution_count": 4,
   "metadata": {},
   "outputs": [
    {
     "data": {
      "text/plain": [
       "10.5"
      ]
     },
     "execution_count": 4,
     "metadata": {},
     "output_type": "execute_result"
    }
   ],
   "source": [
    "eval('3+15/2') # 문자열 안의 수의 연산을 계산한 결과값을 반환함."
   ]
  },
  {
   "cell_type": "code",
   "execution_count": 5,
   "metadata": {},
   "outputs": [
    {
     "data": {
      "text/plain": [
       "2"
      ]
     },
     "execution_count": 5,
     "metadata": {},
     "output_type": "execute_result"
    }
   ],
   "source": [
    "eval('4*3%5')"
   ]
  },
  {
   "cell_type": "code",
   "execution_count": 6,
   "metadata": {},
   "outputs": [
    {
     "data": {
      "text/plain": [
       "-24"
      ]
     },
     "execution_count": 6,
     "metadata": {},
     "output_type": "execute_result"
    }
   ],
   "source": [
    "eval('3*-2**3')"
   ]
  },
  {
   "cell_type": "code",
   "execution_count": 8,
   "metadata": {},
   "outputs": [
    {
     "data": {
      "text/plain": [
       "30"
      ]
     },
     "execution_count": 8,
     "metadata": {},
     "output_type": "execute_result"
    }
   ],
   "source": [
    "eval('30')"
   ]
  },
  {
   "cell_type": "code",
   "execution_count": 9,
   "metadata": {},
   "outputs": [
    {
     "data": {
      "text/plain": [
       "12.4"
      ]
     },
     "execution_count": 9,
     "metadata": {},
     "output_type": "execute_result"
    }
   ],
   "source": [
    "eval('12.4')"
   ]
  },
  {
   "cell_type": "code",
   "execution_count": 11,
   "metadata": {},
   "outputs": [
    {
     "data": {
      "text/plain": [
       "'python python python '"
      ]
     },
     "execution_count": 11,
     "metadata": {},
     "output_type": "execute_result"
    }
   ],
   "source": [
    "eval('\"python \"*3') # 숫자의 연산 뿐아니라 문자열 연산도 반환함. "
   ]
  },
  {
   "cell_type": "code",
   "execution_count": 12,
   "metadata": {},
   "outputs": [
    {
     "data": {
      "text/plain": [
       "'python python'"
      ]
     },
     "execution_count": 12,
     "metadata": {},
     "output_type": "execute_result"
    }
   ],
   "source": [
    "eval('\"python \"+\"python\"')"
   ]
  },
  {
   "cell_type": "code",
   "execution_count": 14,
   "metadata": {},
   "outputs": [
    {
     "data": {
      "text/plain": [
       "'5'"
      ]
     },
     "execution_count": 14,
     "metadata": {},
     "output_type": "execute_result"
    }
   ],
   "source": [
    "str(5) # 정수 5를 문자열 '5'로 변경함."
   ]
  },
  {
   "cell_type": "code",
   "execution_count": 3,
   "metadata": {},
   "outputs": [
    {
     "data": {
      "text/plain": [
       "'4.2345'"
      ]
     },
     "execution_count": 3,
     "metadata": {},
     "output_type": "execute_result"
    }
   ],
   "source": [
    "str(4.2345) # 실수 4.2345를 문자열 '4.2345'로 변경함."
   ]
  },
  {
   "cell_type": "code",
   "execution_count": 17,
   "metadata": {},
   "outputs": [
    {
     "name": "stdout",
     "output_type": "stream",
     "text": [
      "23\n",
      "23.0\n",
      "23\n",
      "23.5\n",
      "33\n"
     ]
    }
   ],
   "source": [
    "# Example 5\n",
    "print(int(\"23\"))\n",
    "print(float(\"23\"))\n",
    "print(eval(\"23\"))\n",
    "print(eval(\"23.5\"))\n",
    "x = 5\n",
    "print(eval(\"23+(x+5)\"))"
   ]
  },
  {
   "cell_type": "markdown",
   "metadata": {},
   "source": [
    "- input 함수의 경우 항상 문자열을 입력으로 받지만 다음과 같이 int, float, eval 함수를 이용해 숫자를 입력할 수 있다."
   ]
  },
  {
   "cell_type": "code",
   "execution_count": 21,
   "metadata": {},
   "outputs": [
    {
     "name": "stdout",
     "output_type": "stream",
     "text": [
      "Enter your age: 12\n"
     ]
    }
   ],
   "source": [
    "age = input(\"Enter your age: \")\n"
   ]
  },
  {
   "cell_type": "code",
   "execution_count": 22,
   "metadata": {},
   "outputs": [
    {
     "data": {
      "text/plain": [
       "'12'"
      ]
     },
     "execution_count": 22,
     "metadata": {},
     "output_type": "execute_result"
    }
   ],
   "source": [
    "age"
   ]
  },
  {
   "cell_type": "code",
   "execution_count": 18,
   "metadata": {},
   "outputs": [
    {
     "name": "stdout",
     "output_type": "stream",
     "text": [
      "Enter your age: 12\n"
     ]
    }
   ],
   "source": [
    "age = int(input(\"Enter your age: \"))"
   ]
  },
  {
   "cell_type": "code",
   "execution_count": 19,
   "metadata": {},
   "outputs": [
    {
     "data": {
      "text/plain": [
       "12"
      ]
     },
     "execution_count": 19,
     "metadata": {},
     "output_type": "execute_result"
    }
   ],
   "source": [
    "age"
   ]
  },
  {
   "cell_type": "code",
   "execution_count": 20,
   "metadata": {},
   "outputs": [
    {
     "data": {
      "text/plain": [
       "int"
      ]
     },
     "execution_count": 20,
     "metadata": {},
     "output_type": "execute_result"
    }
   ],
   "source": [
    "type(age)"
   ]
  },
  {
   "cell_type": "code",
   "execution_count": 23,
   "metadata": {},
   "outputs": [
    {
     "name": "stdout",
     "output_type": "stream",
     "text": [
      "Enter your age: 12\n"
     ]
    }
   ],
   "source": [
    "age = float(input(\"Enter your age: \"))"
   ]
  },
  {
   "cell_type": "code",
   "execution_count": 24,
   "metadata": {},
   "outputs": [
    {
     "data": {
      "text/plain": [
       "12.0"
      ]
     },
     "execution_count": 24,
     "metadata": {},
     "output_type": "execute_result"
    }
   ],
   "source": [
    "age"
   ]
  },
  {
   "cell_type": "code",
   "execution_count": 3,
   "metadata": {},
   "outputs": [
    {
     "name": "stdout",
     "output_type": "stream",
     "text": [
      "Enter your age: 12.0\n"
     ]
    }
   ],
   "source": [
    "age = eval(input(\"Enter your age: \"))"
   ]
  },
  {
   "cell_type": "code",
   "execution_count": 4,
   "metadata": {},
   "outputs": [
    {
     "data": {
      "text/plain": [
       "float"
      ]
     },
     "execution_count": 4,
     "metadata": {},
     "output_type": "execute_result"
    }
   ],
   "source": [
    "type(age)"
   ]
  },
  {
   "cell_type": "markdown",
   "metadata": {},
   "source": [
    "- 함수 int()와 float()에서의 변환 주의"
   ]
  },
  {
   "cell_type": "code",
   "execution_count": 13,
   "metadata": {},
   "outputs": [
    {
     "ename": "ValueError",
     "evalue": "invalid literal for int() with base 10: 'python'",
     "output_type": "error",
     "traceback": [
      "\u001b[0;31m---------------------------------------------------------------------------\u001b[0m",
      "\u001b[0;31mValueError\u001b[0m                                Traceback (most recent call last)",
      "\u001b[0;32m<ipython-input-13-2dd638f6810b>\u001b[0m in \u001b[0;36m<module>\u001b[0;34m\u001b[0m\n\u001b[0;32m----> 1\u001b[0;31m \u001b[0mint\u001b[0m\u001b[0;34m(\u001b[0m\u001b[0;34m'python'\u001b[0m\u001b[0;34m)\u001b[0m\u001b[0;34m\u001b[0m\u001b[0;34m\u001b[0m\u001b[0m\n\u001b[0m",
      "\u001b[0;31mValueError\u001b[0m: invalid literal for int() with base 10: 'python'"
     ]
    }
   ],
   "source": [
    "int('python') # 문자열은 정수로 변환 불가"
   ]
  },
  {
   "cell_type": "code",
   "execution_count": 14,
   "metadata": {},
   "outputs": [
    {
     "ename": "ValueError",
     "evalue": "invalid literal for int() with base 10: '6400i'",
     "output_type": "error",
     "traceback": [
      "\u001b[0;31m---------------------------------------------------------------------------\u001b[0m",
      "\u001b[0;31mValueError\u001b[0m                                Traceback (most recent call last)",
      "\u001b[0;32m<ipython-input-14-e6b215b4b459>\u001b[0m in \u001b[0;36m<module>\u001b[0;34m\u001b[0m\n\u001b[0;32m----> 1\u001b[0;31m \u001b[0mint\u001b[0m\u001b[0;34m(\u001b[0m\u001b[0;34m'6400i'\u001b[0m\u001b[0;34m)\u001b[0m\u001b[0;34m\u001b[0m\u001b[0;34m\u001b[0m\u001b[0m\n\u001b[0m",
      "\u001b[0;31mValueError\u001b[0m: invalid literal for int() with base 10: '6400i'"
     ]
    }
   ],
   "source": [
    "int('6400i') # 정수에 문자가 포함됨."
   ]
  },
  {
   "cell_type": "code",
   "execution_count": 15,
   "metadata": {},
   "outputs": [
    {
     "ename": "ValueError",
     "evalue": "could not convert string to float: '3.141592f'",
     "output_type": "error",
     "traceback": [
      "\u001b[0;31m---------------------------------------------------------------------------\u001b[0m",
      "\u001b[0;31mValueError\u001b[0m                                Traceback (most recent call last)",
      "\u001b[0;32m<ipython-input-15-b7675d39f6a5>\u001b[0m in \u001b[0;36m<module>\u001b[0;34m\u001b[0m\n\u001b[0;32m----> 1\u001b[0;31m \u001b[0mfloat\u001b[0m\u001b[0;34m(\u001b[0m\u001b[0;34m'3.141592f'\u001b[0m\u001b[0;34m)\u001b[0m\u001b[0;34m\u001b[0m\u001b[0;34m\u001b[0m\u001b[0m\n\u001b[0m",
      "\u001b[0;31mValueError\u001b[0m: could not convert string to float: '3.141592f'"
     ]
    }
   ],
   "source": [
    "float('3.141592f') # 실수에 문자가 포함됨."
   ]
  },
  {
   "cell_type": "code",
   "execution_count": 16,
   "metadata": {},
   "outputs": [
    {
     "ename": "ValueError",
     "evalue": "invalid literal for int() with base 10: '2.72'",
     "output_type": "error",
     "traceback": [
      "\u001b[0;31m---------------------------------------------------------------------------\u001b[0m",
      "\u001b[0;31mValueError\u001b[0m                                Traceback (most recent call last)",
      "\u001b[0;32m<ipython-input-16-44f7c60ca9fc>\u001b[0m in \u001b[0;36m<module>\u001b[0;34m\u001b[0m\n\u001b[0;32m----> 1\u001b[0;31m \u001b[0mint\u001b[0m\u001b[0;34m(\u001b[0m\u001b[0;34m'2.72'\u001b[0m\u001b[0;34m)\u001b[0m\u001b[0;34m\u001b[0m\u001b[0;34m\u001b[0m\u001b[0m\n\u001b[0m",
      "\u001b[0;31mValueError\u001b[0m: invalid literal for int() with base 10: '2.72'"
     ]
    }
   ],
   "source": [
    "int('2.72') # 정수가 아닌 실수 형태"
   ]
  },
  {
   "cell_type": "code",
   "execution_count": 24,
   "metadata": {},
   "outputs": [
    {
     "data": {
      "text/plain": [
       "2"
      ]
     },
     "execution_count": 24,
     "metadata": {},
     "output_type": "execute_result"
    }
   ],
   "source": [
    "int(float('2.72')) # 먼저 float()로 2.72가 되고 다시 int(2.72)를 수행해 2가 반환됨."
   ]
  }
 ],
 "metadata": {
  "kernelspec": {
   "display_name": "Python 3",
   "language": "python",
   "name": "python3"
  },
  "language_info": {
   "codemirror_mode": {
    "name": "ipython",
    "version": 3
   },
   "file_extension": ".py",
   "mimetype": "text/x-python",
   "name": "python",
   "nbconvert_exporter": "python",
   "pygments_lexer": "ipython3",
   "version": "3.7.7"
  }
 },
 "nbformat": 4,
 "nbformat_minor": 2
}
