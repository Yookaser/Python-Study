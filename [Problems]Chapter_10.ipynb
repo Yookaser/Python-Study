{
 "cells": [
  {
   "cell_type": "code",
   "execution_count": 1,
   "metadata": {},
   "outputs": [],
   "source": [
    "WF = {\"Angel Falls\":3211.7, \"Tugela Falls\":3110.2, \"Three Sisters Fall\":2998.5,\n",
    "     \"Olo'supena Falls\":2953.3, \"Yumbilla Falls\": 2940}"
   ]
  },
  {
   "cell_type": "code",
   "execution_count": 2,
   "metadata": {},
   "outputs": [
    {
     "name": "stdout",
     "output_type": "stream",
     "text": [
      "5\n"
     ]
    }
   ],
   "source": [
    "#2\n",
    "print(len(WF))"
   ]
  },
  {
   "cell_type": "code",
   "execution_count": 3,
   "metadata": {},
   "outputs": [
    {
     "data": {
      "text/plain": [
       "dict_values([3211.7, 3110.2, 2998.5, 2953.3, 2940])"
      ]
     },
     "execution_count": 3,
     "metadata": {},
     "output_type": "execute_result"
    }
   ],
   "source": [
    "WF.values()"
   ]
  },
  {
   "cell_type": "code",
   "execution_count": 4,
   "metadata": {},
   "outputs": [
    {
     "name": "stdout",
     "output_type": "stream",
     "text": [
      "[3211.7, 3110.2, 2998.5, 2953.3, 2940]\n"
     ]
    }
   ],
   "source": [
    "#4\n",
    "print(list(WF.values()))"
   ]
  },
  {
   "cell_type": "code",
   "execution_count": 5,
   "metadata": {},
   "outputs": [
    {
     "name": "stdout",
     "output_type": "stream",
     "text": [
      "True\n"
     ]
    }
   ],
   "source": [
    "#6\n",
    "print(\"Three Sisters Fall\" in WF)"
   ]
  },
  {
   "cell_type": "code",
   "execution_count": 6,
   "metadata": {},
   "outputs": [
    {
     "name": "stdout",
     "output_type": "stream",
     "text": [
      "2953.3\n"
     ]
    }
   ],
   "source": [
    "#8\n",
    "print(WF.get(\"Olo'supena Falls\", \"absent\"))"
   ]
  },
  {
   "cell_type": "code",
   "execution_count": 7,
   "metadata": {},
   "outputs": [
    {
     "name": "stdout",
     "output_type": "stream",
     "text": [
      "absent\n"
     ]
    }
   ],
   "source": [
    "print(WF.get(\"Niagara Falls\", \"absent\"))"
   ]
  },
  {
   "cell_type": "code",
   "execution_count": 8,
   "metadata": {},
   "outputs": [
    {
     "name": "stdout",
     "output_type": "stream",
     "text": [
      "Angel Falls\n"
     ]
    }
   ],
   "source": [
    "# 10\n",
    "\n",
    "print(min(WF))"
   ]
  },
  {
   "cell_type": "code",
   "execution_count": 9,
   "metadata": {},
   "outputs": [
    {
     "name": "stdout",
     "output_type": "stream",
     "text": [
      "Yumbilla Falls\n"
     ]
    }
   ],
   "source": [
    "print(max(WF))"
   ]
  },
  {
   "cell_type": "code",
   "execution_count": 10,
   "metadata": {},
   "outputs": [
    {
     "data": {
      "text/plain": [
       "{'Angel Falls': 3211.7,\n",
       " 'Tugela Falls': 3110.2,\n",
       " 'Three Sisters Fall': 2998.5,\n",
       " \"Olo'supena Falls\": 2953.3,\n",
       " 'Yumbilla Falls': 2940}"
      ]
     },
     "execution_count": 10,
     "metadata": {},
     "output_type": "execute_result"
    }
   ],
   "source": [
    "WF"
   ]
  },
  {
   "cell_type": "code",
   "execution_count": 11,
   "metadata": {},
   "outputs": [
    {
     "name": "stdout",
     "output_type": "stream",
     "text": [
      "4\n"
     ]
    }
   ],
   "source": [
    "# 12\n",
    "\n",
    "del WF[\"Tugela Falls\"]\n",
    "print(len(WF))"
   ]
  },
  {
   "cell_type": "code",
   "execution_count": 12,
   "metadata": {},
   "outputs": [
    {
     "data": {
      "text/plain": [
       "{'Angel Falls': 3211.7,\n",
       " 'Three Sisters Fall': 2998.5,\n",
       " \"Olo'supena Falls\": 2953.3,\n",
       " 'Yumbilla Falls': 2940}"
      ]
     },
     "execution_count": 12,
     "metadata": {},
     "output_type": "execute_result"
    }
   ],
   "source": [
    "WF"
   ]
  },
  {
   "cell_type": "code",
   "execution_count": 13,
   "metadata": {},
   "outputs": [
    {
     "name": "stdout",
     "output_type": "stream",
     "text": [
      "{}\n"
     ]
    }
   ],
   "source": [
    "#14\n",
    "WF.clear()\n",
    "print(WF)"
   ]
  },
  {
   "cell_type": "code",
   "execution_count": 14,
   "metadata": {},
   "outputs": [],
   "source": [
    "WF = {\"Angel Falls\":3211.7, \"Tugela Falls\":3110.2, \"Three Sisters Fall\":2998.5,\n",
    "     \"Olo'supena Falls\":2953.3, \"Yumbilla Falls\": 2940}"
   ]
  },
  {
   "cell_type": "code",
   "execution_count": 15,
   "metadata": {},
   "outputs": [
    {
     "name": "stdout",
     "output_type": "stream",
     "text": [
      "Angel Falls Olo'supena Falls Three Sisters Fall Tugela Falls Yumbilla Falls "
     ]
    }
   ],
   "source": [
    "# 16\n",
    "for x in sorted(WF):\n",
    "    print(x+\" \", end=\"\")"
   ]
  },
  {
   "cell_type": "code",
   "execution_count": 16,
   "metadata": {},
   "outputs": [
    {
     "data": {
      "text/plain": [
       "['Angel Falls',\n",
       " \"Olo'supena Falls\",\n",
       " 'Three Sisters Fall',\n",
       " 'Tugela Falls',\n",
       " 'Yumbilla Falls']"
      ]
     },
     "execution_count": 16,
     "metadata": {},
     "output_type": "execute_result"
    }
   ],
   "source": [
    "sorted(WF)"
   ]
  },
  {
   "cell_type": "code",
   "execution_count": 17,
   "metadata": {},
   "outputs": [
    {
     "name": "stdout",
     "output_type": "stream",
     "text": [
      "15213.7\n"
     ]
    }
   ],
   "source": [
    "# 18\n",
    "\n",
    "total = 0\n",
    "for x in WF:\n",
    "    total += WF[x]\n",
    "print(\"{0:.1f}\".format(total))"
   ]
  },
  {
   "cell_type": "code",
   "execution_count": 18,
   "metadata": {},
   "outputs": [
    {
     "data": {
      "text/plain": [
       "{'Angel Falls': 3211.7,\n",
       " 'Tugela Falls': 3110.2,\n",
       " 'Three Sisters Fall': 2998.5,\n",
       " \"Olo'supena Falls\": 2953.3,\n",
       " 'Yumbilla Falls': 2940}"
      ]
     },
     "execution_count": 18,
     "metadata": {},
     "output_type": "execute_result"
    }
   ],
   "source": [
    "WF"
   ]
  },
  {
   "cell_type": "code",
   "execution_count": 19,
   "metadata": {},
   "outputs": [
    {
     "name": "stdout",
     "output_type": "stream",
     "text": [
      "5\n"
     ]
    }
   ],
   "source": [
    "# 20\n",
    "\n",
    "Waterfall = dict(WF)\n",
    "del Waterfall[\"Angel Falls\"]\n",
    "print(len(WF))"
   ]
  },
  {
   "cell_type": "code",
   "execution_count": 20,
   "metadata": {},
   "outputs": [
    {
     "data": {
      "text/plain": [
       "{'Tugela Falls': 3110.2,\n",
       " 'Three Sisters Fall': 2998.5,\n",
       " \"Olo'supena Falls\": 2953.3,\n",
       " 'Yumbilla Falls': 2940}"
      ]
     },
     "execution_count": 20,
     "metadata": {},
     "output_type": "execute_result"
    }
   ],
   "source": [
    "Waterfall"
   ]
  },
  {
   "cell_type": "code",
   "execution_count": 21,
   "metadata": {},
   "outputs": [],
   "source": [
    "studentData = {'std1':'John', 'std1_age':20, 'std2':'Harry', 'std2_age':21}"
   ]
  },
  {
   "cell_type": "code",
   "execution_count": 22,
   "metadata": {},
   "outputs": [
    {
     "name": "stdout",
     "output_type": "stream",
     "text": [
      "20\n"
     ]
    }
   ],
   "source": [
    "#22\n",
    "\n",
    "print(studentData['std1_age'])"
   ]
  },
  {
   "cell_type": "code",
   "execution_count": 23,
   "metadata": {},
   "outputs": [
    {
     "name": "stdout",
     "output_type": "stream",
     "text": [
      "dict_items([('std1', 'John'), ('std1_age', 20), ('std2', 'Harry'), ('std2_age', 21)])\n",
      "[('std1', 'John'), ('std1_age', 20), ('std2', 'Harry'), ('std2_age', 21)]\n",
      "('std2_age', 21)\n"
     ]
    }
   ],
   "source": [
    "#24\n",
    "print(studentData.items())\n",
    "print(list(studentData.items()))\n",
    "print(list(studentData.items())[3])"
   ]
  },
  {
   "cell_type": "code",
   "execution_count": 24,
   "metadata": {},
   "outputs": [
    {
     "name": "stdout",
     "output_type": "stream",
     "text": [
      "True\n"
     ]
    }
   ],
   "source": [
    "#26\n",
    "print('std1' in studentData)"
   ]
  },
  {
   "cell_type": "code",
   "execution_count": 25,
   "metadata": {},
   "outputs": [
    {
     "name": "stdout",
     "output_type": "stream",
     "text": [
      "False\n"
     ]
    }
   ],
   "source": [
    "# 28\n",
    "\n",
    "print('std1_age' not in studentData)"
   ]
  },
  {
   "cell_type": "code",
   "execution_count": 26,
   "metadata": {},
   "outputs": [
    {
     "name": "stdout",
     "output_type": "stream",
     "text": [
      "dict_values(['John', 20, 'Harry', 21])\n",
      "['John', 20, 'Harry', 21]\n",
      "('John', 20, 'Harry', 21)\n"
     ]
    }
   ],
   "source": [
    "# 30\n",
    "\n",
    "print(studentData.values())\n",
    "print(list(studentData.values()))\n",
    "print(tuple(studentData.values()))"
   ]
  },
  {
   "cell_type": "code",
   "execution_count": 27,
   "metadata": {},
   "outputs": [
    {
     "name": "stdout",
     "output_type": "stream",
     "text": [
      "Not Found\n"
     ]
    }
   ],
   "source": [
    "#32\n",
    "print(studentData.get(\"A\", \"Not Found\"))"
   ]
  },
  {
   "cell_type": "code",
   "execution_count": 28,
   "metadata": {},
   "outputs": [
    {
     "name": "stdout",
     "output_type": "stream",
     "text": [
      "{'std1': 'John', 'std1_age': 20, 'std2': 'Smith', 'std2_age': 21}\n"
     ]
    }
   ],
   "source": [
    "#34\n",
    "studentData[\"std2\"] = 'Smith'\n",
    "print(studentData)"
   ]
  },
  {
   "cell_type": "code",
   "execution_count": 29,
   "metadata": {},
   "outputs": [
    {
     "name": "stdout",
     "output_type": "stream",
     "text": [
      "{'std1': 'John', 'std1_age': 20, 'std2': 'Smith', 'std2_age': 25}\n"
     ]
    }
   ],
   "source": [
    "#36\n",
    "studentData[\"std2_age\"] += 4\n",
    "print(studentData)"
   ]
  },
  {
   "cell_type": "code",
   "execution_count": 30,
   "metadata": {},
   "outputs": [
    {
     "name": "stdout",
     "output_type": "stream",
     "text": [
      "John\n",
      "20\n",
      "Smith\n",
      "25\n"
     ]
    }
   ],
   "source": [
    "#38\n",
    "for x in studentData.values():\n",
    "    print(x)"
   ]
  },
  {
   "cell_type": "code",
   "execution_count": 31,
   "metadata": {},
   "outputs": [
    {
     "name": "stdout",
     "output_type": "stream",
     "text": [
      "std1\n",
      "std1_age\n",
      "std2\n",
      "std2_age\n"
     ]
    }
   ],
   "source": [
    "#40\n",
    "for x in sorted(studentData):\n",
    "    print(x)"
   ]
  },
  {
   "cell_type": "code",
   "execution_count": 32,
   "metadata": {},
   "outputs": [
    {
     "data": {
      "text/plain": [
       "['std1', 'std1_age', 'std2', 'std2_age']"
      ]
     },
     "execution_count": 32,
     "metadata": {},
     "output_type": "execute_result"
    }
   ],
   "source": [
    "sorted(studentData)"
   ]
  },
  {
   "cell_type": "code",
   "execution_count": 33,
   "metadata": {},
   "outputs": [
    {
     "name": "stdout",
     "output_type": "stream",
     "text": [
      "20\n"
     ]
    }
   ],
   "source": [
    "#42\n",
    "studentData = {'std1':'John', 'std1_age':20, 'std2':'Harry', 'std2_age':21}\n",
    "\n",
    "dupData = dict(studentData)\n",
    "dupData[\"std1_age\"] *= 2\n",
    "print(studentData[\"std1_age\"])"
   ]
  },
  {
   "cell_type": "code",
   "execution_count": 34,
   "metadata": {},
   "outputs": [
    {
     "data": {
      "text/plain": [
       "{'std1': 'John', 'std1_age': 20, 'std2': 'Harry', 'std2_age': 21}"
      ]
     },
     "execution_count": 34,
     "metadata": {},
     "output_type": "execute_result"
    }
   ],
   "source": [
    "studentData"
   ]
  },
  {
   "cell_type": "code",
   "execution_count": 35,
   "metadata": {},
   "outputs": [
    {
     "data": {
      "text/plain": [
       "{'std1': 'John', 'std1_age': 40, 'std2': 'Harry', 'std2_age': 21}"
      ]
     },
     "execution_count": 35,
     "metadata": {},
     "output_type": "execute_result"
    }
   ],
   "source": [
    "dupData"
   ]
  },
  {
   "cell_type": "code",
   "execution_count": 36,
   "metadata": {},
   "outputs": [],
   "source": [
    "# 46\n",
    "\n",
    "def determineRank(years):\n",
    "    if years == 1:\n",
    "        return \"Freshman\"\n",
    "    elif years == 2:\n",
    "        return \"Sophmore\"\n",
    "    elif years == 3:\n",
    "        return \"Junior\"\n",
    "    else:\n",
    "        return \"Senior\""
   ]
  },
  {
   "cell_type": "code",
   "execution_count": 37,
   "metadata": {},
   "outputs": [],
   "source": [
    "def determineRank(years):\n",
    "    rank = {1:\"Freshman\", 2:\"Sophmore\", 3:\"Junior\"}\n",
    "    return rank.get(years, \"Senior\")"
   ]
  },
  {
   "cell_type": "code",
   "execution_count": 38,
   "metadata": {},
   "outputs": [
    {
     "data": {
      "text/plain": [
       "'Senior'"
      ]
     },
     "execution_count": 38,
     "metadata": {},
     "output_type": "execute_result"
    }
   ],
   "source": [
    "determineRank(4)"
   ]
  },
  {
   "cell_type": "code",
   "execution_count": 39,
   "metadata": {},
   "outputs": [],
   "source": [
    "topHitters = {\"Gehrig\":{\"atBats\":8061, \"hits\":2721},\n",
    "             \"Ruth\":{\"atBats\":8399, \"hits\":2873},\n",
    "             \"Williams\":{\"atBats\":7706, \"hits\":2654}}"
   ]
  },
  {
   "cell_type": "code",
   "execution_count": 40,
   "metadata": {},
   "outputs": [
    {
     "name": "stdout",
     "output_type": "stream",
     "text": [
      "{'Ruth': {'atBats': 8399, 'hits': 2873}}\n"
     ]
    }
   ],
   "source": [
    "# 48\n",
    "\n",
    "del topHitters[max(topHitters)]\n",
    "del topHitters[min(topHitters)]\n",
    "print(topHitters)"
   ]
  },
  {
   "cell_type": "code",
   "execution_count": 41,
   "metadata": {},
   "outputs": [
    {
     "name": "stdout",
     "output_type": "stream",
     "text": [
      "The most hits by one of the\n",
      "baseball players was 2873.\n"
     ]
    }
   ],
   "source": [
    "# 50\n",
    "\n",
    "def main():\n",
    "    topHitters = {\"Gehrig\":{\"atBats\":8061, \"hits\":2721},\n",
    "                  \"Ruth\":{\"atBats\":8399, \"hits\":2873},\n",
    "                  \"Williams\":{\"atBats\":7706, \"hits\":2654}}\n",
    "    displayMostHits(topHitters)\n",
    "    \n",
    "def displayMostHits(topHitters):\n",
    "    hits = []\n",
    "    for hitter in topHitters:\n",
    "        hits.append(topHitters[hitter]['hits'])\n",
    "        \n",
    "    mostHits = max(hits)\n",
    "    \n",
    "    print(\"The most hits by one of the\\nbaseball players was\", str(mostHits)+'.')\n",
    "    \n",
    "main()"
   ]
  },
  {
   "cell_type": "code",
   "execution_count": 42,
   "metadata": {},
   "outputs": [
    {
     "name": "stdout",
     "output_type": "stream",
     "text": [
      "Enter a state abbreviation: NH\n",
      "  David Souter\t\t1990\n",
      "  Levi Woodbury\t\t1845\n"
     ]
    }
   ],
   "source": [
    "# 52\n",
    "\n",
    "import pickle\n",
    "\n",
    "def main():\n",
    "    justiceDict = createDictFromFile(\"./Programs/Ch5/JusticesDict.dat\")\n",
    "    displayStateJustices(justiceDict)\n",
    "\n",
    "def createDictFromFile(fileName):\n",
    "    infile = open(fileName, 'rb')\n",
    "    dictionaryName = pickle.load(infile)\n",
    "    infile.close()\n",
    "    return dictionaryName\n",
    "\n",
    "def displayStateJustices(dictionaryName):\n",
    "    state = input(\"Enter a state abbreviation: \")\n",
    "    for justice in dictionaryName:\n",
    "        if dictionaryName[justice]['state'] == state:\n",
    "            print(\" \", justice + '\\t\\t' + str(dictionaryName[justice]['yrAppt']))\n",
    "            \n",
    "main()"
   ]
  },
  {
   "cell_type": "code",
   "execution_count": 43,
   "metadata": {},
   "outputs": [
    {
     "data": {
      "text/plain": [
       "3"
      ]
     },
     "execution_count": 43,
     "metadata": {},
     "output_type": "execute_result"
    }
   ],
   "source": [
    "a = [1,1,2,2,3,3,3]\n",
    "a.count(3)"
   ]
  },
  {
   "cell_type": "code",
   "execution_count": 44,
   "metadata": {
    "scrolled": true
   },
   "outputs": [
    {
     "data": {
      "text/plain": [
       "{'Hugo Black': {'state': 'AL',\n",
       "  'yrLeft': 1971,\n",
       "  'yrAppt': 1937,\n",
       "  'pres': 'Franklin Roosevelt'},\n",
       " 'Harold Burton': {'state': 'OH',\n",
       "  'yrLeft': 1958,\n",
       "  'yrAppt': 1945,\n",
       "  'pres': 'Harry Truman'},\n",
       " 'Antonin Scalia': {'state': 'VA',\n",
       "  'yrLeft': 0,\n",
       "  'yrAppt': 1986,\n",
       "  'pres': 'Ronald Reagan'},\n",
       " 'David Souter': {'state': 'NH',\n",
       "  'yrLeft': 2009,\n",
       "  'yrAppt': 1990,\n",
       "  'pres': 'George H. W. Bush'},\n",
       " 'Frank Murphy': {'state': 'MI',\n",
       "  'yrLeft': 1949,\n",
       "  'yrAppt': 1940,\n",
       "  'pres': 'Franklin Roosevelt'},\n",
       " 'Arthur Goldberg': {'state': 'IL',\n",
       "  'yrLeft': 1965,\n",
       "  'yrAppt': 1962,\n",
       "  'pres': 'John Kennedy'},\n",
       " 'Joseph McKenna': {'state': 'CA',\n",
       "  'yrLeft': 1925,\n",
       "  'yrAppt': 1898,\n",
       "  'pres': 'William McKinley'},\n",
       " 'Sherman Minton': {'state': 'IN',\n",
       "  'yrLeft': 1956,\n",
       "  'yrAppt': 1949,\n",
       "  'pres': 'Harry Truman'},\n",
       " 'William Taft': {'state': 'CT',\n",
       "  'yrLeft': 1930,\n",
       "  'yrAppt': 1921,\n",
       "  'pres': 'Warren Harding'},\n",
       " 'William Johnson': {'state': 'SC',\n",
       "  'yrLeft': 1834,\n",
       "  'yrAppt': 1804,\n",
       "  'pres': 'Thomas Jefferson'},\n",
       " 'John McLean': {'state': 'OH',\n",
       "  'yrLeft': 1861,\n",
       "  'yrAppt': 1829,\n",
       "  'pres': 'Andrew Jackson'},\n",
       " 'Anthony Kennedy': {'state': 'CA',\n",
       "  'yrLeft': 0,\n",
       "  'yrAppt': 1987,\n",
       "  'pres': 'Ronald Reagan'},\n",
       " 'Willis Van Devanter': {'state': 'WY',\n",
       "  'yrLeft': 1937,\n",
       "  'yrAppt': 1910,\n",
       "  'pres': 'William Taft'},\n",
       " 'Wiley Rutledge': {'state': 'IA',\n",
       "  'yrLeft': 1949,\n",
       "  'yrAppt': 1943,\n",
       "  'pres': 'Franklin Roosevelt'},\n",
       " 'Samuel Chase': {'state': 'MD',\n",
       "  'yrLeft': 1811,\n",
       "  'yrAppt': 1796,\n",
       "  'pres': 'George Washington'},\n",
       " 'Henry Baldwin': {'state': 'PA',\n",
       "  'yrLeft': 1844,\n",
       "  'yrAppt': 1830,\n",
       "  'pres': 'Andrew Jackson'},\n",
       " 'Joseph Bradley': {'state': 'NJ',\n",
       "  'yrLeft': 1892,\n",
       "  'yrAppt': 1879,\n",
       "  'pres': 'Ulysses Grant'},\n",
       " 'John Harlan': {'state': 'KY',\n",
       "  'yrLeft': 1911,\n",
       "  'yrAppt': 1877,\n",
       "  'pres': 'Rutherford Hayes'},\n",
       " 'Peter Daniel': {'state': 'VA',\n",
       "  'yrLeft': 1860,\n",
       "  'yrAppt': 1841,\n",
       "  'pres': 'Martin Van Buren'},\n",
       " 'Stephen Breyer': {'state': 'MA',\n",
       "  'yrLeft': 0,\n",
       "  'yrAppt': 1994,\n",
       "  'pres': 'Bill Clinton'},\n",
       " 'Harlan Stone': {'state': 'NY',\n",
       "  'yrLeft': 1946,\n",
       "  'yrAppt': 1925,\n",
       "  'pres': 'Calvin Coolidge'},\n",
       " 'Stephen Field': {'state': 'CA',\n",
       "  'yrLeft': 1897,\n",
       "  'yrAppt': 1863,\n",
       "  'pres': 'Abraham Lincoln'},\n",
       " 'Fred Vinson': {'state': 'KY',\n",
       "  'yrLeft': 1953,\n",
       "  'yrAppt': 1946,\n",
       "  'pres': 'Harry Truman'},\n",
       " 'William Moody': {'state': 'MA',\n",
       "  'yrLeft': 1910,\n",
       "  'yrAppt': 1906,\n",
       "  'pres': 'Theodore Roosevelt'},\n",
       " 'John Jay': {'state': 'NY',\n",
       "  'yrLeft': 1795,\n",
       "  'yrAppt': 1789,\n",
       "  'pres': 'George Washington'},\n",
       " 'Charles Whittaker': {'state': 'MO',\n",
       "  'yrLeft': 1962,\n",
       "  'yrAppt': 1957,\n",
       "  'pres': 'Dwight Eisenhower'},\n",
       " 'Stanley Reed': {'state': 'KY',\n",
       "  'yrLeft': 1957,\n",
       "  'yrAppt': 1938,\n",
       "  'pres': 'Franklin Roosevelt'},\n",
       " 'James Wayne': {'state': 'GA',\n",
       "  'yrLeft': 1867,\n",
       "  'yrAppt': 1835,\n",
       "  'pres': 'Andrew Jackson'},\n",
       " 'Melville Fuller': {'state': 'IL',\n",
       "  'yrLeft': 1910,\n",
       "  'yrAppt': 1888,\n",
       "  'pres': 'Grover Cleveland'},\n",
       " 'Byron White': {'state': 'CO',\n",
       "  'yrLeft': 1993,\n",
       "  'yrAppt': 1962,\n",
       "  'pres': 'John Kennedy'},\n",
       " 'Robert Trimble': {'state': 'KY',\n",
       "  'yrLeft': 1828,\n",
       "  'yrAppt': 1826,\n",
       "  'pres': 'John Q. Adams'},\n",
       " 'Abe Fortas': {'state': 'TN',\n",
       "  'yrLeft': 1969,\n",
       "  'yrAppt': 1965,\n",
       "  'pres': 'Lyndon Johnson'},\n",
       " 'Alfred Moore': {'state': 'NC',\n",
       "  'yrLeft': 1804,\n",
       "  'yrAppt': 1799,\n",
       "  'pres': 'John Adams'},\n",
       " 'Stanley Matthews': {'state': 'OH',\n",
       "  'yrLeft': 1889,\n",
       "  'yrAppt': 1881,\n",
       "  'pres': 'James Garfield'},\n",
       " 'Earl Warren': {'state': 'CA',\n",
       "  'yrLeft': 1969,\n",
       "  'yrAppt': 1953,\n",
       "  'pres': 'Dwight Eisenhower'},\n",
       " 'Benjamin Curtis': {'state': 'MA',\n",
       "  'yrLeft': 1857,\n",
       "  'yrAppt': 1851,\n",
       "  'pres': 'Millard Fillmore'},\n",
       " 'Joseph Lamar': {'state': 'GA',\n",
       "  'yrLeft': 1916,\n",
       "  'yrAppt': 1911,\n",
       "  'pres': 'William Taft'},\n",
       " 'Horace Gray': {'state': 'MA',\n",
       "  'yrLeft': 1902,\n",
       "  'yrAppt': 1881,\n",
       "  'pres': 'Chester Arthur'},\n",
       " 'Mahlon Pitney': {'state': 'NJ',\n",
       "  'yrLeft': 1922,\n",
       "  'yrAppt': 1912,\n",
       "  'pres': 'William Taft'},\n",
       " 'Samuel Alito': {'state': 'NJ',\n",
       "  'yrLeft': 0,\n",
       "  'yrAppt': 2006,\n",
       "  'pres': 'George W. Bush'},\n",
       " 'Thurgood Marshall': {'state': 'NY',\n",
       "  'yrLeft': 1992,\n",
       "  'yrAppt': 1967,\n",
       "  'pres': 'Lyndon Johnson'},\n",
       " 'Salmon Chase': {'state': 'OH',\n",
       "  'yrLeft': 1873,\n",
       "  'yrAppt': 1864,\n",
       "  'pres': 'Abraham Lincoln'},\n",
       " 'Clarence Thomas': {'state': 'GA',\n",
       "  'yrLeft': 0,\n",
       "  'yrAppt': 1991,\n",
       "  'pres': 'George H. W. Bush'},\n",
       " 'Thomas Todd': {'state': 'KY',\n",
       "  'yrLeft': 1826,\n",
       "  'yrAppt': 1807,\n",
       "  'pres': 'Thomas Jefferson'},\n",
       " 'Horace Lurton': {'state': 'TN',\n",
       "  'yrLeft': 1914,\n",
       "  'yrAppt': 1910,\n",
       "  'pres': 'William Taft'},\n",
       " 'William Day': {'state': 'OH',\n",
       "  'yrLeft': 1922,\n",
       "  'yrAppt': 1903,\n",
       "  'pres': 'Theodore Roosevelt'},\n",
       " 'John Campbell': {'state': 'AL',\n",
       "  'yrLeft': 1861,\n",
       "  'yrAppt': 1853,\n",
       "  'pres': 'Franklin Pierce'},\n",
       " 'Samuel Nelson': {'state': 'NY',\n",
       "  'yrLeft': 1872,\n",
       "  'yrAppt': 1845,\n",
       "  'pres': 'John Tyler'},\n",
       " 'John Blair': {'state': 'VA',\n",
       "  'yrLeft': 1796,\n",
       "  'yrAppt': 1789,\n",
       "  'pres': 'George Washington'},\n",
       " 'Sonia Sotomayor': {'state': 'NY',\n",
       "  'yrLeft': 0,\n",
       "  'yrAppt': 2009,\n",
       "  'pres': 'Barack Obama'},\n",
       " \"Sandra O'Connor\": {'state': 'AZ',\n",
       "  'yrLeft': 2005,\n",
       "  'yrAppt': 1981,\n",
       "  'pres': 'Ronald Reagan'},\n",
       " 'Louis Brandeis': {'state': 'MA',\n",
       "  'yrLeft': 1939,\n",
       "  'yrAppt': 1916,\n",
       "  'pres': 'Woodrow Wilson'},\n",
       " 'Bushrod Washington': {'state': 'VA',\n",
       "  'yrLeft': 1829,\n",
       "  'yrAppt': 1798,\n",
       "  'pres': 'John Adams'},\n",
       " 'James McReynolds': {'state': 'TN',\n",
       "  'yrLeft': 1941,\n",
       "  'yrAppt': 1914,\n",
       "  'pres': 'Woodrow Wilson'},\n",
       " 'Robert Jackson': {'state': 'NY',\n",
       "  'yrLeft': 1954,\n",
       "  'yrAppt': 1941,\n",
       "  'pres': 'Franklin Roosevelt'},\n",
       " 'William Rehnquist': {'state': 'AZ',\n",
       "  'yrLeft': 2005,\n",
       "  'yrAppt': 1972,\n",
       "  'pres': 'Richard Nixon'},\n",
       " 'William Cushing': {'state': 'MA',\n",
       "  'yrLeft': 1810,\n",
       "  'yrAppt': 1789,\n",
       "  'pres': 'George Washington'},\n",
       " 'George Shiras': {'state': 'PA',\n",
       "  'yrLeft': 1903,\n",
       "  'yrAppt': 1892,\n",
       "  'pres': 'Benjamin Harrison'},\n",
       " 'William Woods': {'state': 'CA',\n",
       "  'yrLeft': 1887,\n",
       "  'yrAppt': 1880,\n",
       "  'pres': 'Rutherford Hayes'},\n",
       " 'Noah Swayne': {'state': 'OH',\n",
       "  'yrLeft': 1881,\n",
       "  'yrAppt': 1862,\n",
       "  'pres': 'Abraham Lincoln'},\n",
       " 'Levi Woodbury': {'state': 'NH',\n",
       "  'yrLeft': 1851,\n",
       "  'yrAppt': 1845,\n",
       "  'pres': 'James Polk'},\n",
       " 'Thomas Johnson': {'state': 'MD',\n",
       "  'yrLeft': 1793,\n",
       "  'yrAppt': 1791,\n",
       "  'pres': 'George Washington'},\n",
       " 'Lewis Powell': {'state': 'VA',\n",
       "  'yrLeft': 1987,\n",
       "  'yrAppt': 1972,\n",
       "  'pres': 'Richard Nixon'},\n",
       " 'David Brewer': {'state': 'KS',\n",
       "  'yrLeft': 1910,\n",
       "  'yrAppt': 1889,\n",
       "  'pres': 'Benjamin Harrison'},\n",
       " 'William Brennan': {'state': 'NJ',\n",
       "  'yrLeft': 1990,\n",
       "  'yrAppt': 1956,\n",
       "  'pres': 'Dwight Eisenhower'},\n",
       " 'Smith Thompson': {'state': 'NY',\n",
       "  'yrLeft': 1843,\n",
       "  'yrAppt': 1823,\n",
       "  'pres': 'James Monroe'},\n",
       " 'James Wilson': {'state': 'PA',\n",
       "  'yrLeft': 1798,\n",
       "  'yrAppt': 1789,\n",
       "  'pres': 'George Washington'},\n",
       " 'Tom Clark': {'state': 'TX',\n",
       "  'yrLeft': 1967,\n",
       "  'yrAppt': 1949,\n",
       "  'pres': 'Harry Truman'},\n",
       " 'Edward Sanford': {'state': 'TN',\n",
       "  'yrLeft': 1930,\n",
       "  'yrAppt': 1923,\n",
       "  'pres': 'Warren Harding'},\n",
       " 'Roger Taney': {'state': 'MD',\n",
       "  'yrLeft': 1864,\n",
       "  'yrAppt': 1836,\n",
       "  'pres': 'Andrew Jackson'},\n",
       " 'Edward White': {'state': 'LA',\n",
       "  'yrLeft': 1921,\n",
       "  'yrAppt': 1894,\n",
       "  'pres': 'Grover Cleveland'},\n",
       " 'Harry Blackman': {'state': 'MN',\n",
       "  'yrLeft': 1994,\n",
       "  'yrAppt': 1970,\n",
       "  'pres': 'Richard Nixon'},\n",
       " 'Howell Jackson': {'state': 'TN',\n",
       "  'yrLeft': 1895,\n",
       "  'yrAppt': 1893,\n",
       "  'pres': 'Benjamin Harrison'},\n",
       " 'James Byrnes': {'state': 'SC',\n",
       "  'yrLeft': 1942,\n",
       "  'yrAppt': 1941,\n",
       "  'pres': 'Franklin Roosevelt'},\n",
       " 'George Sutherland': {'state': 'VT',\n",
       "  'yrLeft': 1938,\n",
       "  'yrAppt': 1922,\n",
       "  'pres': 'Warren Harding'},\n",
       " 'Samuel Miller': {'state': 'IA',\n",
       "  'yrLeft': 1890,\n",
       "  'yrAppt': 1862,\n",
       "  'pres': 'Abraham Lincoln'},\n",
       " 'John Rutledge': {'state': 'MA',\n",
       "  'yrLeft': 1795,\n",
       "  'yrAppt': 1789,\n",
       "  'pres': 'George Washington'},\n",
       " 'Benjamin Cardozo': {'state': 'NY',\n",
       "  'yrLeft': 1938,\n",
       "  'yrAppt': 1932,\n",
       "  'pres': 'Herbert Hoover'},\n",
       " 'Robert Grier': {'state': 'PA',\n",
       "  'yrLeft': 1870,\n",
       "  'yrAppt': 1846,\n",
       "  'pres': 'James Polk'},\n",
       " 'Charles Hughes': {'state': 'NY',\n",
       "  'yrLeft': 1941,\n",
       "  'yrAppt': 1910,\n",
       "  'pres': 'William Taft'},\n",
       " 'Gabriel Duval': {'state': 'MD',\n",
       "  'yrLeft': 1836,\n",
       "  'yrAppt': 1811,\n",
       "  'pres': 'James Madison'},\n",
       " 'Henry Brown': {'state': 'MI',\n",
       "  'yrLeft': 1906,\n",
       "  'yrAppt': 1890,\n",
       "  'pres': 'Benjamin Harrison'},\n",
       " 'John Catron': {'state': 'TN',\n",
       "  'yrLeft': 1865,\n",
       "  'yrAppt': 1837,\n",
       "  'pres': 'Martin Van Buren'},\n",
       " 'Warren Burger': {'state': 'VA',\n",
       "  'yrLeft': 1987,\n",
       "  'yrAppt': 1969,\n",
       "  'pres': 'Richard Nixon'},\n",
       " 'John Harlan II': {'state': 'NY',\n",
       "  'yrLeft': 1971,\n",
       "  'yrAppt': 1955,\n",
       "  'pres': 'Dwight Eisenhower'},\n",
       " 'Joseph Story': {'state': 'MA',\n",
       "  'yrLeft': 1845,\n",
       "  'yrAppt': 1811,\n",
       "  'pres': 'James Madison'},\n",
       " 'Owen Roberts': {'state': 'PA',\n",
       "  'yrLeft': 1945,\n",
       "  'yrAppt': 1930,\n",
       "  'pres': 'Herbert Hoover'},\n",
       " 'Pierce Butler': {'state': 'MN',\n",
       "  'yrLeft': 1939,\n",
       "  'yrAppt': 1922,\n",
       "  'pres': 'Warren Harding'},\n",
       " 'John Marshall': {'state': 'VA',\n",
       "  'yrLeft': 1835,\n",
       "  'yrAppt': 1801,\n",
       "  'pres': 'John Adams'},\n",
       " 'David Davis': {'state': 'IL',\n",
       "  'yrLeft': 1877,\n",
       "  'yrAppt': 1862,\n",
       "  'pres': 'Abraham Lincoln'},\n",
       " 'Rufus Peckham': {'state': 'NY',\n",
       "  'yrLeft': 1910,\n",
       "  'yrAppt': 1895,\n",
       "  'pres': 'Grover Cleveland'},\n",
       " 'Elena Kagan': {'state': 'NY',\n",
       "  'yrLeft': 0,\n",
       "  'yrAppt': 2010,\n",
       "  'pres': 'Barack Obama'},\n",
       " 'Ward Hunt': {'state': 'NY',\n",
       "  'yrLeft': 1882,\n",
       "  'yrAppt': 1872,\n",
       "  'pres': 'Ulysses Grant'},\n",
       " 'James Iredell': {'state': 'NC',\n",
       "  'yrLeft': 1799,\n",
       "  'yrAppt': 1790,\n",
       "  'pres': 'George Washington'},\n",
       " 'William Patterson': {'state': 'NJ',\n",
       "  'yrLeft': 1806,\n",
       "  'yrAppt': 1793,\n",
       "  'pres': 'George Washington'},\n",
       " 'Potter Stewart': {'state': 'OH',\n",
       "  'yrLeft': 1981,\n",
       "  'yrAppt': 1959,\n",
       "  'pres': 'Dwight Eisenhower'},\n",
       " 'John Stevens': {'state': 'IL',\n",
       "  'yrLeft': 2010,\n",
       "  'yrAppt': 1975,\n",
       "  'pres': 'Gerald Ford'},\n",
       " 'Oliver Ellsworth': {'state': 'CT',\n",
       "  'yrLeft': 1800,\n",
       "  'yrAppt': 1796,\n",
       "  'pres': 'George Washington'},\n",
       " 'Lucius Lamar': {'state': 'MS',\n",
       "  'yrLeft': 1893,\n",
       "  'yrAppt': 1888,\n",
       "  'pres': 'Grover Cleveland'},\n",
       " 'William Douglas': {'state': 'CT',\n",
       "  'yrLeft': 1975,\n",
       "  'yrAppt': 1939,\n",
       "  'pres': 'Franklin Roosevelt'},\n",
       " 'John Roberts': {'state': 'MD',\n",
       "  'yrLeft': 0,\n",
       "  'yrAppt': 2005,\n",
       "  'pres': 'George W. Bush'},\n",
       " 'Oliver Holmes': {'state': 'MA',\n",
       "  'yrLeft': 1932,\n",
       "  'yrAppt': 1902,\n",
       "  'pres': 'Theodore Roosevelt'},\n",
       " 'Nathan Clifford': {'state': 'ME',\n",
       "  'yrLeft': 1881,\n",
       "  'yrAppt': 1858,\n",
       "  'pres': 'James Buchanan'},\n",
       " 'Samuel Blatchford': {'state': 'NY',\n",
       "  'yrLeft': 1893,\n",
       "  'yrAppt': 1882,\n",
       "  'pres': 'Chester Arthur'},\n",
       " 'Philip Barbour': {'state': 'VA',\n",
       "  'yrLeft': 1841,\n",
       "  'yrAppt': 1836,\n",
       "  'pres': 'Andrew Jackson'},\n",
       " 'William Strong': {'state': 'PA',\n",
       "  'yrLeft': 1880,\n",
       "  'yrAppt': 1870,\n",
       "  'pres': 'Ulysses Grant'},\n",
       " 'Morrison Waite': {'state': 'OH',\n",
       "  'yrLeft': 1888,\n",
       "  'yrAppt': 1874,\n",
       "  'pres': 'Ulysses Grant'},\n",
       " 'Felix Frankfurter': {'state': 'MA',\n",
       "  'yrLeft': 1962,\n",
       "  'yrAppt': 1939,\n",
       "  'pres': 'Franklin Roosevelt'},\n",
       " 'Brockholst Livingston': {'state': 'NY',\n",
       "  'yrLeft': 1823,\n",
       "  'yrAppt': 1806,\n",
       "  'pres': 'Thomas Jefferson'},\n",
       " 'Ruth Ginsburg': {'state': 'NY',\n",
       "  'yrLeft': 0,\n",
       "  'yrAppt': 1993,\n",
       "  'pres': 'Bill Clinton'},\n",
       " 'John McKinley': {'state': 'AL',\n",
       "  'yrLeft': 1852,\n",
       "  'yrAppt': 1837,\n",
       "  'pres': 'Martin Van Buren'},\n",
       " 'John Clarke': {'state': 'OH',\n",
       "  'yrLeft': 1922,\n",
       "  'yrAppt': 1916,\n",
       "  'pres': 'Woodrow Wilson'}}"
      ]
     },
     "execution_count": 44,
     "metadata": {},
     "output_type": "execute_result"
    }
   ],
   "source": [
    "justiceDict = createDictFromFile(\"./Programs/Ch5/JusticesDict.dat\")\n",
    "justiceDict"
   ]
  },
  {
   "cell_type": "code",
   "execution_count": 45,
   "metadata": {
    "scrolled": false
   },
   "outputs": [
    {
     "name": "stdout",
     "output_type": "stream",
     "text": [
      "31 states have produced justices.\n",
      "  AL :   3\n",
      "  AZ :   2\n",
      "  CA :   5\n",
      "  CO :   1\n",
      "  CT :   3\n",
      "  GA :   3\n",
      "  IA :   2\n",
      "  IL :   4\n",
      "  IN :   1\n",
      "  KS :   1\n",
      "  KY :   5\n",
      "  LA :   1\n",
      "  MA :   10\n",
      "  MD :   5\n",
      "  ME :   1\n",
      "  MI :   2\n",
      "  MN :   2\n",
      "  MO :   1\n",
      "  MS :   1\n",
      "  NC :   2\n",
      "  NH :   2\n",
      "  NJ :   5\n",
      "  NY :   16\n",
      "  OH :   9\n",
      "  PA :   6\n",
      "  SC :   2\n",
      "  TN :   6\n",
      "  TX :   1\n",
      "  VA :   8\n",
      "  VT :   1\n",
      "  WY :   1\n"
     ]
    }
   ],
   "source": [
    "# 54\n",
    "import pickle\n",
    "\n",
    "def main():\n",
    "    justiceDict = createDictFromFile(\"./Programs/Ch5/JusticesDict.dat\")\n",
    "    displayStates(justiceDict)\n",
    "\n",
    "def createDictFromFile(fileName):\n",
    "    infile = open(fileName, 'rb')\n",
    "    dictionaryName = pickle.load(infile)\n",
    "    infile.close()\n",
    "    return dictionaryName\n",
    "\n",
    "def displayStates(dictionaryName):\n",
    "    stateList1 = []\n",
    "    for justice in dictionaryName:\n",
    "        stateList1.append(dictionaryName[justice]['state'])\n",
    "    stateList2 = list(set(stateList1))\n",
    "    stateList2.sort()\n",
    "    print(len(stateList2), \"states have produced justices.\")\n",
    "    for state in stateList2:\n",
    "        print(\" \", state, \":  \", stateList1.count(state))\n",
    "        \n",
    "main()"
   ]
  },
  {
   "cell_type": "code",
   "execution_count": 46,
   "metadata": {},
   "outputs": [
    {
     "name": "stdout",
     "output_type": "stream",
     "text": [
      "Teams with four or more\n",
      "Rose Bowl wins as of 2014:\n",
      "  USC : 24\n",
      "  Michigan : 8\n",
      "  Washington : 8\n",
      "  Ohio State : 7\n",
      "  Stanford : 6\n",
      "  UCLA : 5\n",
      "  Alabama : 4\n",
      "  Michigan State : 4\n"
     ]
    }
   ],
   "source": [
    "# 56\n",
    "\n",
    "infile = open(\"./Programs/Ch5/Rosebowl.txt\", 'r')\n",
    "winners = [line.rstrip() for line in infile]\n",
    "infile.close()\n",
    "\n",
    "winnerDict = {}\n",
    "for winner in winners:\n",
    "    winnerDict[winner] = 0\n",
    "for winner in winners:\n",
    "    winnerDict[winner] += 1\n",
    "    \n",
    "winnerList = sorted(winnerDict.items(), key=lambda x: x[1], reverse=True)\n",
    "\n",
    "print(\"Teams with four or more\")\n",
    "print(\"Rose Bowl wins as of 2014:\")\n",
    "for i in winnerList:\n",
    "    if i[1] >= 4:\n",
    "        print(\" \", i[0], \":\", i[1])"
   ]
  },
  {
   "cell_type": "code",
   "execution_count": 47,
   "metadata": {
    "scrolled": false
   },
   "outputs": [
    {
     "data": {
      "text/plain": [
       "{'Michigan': 8,\n",
       " 'Washington State': 1,\n",
       " 'Oregon': 2,\n",
       " 'Mare Island': 1,\n",
       " 'Great Lakes': 1,\n",
       " 'Harvard': 1,\n",
       " 'California': 3,\n",
       " 'USC': 24,\n",
       " 'Washington': 8,\n",
       " 'Notre Dame': 1,\n",
       " 'Alabama': 4,\n",
       " 'Stanford': 6,\n",
       " 'Georgia Tech': 1,\n",
       " 'Columbia': 1,\n",
       " 'Pittsburgh': 1,\n",
       " 'Oregon State': 1,\n",
       " 'Georgia': 1,\n",
       " 'Illinois': 3,\n",
       " 'Northwestern': 1,\n",
       " 'Ohio State': 7,\n",
       " 'Michigan State': 4,\n",
       " 'Iowa': 2,\n",
       " 'Minnesota': 1,\n",
       " 'UCLA': 5,\n",
       " 'Purdue': 1,\n",
       " 'Arizona State': 1,\n",
       " 'Wisconsin': 3,\n",
       " 'Penn State': 1,\n",
       " 'Miami': 1,\n",
       " 'Oklahoma': 1,\n",
       " 'Texas': 2,\n",
       " 'TCU': 1}"
      ]
     },
     "execution_count": 47,
     "metadata": {},
     "output_type": "execute_result"
    }
   ],
   "source": [
    "winnerDict"
   ]
  },
  {
   "cell_type": "code",
   "execution_count": 48,
   "metadata": {},
   "outputs": [
    {
     "data": {
      "text/plain": [
       "[('USC', 24),\n",
       " ('Michigan', 8),\n",
       " ('Washington', 8),\n",
       " ('Ohio State', 7),\n",
       " ('Stanford', 6),\n",
       " ('UCLA', 5),\n",
       " ('Alabama', 4),\n",
       " ('Michigan State', 4),\n",
       " ('California', 3),\n",
       " ('Illinois', 3),\n",
       " ('Wisconsin', 3),\n",
       " ('Oregon', 2),\n",
       " ('Iowa', 2),\n",
       " ('Texas', 2),\n",
       " ('Washington State', 1),\n",
       " ('Mare Island', 1),\n",
       " ('Great Lakes', 1),\n",
       " ('Harvard', 1),\n",
       " ('Notre Dame', 1),\n",
       " ('Georgia Tech', 1),\n",
       " ('Columbia', 1),\n",
       " ('Pittsburgh', 1),\n",
       " ('Oregon State', 1),\n",
       " ('Georgia', 1),\n",
       " ('Northwestern', 1),\n",
       " ('Minnesota', 1),\n",
       " ('Purdue', 1),\n",
       " ('Arizona State', 1),\n",
       " ('Penn State', 1),\n",
       " ('Miami', 1),\n",
       " ('Oklahoma', 1),\n",
       " ('TCU', 1)]"
      ]
     },
     "execution_count": 48,
     "metadata": {},
     "output_type": "execute_result"
    }
   ],
   "source": [
    "sorted(winnerDict.items(), key=lambda x: x[1], reverse=True)"
   ]
  },
  {
   "cell_type": "code",
   "execution_count": 49,
   "metadata": {},
   "outputs": [
    {
     "name": "stdout",
     "output_type": "stream",
     "text": [
      "Enter a first name: John\n",
      "  John Q. Adams\n",
      "  John Adams\n",
      "  John Tyler\n",
      "  John Kennedy\n"
     ]
    }
   ],
   "source": [
    "# 58\n",
    "\n",
    "def main():\n",
    "    firstName = input(\"Enter a first name: \")\n",
    "    preStatesDict = createDictFromFile(\"./Programs/Ch5/USpresStatesDict.dat\")\n",
    "    presDict = determineFirstNamePres(preStatesDict, firstName)\n",
    "    displayPresStates(presDict, firstName)\n",
    "\n",
    "def createDictFromFile(fileName):\n",
    "    infile = open(fileName, 'rb')\n",
    "    dictionaryName = pickle.load(infile)\n",
    "    infile.close()\n",
    "    return dictionaryName\n",
    "\n",
    "def determineFirstNamePres(dictName, firstName):\n",
    "    presDict = {}\n",
    "    for name in dictName:\n",
    "        if name[1].startswith(firstName):\n",
    "            presDict[name] = dictName[name]\n",
    "    return presDict\n",
    "\n",
    "def displayPresStates(dictName, firstName):\n",
    "    for name in dictName:\n",
    "        print(\" \", name[1], name[0])\n",
    "    if len(dictName)==0:\n",
    "        print(\"There is no presidents who has the first name with\", firstName)\n",
    "        \n",
    "main()"
   ]
  },
  {
   "cell_type": "code",
   "execution_count": 50,
   "metadata": {},
   "outputs": [
    {
     "data": {
      "text/plain": [
       "{('Buchanan', 'James'): 'Pennsylvannia',\n",
       " ('Washington', 'George'): 'Virginia',\n",
       " ('Buren', 'Martin Van'): 'New York',\n",
       " ('Harding', 'Warren'): 'Ohio',\n",
       " ('Jackson', 'Andrew'): 'Tennessee',\n",
       " ('Harrison', 'William'): 'Ohio',\n",
       " ('Eisenhower', 'Dwight'): 'Kansas',\n",
       " ('Hayes', 'Rutherford'): 'Ohio',\n",
       " ('Garfield', 'James'): 'Ohio',\n",
       " ('Obama', 'Barack'): 'Illinois',\n",
       " ('Arthur', 'Chester'): 'New York',\n",
       " ('Hoover', 'Herbert'): 'California',\n",
       " ('Grant', 'Ulysses'): 'Illinois',\n",
       " ('Monroe', 'James'): 'Virginia',\n",
       " ('Johnson', 'Lyndon'): 'Texas',\n",
       " ('Roosevelt', 'Theodore'): 'New York',\n",
       " ('Adams', 'John Q.'): 'Massachusetts',\n",
       " ('Adams', 'John'): 'Massachusetts',\n",
       " ('Fillmore', 'Millard'): 'New York',\n",
       " ('Madison', 'James'): 'Virginia',\n",
       " ('Nixon', 'Richard'): 'California',\n",
       " ('Bush', 'George W.'): 'Texas',\n",
       " ('Coolidge', 'Calvin'): 'Massachusetts',\n",
       " ('Roosevelt', 'Franklin'): 'New York',\n",
       " ('Pierce', 'Franklin'): 'New Hampshire',\n",
       " ('Jefferson', 'Thomas'): 'Virginia',\n",
       " ('Clinton', 'Bill'): 'Arkansas',\n",
       " ('Lincoln', 'Abraham'): 'Illinois',\n",
       " ('Polk', 'James'): 'Tennessee',\n",
       " ('Reagan', 'Ronald'): 'California',\n",
       " ('Cleveland', 'Grover'): 'New York',\n",
       " ('Tyler', 'John'): 'Virginia',\n",
       " ('Ford', 'Gerald'): 'Michigan',\n",
       " ('Bush', 'George H. W.'): 'Texas',\n",
       " ('McKinley', 'William'): 'Ohio',\n",
       " ('Kennedy', 'John'): 'Massachusetts',\n",
       " ('Johnson', 'Andrew'): 'Tennessee',\n",
       " ('Harrison', 'Benjamin'): 'Indiana',\n",
       " ('Taft', 'William'): 'Ohio',\n",
       " ('Truman', 'Harry'): 'Missouri',\n",
       " ('Taylor', 'Zachary'): 'Lousiana',\n",
       " ('Wilson', 'Woodrow'): 'New Jersey',\n",
       " ('Carter', 'James'): 'Georgia'}"
      ]
     },
     "execution_count": 50,
     "metadata": {},
     "output_type": "execute_result"
    }
   ],
   "source": [
    "preStatesDict = createDictFromFile(\"./Programs/Ch5/USpresStatesDict.dat\")\n",
    "preStatesDict"
   ]
  },
  {
   "cell_type": "code",
   "execution_count": 51,
   "metadata": {},
   "outputs": [
    {
     "name": "stdout",
     "output_type": "stream",
     "text": [
      "Enter the name of a state: Arizona\n",
      "Large cities: Phoenix Tucson Mesa "
     ]
    }
   ],
   "source": [
    "# 60\n",
    "\n",
    "def main():\n",
    "    state = input(\"Enter the name of a state: \")\n",
    "    largeCitiesDict = createDictFromFile(\"./Programs/Ch5/LargeCitiesDict.dat\")\n",
    "    print(\"Large cities: \", end=\"\")\n",
    "    for city in largeCitiesDict[state]:\n",
    "        print(city, end=\" \")\n",
    "\n",
    "\n",
    "def createDictFromFile(fileName):\n",
    "    infile = open(fileName, 'rb')\n",
    "    dictionaryName = pickle.load(infile)\n",
    "    infile.close()\n",
    "    return dictionaryName\n",
    "\n",
    "main()"
   ]
  },
  {
   "cell_type": "code",
   "execution_count": 52,
   "metadata": {},
   "outputs": [
    {
     "data": {
      "text/plain": [
       "{'Utah': [],\n",
       " 'Mississippi': [],\n",
       " 'Montana': [],\n",
       " 'Rhode Island': [],\n",
       " 'Oklahoma': ['Oklahoma City', 'Tulsa'],\n",
       " 'Pennsylvania': ['Philadelphia', 'Pittsburgh'],\n",
       " 'Wyoming': [],\n",
       " 'Louisiana': ['New Orleans'],\n",
       " 'Washington': ['Seattle'],\n",
       " 'North Carolina': ['Charlotte', 'Raleigh', 'Greensboro'],\n",
       " 'Delaware': ['Wilmington', 'Dover', 'Newark'],\n",
       " 'Kansas': ['Wichita'],\n",
       " 'Michigan': ['Detroit'],\n",
       " 'Ohio': ['Columbus', 'Cleveland', 'Cincinnati', 'Toledo'],\n",
       " 'California': ['Los Angeles',\n",
       "  'San Diego',\n",
       "  'San Jose',\n",
       "  'San Francisco',\n",
       "  'Fresno',\n",
       "  'Sacramento',\n",
       "  'Long Beach',\n",
       "  'Oakland',\n",
       "  'Bakersfield',\n",
       "  'Anaheim',\n",
       "  'Santa Anna',\n",
       "  'Riverside',\n",
       "  'Stockton'],\n",
       " 'South Carolina': [],\n",
       " 'West Virginia': [],\n",
       " 'Florida': ['Jacksonville', 'Miami', 'Tampa'],\n",
       " 'Nevada': ['Las Vegas', 'Henderson'],\n",
       " 'North Dakota': [],\n",
       " 'Nebraska': ['Omaha', 'Lincoln'],\n",
       " 'Oregon': ['Portland'],\n",
       " 'Iowa': [],\n",
       " 'Hawaii': ['Honolulu'],\n",
       " 'Colorado': ['Denver', 'Colorado Springs', 'Aurora'],\n",
       " 'Connecticut': [],\n",
       " 'Alaska': ['Anchorage'],\n",
       " 'New Hampshire': [],\n",
       " 'Illinois': ['Chicago'],\n",
       " 'Tennessee': ['Memphis', 'Nashville'],\n",
       " 'Wisconsin': ['Milwaukee'],\n",
       " 'Texas': ['Houston',\n",
       "  'San Antonio',\n",
       "  'Dallas',\n",
       "  'Austin',\n",
       "  'Fort Worth',\n",
       "  'El Paso',\n",
       "  'Arlington',\n",
       "  'Corpus Christi',\n",
       "  'Plano'],\n",
       " 'Arizona': ['Phoenix', 'Tucson', 'Mesa'],\n",
       " 'Idaho': [],\n",
       " 'Massachusetts': ['Boston'],\n",
       " 'Indiana': ['Indianapolis', 'Fort Wayne'],\n",
       " 'Kentucky': ['Louisville', 'Lexington'],\n",
       " 'South Dakota': [],\n",
       " 'Alabama': [],\n",
       " 'Georgia': ['Atlanta'],\n",
       " 'Arkansas': [],\n",
       " 'Vermont': [],\n",
       " 'Minnesota': ['Minneapolis', 'Saint Paul'],\n",
       " 'Maryland': ['Baltimore'],\n",
       " 'New York': ['New York City', 'Oyster Bay', 'Buffalo'],\n",
       " 'New Mexico': ['Albuquerque'],\n",
       " 'Maine': ['Portland'],\n",
       " 'Virginia': [' Virginia Beach'],\n",
       " 'New Jersey': ['Newark']}"
      ]
     },
     "execution_count": 52,
     "metadata": {},
     "output_type": "execute_result"
    }
   ],
   "source": [
    "largeCitiesDict = createDictFromFile(\"./Programs/Ch5/LargeCitiesDict.dat\")\n",
    "largeCitiesDict"
   ]
  }
 ],
 "metadata": {
  "kernelspec": {
   "display_name": "Python 3",
   "language": "python",
   "name": "python3"
  },
  "language_info": {
   "codemirror_mode": {
    "name": "ipython",
    "version": 3
   },
   "file_extension": ".py",
   "mimetype": "text/x-python",
   "name": "python",
   "nbconvert_exporter": "python",
   "pygments_lexer": "ipython3",
   "version": "3.7.7"
  }
 },
 "nbformat": 4,
 "nbformat_minor": 4
}
