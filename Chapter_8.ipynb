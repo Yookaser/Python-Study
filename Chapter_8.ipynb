{
 "cells": [
  {
   "cell_type": "markdown",
   "metadata": {},
   "source": [
    "## Chapter 5.1 Processing Data, Part1"
   ]
  },
  {
   "cell_type": "markdown",
   "metadata": {},
   "source": [
    "### 1) Reading Text Files\n",
    "- 워드프로세서나 엑셀 파일의 경우 데이터를 저장할 수 있고, 나중에 필요할 때 파일을 열어서 데이터를 확인할 수 있음.\n",
    "- 파이썬에서는 위 프로그램과 같이 텍스트 파일을 읽고, 파일 내에 있는 텍스트 데이터를 리스트 형태로 확인하는 것이 가능함.\n",
    "- 파일을 읽기 위해서는 본 주피터노트북 파일과 동일한 폴더에 텍스트 파일이 존재하여야 함."
   ]
  },
  {
   "cell_type": "code",
   "execution_count": 1,
   "metadata": {},
   "outputs": [
    {
     "data": {
      "text/plain": [
       "['1', '2', '3', '4', '5', '6', '7', '8', '9', '10']"
      ]
     },
     "execution_count": 1,
     "metadata": {},
     "output_type": "execute_result"
    }
   ],
   "source": [
    "# for 명령문을 이용하여 리스트 구현\n",
    "\n",
    "# open() 함수는 파이썬 프로그램과 텍스트 파일을 연결시켜 주는 역할을 함.\n",
    "infile = open(\"Data.txt\", 'r') # opened for reading\n",
    "\n",
    "# 비어있는 리스트를 생성\n",
    "listVar = []\n",
    "\n",
    "# 텍스트 파일 데이터를 한줄씩 불러와서 비어있는 리스트에 차례차례 항목을 추가함.\n",
    "# 항목 옆에 '\\n' 형태로 붙어있는 whitespace를 rstrip()으로 제거\n",
    "for line in infile:\n",
    "    listVar.append(line.rstrip())\n",
    "\n",
    "# 열려있는 파일을 close() 함수를 이용하여 종료\n",
    "infile.close()\n",
    "    \n",
    "listVar"
   ]
  },
  {
   "cell_type": "code",
   "execution_count": 2,
   "metadata": {},
   "outputs": [
    {
     "data": {
      "text/plain": [
       "['1', '2', '3', '4', '5', '6', '7', '8', '9', '10']"
      ]
     },
     "execution_count": 2,
     "metadata": {},
     "output_type": "execute_result"
    }
   ],
   "source": [
    "# list comprehension을 이용하여 리스트 구현\n",
    "# 위 결과와 동일한 결과를 출력함.\n",
    "\n",
    "infile = open(\"Data.txt\", 'r')\n",
    "listVar = [line.rstrip() for line in infile]\n",
    "infile.close()\n",
    "listVar"
   ]
  },
  {
   "cell_type": "code",
   "execution_count": 3,
   "metadata": {},
   "outputs": [
    {
     "name": "stdout",
     "output_type": "stream",
     "text": [
      "George Washington\n",
      "John Adams\n",
      "Thomas Jefferson\n",
      "James Madison\n",
      "James Monroe\n",
      "John A. Adams\n",
      "['George Washington', 'John Adams', 'Thomas Jefferson', 'James Madison', 'James Monroe', 'John A. Adams']\n"
     ]
    }
   ],
   "source": [
    "# Ex.1\n",
    "\n",
    "def main():\n",
    "    file = \"FirstPresidents.txt\"\n",
    "    displayWithForLoop(file)\n",
    "    print()\n",
    "    displayWithListComprehension(file)\n",
    "    \n",
    "def displayWithForLoop(file): # 파일값 출력\n",
    "    infile = open(file, 'r')\n",
    "    for line in infile:\n",
    "        print(line, end=\"\") # \\n이 있으므로 한칸 띄어서 출력\n",
    "    infile.close()\n",
    "    \n",
    "def displayWithListComprehension(file): # 파일값 리스트로 만든 후 출력\n",
    "    infile = open(file, 'r')\n",
    "    listPres = [line.rstrip() for line in infile]\n",
    "    infile.close()\n",
    "    print(listPres)\n",
    "main()"
   ]
  },
  {
   "cell_type": "markdown",
   "metadata": {},
   "source": [
    "- infile.read()는 열려있는 파일 내에 데이터 전체를 한 줄 형태의 문자열로 반환함."
   ]
  },
  {
   "cell_type": "code",
   "execution_count": 5,
   "metadata": {},
   "outputs": [
    {
     "data": {
      "text/plain": [
       "'George Washington\\nJohn Adams\\nThomas Jefferson\\nJames Madison\\nJames Monroe\\nJohn A. Adams'"
      ]
     },
     "execution_count": 5,
     "metadata": {},
     "output_type": "execute_result"
    }
   ],
   "source": [
    "infile = open(\"FirstPresidents.txt\", 'r')\n",
    "strVar = infile.read()\n",
    "infile.close()\n",
    "strVar"
   ]
  },
  {
   "cell_type": "markdown",
   "metadata": {},
   "source": [
    "- infile.readline()는 열려있는 파일 내에 첫번째 줄 데이터를 반환함.\n",
    "- for문이나 while문을 이용해 infile.readline()을 이용하는 경우 차례차례 데이터를 읽는 역할을 함.\n",
    "    - 모든 데이터를 읽은 경우 infile.readline()은 공백값을 반환함."
   ]
  },
  {
   "cell_type": "code",
   "execution_count": 4,
   "metadata": {},
   "outputs": [
    {
     "data": {
      "text/plain": [
       "'George Washington\\n'"
      ]
     },
     "execution_count": 4,
     "metadata": {},
     "output_type": "execute_result"
    }
   ],
   "source": [
    "infile = open(\"FirstPresidents.txt\", 'r')\n",
    "strVar = infile.readline()\n",
    "infile.close()\n",
    "strVar"
   ]
  },
  {
   "cell_type": "code",
   "execution_count": 6,
   "metadata": {},
   "outputs": [
    {
     "name": "stdout",
     "output_type": "stream",
     "text": [
      "George Washington\n",
      "John Adams\n",
      "Thomas Jefferson\n",
      "James Madison\n",
      "James Monroe\n",
      "John A. Adams"
     ]
    }
   ],
   "source": [
    "def displayWithReadline(file):\n",
    "    infile = open(file, 'r')\n",
    "    \n",
    "    # 파일의 첫번째 줄 데이터를 읽음.\n",
    "    line = infile.readline()\n",
    "    \n",
    "    while line != \"\":\n",
    "        print(line, end=\"\")\n",
    "        # 파일의 두번째 줄부터 데이터를 읽기 시작함.\n",
    "        # 파일을 모두 읽은 후에는 공백값을 반환함.\n",
    "        line = infile.readline()\n",
    "    infile.close()\n",
    "    \n",
    "file = \"FirstPresidents.txt\"\n",
    "displayWithReadline(file)"
   ]
  },
  {
   "cell_type": "markdown",
   "metadata": {},
   "source": [
    "### 2) Creating Text Files\n",
    "- 다음과 같은 명령문으로 새로운 텍스트 파일을 생성할 수 있음.\n",
    "    - outfile = open(fileName, 'w')\n",
    "- outfile.writelines(list1)\n",
    "    - list1 항목을 하나의 라인으로 파일에 기록함.\n",
    "- strVar이 문자열인 경우 outfile.write(strVar)은 파일에 strVar 값을 추가함.\n",
    "- 파이썬에서는 buffer라는 메모리 영역을 생성해서 디스크에 데이터를 저장하기 전 임시저장소로 사용함.\n",
    "    - 왜냐하면, 메모리에 접근하는 것이 디스크에 접근하는 것보다 더 빠르기 때문임.\n",
    "    - buffer에 있는 내용은 buffer가 차있을 때와 파일이 닫힐 때 디스크로 데이터가 저장됨.\n",
    "    - 그렇기 때문에 데이터가 디스크에 이동된 것을 보장받기 위해서는 write(), writelines() 함수를 실행한 후 파일을 닫아야 함."
   ]
  },
  {
   "cell_type": "code",
   "execution_count": 7,
   "metadata": {},
   "outputs": [],
   "source": [
    "# Ex.2\n",
    "\n",
    "def main():\n",
    "    outfile = open(\"FirstPresidents2.txt\", 'w')\n",
    "    createWithWritelines(outfile)\n",
    "    outfile = open(\"FirstPresidents3.txt\", 'w')\n",
    "    createWithWrite(outfile)\n",
    "    \n",
    "def createWithWritelines(outfile):\n",
    "    list1 = [\"George Washington\", \"John Adams\", \"Thomas Jefferson\"]\n",
    "    for i in range(len(list1)):\n",
    "        list1[i] = list1[i] + \"\\n\"\n",
    "    outfile.writelines(list1)\n",
    "    outfile.close()\n",
    "    \n",
    "def createWithWrite(outfile):\n",
    "    outfile.write(\"George Washington\\n\")\n",
    "    outfile.write(\"John Adams\\n\")\n",
    "    outfile.write(\"Thomas Jefferson\\n\")\n",
    "    outfile.close()\n",
    "    \n",
    "main()"
   ]
  },
  {
   "cell_type": "code",
   "execution_count": 17,
   "metadata": {},
   "outputs": [],
   "source": [
    "# Ex.2-1\n",
    "\n",
    "def main():\n",
    "    outfile = open(\"FirstPresidents2.txt\", 'w')\n",
    "    createWithWritelines(outfile)\n",
    "    outfile = open(\"FirstPresidents3.txt\", 'w')\n",
    "    createWithWrite(outfile)\n",
    "    \n",
    "def createWithWritelines(outfile):\n",
    "    list1 = [\"George Washington\", \"John Adams\", \"Thomas Jefferson\"]\n",
    "    \n",
    "    outfile.writelines(list1)\n",
    "    outfile.close()\n",
    "    \n",
    "def createWithWrite(outfile):\n",
    "    outfile.write(\"George Washington\\n\")\n",
    "    outfile.write(\"John Adams\\n\")\n",
    "    outfile.write(\"Thomas Jefferson\\n\")\n",
    "    outfile.close()\n",
    "    \n",
    "main()"
   ]
  },
  {
   "cell_type": "code",
   "execution_count": 18,
   "metadata": {},
   "outputs": [],
   "source": [
    "# Ex. 3\n",
    "\n",
    "def main():\n",
    "    statesList = createListFromFile(\"States.txt\")\n",
    "    createSortedFile(statesList, \"StatesAlpha.txt\")\n",
    "    \n",
    "def createListFromFile(fileName):\n",
    "    infile = open(fileName, 'r')\n",
    "    desiredList = [line.rstrip() for line in infile]\n",
    "    infile.close()\n",
    "    return desiredList\n",
    "\n",
    "def createSortedFile(listName, fileName):\n",
    "    listName.sort(reverse=True)\n",
    "    for i in range(len(listName)):\n",
    "        listName[i] = listName[i] + \"\\n\"\n",
    "    outfile = open(fileName, 'w')\n",
    "    outfile.writelines(listName)\n",
    "    outfile.close()\n",
    "    \n",
    "main()"
   ]
  },
  {
   "cell_type": "code",
   "execution_count": 10,
   "metadata": {},
   "outputs": [
    {
     "data": {
      "text/plain": [
       "['Alabama',\n",
       " 'Alaska',\n",
       " 'Arizona',\n",
       " 'Arkansas',\n",
       " 'California',\n",
       " 'Colorado',\n",
       " 'Connecticut',\n",
       " 'Delaware',\n",
       " 'Florida',\n",
       " 'Georgia',\n",
       " 'Hawaii',\n",
       " 'Idaho',\n",
       " 'Illinois',\n",
       " 'Indiana',\n",
       " 'Iowa',\n",
       " 'Kansas',\n",
       " 'Kentucky',\n",
       " 'Louisiana',\n",
       " 'Maine',\n",
       " 'Maryland',\n",
       " 'Massachusetts',\n",
       " 'Michigan',\n",
       " 'Minnesota',\n",
       " 'Mississippi',\n",
       " 'Missouri',\n",
       " 'Montana',\n",
       " 'Nebraska',\n",
       " 'Nevada',\n",
       " 'New Hampshire',\n",
       " 'New Jersey',\n",
       " 'New Mexico',\n",
       " 'New York',\n",
       " 'North Carolina',\n",
       " 'North Dakota',\n",
       " 'Ohio',\n",
       " 'Oklahoma',\n",
       " 'Oregon',\n",
       " 'Pennsylvania',\n",
       " 'Rhode Island',\n",
       " 'South Carolina',\n",
       " 'South Dakota',\n",
       " 'Tennessee',\n",
       " 'Texas',\n",
       " 'Utah',\n",
       " 'Vermont',\n",
       " 'Virginia',\n",
       " 'Washington',\n",
       " 'West Virginia',\n",
       " 'Wisconsin',\n",
       " 'Wyoming']"
      ]
     },
     "execution_count": 10,
     "metadata": {},
     "output_type": "execute_result"
    }
   ],
   "source": [
    "createListFromFile(\"States.txt\")"
   ]
  },
  {
   "cell_type": "code",
   "execution_count": 19,
   "metadata": {},
   "outputs": [
    {
     "data": {
      "text/plain": [
       "['Wyoming',\n",
       " 'Wisconsin',\n",
       " 'West Virginia',\n",
       " 'Washington',\n",
       " 'Virginia',\n",
       " 'Vermont',\n",
       " 'Utah',\n",
       " 'Texas',\n",
       " 'Tennessee',\n",
       " 'South Dakota',\n",
       " 'South Carolina',\n",
       " 'Rhode Island',\n",
       " 'Pennsylvania',\n",
       " 'Oregon',\n",
       " 'Oklahoma',\n",
       " 'Ohio',\n",
       " 'North Dakota',\n",
       " 'North Carolina',\n",
       " 'New York',\n",
       " 'New Mexico',\n",
       " 'New Jersey',\n",
       " 'New Hampshire',\n",
       " 'Nevada',\n",
       " 'Nebraska',\n",
       " 'Montana',\n",
       " 'Missouri',\n",
       " 'Mississippi',\n",
       " 'Minnesota',\n",
       " 'Michigan',\n",
       " 'Massachusetts',\n",
       " 'Maryland',\n",
       " 'Maine',\n",
       " 'Louisiana',\n",
       " 'Kentucky',\n",
       " 'Kansas',\n",
       " 'Iowa',\n",
       " 'Indiana',\n",
       " 'Illinois',\n",
       " 'Idaho',\n",
       " 'Hawaii',\n",
       " 'Georgia',\n",
       " 'Florida',\n",
       " 'Delaware',\n",
       " 'Connecticut',\n",
       " 'Colorado',\n",
       " 'California',\n",
       " 'Arkansas',\n",
       " 'Arizona',\n",
       " 'Alaska',\n",
       " 'Alabama']"
      ]
     },
     "execution_count": 19,
     "metadata": {},
     "output_type": "execute_result"
    }
   ],
   "source": [
    "infile = open(\"StatesAlpha.txt\", 'r')\n",
    "a = [line.rstrip() for line in infile]\n",
    "infile.close()\n",
    "a"
   ]
  },
  {
   "cell_type": "code",
   "execution_count": 16,
   "metadata": {
    "collapsed": true
   },
   "outputs": [
    {
     "data": {
      "text/plain": [
       "['John Adams',\n",
       " 'Thomas Jefferson',\n",
       " 'Aaron Burr',\n",
       " 'George Clinton',\n",
       " 'Elbridge Gerry',\n",
       " 'Daniel Tompkins',\n",
       " 'John Calhoun',\n",
       " 'Martin Van Buren',\n",
       " 'Richard Johnson',\n",
       " 'John Tyler',\n",
       " 'George Dallas',\n",
       " 'Millard Fillmore',\n",
       " 'William King',\n",
       " 'John Breckinridge',\n",
       " 'Hannibal Hamlin',\n",
       " 'Andrew Johnson',\n",
       " 'Schuyler Colfax',\n",
       " 'Henry Wilson',\n",
       " 'William Wheeler',\n",
       " 'Chester Arthur',\n",
       " 'Thomas Hendricks',\n",
       " 'Levi Morton',\n",
       " 'Adlai Stevenson',\n",
       " 'Garret Hobart',\n",
       " 'Theodore Roosevelt',\n",
       " 'Charles Fairbanks',\n",
       " 'James Sherman',\n",
       " 'Thomas Marshall',\n",
       " 'Calvin Coolidge',\n",
       " 'Charles Dawes',\n",
       " 'Charles Curtis',\n",
       " 'John Garner',\n",
       " 'Henry Wallace',\n",
       " 'Harry Truman',\n",
       " 'Alben Barkley',\n",
       " 'Richard Nixon',\n",
       " 'Lyndon Johnson',\n",
       " 'Hubert Humphrey',\n",
       " 'Spiro Agnew',\n",
       " 'Gerald Ford',\n",
       " 'Nelson Rockefeller',\n",
       " 'Walter Mondale',\n",
       " 'George H. W. Bush',\n",
       " 'Dan Quayle',\n",
       " 'Al Gore',\n",
       " 'Dick Cheney',\n",
       " 'Joe Biden']"
      ]
     },
     "execution_count": 16,
     "metadata": {},
     "output_type": "execute_result"
    }
   ],
   "source": [
    "infile = open(\"VPres.txt\", 'r')\n",
    "a = [line.rstrip() for line in infile]\n",
    "infile.close()\n",
    "a"
   ]
  },
  {
   "cell_type": "code",
   "execution_count": 20,
   "metadata": {},
   "outputs": [],
   "source": [
    "# Ex.4\n",
    "\n",
    "def main():\n",
    "    vicePresList = createListFromFile(\"VPres.txt\")\n",
    "    createNewFile(vicePresList, \"USPres.txt\", \"Both.txt\")\n",
    "    \n",
    "def createListFromFile(fileName):\n",
    "    infile = open(fileName, 'r')\n",
    "    desiredList = [line.rstrip() for line in infile]\n",
    "    infile.close()\n",
    "    return desiredList\n",
    "\n",
    "def createNewFile(listName, oldFileName, newFileName):\n",
    "    infile = open(oldFileName, 'r')\n",
    "    outfile = open(newFileName, 'w')\n",
    "    for person in infile:\n",
    "        if person.rstrip() in listName:\n",
    "            outfile.write(person)\n",
    "    infile.close()\n",
    "    outfile.close()\n",
    "    \n",
    "main()"
   ]
  },
  {
   "cell_type": "code",
   "execution_count": 21,
   "metadata": {},
   "outputs": [
    {
     "data": {
      "text/plain": [
       "['John Adams',\n",
       " 'Thomas Jefferson',\n",
       " 'Martin Van Buren',\n",
       " 'Millard Fillmore',\n",
       " 'Andrew Johnson',\n",
       " 'Theodore Roosevelt',\n",
       " 'Calvin Coolidge']"
      ]
     },
     "execution_count": 21,
     "metadata": {},
     "output_type": "execute_result"
    }
   ],
   "source": [
    "infile = open(\"Both.txt\", 'r')\n",
    "a = [line.rstrip() for line in infile]\n",
    "infile.close()\n",
    "a"
   ]
  },
  {
   "cell_type": "markdown",
   "metadata": {},
   "source": [
    "### 3) Adding Lines to an Existing Text File\n",
    "- outfile = open(fileName, 'a')\n",
    "    - 파일 끝부분에 데이터를 추가하는 프로그램임.\n",
    "- writelines()와 write() 함수가 새로운 데이터를 추가하는데 사용될 수 있음.\n",
    "- 위 코드가 실행되면, 그 파일은 \"opened for append\"라고 함."
   ]
  },
  {
   "cell_type": "code",
   "execution_count": 1,
   "metadata": {},
   "outputs": [],
   "source": [
    "def main():\n",
    "    outfile = open(\"FirstPresidents.txt\", 'a')\n",
    "    list1 = [\"James Madison\\n\", \"James Monroe\\n\"]\n",
    "    outfile.writelines(list1)\n",
    "    outfile.write(\"John A. Adams\\n\")\n",
    "    outfile.close()\n",
    "    \n",
    "main()"
   ]
  },
  {
   "cell_type": "markdown",
   "metadata": {},
   "source": [
    "### 4) Altering Items in a Text File\n",
    "- 데이터 변경(altering), 삽입(inserting), 삭제(deleting)은 직접적으로 수행이 불가능함.\n",
    "    - 대신, 새로운 파일이 생성되어서 기존 파일을 읽어들인 후 변경사항을 기록함으로써 기존 파일의 데이터를 변경할 수 있음.\n",
    "    - 기존 파일은 삭제가 되고, 기존 파일의 이름을 변경함으로써 새로운 파일이 생성됨.\n",
    "- 이처럼 기존 파일을 삭제하고, 새로운 파일을 생성하기 위해서는 os 모듈을 불러와야 함. os 모듈은 프로그램 main() 함수 앞에 맨 위에 위치해야 함.\n",
    "    - os.remove(fileName)\n",
    "        - 특정파일을 삭제함.\n",
    "    - os.rename(oldFileName, newFileName)\n",
    "        - 기존 파일의 이름을 변경하면서 새로운 파일을 생성함.\n",
    "    - 위 두 함수(remove, rename)는 열린 파일에는 사용할 수 없음. 열린 파일에 사용시 에러 발생\n",
    "        - rename 함수의 두번째 인자인 newFileName은 기 존재하는 파일 이름을 사용하면 안됨.\n",
    "- os.path.isfile(fileName)\n",
    "    - fileName이라는 파일이 존재하면 True값을 반환함."
   ]
  },
  {
   "cell_type": "code",
   "execution_count": 2,
   "metadata": {},
   "outputs": [],
   "source": [
    "outfile = open(\"alphabet.txt\", 'w')\n",
    "outfile.write('a\\n')\n",
    "outfile.write('b\\n')\n",
    "outfile.write('c\\n')\n",
    "outfile.write('d\\n')\n",
    "outfile.close()\n"
   ]
  },
  {
   "cell_type": "code",
   "execution_count": 3,
   "metadata": {},
   "outputs": [],
   "source": [
    "import os\n",
    "\n",
    "os.remove(\"alphabet.txt\")\n",
    "\n",
    "outfile = open(\"alphabet.txt\", 'w')\n",
    "a = ['e\\n', 'f\\n', 'g\\n', 'h\\n']\n",
    "outfile.writelines(a)\n",
    "outfile.close()\n",
    "\n"
   ]
  },
  {
   "cell_type": "code",
   "execution_count": 4,
   "metadata": {},
   "outputs": [],
   "source": [
    "os.rename(\"alphabet.txt\", \"alphabet1.txt\")"
   ]
  },
  {
   "cell_type": "code",
   "execution_count": 5,
   "metadata": {},
   "outputs": [
    {
     "data": {
      "text/plain": [
       "False"
      ]
     },
     "execution_count": 5,
     "metadata": {},
     "output_type": "execute_result"
    }
   ],
   "source": [
    "os.path.isfile(\"alphabet.txt\")"
   ]
  },
  {
   "cell_type": "markdown",
   "metadata": {},
   "source": [
    "### 5) 세트(Sets)"
   ]
  },
  {
   "cell_type": "markdown",
   "metadata": {},
   "source": [
    "- 리스트가 반복이 가능하고 정렬된 항목들의 집합이라면, 세트는 반복이 불가능하고 정렬되지 않은 항목들(원소(elements)들이라고도 함.)의 집합임.\n",
    "- 리스트는 항목들을 [](square bracket)로 감싸는 반면, 세트는 {}(braces)로 감싸는 데이터 형태임.\n",
    "- 세트는 숫자(numbers), 문자열(strings), 튜플(tuples), boolean값들을 포함할 수 있음.\n",
    "- 세트 예: {\"spam\", \"ni\"}, {3,4,7}, {True, 7, \"eleven\"}, {'a', 'b', (3,4)}\n",
    "- 리스트, 튜플에 적용되는 방법들(in, len, max, min, sum and writelines, for loop 등)이 세트에도 적용가능함.\n",
    "- 리스트와 세트의 가장 큰 차이점은 세트에는 어떠한 값도 두 번 나타낼 수 없다는 것이고, 세트 안에 있는 원소들은 순서의 개념이 없다는 것임.\n",
    "    - 인덱싱, 슬라이싱, sort(), reverse()와 같이 순서와 관련된 기능은 세트에서는 의미가 없음.\n",
    "- set 함수가 리스트에 적용되면, 복수의 항목들은 세트에 한 번만 나타나게 됨."
   ]
  },
  {
   "cell_type": "code",
   "execution_count": 7,
   "metadata": {},
   "outputs": [
    {
     "data": {
      "text/plain": [
       "{'eggs', 'ni', 'spam'}"
      ]
     },
     "execution_count": 7,
     "metadata": {},
     "output_type": "execute_result"
    }
   ],
   "source": [
    "words = {\"spam\", \"ni\"}\n",
    "\n",
    "# 세트에 항목(원소)을 추가\n",
    "words.add(\"eggs\")\n",
    "words"
   ]
  },
  {
   "cell_type": "code",
   "execution_count": 9,
   "metadata": {},
   "outputs": [
    {
     "data": {
      "text/plain": [
       "{'eggs', 'spam'}"
      ]
     },
     "execution_count": 9,
     "metadata": {},
     "output_type": "execute_result"
    }
   ],
   "source": [
    "# 특정 항목을 삭제\n",
    "words.discard(\"ni\")\n",
    "words"
   ]
  },
  {
   "cell_type": "code",
   "execution_count": 13,
   "metadata": {},
   "outputs": [
    {
     "data": {
      "text/plain": [
       "{'eggs', 'spam'}"
      ]
     },
     "execution_count": 13,
     "metadata": {},
     "output_type": "execute_result"
    }
   ],
   "source": [
    "words"
   ]
  },
  {
   "cell_type": "code",
   "execution_count": 10,
   "metadata": {},
   "outputs": [
    {
     "data": {
      "text/plain": [
       "set()"
      ]
     },
     "execution_count": 10,
     "metadata": {},
     "output_type": "execute_result"
    }
   ],
   "source": [
    "words.clear()\n",
    "words"
   ]
  },
  {
   "cell_type": "code",
   "execution_count": 15,
   "metadata": {},
   "outputs": [
    {
     "data": {
      "text/plain": [
       "{3, 7}"
      ]
     },
     "execution_count": 15,
     "metadata": {},
     "output_type": "execute_result"
    }
   ],
   "source": [
    "# 리스트를 세트로 변환\n",
    "set([3,7,3])"
   ]
  },
  {
   "cell_type": "code",
   "execution_count": 17,
   "metadata": {},
   "outputs": [
    {
     "data": {
      "text/plain": [
       "{3, 7}"
      ]
     },
     "execution_count": 17,
     "metadata": {},
     "output_type": "execute_result"
    }
   ],
   "source": [
    "# 튜플을 세트로 변환\n",
    "set((3,7,3))"
   ]
  },
  {
   "cell_type": "code",
   "execution_count": 11,
   "metadata": {},
   "outputs": [
    {
     "name": "stdout",
     "output_type": "stream",
     "text": [
      "{'wink', 'nudge'}\n",
      "['wink', 'nudge']\n",
      "{'wink', 'maybe', 'nudge'}\n",
      "{'wink', 'maybe'}\n",
      "('wink', 'maybe')\n"
     ]
    }
   ],
   "source": [
    "# Ex.6\n",
    "\n",
    "def main():\n",
    "    words = [\"nudge\", \"nudge\", \"wink\", \"wink\"]\n",
    "    terms = set(words)\n",
    "    print(terms)\n",
    "    words = list(terms)\n",
    "    print(words)\n",
    "    \n",
    "    terms.add(\"nudge\")\n",
    "    terms.add(\"maybe\")\n",
    "    print(terms)\n",
    "    \n",
    "    terms.discard(\"nudge\")\n",
    "    print(terms)\n",
    "    \n",
    "    words = tuple(terms)\n",
    "    print(words)\n",
    "    \n",
    "main()"
   ]
  },
  {
   "cell_type": "markdown",
   "metadata": {},
   "source": [
    "### 6) Set Comprehension"
   ]
  },
  {
   "cell_type": "markdown",
   "metadata": {},
   "source": [
    "- 세트도 리스트와 마찬가지로 다음과 같이 쉽게 생성할 수 있음.\n",
    "    - {x*x for x in range(-3, 3)}"
   ]
  },
  {
   "cell_type": "code",
   "execution_count": 20,
   "metadata": {},
   "outputs": [
    {
     "data": {
      "text/plain": [
       "{0, 1, 4, 9}"
      ]
     },
     "execution_count": 20,
     "metadata": {},
     "output_type": "execute_result"
    }
   ],
   "source": [
    "{x*x for x in range(-3, 3)} # -3, -2, -1, 0, 1, 2"
   ]
  },
  {
   "cell_type": "code",
   "execution_count": 13,
   "metadata": {},
   "outputs": [
    {
     "data": {
      "text/plain": [
       "{36, 49, 64, 81}"
      ]
     },
     "execution_count": 13,
     "metadata": {},
     "output_type": "execute_result"
    }
   ],
   "source": [
    "{x**2 for x in range(1, 10) if x > 5}"
   ]
  },
  {
   "cell_type": "markdown",
   "metadata": {},
   "source": [
    "### 7) Set-Theoretic Methods(세트 이론에 기반한 방법)\n",
    "- 두 개의 세트로부터 새로운 세트를 만드는 방법이 있음. \n",
    "- set1.union(set2): set1 혹은 set2에 있는 원소들로 이루어진 세트, 단 원소들의 반복은 허용하지 않음.(합집합)\n",
    "- set1.intersection(set2): set1과 set2에 모두 존재하는 원소들로 이루어진 세트(교집합)\n",
    "- set1.difference(set2): set1의 원소에서 set2의 원소를 뺀 원소들로 이루어진 세트(차집합)"
   ]
  },
  {
   "cell_type": "code",
   "execution_count": 14,
   "metadata": {},
   "outputs": [],
   "source": [
    "outfile = open(\"File1.txt\", 'w')\n",
    "outfile.write('Alpha\\n')\n",
    "outfile.write('Bravo\\n')\n",
    "outfile.write('Charlie\\n')\n",
    "outfile.close()\n",
    "\n",
    "outfile = open(\"File2.txt\", 'w')\n",
    "outfile.write('Bravo\\n')\n",
    "outfile.write('Delta\\n')\n",
    "outfile.close()"
   ]
  },
  {
   "cell_type": "code",
   "execution_count": 15,
   "metadata": {},
   "outputs": [],
   "source": [
    "# Ex.7\n",
    "\n",
    "def main():\n",
    "    infile = open(\"File1.txt\", 'r')\n",
    "    firstSet = {line.rstrip() + \"\\n\" for line in infile}\n",
    "    infile.close()\n",
    "    infile = open(\"File2.txt\", 'r')\n",
    "    secondSet = {line.rstrip() + \"\\n\" for line in infile}\n",
    "    infile.close()\n",
    "    \n",
    "    outfile = open(\"Union.txt\", 'w')\n",
    "    outfile.writelines(firstSet.union(secondSet))\n",
    "    outfile.close()\n",
    "    outfile = open(\"Intersection.txt\", 'w')\n",
    "    outfile.writelines(firstSet.intersection(secondSet))\n",
    "    outfile.close()\n",
    "    outfile = open(\"Difference.txt\", 'w')\n",
    "    outfile.writelines(firstSet.difference(secondSet))\n",
    "    outfile.close()\n",
    "    \n",
    "main()"
   ]
  },
  {
   "cell_type": "code",
   "execution_count": 16,
   "metadata": {},
   "outputs": [],
   "source": [
    "# Ex.8\n",
    "\n",
    "def main():\n",
    "    \n",
    "    vicePresSet = createSetFromFile(\"VPres.txt\")\n",
    "    presSet = createSetFromFile(\"USPres.txt\")\n",
    "    bothPresAndVPresSet = createIntersection(vicePresSet, presSet)\n",
    "    writeNameToFile(bothPresAndVPresSet, \"PresAndVPres.txt\")\n",
    "    \n",
    "def createSetFromFile(fileName):\n",
    "    infile = open(fileName, 'r')\n",
    "    namesSet = {name for name in infile}\n",
    "    infile.close()\n",
    "    return namesSet\n",
    "\n",
    "def createIntersection(set1, set2):\n",
    "    return set1.intersection(set2)\n",
    "\n",
    "def writeNameToFile(setName, fileName):\n",
    "    outfile = open(fileName, 'w')\n",
    "    outfile.writelines(setName)\n",
    "    outfile.close()\n",
    "    \n",
    "main()"
   ]
  },
  {
   "cell_type": "code",
   "execution_count": 17,
   "metadata": {},
   "outputs": [],
   "source": [
    "infile = open(\"PresAndVpres.txt\", 'r')\n",
    "namesSet = {name.rstrip() for name in infile}"
   ]
  },
  {
   "cell_type": "code",
   "execution_count": 18,
   "metadata": {
    "scrolled": true
   },
   "outputs": [
    {
     "data": {
      "text/plain": [
       "{'Andrew Johnson',\n",
       " 'Calvin Coolidge',\n",
       " 'John Adams',\n",
       " 'Martin Van Buren',\n",
       " 'Millard Fillmore',\n",
       " 'Theodore Roosevelt',\n",
       " 'Thomas Jefferson'}"
      ]
     },
     "execution_count": 18,
     "metadata": {},
     "output_type": "execute_result"
    }
   ],
   "source": [
    "namesSet"
   ]
  }
 ],
 "metadata": {
  "kernelspec": {
   "display_name": "Python 3",
   "language": "python",
   "name": "python3"
  },
  "language_info": {
   "codemirror_mode": {
    "name": "ipython",
    "version": 3
   },
   "file_extension": ".py",
   "mimetype": "text/x-python",
   "name": "python",
   "nbconvert_exporter": "python",
   "pygments_lexer": "ipython3",
   "version": "3.7.7"
  }
 },
 "nbformat": 4,
 "nbformat_minor": 4
}
