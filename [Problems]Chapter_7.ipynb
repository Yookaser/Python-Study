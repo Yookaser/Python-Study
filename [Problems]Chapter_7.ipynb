{
 "cells": [
  {
   "cell_type": "code",
   "execution_count": 61,
   "metadata": {},
   "outputs": [
    {
     "name": "stdout",
     "output_type": "stream",
     "text": [
      "Keep cool, but don't freeze.\n",
      "Source: A jar of mayonnaise.\n"
     ]
    }
   ],
   "source": [
    "#2\n",
    "\n",
    "def main():\n",
    "    advice()\n",
    "    \n",
    "def advice():\n",
    "    print(\"Keep cool, but don't freeze.\")\n",
    "    source()\n",
    "    \n",
    "def source():\n",
    "    print(\"Source: A jar of mayonnaise.\")\n",
    "    \n",
    "main()"
   ]
  },
  {
   "cell_type": "code",
   "execution_count": 1,
   "metadata": {},
   "outputs": [
    {
     "name": "stdout",
     "output_type": "stream",
     "text": [
      "Enter your numeric grade: 92\n",
      "You passed with a grade of 92.\n"
     ]
    }
   ],
   "source": [
    "# 4\n",
    "\n",
    "def main():\n",
    "    grade = int(input(\"Enter your numeric grade: \"))\n",
    "    showResult(grade)\n",
    "    \n",
    "def showResult(grade):\n",
    "    if passedExam(grade):\n",
    "        print(\"You passed with a grade of\", str(grade) + '.')\n",
    "    else:\n",
    "        print(\"You failed the exam.\")\n",
    "        \n",
    "def passedExam(grade):\n",
    "    if grade >= 60:\n",
    "        return True\n",
    "    else:\n",
    "        return False\n",
    "    \n",
    "main()"
   ]
  },
  {
   "cell_type": "code",
   "execution_count": 3,
   "metadata": {},
   "outputs": [
    {
     "name": "stdout",
     "output_type": "stream",
     "text": [
      "Enter a name: Fred\n",
      "Enter a year of birth: 1995\n",
      "Fred will be 35 years old in 2030.\n"
     ]
    }
   ],
   "source": [
    "# 6\n",
    "\n",
    "def main():\n",
    "    n, yob = getNameAndYOB()\n",
    "    print(n, \"will be\", 2030 - yob, \"years old in 2030.\")\n",
    "    \n",
    "def getNameAndYOB():\n",
    "    name = input(\"Enter a name: \")\n",
    "    yearOfBirth = int(input(\"Enter a year of birth: \"))\n",
    "    return name, yearOfBirth\n",
    "\n",
    "main()"
   ]
  },
  {
   "cell_type": "code",
   "execution_count": 65,
   "metadata": {},
   "outputs": [
    {
     "name": "stdout",
     "output_type": "stream",
     "text": [
      "['pear', 'apple', 'Banana']\n",
      "['Banana', 'apple', 'pear']\n"
     ]
    }
   ],
   "source": [
    "# 8\n",
    "\n",
    "list1 = [\"pear\", \"Banana\", \"apple\"]\n",
    "list1.sort(reverse = True) # 내림차순\n",
    "print(list1)\n",
    "list1.sort(key = lambda x: len(x), reverse=True) # 내림차순\n",
    "print(list1)"
   ]
  },
  {
   "cell_type": "code",
   "execution_count": 72,
   "metadata": {},
   "outputs": [
    {
     "name": "stdout",
     "output_type": "stream",
     "text": [
      "['wink']\n",
      "['wink', 'wink']\n",
      "['wink', 'wink', 'wink']\n"
     ]
    }
   ],
   "source": [
    "# 10\n",
    "\n",
    "def main():\n",
    "    for i in range(3):\n",
    "        print(func())\n",
    "def func(x=[]):\n",
    "    x.append(\"wink\")\n",
    "    return x\n",
    "\n",
    "main()"
   ]
  },
  {
   "cell_type": "code",
   "execution_count": null,
   "metadata": {},
   "outputs": [],
   "source": [
    "def main():\n",
    "    print(func())\n",
    "    print(func())\n",
    "    print(func())"
   ]
  },
  {
   "cell_type": "code",
   "execution_count": 4,
   "metadata": {},
   "outputs": [
    {
     "name": "stdout",
     "output_type": "stream",
     "text": [
      "Enter first integer: 4\n",
      "Enter second integer: 25\n",
      "Sum: 29\n",
      "Product: 100\n"
     ]
    }
   ],
   "source": [
    "# 12\n",
    "\n",
    "def main():\n",
    "    x, y = getTwoIntegers()\n",
    "    x, y = calculateSumAndProduct(x, y)\n",
    "    displaySumAndProduct(x, y)\n",
    "    \n",
    "def getTwoIntegers():\n",
    "    a = int(input(\"Enter first integer: \"))\n",
    "    b = int(input(\"Enter second integer: \"))\n",
    "    return a, b\n",
    "\n",
    "def calculateSumAndProduct(x, y):\n",
    "    return x + y, x * y\n",
    "\n",
    "def displaySumAndProduct(x, y):\n",
    "    print(\"Sum\" + \":\", x)\n",
    "    print(\"Product\" + \":\", y)\n",
    "    \n",
    "main()"
   ]
  },
  {
   "cell_type": "code",
   "execution_count": 77,
   "metadata": {},
   "outputs": [
    {
     "name": "stdout",
     "output_type": "stream",
     "text": [
      "Johann Sebastian Bach\n",
      "Franz Joseph Haydn\n",
      "Wolfgang Amadeus Mozart\n",
      "Ralph Vaughan Williams\n"
     ]
    }
   ],
   "source": [
    "# 14\n",
    "\n",
    "def main():\n",
    "    composers = [\"Johann Sebastian Bach\", \"Wolfgang Amadeus Mozart\",\n",
    "                \"Franz Joseph Haydn\", \"Ralph Vaughan Williams\"]\n",
    "    composers.sort(key = lengthOfLastName) # 오름차순\n",
    "    for composer in composers:\n",
    "        print(composer)\n",
    "        \n",
    "def lengthOfLastName(composer):\n",
    "    comList = composer.split()\n",
    "    return len(comList[-1])\n",
    "\n",
    "main()"
   ]
  },
  {
   "cell_type": "code",
   "execution_count": 78,
   "metadata": {},
   "outputs": [
    {
     "name": "stdout",
     "output_type": "stream",
     "text": [
      "['e', 'unum', 'pluribus']\n"
     ]
    }
   ],
   "source": [
    "# 16\n",
    "\n",
    "def main():\n",
    "    list1 = [\"e\", \"pluribus\", \"unum\"]\n",
    "    list2 = sorted(list1, key = numberOfVowels)\n",
    "    print(list2)\n",
    "    \n",
    "def numberOfVowels(word):\n",
    "    return len([ch for ch in word if (ch in \"aeiou\")])\n",
    "\n",
    "main()"
   ]
  },
  {
   "cell_type": "code",
   "execution_count": 5,
   "metadata": {},
   "outputs": [
    {
     "name": "stdout",
     "output_type": "stream",
     "text": [
      "C  C++  Java  PHP  Python  Ruby  VB  "
     ]
    }
   ],
   "source": [
    "# 18\n",
    "\n",
    "popularLanguages = [\"Python\", \"Java\", \"C\", \"C++\", \"Ruby\", \"VB\", \"PHP\"]\n",
    "for item in sorted(popularLanguages):\n",
    "    print(item, end = \"  \")"
   ]
  },
  {
   "cell_type": "code",
   "execution_count": 80,
   "metadata": {},
   "outputs": [
    {
     "name": "stdout",
     "output_type": "stream",
     "text": [
      "C  VB  C++  PHP  Java  Ruby  Python  "
     ]
    }
   ],
   "source": [
    "# 20\n",
    "\n",
    "popularLanguages = [\"Python\", \"Java\", \"C\", \"C++\", \"Ruby\", \"VB\", \"PHP\"]\n",
    "for item in sorted(popularLanguages, key = len):\n",
    "    print(item, end = \"  \")"
   ]
  },
  {
   "cell_type": "code",
   "execution_count": 81,
   "metadata": {},
   "outputs": [
    {
     "name": "stdout",
     "output_type": "stream",
     "text": [
      "-2  -3  4  5  6  "
     ]
    }
   ],
   "source": [
    "# 22\n",
    "\n",
    "numbers = [4, 6, -2, -3, 5]\n",
    "\n",
    "for num in sorted(numbers, key = abs):\n",
    "    print(num, end = \"  \")"
   ]
  },
  {
   "cell_type": "code",
   "execution_count": 82,
   "metadata": {},
   "outputs": [
    {
     "name": "stdout",
     "output_type": "stream",
     "text": [
      "VB  Python  Ruby  "
     ]
    }
   ],
   "source": [
    "# 24\n",
    "\n",
    "popLanguages = [\"Python\", \"Java\", \"C\", \"C++\", \"Ruby\", \"VB\", \"PHP\"]\n",
    "\n",
    "sentence = \"I Program in VB, Python, and Ruby.\"\n",
    "\n",
    "list1 = sentence.split()\n",
    "\n",
    "myLanguages = [word[:-1] for word in list1 if word[:-1] in popLanguages]\n",
    "for language in myLanguages:\n",
    "    print(language, end = \"  \")"
   ]
  },
  {
   "cell_type": "code",
   "execution_count": 83,
   "metadata": {},
   "outputs": [
    {
     "data": {
      "text/plain": [
       "['I', 'Program', 'in', 'VB,', 'Python,', 'and', 'Ruby.']"
      ]
     },
     "execution_count": 83,
     "metadata": {},
     "output_type": "execute_result"
    }
   ],
   "source": [
    "list1"
   ]
  },
  {
   "cell_type": "code",
   "execution_count": 85,
   "metadata": {},
   "outputs": [
    {
     "data": {
      "text/plain": [
       "['Democratic', 'Sequoia', 'Equals', 'Brrr', 'Break', 'Two']"
      ]
     },
     "execution_count": 85,
     "metadata": {},
     "output_type": "execute_result"
    }
   ],
   "source": [
    "# 26\n",
    "\n",
    "list1 = [\"democratic\", \"sequoia\", \"equals\", \"brrr\", \"break\", \"two\"]\n",
    "\n",
    "list2 = [word.capitalize() for word in list1]\n",
    "list2"
   ]
  },
  {
   "cell_type": "code",
   "execution_count": 87,
   "metadata": {},
   "outputs": [
    {
     "data": {
      "text/plain": [
       "['democratic', 'sequoia']"
      ]
     },
     "execution_count": 87,
     "metadata": {},
     "output_type": "execute_result"
    }
   ],
   "source": [
    "# 28\n",
    "\n",
    "list1 = [\"democratic\", \"sequoia\", \"equals\", \"brrr\", \"break\", \"two\"]\n",
    "\n",
    "def numberOfVowels(word):\n",
    "    return len([ch for ch in word if (ch in \"aeiou\")])\n",
    "\n",
    "list2 = [word for word in list1 if numberOfVowels(word) > 3]\n",
    "list2"
   ]
  },
  {
   "cell_type": "code",
   "execution_count": 88,
   "metadata": {},
   "outputs": [
    {
     "data": {
      "text/plain": [
       "['se', 'br', 'tw']"
      ]
     },
     "execution_count": 88,
     "metadata": {},
     "output_type": "execute_result"
    }
   ],
   "source": [
    "# 30\n",
    "list1 = [\"democratic\", \"sequoia\", \"equals\", \"brrr\", \"break\", \"two\"]\n",
    "list2 = [x[0:2] for x in list1 if len(x) % 2 == 1]\n",
    "list2"
   ]
  },
  {
   "cell_type": "code",
   "execution_count": 89,
   "metadata": {},
   "outputs": [
    {
     "name": "stdout",
     "output_type": "stream",
     "text": [
      "[3.0, 2.0, 1.0]\n"
     ]
    }
   ],
   "source": [
    "# 32\n",
    "\n",
    "numbers = [9, -5, 4, 1, -7]\n",
    "newList = []\n",
    "\n",
    "for num in numbers:\n",
    "    if num >= 0:\n",
    "        newList.append(num**.5)\n",
    "print(newList)"
   ]
  },
  {
   "cell_type": "code",
   "execution_count": 90,
   "metadata": {},
   "outputs": [
    {
     "name": "stdout",
     "output_type": "stream",
     "text": [
      "[3.0, 2.0, 1.0]\n"
     ]
    }
   ],
   "source": [
    "numbers = [9, -5, 4, 1, -7]\n",
    "newList = [num**.5 for num in numbers if num >= 0]\n",
    "print(newList)"
   ]
  },
  {
   "cell_type": "code",
   "execution_count": 6,
   "metadata": {},
   "outputs": [
    {
     "name": "stdout",
     "output_type": "stream",
     "text": [
      "['Afghanistan', 'Albania', 'Algeria', 'Andorra', 'Angola', 'Antigua & Deps', 'Argentina', 'Armenia', 'Australia', 'Austria', 'Azerbaijan', 'Bahamas', 'Bahrain', 'Bangladesh', 'Barbados', 'Belarus', 'Belgium', 'Belize', 'Benin', 'Bhutan', 'Bolivia', 'Bosnia Herzegovina', 'Botswana', 'Brazil', 'Brunei', 'Bulgaria', 'Burkina', 'Burma', 'Burundi', 'Cambodia', 'Cameroon', 'Canada', 'Cape Verde', 'Central African Rep', 'Chad', 'Chile', 'China', 'Colombia', 'Comoros', 'Congo', 'Congo', 'Costa Rica', 'Croatia', 'Cuba', 'Cyprus', 'Czech Republic', 'Denmark', 'Djibouti', 'Dominica', 'Dominican Republic', 'East Timor', 'Ecuador', 'Egypt', 'El Salvador', 'Equatorial Guinea', 'Eritrea', 'Estonia', 'Ethiopia', 'Fiji', 'Finland', 'France', 'Gabon', 'Gambia', 'Georgia', 'Germany', 'Ghana', 'Greece', 'Grenada', 'Guatemala', 'Guinea', 'Guinea-Bissau', 'Guyana', 'Haiti', 'Honduras', 'Hungary', 'Iceland', 'India', 'Indonesia', 'Iran', 'Iraq', 'Ireland', 'Israel', 'Italy', 'Ivory Coast', 'Jamaica', 'Japan', 'Jordan', 'Kazakhstan', 'Kenya', 'Kiribati', 'Korea North', 'Korea South', 'Kosovo', 'Kuwait', 'Kyrgyzstan', 'Laos', 'Latvia', 'Lebanon', 'Lesotho', 'Liberia', 'Libya', 'Liechtenstein', 'Lithuania', 'Luxembourg', 'Macedonia', 'Madagascar', 'Malawi', 'Malaysia', 'Maldives', 'Mali', 'Malta', 'Marshall Islands', 'Mauritania', 'Mauritius', 'Mexico', 'Micronesia', 'Moldova', 'Monaco', 'Mongolia', 'Montenegro', 'Morocco', 'Mozambique', 'Myanmar', 'Namibia', 'Nauru', 'Nepal', 'Netherlands', 'New Zealand', 'Nicaragua', 'Niger', 'Nigeria', 'Norway', 'Oman', 'Pakistan', 'Palau', 'Panama', 'Papua New Guinea', 'Paraguay', 'Peru', 'Philippines', 'Poland', 'Portugal', 'Qatar', 'Romania', 'Russian Federation', 'Rwanda', 'Saint Vincent & the Grenadines', 'Samoa', 'San Marino', 'Sao Tome & Principe', 'Saudi Arabia', 'Senegal', 'Serbia', 'Seychelles', 'Sierra Leone', 'Singapore', 'Slovakia', 'Slovenia', 'Solomon Islands', 'Somalia', 'South Africa', 'South Sudan', 'Spain', 'Sri Lanka', 'St Kitts & Nevis', 'St Lucia', 'Sudan', 'Suriname', 'Swaziland', 'Sweden', 'Switzerland', 'Syria', 'Taiwan', 'Tajikistan', 'Tanzania', 'Thailand', 'Togo', 'Tonga', 'Trinidad & Tobago', 'Tunisia', 'Turkey', 'Turkmenistan', 'Tuvalu', 'Uganda', 'Ukraine', 'United Arab Emirates', 'United Kingdom', 'United States', 'Uruguay', 'Uzbekistan', 'Vanuatu', 'Vatican City', 'Venezuela', 'Vietnam', 'Yemen', 'Zambia', 'Zimbabwe']\n"
     ]
    }
   ],
   "source": [
    "# 34\n",
    "\n",
    "infile = open(\"Countries.txt\", 'r')\n",
    "print(sorted([line.rstrip() for line in infile]))\n",
    "infile.close()"
   ]
  },
  {
   "cell_type": "code",
   "execution_count": 4,
   "metadata": {},
   "outputs": [
    {
     "name": "stdout",
     "output_type": "stream",
     "text": [
      "['Angola', 'Belize', 'Bhutan', 'Brazil', 'Brunei', 'Canada', 'Cyprus', 'France', 'Gambia', 'Greece', 'Guinea', 'Guyana', 'Israel', 'Jordan', 'Kosovo', 'Kuwait', 'Latvia', 'Malawi', 'Mexico', 'Monaco', 'Norway', 'Panama', 'Poland', 'Rwanda', 'Serbia', 'Sweden', 'Taiwan', 'Turkey', 'Tuvalu', 'Uganda', 'Zambia']\n"
     ]
    }
   ],
   "source": [
    "# 36\n",
    "\n",
    "infile = open(\"Countries.txt\", 'r')\n",
    "print([line.rstrip() for line in infile if len(line.rstrip()) == 6])"
   ]
  },
  {
   "cell_type": "code",
   "execution_count": 97,
   "metadata": {},
   "outputs": [
    {
     "name": "stdout",
     "output_type": "stream",
     "text": [
      "sponge\n"
     ]
    }
   ],
   "source": [
    "# 48\n",
    "\n",
    "print(\"\".join(sorted(\"pengos\", reverse=True)))"
   ]
  },
  {
   "cell_type": "code",
   "execution_count": 99,
   "metadata": {},
   "outputs": [
    {
     "data": {
      "text/plain": [
       "['s', 'p', 'o', 'n', 'g', 'e']"
      ]
     },
     "execution_count": 99,
     "metadata": {},
     "output_type": "execute_result"
    }
   ],
   "source": [
    "sorted(\"pengos\", reverse=True)"
   ]
  },
  {
   "cell_type": "code",
   "execution_count": 7,
   "metadata": {},
   "outputs": [
    {
     "name": "stdout",
     "output_type": "stream",
     "text": [
      "Enter grade on midterm: 88\n",
      "Enter grade on final exam: 91\n",
      "Semester Grade: A\n"
     ]
    }
   ],
   "source": [
    "# 50\n",
    "\n",
    "\n",
    "def main():\n",
    "    grade = semesterGrade()\n",
    "    print(\"Semester Grade: {}\".format(grade))\n",
    "\n",
    "def semesterGrade():\n",
    "    midtermScore = eval(input(\"Enter grade on midterm: \"))\n",
    "    finaltermScore = eval(input(\"Enter grade on final exam: \"))\n",
    "    totalScore = (midtermScore + 2*finaltermScore) / 3\n",
    "    totalScore = ceil(totalScore)\n",
    "    grade = \"\"\n",
    "    if totalScore >= 90:\n",
    "        grade = 'A'\n",
    "    elif totalScore >= 80:\n",
    "        grade = 'B'\n",
    "    elif totalScore >= 70:\n",
    "        grade = 'C'\n",
    "    elif totalScore >= 60:\n",
    "        grade = 'D'\n",
    "    else:\n",
    "        grade = 'F'\n",
    "    return grade\n",
    "\n",
    "def ceil(score):\n",
    "    ceilScore = int(score) + 1\n",
    "    return ceilScore\n",
    "\n",
    "main()"
   ]
  },
  {
   "cell_type": "code",
   "execution_count": 12,
   "metadata": {},
   "outputs": [
    {
     "name": "stdout",
     "output_type": "stream",
     "text": [
      "Enter grade 1: 90\n",
      "Enter grade 2: 75\n",
      "Enter grade 3: 85\n",
      "Enter grade 4: 72\n",
      "Enter grade 5: 80\n"
     ]
    }
   ],
   "source": [
    "dropTwoGrades()"
   ]
  },
  {
   "cell_type": "code",
   "execution_count": 8,
   "metadata": {},
   "outputs": [
    {
     "name": "stdout",
     "output_type": "stream",
     "text": [
      "Enter grade 1: 90\n",
      "Enter grade 2: 75\n",
      "Enter grade 3: 85\n",
      "Enter grade 4: 72\n",
      "Enter grade 5: 80\n",
      "Range: 10\n",
      "Average: 85\n"
     ]
    }
   ],
   "source": [
    "# 52\n",
    "\n",
    "def main():\n",
    "    list1 = dropTwoGrades()\n",
    "    (ran, ave) = displayRanAve(list1)\n",
    "    print(\"Range: {}\".format(ran))\n",
    "    print(\"Average: {0:.0f}\".format(ave))\n",
    "\n",
    "def dropTwoGrades():\n",
    "    listGrade = []\n",
    "    for i in range(1, 6):\n",
    "        grade = eval(input(\"Enter grade \" + str(i) + \": \"))\n",
    "        listGrade.append(grade)    \n",
    "    listGrade.remove(min(listGrade))\n",
    "    listGrade.remove(min(listGrade))\n",
    "    return listGrade\n",
    "\n",
    "def displayRanAve(list1):\n",
    "    rangeGrade = max(list1) - min(list1)\n",
    "    aveGrade = sum(list1) / len(list1)\n",
    "    return (rangeGrade, aveGrade)\n",
    "\n",
    "main()"
   ]
  },
  {
   "cell_type": "code",
   "execution_count": 13,
   "metadata": {},
   "outputs": [],
   "source": [
    "Planets = [(\"Mercury\", 75, 1), (\"Venus\", 460, 2), (\"Mars\", 140, 4), (\"Earth\", 510, 3), \n",
    "           (\"Jupiter\", 62000, 5), (\"Neptune\", 7640, 8), (\"Saturn\", 42700, 6), (\"Uranus\", 8100, 7)]"
   ]
  },
  {
   "cell_type": "code",
   "execution_count": 6,
   "metadata": {},
   "outputs": [
    {
     "name": "stdout",
     "output_type": "stream",
     "text": [
      "Sorted by position from Sun in descending order: \n",
      "Jupiter  Saturn  Uranus  Neptune  Earth  Venus  Mars  Mercury  "
     ]
    }
   ],
   "source": [
    "# 54\n",
    "\n",
    "Planets = [(\"Mercury\", 75, 1), (\"Venus\", 460, 2), (\"Mars\", 140, 4), (\"Earth\", 510, 3), \n",
    "           (\"Jupiter\", 62000, 5), (\"Neptune\", 7640, 8), (\"Saturn\", 42700, 6), (\"Uranus\", 8100, 7)]\n",
    "\n",
    "def main():\n",
    "    Planets.sort(key = lambda planet: planet[1], reverse = True) # descending order\n",
    "    print(\"Sorted by position from Sun in descending order: \")\n",
    "    for planet in Planets:\n",
    "        print(planet[0], end = \"  \")\n",
    "\n",
    "main()"
   ]
  },
  {
   "cell_type": "code",
   "execution_count": 15,
   "metadata": {},
   "outputs": [
    {
     "name": "stdout",
     "output_type": "stream",
     "text": [
      "Sorted by position from Sun in descending order: \n",
      "Neptune  Uranus  Saturn  Jupiter  Mars  Earth  Venus  Mercury  "
     ]
    }
   ],
   "source": [
    "# 55\n",
    "\n",
    "Planets = [(\"Mercury\", 75, 1), (\"Venus\", 460, 2), (\"Mars\", 140, 4), (\"Earth\", 510, 3), \n",
    "           (\"Jupiter\", 62000, 5), (\"Neptune\", 7640, 8), (\"Saturn\", 42700, 6), (\"Uranus\", 8100, 7)]\n",
    "\n",
    "def main():\n",
    "    Planets.sort(key = lambda planet: planet[2], reverse = True) # descending order\n",
    "    print(\"Sorted by position from Sun in descending order: \")\n",
    "    for planet in Planets:\n",
    "        print(planet[0], end = \"  \")\n",
    "main()"
   ]
  },
  {
   "cell_type": "code",
   "execution_count": 17,
   "metadata": {},
   "outputs": [
    {
     "name": "stdout",
     "output_type": "stream",
     "text": [
      "Sorted by length of name of planet in ascending order: \n",
      "Mars  Venus  Earth  Saturn  Uranus  Mercury  Jupiter  Neptune  "
     ]
    }
   ],
   "source": [
    "# 56\n",
    "\n",
    "Planets = [(\"Mercury\", 75, 1), (\"Venus\", 460, 2), (\"Mars\", 140, 4), (\"Earth\", 510, 3), \n",
    "           (\"Jupiter\", 62000, 5), (\"Neptune\", 7640, 8), (\"Saturn\", 42700, 6), (\"Uranus\", 8100, 7)]\n",
    "\n",
    "def main():\n",
    "    Planets.sort(key = lambda planet: len(planet[0]), reverse = False)\n",
    "    print(\"Sorted by length of name of planet in ascending order: \")\n",
    "    for planet in Planets:\n",
    "        print(planet[0], end = \"  \")\n",
    "main()"
   ]
  },
  {
   "cell_type": "code",
   "execution_count": 18,
   "metadata": {},
   "outputs": [
    {
     "name": "stdout",
     "output_type": "stream",
     "text": [
      "Sorted by number of vowels in name in ascending order: \n",
      "Mars  Mercury  Venus  Earth  Saturn  Jupiter  Neptune  Uranus  "
     ]
    }
   ],
   "source": [
    "# 57\n",
    "\n",
    "Planets = [(\"Mercury\", 75, 1), (\"Venus\", 460, 2), (\"Mars\", 140, 4), (\"Earth\", 510, 3), \n",
    "           (\"Jupiter\", 62000, 5), (\"Neptune\", 7640, 8), (\"Saturn\", 42700, 6), (\"Uranus\", 8100, 7)]\n",
    "\n",
    "def main():\n",
    "    Planets.sort(key = numberOfVowels)\n",
    "    print(\"Sorted by number of vowels in name in ascending order: \")\n",
    "    for planet in Planets:\n",
    "        print(planet[0], end = \"  \")\n",
    "\n",
    "def numberOfVowels(planet):\n",
    "    vowels = ('a', 'e', 'i', 'o', 'u')\n",
    "    total = 0\n",
    "    for vowel in vowels:\n",
    "        total += planet[0].lower().count(vowel)\n",
    "    return total        \n",
    "        \n",
    "main()"
   ]
  },
  {
   "cell_type": "code",
   "execution_count": 10,
   "metadata": {},
   "outputs": [
    {
     "name": "stdout",
     "output_type": "stream",
     "text": [
      "Sorted by sum of digits:\n",
      "[1243, 1208, 290, 1169, 865]\n"
     ]
    }
   ],
   "source": [
    "# 58\n",
    "\n",
    "numbers = [865, 1169, 1208, 1243, 290]\n",
    "\n",
    "def main():\n",
    "    numbers.sort(key = sumDigits)\n",
    "    print(\"Sorted by sum of digits:\")\n",
    "    print(numbers)\n",
    "    \n",
    "def sumDigits(number):\n",
    "    listOfNumber = list(str(number))\n",
    "    total = 0\n",
    "    for i in listOfNumber:\n",
    "        total += int(i)\n",
    "    return total\n",
    "\n",
    "main()"
   ]
  },
  {
   "cell_type": "code",
   "execution_count": 9,
   "metadata": {},
   "outputs": [
    {
     "data": {
      "text/plain": [
       "['8', '6', '5']"
      ]
     },
     "execution_count": 9,
     "metadata": {},
     "output_type": "execute_result"
    }
   ],
   "source": [
    "list(str(865))"
   ]
  },
  {
   "cell_type": "code",
   "execution_count": 8,
   "metadata": {},
   "outputs": [
    {
     "name": "stdout",
     "output_type": "stream",
     "text": [
      "Sorted by their last digits:\n",
      "[1169, 1208, 865, 1243, 290]\n"
     ]
    }
   ],
   "source": [
    "# 60\n",
    "\n",
    "numbers = [865, 1169, 1208, 1243, 290]\n",
    "\n",
    "def main():\n",
    "    numbers.sort(key = lastDigits, reverse = True) # descending order\n",
    "    print(\"Sorted by their last digits:\")\n",
    "    print(numbers)\n",
    "    \n",
    "def lastDigits(number):\n",
    "    lastDigit = str(number)[-1]\n",
    "    return lastDigit\n",
    "\n",
    "main()"
   ]
  },
  {
   "cell_type": "code",
   "execution_count": 34,
   "metadata": {},
   "outputs": [
    {
     "name": "stdout",
     "output_type": "stream",
     "text": [
      "Afghanistan\n",
      "Albania\n",
      "Algeria\n",
      "Andorra\n",
      "Angola\n",
      "Antigua & Deps\n",
      "Argentina\n",
      "Armenia\n",
      "Australia\n",
      "Austria\n",
      "Azerbaijan\n",
      "Bahamas\n",
      "Bahrain\n",
      "Bangladesh\n",
      "Barbados\n",
      "Belarus\n",
      "Belgium\n",
      "Belize\n",
      "Benin\n",
      "Bhutan\n"
     ]
    }
   ],
   "source": [
    "# 62\n",
    "\n",
    "def main():\n",
    "    infile = open(\"Countries.txt\", 'r')\n",
    "    listOfCountries = [line.rstrip() for line in infile]\n",
    "    listOfCountries.sort(key = firstLetter)\n",
    "    for i in range(20):\n",
    "        print(listOfCountries[i])\n",
    "        \n",
    "def firstLetter(letter):\n",
    "    firstL = letter[0].upper()\n",
    "    return firstL\n",
    "\n",
    "main()"
   ]
  },
  {
   "cell_type": "code",
   "execution_count": 38,
   "metadata": {},
   "outputs": [
    {
     "name": "stdout",
     "output_type": "stream",
     "text": [
      "Saint Vincent & the Grenadines\n",
      "United Arab Emirates\n",
      "Central African Rep\n",
      "Sao Tome & Principe\n",
      "Bosnia Herzegovina\n",
      "Dominican Republic\n",
      "Russian Federation\n",
      "Equatorial Guinea\n",
      "Trinidad & Tobago\n",
      "Marshall Islands\n",
      "Papua New Guinea\n",
      "St Kitts & Nevis\n",
      "Solomon Islands\n",
      "Antigua & Deps\n",
      "Czech Republic\n",
      "United Kingdom\n",
      "Guinea-Bissau\n",
      "Liechtenstein\n",
      "United States\n",
      "Saudi Arabia\n"
     ]
    }
   ],
   "source": [
    "# 64\n",
    "\n",
    "def main():\n",
    "    infile = open(\"Countries.txt\", 'r')\n",
    "    listOfCountries = [line.rstrip() for line in infile]\n",
    "    listOfCountries.sort(key = lengthOfLetter, reverse=True)\n",
    "    for i in range(20):\n",
    "        print(listOfCountries[i])\n",
    "        \n",
    "def lengthOfLetter(letter):\n",
    "    lengthL = len(letter)\n",
    "    return lengthL\n",
    "\n",
    "main()"
   ]
  },
  {
   "cell_type": "code",
   "execution_count": 10,
   "metadata": {},
   "outputs": [
    {
     "name": "stdout",
     "output_type": "stream",
     "text": [
      "Enter first name: John\n",
      "Enter last name: Doe\n",
      "Enter current salary: 48000\n",
      "New salary for John Doe: $50,160.00.\n"
     ]
    }
   ],
   "source": [
    "# 66\n",
    "\n",
    "def main():\n",
    "    firstName, secondName, salary = inputInformation()\n",
    "    newSalary = calculateNewSalary(salary)\n",
    "    displayResults(firstName, secondName, newSalary)    \n",
    "    \n",
    "def inputInformation():\n",
    "    firstName = input(\"Enter first name: \")\n",
    "    secondName = input(\"Enter last name: \")\n",
    "    salary = eval(input(\"Enter current salary: \"))\n",
    "    return firstName, secondName, salary\n",
    "    \n",
    "def calculateNewSalary(salary):\n",
    "    if salary < 40000:\n",
    "        newSalary = salary * 1.05\n",
    "    else:\n",
    "        newSalary = salary + 2000 + (salary - 40000)*0.02\n",
    "    return newSalary\n",
    "\n",
    "def displayResults(firstName, secondName, salary):\n",
    "    print(\"New salary for {0} {1}: ${2:,.2f}.\".format(firstName, secondName, salary))\n",
    "    \n",
    "    \n",
    "main()"
   ]
  },
  {
   "cell_type": "code",
   "execution_count": 11,
   "metadata": {},
   "outputs": [
    {
     "name": "stdout",
     "output_type": "stream",
     "text": [
      "Enter annual rate of interest: 5\n",
      "Enter monthly payment: 1932.56\n",
      "Enter beginning of month balance: 357819.11\n",
      "Interest paid for the month: $1,490.91\n",
      "Reduction of principal: $441.65\n",
      "End of month balance: $357,377.46\n"
     ]
    }
   ],
   "source": [
    "# 68\n",
    "\n",
    "def main():\n",
    "    t1 = inputInformation()\n",
    "    t2 = calculateValues(t1[0], t1[1], t1[2])\n",
    "    displayOutput(t2[0], t2[1], t2[2])\n",
    "    \n",
    "def inputInformation():\n",
    "    annualRateInterest = eval(input(\"Enter annual rate of interest: \"))\n",
    "    monthlyPayment = eval(input(\"Enter monthly payment: \"))\n",
    "    begMonBal = eval(input(\"Enter beginning of month balance: \"))\n",
    "    return (begMonBal, annualRateInterest, monthlyPayment)\n",
    "    \n",
    "def calculateValues(begMonBal, annualRateInterest, monthlyPayment):\n",
    "    paidInterest = begMonBal * (annualRateInterest / 12) / 100\n",
    "    reductionOfPrincipal = monthlyPayment - paidInterest\n",
    "    endOfBalance = begMonBal - reductionOfPrincipal\n",
    "    return (paidInterest, reductionOfPrincipal, endOfBalance)\n",
    "    \n",
    "def displayOutput(paidInterest, reductionOfPrincipal, endOfBalance):\n",
    "    print(\"Interest paid for the month: ${0:,.2f}\".format(paidInterest))\n",
    "    print(\"Reduction of principal: ${0:,.2f}\".format(reductionOfPrincipal))\n",
    "    print(\"End of month balance: ${0:,.2f}\".format(endOfBalance))\n",
    "\n",
    "main()"
   ]
  },
  {
   "cell_type": "code",
   "execution_count": 11,
   "metadata": {},
   "outputs": [
    {
     "name": "stdout",
     "output_type": "stream",
     "text": [
      "Enter an integer greater than 1: 71\n",
      "71 is a prime number.\n"
     ]
    }
   ],
   "source": [
    "# 70\n",
    "\n",
    "def main():\n",
    "    number = inputInformation()\n",
    "    if isPrime(number):\n",
    "        print(number, \"is a prime number.\")\n",
    "    else:\n",
    "        print(number, \"is not prime number.\")\n",
    "    \n",
    "def inputInformation():\n",
    "    number = eval(input(\"Enter an integer greater than 1: \"))\n",
    "    return number\n",
    "\n",
    "def isPrime(number):\n",
    "    if (fact(number-1) + 1) % number == 0:\n",
    "    \n",
    "        return True\n",
    "    else:\n",
    "        return False\n",
    "    \n",
    "def fact(a):\n",
    "    result = 1\n",
    "    for i in range(1, a + 1):\n",
    "        result *= i\n",
    "    return result\n",
    "\n",
    "main()"
   ]
  },
  {
   "cell_type": "markdown",
   "metadata": {},
   "source": [
    "# "
   ]
  }
 ],
 "metadata": {
  "kernelspec": {
   "display_name": "Python 3",
   "language": "python",
   "name": "python3"
  },
  "language_info": {
   "codemirror_mode": {
    "name": "ipython",
    "version": 3
   },
   "file_extension": ".py",
   "mimetype": "text/x-python",
   "name": "python",
   "nbconvert_exporter": "python",
   "pygments_lexer": "ipython3",
   "version": "3.7.7"
  }
 },
 "nbformat": 4,
 "nbformat_minor": 4
}
