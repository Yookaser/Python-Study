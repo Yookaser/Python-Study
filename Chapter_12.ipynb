{
 "cells": [
  {
   "cell_type": "markdown",
   "metadata": {},
   "source": [
    "## Chapter 6.3 Turtle Graphics"
   ]
  },
  {
   "cell_type": "markdown",
   "metadata": {},
   "source": [
    "### 1) Coordinates"
   ]
  },
  {
   "cell_type": "markdown",
   "metadata": {},
   "source": [
    "- turtle 모듈을 import한 후 다음과 같은 명령문을 입력하면 윈도우 하나가 나타남.\n",
    "- 윈도우의 하얀바탕을 canvas라고 하고, canvas 중앙에 있는 화살표를 turtle이라고 함.\n",
    "- canvas는 360,000 포인트의 pixel을 가지고 있음. pixel은 coordinate system에 의해 그 위치가 결정됨.\n",
    "- canvas의 중앙에 있는 pixel은 coordinate(0,0)임.\n",
    "- 아래 변수 t를 turtle 객체라고 하고, 편의상 turtle이라고 함."
   ]
  },
  {
   "cell_type": "code",
   "execution_count": 1,
   "metadata": {},
   "outputs": [],
   "source": [
    "import turtle\n",
    "t = turtle.Turtle()"
   ]
  },
  {
   "cell_type": "markdown",
   "metadata": {},
   "source": [
    "### 2) Methods from the turtle Module\n",
    "- t.up() : turtle 펜을 올리는 역할을 함.\n",
    "- t.down() : turtle 펜을 내리는 역할을 함.\n",
    "- t.hideturtle() : turtle 펜을 안보이게 하는 역할을 함.\n",
    "- t.forward(dist) : 움직이는 방향으로 turtle 펜을 dist pixel만큼 이동시키는 역할을 함.\n",
    "- t.backward(dist) : 움직이는 반대방향으로 turtle 펜을 dist pixel만큼 이동시키는 역할을 함.\n",
    "- t.pencolor(colorName) : 펜 색깔은 초기에 검정색인데, 다른 색으로 변경가능함.\n",
    "- t.setheading(deg) : turtle의 방향을 deg 각도로 설정함.\n",
    "- t.left(deg) : turtle을 시계반대 방향으로 deg 각도로 회전함.\n",
    "- t.right(deg) : turtle을 시계 방향으로 deg 각도로 회전함.\n",
    "- t.dot(diameter, colorName) : 펜의 현 위치를 중심으로 설정 반경과 색상으로 점을 그림. \n",
    "    - 색상 인자를 생략하면 현재 펜의 색상을 사용함.\n",
    "    - 두 인자를 생략하면 현재 펜의 색상으로 5 pixel의 반경을 사용함."
   ]
  },
  {
   "cell_type": "markdown",
   "metadata": {},
   "source": [
    "### 3) Rectangles"
   ]
  },
  {
   "cell_type": "code",
   "execution_count": 1,
   "metadata": {},
   "outputs": [],
   "source": [
    "import turtle\n",
    "\n",
    "\n",
    "def drawRectangle(t,x,y,w,h, colorP = \"black\"):\n",
    "    t.speed(2)\n",
    "    t.hideturtle()\n",
    "    t.pencolor(colorP)\n",
    "    t.up() # 펜을 올림\n",
    "    t.goto(x,y) # 직사각형의 좌측 하단 코너에서 시작\n",
    "    t.down() # 펜을 내림\n",
    "    t.goto(x+w,y) # 우측 하단 코너에 선을 그음.\n",
    "    t.goto(x+w, y+h) # 우측 상단 코너에 선을 그음.\n",
    "    t.goto(x, y+h) # 좌측 상단 코너에 선을 그음.\n",
    "    t.goto(x, y) # 좌측 하단 코너에 선을 그음.\n",
    "    \n",
    "def drawRectangle2(t, x, y, w, h, colorP = \"black\"):\n",
    "    t.pencolor(colorP)\n",
    "    t.up()\n",
    "    t.goto(x,y) # 직사각형의 좌측 하단 코너부터 시작\n",
    "    t.down()\n",
    "    for i in range(2):\n",
    "        t.forward(w) # 직사각형의 수평선을 그음.\n",
    "        t.left(90) # 시계 반대 방향으로 90도 회전\n",
    "        t.forward(h) # 직사각형의 수직선을 그음.\n",
    "        t.left(90) # 시계 반대 방향으로 90도 회전\n",
    "        \n",
    "t = turtle.Turtle()\n",
    "drawRectangle2(t, 100, 100, 100, 100, 'red')"
   ]
  },
  {
   "cell_type": "code",
   "execution_count": 1,
   "metadata": {},
   "outputs": [
    {
     "ename": "NameError",
     "evalue": "name 'drawRectangle2' is not defined",
     "output_type": "error",
     "traceback": [
      "\u001b[0;31m---------------------------------------------------------------------------\u001b[0m",
      "\u001b[0;31mNameError\u001b[0m                                 Traceback (most recent call last)",
      "\u001b[0;32m<ipython-input-1-f847561f08d4>\u001b[0m in \u001b[0;36m<module>\u001b[0;34m\u001b[0m\n\u001b[0;32m----> 1\u001b[0;31m \u001b[0mdrawRectangle2\u001b[0m\u001b[0;34m(\u001b[0m\u001b[0mt\u001b[0m\u001b[0;34m,\u001b[0m \u001b[0;36m100\u001b[0m\u001b[0;34m,\u001b[0m \u001b[0;36m100\u001b[0m\u001b[0;34m,\u001b[0m \u001b[0;36m100\u001b[0m\u001b[0;34m,\u001b[0m \u001b[0;36m100\u001b[0m\u001b[0;34m,\u001b[0m \u001b[0;34m'red'\u001b[0m\u001b[0;34m)\u001b[0m\u001b[0;34m\u001b[0m\u001b[0;34m\u001b[0m\u001b[0m\n\u001b[0m",
      "\u001b[0;31mNameError\u001b[0m: name 'drawRectangle2' is not defined"
     ]
    }
   ],
   "source": [
    "drawRectangle2(t, 100, 100, 100, 100, 'red')"
   ]
  },
  {
   "cell_type": "code",
   "execution_count": 1,
   "metadata": {},
   "outputs": [],
   "source": [
    "# Ex.1\n",
    "\n",
    "import turtle\n",
    "\n",
    "def main():\n",
    "    t = turtle.Turtle()\n",
    "    t.hideturtle()\n",
    "    drawFilledRectangle(t, 0, 0, 100, 150, 'red', 'yellow')\n",
    "\n",
    "def drawFilledRectangle(t, x, y, w, h, colorP = \"black\", colorF = \"white\"):\n",
    "    t.pencolor(colorP)\n",
    "    t.fillcolor(colorF) # 색깔을 채우는 기능임.\n",
    "    t.up()\n",
    "    t.goto(x,y)\n",
    "    t.down()\n",
    "    t.begin_fill() # 색깔 채우기를 시작하는 부분 앞에 표시\n",
    "    t.goto(x+w, y)\n",
    "    t.goto(x+w, y+h)\n",
    "    t.goto(x, y+h)\n",
    "    t.goto(x,y)\n",
    "    t.end_fill() # 색깔 채우기를 마치는 부분 뒤에 표시\n",
    "\n",
    "main()"
   ]
  },
  {
   "cell_type": "markdown",
   "metadata": {},
   "source": [
    "### 4) Flags"
   ]
  },
  {
   "cell_type": "code",
   "execution_count": 1,
   "metadata": {},
   "outputs": [],
   "source": [
    "# Ex.2\n",
    "\n",
    "import turtle\n",
    "\n",
    "def main():\n",
    "    t = turtle.Turtle()\n",
    "    t.hideturtle()\n",
    "    \n",
    "    drawFilledRectangle(t, 0, 0, 150, 25, \"light blue\", \"light blue\")\n",
    "    drawFilledRectangle(t, 0, 25, 150, 50, \"blue\", \"blue\")\n",
    "    drawFilledRectangle(t, 0, 75, 150, 25, \"light blue\", \"light blue\")\n",
    "    \n",
    "    drawDot(t, 75, 50, 40, \"white\")\n",
    "    \n",
    "def drawFilledRectangle(t, x, y, w, h, colorP = \"black\", colorF = \"white\"):\n",
    "    t.pencolor(colorP)\n",
    "    t.fillcolor(colorF)\n",
    "    t.up()\n",
    "    t.goto(x,y)\n",
    "    t.down()\n",
    "    t.begin_fill()\n",
    "    t.goto(x+w, y)\n",
    "    t.goto(x+w, y+h)\n",
    "    t.goto(x, y+h)\n",
    "    t.goto(x, y)\n",
    "    t.end_fill()\n",
    "    \n",
    "def drawDot(t, x, y, diameter, colorP):\n",
    "    t.up()\n",
    "    t.goto(x, y)\n",
    "    t.pencolor(colorP)\n",
    "    t.dot(diameter)\n",
    "    \n",
    "main()"
   ]
  },
  {
   "cell_type": "code",
   "execution_count": 1,
   "metadata": {},
   "outputs": [],
   "source": [
    "# Ex.3\n",
    "\n",
    "import turtle\n",
    "\n",
    "def main():\n",
    "    t = turtle.Turtle()\n",
    "    t.hideturtle()\n",
    "    lengthOfSide = 200\n",
    "    drawFivePointStar(t, 0, 0, lengthOfSide)\n",
    "    \n",
    "def drawFivePointStar(t, x, y, lengthOfSide):\n",
    "    t.up()\n",
    "    t.goto(x,y)\n",
    "    t.left(36)\n",
    "    t.down()\n",
    "    for i in range(5):\n",
    "        t.forward(lengthOfSide)\n",
    "        t.left(144)\n",
    "        \n",
    "main()"
   ]
  },
  {
   "cell_type": "markdown",
   "metadata": {},
   "source": [
    "### 5) The write Method"
   ]
  },
  {
   "cell_type": "markdown",
   "metadata": {},
   "source": [
    "- s가 문자열이라고 하면, t.write(s)는 펜의 현 위치에서 대략적으로 문자열의 좌측 하단에 문자열 s를 표시함.\n",
    "- t.write(s, align = \"right\") : 펜의 우측 하단에 문자열을 표시\n",
    "- t.write(s, align = \"center\") : 펜의 하단 중심에 문자열을 표시\n",
    "- t.write()는 펜이 up 상태에 있던지 down 상태에 있던지 상관없이 문자열을 표시함."
   ]
  },
  {
   "cell_type": "code",
   "execution_count": 1,
   "metadata": {},
   "outputs": [],
   "source": [
    "# Ex.4\n",
    "\n",
    "import turtle\n",
    "\n",
    "t = turtle.Turtle()\n",
    "t.hideturtle()\n",
    "t.up()\n",
    "t.goto(0, 60)\n",
    "t.dot()\n",
    "t.write(\"Python\")\n",
    "t.goto(0, 30)\n",
    "t.dot()\n",
    "t.write(\"Python\", align = \"right\")\n",
    "t.goto(0,0)\n",
    "t.dot()\n",
    "t.write(\"Python\", align = \"center\")\n",
    "t.down() # 이 코드를 마지막에 입력하지 않으면 위 줄의 텍스트가 표시되지 않음."
   ]
  },
  {
   "cell_type": "markdown",
   "metadata": {},
   "source": [
    "- t.write()에서는 다음과 같이 font 인자를 이용하여 글자 폰트를 설정할 수 있음.\n",
    "    - t.write(\"Python\", font = (\"Courier New\", 12, \"bold\"))\n",
    "- t.write()는 font와 align 인자가 있는데, 이 중 1~2개 인자를 포함하거나 두 인자 모두 포함하지 않을 수 있음."
   ]
  },
  {
   "cell_type": "code",
   "execution_count": 1,
   "metadata": {},
   "outputs": [],
   "source": [
    "import turtle\n",
    "\n",
    "t = turtle.Turtle()\n",
    "t.hideturtle()\n",
    "t.up()\n",
    "t.goto(0, 60)\n",
    "t.dot()\n",
    "t.write(\"Python\", font = (\"Courier New\", 12, \"bold\"))\n",
    "t.goto(0, 30)\n",
    "t.dot()\n",
    "t.write(\"Python\", align = \"right\", font = (\"Courier New\", 12, \"italic\"))\n",
    "t.goto(0,-10)\n",
    "t.dot()\n",
    "t.write(\"Python\", align = \"center\", font = (\"Courier New\", 12, \"underline\"))\n",
    "t.down() # 이 코드를 마지막에 입력하지 않으면 위 줄의 텍스트가 표시되지 않음."
   ]
  },
  {
   "cell_type": "code",
   "execution_count": 1,
   "metadata": {},
   "outputs": [],
   "source": [
    "# Ex.5 Bar Charts\n",
    "\n",
    "import turtle\n",
    "\n",
    "heights = [856, 420, 360, 260, 205]\n",
    "\n",
    "def main():\n",
    "    t = turtle.Turtle()\n",
    "    t.hideturtle()\n",
    "    for i in range(5):\n",
    "        drawFilledRectangle(t, -200 + (76*i), 0, 76, heights[i] / 4,\n",
    "                           'black', 'light blue')\n",
    "    displayText(t)\n",
    "    \n",
    "def drawFilledRectangle(t, x, y, w, h, colorP = \"black\", colorF = \"white\"):\n",
    "    t.pencolor(colorP)\n",
    "    t.fillcolor(colorF)\n",
    "    t.up()\n",
    "    t.goto(x, y)\n",
    "    t.down()\n",
    "    t.begin_fill()\n",
    "    t.goto(x+w, y)\n",
    "    t.goto(x+w, y+h)\n",
    "    t.goto(x, y+h)\n",
    "    t.goto(x, y)\n",
    "    t.end_fill()\n",
    "    \n",
    "def displayText(t):\n",
    "    languages = [\"Mandarin\", \"Spanish\", \"English\",\n",
    "                \"Hindi\", \"Bengali\"]\n",
    "    t.pencolor(\"blue\")\n",
    "    t.up()\n",
    "    for i in range(5):\n",
    "        t.goto(-162 + (76*i), heights[i] / 4)\n",
    "        t.write(str(heights[i]), align=\"center\",\n",
    "                   font = (\"Arial\", 10, \"normal\"))                \n",
    "        t.goto(-162 + (76*i), 10)\n",
    "        t.write(languages[i], align=\"center\",\n",
    "               font = (\"Arial\", 10, \"normal\"))\n",
    "    t.goto(-200, -25)\n",
    "    t.write(\"Principal Languages of the world\",\n",
    "           font = (\"Arial\", 10, \"normal\"))\n",
    "    t.goto(-200, -40)\n",
    "    t.write('(in millions of \"first language\" speakers)',\n",
    "           font = (\"Arial\", 10, \"italic\"))\n",
    "    t.down()\n",
    "        \n",
    "main()"
   ]
  },
  {
   "cell_type": "code",
   "execution_count": 1,
   "metadata": {},
   "outputs": [],
   "source": [
    "# Ex.6\n",
    "\n",
    "import turtle\n",
    "\n",
    "yValues = [10.0, 7.4, 6.4, 5.3, 4.4, 3.7, 2.6]\n",
    "\n",
    "def main():\n",
    "    t = turtle.Turtle()\n",
    "    t.hideturtle()\n",
    "    drawLine(t, 0, 0, 300, 0) # x축 그리기\n",
    "    drawLine(t, 0, 0, 0, 175) # y축 그리기\n",
    "    for i in range(6):\n",
    "        drawLineWithDots(t, 40 + (40*i), 15*yValues[i],\n",
    "                        40 + (40 * (i+1)), 15*yValues[i+1], \"blue\")\n",
    "    drawTickMarks(t)\n",
    "    displayText(t)\n",
    "\n",
    "    \n",
    "def drawLine(t, x1, y1, x2, y2, colorP = \"black\"):\n",
    "    # (x1, y1) to (x2, y2) 선 그리기\n",
    "    t.up()\n",
    "    t.goto(x1, y1)\n",
    "    t.down()\n",
    "    t.pencolor(colorP)\n",
    "    t.goto(x2, y2)\n",
    "    \n",
    "def drawLineWithDots(t, x1, y1, x2, y2, colorP = \"black\"):\n",
    "    t.pencolor(colorP)\n",
    "    t.up()\n",
    "    t.goto(x1, y1) # 선 그리기 시작\n",
    "    t.dot(5) # 점 그리기\n",
    "    t.down()\n",
    "    t.goto(x2, y2) # 선 그리기 끝\n",
    "    t.dot(5) # 점 그리기\n",
    "    \n",
    "def drawTickMarks(t):\n",
    "    # x축 tick marks 그리기\n",
    "    for i in range(1, 8):\n",
    "        drawLine(t, 40*i, 0, 40*i, 10)\n",
    "    # y축 tick marks 그리기\n",
    "    drawLine(t, 0, 15*max(yValues), 10, 15*max(yValues))\n",
    "    drawLine(t, 0, 15*min(yValues), 10, 15*min(yValues))\n",
    "    \n",
    "def displayText(t):\n",
    "    t.pencolor(\"blue\")\n",
    "    t.up()\n",
    "    # y-axis에 최대값 표시\n",
    "    t.goto(-3, (15*max(yValues)) - 6)\n",
    "    t.write(max(yValues), align = \"right\")\n",
    "    # y-axis에 최소값 표시\n",
    "    t.goto(-3, (15*min(yValues)) - 6)\n",
    "    t.write(min(yValues), align = \"right\")\n",
    "    # x-axis에 연도 표시\n",
    "    x = 40\n",
    "    for i in range(2000, 2013, 2):\n",
    "        t.goto(x, -20)\n",
    "        t.write(str(i), align=\"center\")\n",
    "        x += 40\n",
    "    t.goto(0, -30)\n",
    "    t.write(\"Percentage of College Freshmen Who Smoke\")\n",
    "    t.down()\n",
    "    \n",
    "main()"
   ]
  },
  {
   "cell_type": "code",
   "execution_count": 1,
   "metadata": {},
   "outputs": [],
   "source": [
    "# comments 4\n",
    "\n",
    "import turtle\n",
    "\n",
    "t = turtle.Turtle()\n",
    "t.hideturtle()\n",
    "t.color(\"blue\", \"light blue\")\n",
    "t.begin_fill()\n",
    "for i in range(36):\n",
    "    t.forward(200)\n",
    "    t.left(170)\n",
    "t.end_fill()"
   ]
  },
  {
   "cell_type": "markdown",
   "metadata": {},
   "source": [
    "## Chapter 6.4 Recursion"
   ]
  },
  {
   "cell_type": "markdown",
   "metadata": {},
   "source": [
    "- Resursive function(순환함수)는 자신을 호출하는 함수로 연속 호출을 통해 대상 계산을 작은 규모의 해를 갖는 base case에 도달할 때까지 동일 유형의 좀 더 작은 계산으로 축소시킴."
   ]
  },
  {
   "cell_type": "markdown",
   "metadata": {},
   "source": [
    "### 1) A Recursive Power Function\n",
    "- r의 n승은 반복적 표현이나 순환적 표현으로 정의될 수 있음.\n",
    "- r의 n승을 반복적으로 표현하는 것은 r을 n번 곱하는 것으로 표현하는 것임.\n",
    "- r의 n승을 순환적으로 표현하는 것은 r에 r의 (n-1)승을 곱하는 것으로 표현하는 것임."
   ]
  },
  {
   "cell_type": "code",
   "execution_count": 2,
   "metadata": {},
   "outputs": [
    {
     "name": "stdout",
     "output_type": "stream",
     "text": [
      "8\n"
     ]
    }
   ],
   "source": [
    "# Ex.1\n",
    "\n",
    "def power(r, n):\n",
    "    ## iterative definition of power function\n",
    "    value = 1\n",
    "    for i in range(1, n+1):\n",
    "        value = r * value\n",
    "    return value\n",
    "\n",
    "print(power(2, 3))"
   ]
  },
  {
   "cell_type": "code",
   "execution_count": 3,
   "metadata": {},
   "outputs": [
    {
     "name": "stdout",
     "output_type": "stream",
     "text": [
      "8\n"
     ]
    }
   ],
   "source": [
    "# Ex.2\n",
    "\n",
    "def power(r, n):\n",
    "    ## recursive definition of power function\n",
    "    if n == 1: # base case\n",
    "        return r\n",
    "    else:\n",
    "        return r * power(r, n-1)\n",
    "    \n",
    "print(power(2,3))"
   ]
  },
  {
   "cell_type": "markdown",
   "metadata": {},
   "source": [
    "- 순환 알고리즘에는 두 가지 특성이 있음.\n",
    "    - 여러 작은 해를 갖는 1개 이상의 base case가 있음.\n",
    "    - 귀납적 단계는 연속적으로 해당 문제를 동일한 문제의 작은 버전으로 줄임. 이러한 축소 작업을 통해 base case를 찾게 됨. \n",
    "        - 이러한 귀납적 단계를 축소 단계라고 함.\n",
    "- 어떤 문제에 대한 순환적 해결법에 대한 의사코드는 다음과 같음.\n",
    "    - base case에 도달한 경우, base case를 직접 해결함.\n",
    "    - 그렇지 않은 경우, base case가 될 때까지 혹은 가까워질 때까지 문제를 축소시키는 과정을 거침.\n",
    "- 예를 들어, power(2,3)을 계산한다고 할 때,\n",
    "    - power(2,3)을\n",
    "    - 2 * power(2,2)로 대체하고,\n",
    "    - 최종적으로 2 * 2 * power(2,1)로 대체함.\n",
    "    - 이때 power(2,1)이 base case가 됨.\n",
    "    - 즉, base case를 찾고, 이를 바탕으로 계산하는 것이 순환적 해결방법이라고 할 수 있음."
   ]
  },
  {
   "cell_type": "markdown",
   "metadata": {},
   "source": [
    "### 2) A Recursive Palindrome Function"
   ]
  },
  {
   "cell_type": "markdown",
   "metadata": {},
   "source": [
    "- isPalindrome 함수는 단어가 palindrome인지 여부를 결정하는 함수임.\n",
    "    - palindrome은 앞으로 읽거나 뒤로 읽어도 동일한 단어를 지칭함.\n",
    "        - 예: racecar, kayak, pullup 등\n",
    "    - 가장 먼저 단어의 시작과 끝을 살펴봄.\n",
    "        - 두 문자가 다르면, False를 반환함.\n",
    "        - 두 문자가 같다면, 시작과 끝 문자를 삭제한 후 상대적으로 줄어든 단어를 대상으로 이 과정을 반복함.\n",
    "        - 남은 단어가 0 또는 1개의 문자를 가질 때까지 이러한 과정을 계속 진행함.\n",
    "    - 해당 문제를 동일한 유형의 작은 문제로 쪼개어 해결할 수 있음."
   ]
  },
  {
   "cell_type": "code",
   "execution_count": 5,
   "metadata": {},
   "outputs": [],
   "source": [
    "# Ex.3\n",
    "\n",
    "def isPalindrome(word):\n",
    "    word = word.lower() # 문자를 소문자로 변경\n",
    "    if len(word) <= 1: # 0~1개의 문자로 이루어진 경우 palindrome임.\n",
    "        return True\n",
    "    elif word[0] == word[-1]: # 첫글자와 마지막 글자를 비교함.\n",
    "        word = word[1:-1] # 첫글자와 마지막 글자를 제거함.\n",
    "        return isPalindrome(word) # 해당 문제를 동일한 유형의 작은 문제로 쪼개는 과정임.\n",
    "    else:\n",
    "        return False"
   ]
  },
  {
   "cell_type": "code",
   "execution_count": 7,
   "metadata": {},
   "outputs": [
    {
     "data": {
      "text/plain": [
       "True"
      ]
     },
     "execution_count": 7,
     "metadata": {},
     "output_type": "execute_result"
    }
   ],
   "source": [
    "isPalindrome(\"kayak\")"
   ]
  },
  {
   "cell_type": "code",
   "execution_count": 8,
   "metadata": {},
   "outputs": [
    {
     "data": {
      "text/plain": [
       "False"
      ]
     },
     "execution_count": 8,
     "metadata": {},
     "output_type": "execute_result"
    }
   ],
   "source": [
    "isPalindrome(\"hanyang\")"
   ]
  },
  {
   "cell_type": "code",
   "execution_count": 1,
   "metadata": {},
   "outputs": [],
   "source": [
    "# Ex.4\n",
    "\n",
    "import turtle\n",
    "\n",
    "def main():\n",
    "    t = turtle.Turtle()\n",
    "    t.hideturtle()\n",
    "    t.speed(20)\n",
    "    level = 1\n",
    "    fract(t, -80, 60, 80, 60, level)\n",
    "    \n",
    "def fract(t, x1, y1, x2, y2, level):\n",
    "    newX = 0\n",
    "    newY = 0\n",
    "    if level == 0:\n",
    "        drawLine(t, x1, y1, x2, y2)\n",
    "    else:\n",
    "        newX = (x1+x2)/2 + (y2-y1)/2\n",
    "        newY = (y1+y2)/2 - (x2-x1)/2\n",
    "        fract(t, x1, y1, newX, newY, level - 1)\n",
    "        fract(t, newX, newY, x2, y2, level - 1)\n",
    "        \n",
    "def drawLine(t, x1, y1, x2, y2):\n",
    "    t.up()\n",
    "    t.goto(x1,y1)\n",
    "    t.down()\n",
    "    t.goto(x2,y2)\n",
    "    \n",
    "main()"
   ]
  },
  {
   "cell_type": "code",
   "execution_count": 1,
   "metadata": {},
   "outputs": [
    {
     "data": {
      "text/plain": [
       "4096"
      ]
     },
     "execution_count": 1,
     "metadata": {},
     "output_type": "execute_result"
    }
   ],
   "source": [
    "2**12"
   ]
  },
  {
   "cell_type": "code",
   "execution_count": null,
   "metadata": {},
   "outputs": [],
   "source": [
    "import turtle\n",
    "\n",
    "def main():\n",
    "    t = turtle.Turtle()\n",
    "    t.hideturtle()\n",
    "    t.speed(50)\n",
    "    level = 50\n",
    "    fract(t, -80, 60, 80, 60, level)\n",
    "    \n",
    "def fract(t, x1, y1, x2, y2, level):\n",
    "    newX = 0\n",
    "    newY = 0\n",
    "    if level == 0:\n",
    "        drawLine(t, x1, y1, x2, y2)\n",
    "    else:\n",
    "        newX = (x1+x2)/2 - (y2-y1)/2\n",
    "        newY = (y1+y2)/2 + (x2-x1)/2\n",
    "        fract(t, x1, y1, newX, newY, level - 1)\n",
    "        fract(t, newX, newY, x2, y2, level - 1)\n",
    "        \n",
    "def drawLine(t, x1, y1, x2, y2):\n",
    "    t.up()\n",
    "    t.goto(x1,y1)\n",
    "    t.down()\n",
    "    t.goto(x2,y2)\n",
    "    \n",
    "main()"
   ]
  },
  {
   "cell_type": "code",
   "execution_count": null,
   "metadata": {},
   "outputs": [],
   "source": []
  }
 ],
 "metadata": {
  "kernelspec": {
   "display_name": "Python 3",
   "language": "python",
   "name": "python3"
  },
  "language_info": {
   "codemirror_mode": {
    "name": "ipython",
    "version": 3
   },
   "file_extension": ".py",
   "mimetype": "text/x-python",
   "name": "python",
   "nbconvert_exporter": "python",
   "pygments_lexer": "ipython3",
   "version": "3.8.5"
  }
 },
 "nbformat": 4,
 "nbformat_minor": 4
}
