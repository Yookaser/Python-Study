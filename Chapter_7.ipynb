{
 "cells": [
  {
   "cell_type": "markdown",
   "metadata": {},
   "source": [
    "## Chapter 4.2 Functions, Part2"
   ]
  },
  {
   "cell_type": "markdown",
   "metadata": {},
   "source": [
    "### 1) Functions Calling Other Functions\n",
    "- 함수는 다른 함수를 호출할 수 있음. 그렇다면 호출된 함수는 호출되는 즉시 실행이 완료됨."
   ]
  },
  {
   "cell_type": "code",
   "execution_count": 1,
   "metadata": {},
   "outputs": [
    {
     "name": "stdout",
     "output_type": "stream",
     "text": [
      "1: from function firstPart\n",
      "2: from function secondPart\n",
      "3: from function firstPart\n",
      "4: from function main\n"
     ]
    }
   ],
   "source": [
    "# Ex.1\n",
    "\n",
    "def main():\n",
    "    firstPart() # main() 함수를 실행하면 firstPart() 함수의 실행이 완료됨.\n",
    "    print(str(4) + \": from function main\")\n",
    "def firstPart():\n",
    "    print(str(1) + \": from function firstPart\")\n",
    "    secondPart() # firstPart() 함수를 실행하면 secondPart() 함수의 실행이 완료됨.\n",
    "    print(str(3) + \": from function firstPart\")\n",
    "def secondPart():\n",
    "    print(str(2) + \": from function secondPart\")\n",
    "\n",
    "main()"
   ]
  },
  {
   "cell_type": "markdown",
   "metadata": {},
   "source": [
    "### 2) Functions Returning Multiple Values\n",
    "- 함수는 숫자, 문자열, boolean 값 등의 어떠한 형태의 객체값을 반환함.\n",
    "    - 예를 들어 함수는 튜플이나 리스트 형태의 값도 반환할 수 있음."
   ]
  },
  {
   "cell_type": "code",
   "execution_count": 2,
   "metadata": {},
   "outputs": [
    {
     "name": "stdout",
     "output_type": "stream",
     "text": [
      "Enter the amount of the deposit: 3000\n",
      "Enter the number of years: 5\n",
      "Balance: $3,649.96 Interest Earned: $ 649.96\n"
     ]
    }
   ],
   "source": [
    "# Ex.2\n",
    "\n",
    "INTEREST_RATE = .04\n",
    "\n",
    "def main():\n",
    "    principal = eval(input(\"Enter the amount of the deposit: \"))\n",
    "    numberOfYears = eval(input(\"Enter the number of years: \"))\n",
    "    (bal, intEarned) = balanceAndInterest(principal, numberOfYears)\n",
    "    # bal, intEarned = balanceAndInterest(principal, numberOfYears)로 쓰는 것도 가능\n",
    "    print(\"Balance: ${0:,.2f} Interest Earned: ${1: ,.2f}\".format(bal, intEarned))\n",
    "def balanceAndInterest(prin, numYears):\n",
    "    balance = prin * ((1 + INTEREST_RATE)**numYears)\n",
    "    interestEarned = balance - prin\n",
    "    return (balance, interestEarned) # 튜플 형태의 값을 반환함. \n",
    "    # return balance, interestEarned로 쓰는 것도 가능\n",
    "    # 두 값을 반환하는 듯 하지만, 실제로는 두개의 값을 가진 튜플 하나를 반환하는 것임.\n",
    "\n",
    "main()"
   ]
  },
  {
   "cell_type": "code",
   "execution_count": 4,
   "metadata": {},
   "outputs": [
    {
     "name": "stdout",
     "output_type": "stream",
     "text": [
      "Enter the amount of the deposit: 3000\n",
      "Enter the number of years: 5\n",
      "Balance: $3,649.96    Interest Earned: $649.96\n"
     ]
    }
   ],
   "source": [
    "# Ex.3\n",
    "\n",
    "INTEREST_RATE = .04\n",
    "\n",
    "def main():\n",
    "    (principal, numberOfYears) = getInput() # Input\n",
    "    bal, intEarned = balanceAndInterest(principal, numberOfYears) # Processing\n",
    "    displayOutput(bal, intEarned) # Output\n",
    "def getInput():\n",
    "    principal = eval(input(\"Enter the amount of the deposit: \"))\n",
    "    numberOfYears = eval(input(\"Enter the number of years: \"))\n",
    "    return (principal, numberOfYears)\n",
    "def balanceAndInterest(prin, numYears):\n",
    "    balance = prin * ((1 + INTEREST_RATE)**numYears)\n",
    "    interestEarned = balance - prin\n",
    "    return (balance, interestEarned)\n",
    "def displayOutput(bal, intEarned):\n",
    "    print(\"Balance: ${0:,.2f}    Interest Earned: ${1:,.2f}\".format(bal, intEarned))\n",
    "    \n",
    "main()"
   ]
  },
  {
   "cell_type": "markdown",
   "metadata": {},
   "source": [
    "### 3) List Comprehension\n",
    "- list2 = [f(x) for x in list1]처럼 함수를 이용해 기존 리스트에서 새로운 리스트를 만들 수 있음.\n",
    "- 함수 f(x)는 built-in 함수일 수 있고, 직접 정의한(user-defined) 함수일 수 있음. "
   ]
  },
  {
   "cell_type": "code",
   "execution_count": 5,
   "metadata": {},
   "outputs": [
    {
     "data": {
      "text/plain": [
       "[2, 5, 6, 7]"
      ]
     },
     "execution_count": 5,
     "metadata": {},
     "output_type": "execute_result"
    }
   ],
   "source": [
    "list1 = ['2', '5', '6', '7']\n",
    "# int() 함수가 list1의 각각의 아이템에 적용됨.\n",
    "list2 = [int(x) for x in list1]\n",
    "list2"
   ]
  },
  {
   "cell_type": "code",
   "execution_count": 4,
   "metadata": {},
   "outputs": [
    {
     "data": {
      "text/plain": [
       "[2, 5, 6, 7]"
      ]
     },
     "execution_count": 4,
     "metadata": {},
     "output_type": "execute_result"
    }
   ],
   "source": [
    "list1 = ['2', '5', '6', '7']\n",
    "list2 = []\n",
    "for i in list1:\n",
    "    list2.append(int(i))\n",
    "    \n",
    "list2    "
   ]
  },
  {
   "cell_type": "code",
   "execution_count": 7,
   "metadata": {},
   "outputs": [],
   "source": [
    "def g(x):\n",
    "    return (int(x) ** 2)"
   ]
  },
  {
   "cell_type": "code",
   "execution_count": 8,
   "metadata": {},
   "outputs": [
    {
     "data": {
      "text/plain": [
       "[4, 25, 36, 49]"
      ]
     },
     "execution_count": 8,
     "metadata": {},
     "output_type": "execute_result"
    }
   ],
   "source": [
    "list1 = ['2', '5', '6', '7']\n",
    "list3 = [g(x) for x in list1]\n",
    "list3"
   ]
  },
  {
   "cell_type": "code",
   "execution_count": 9,
   "metadata": {},
   "outputs": [
    {
     "data": {
      "text/plain": [
       "[4, 25, 36, 49]"
      ]
     },
     "execution_count": 9,
     "metadata": {},
     "output_type": "execute_result"
    }
   ],
   "source": [
    "list1 = ['2', '5', '6', '7']\n",
    "list3 = []\n",
    "for i in list1:\n",
    "    list3.append(int(i)**2)\n",
    "list3"
   ]
  },
  {
   "cell_type": "code",
   "execution_count": 9,
   "metadata": {},
   "outputs": [
    {
     "data": {
      "text/plain": [
       "[25, 49]"
      ]
     },
     "execution_count": 9,
     "metadata": {},
     "output_type": "execute_result"
    }
   ],
   "source": [
    "list4 = [g(x) for x in list1 if int(x) % 2 == 1]\n",
    "list4"
   ]
  },
  {
   "cell_type": "code",
   "execution_count": 11,
   "metadata": {},
   "outputs": [
    {
     "data": {
      "text/plain": [
       "[97, 98, 99]"
      ]
     },
     "execution_count": 11,
     "metadata": {},
     "output_type": "execute_result"
    }
   ],
   "source": [
    "list5 = [ord(x) for x in \"abc\"]\n",
    "list5"
   ]
  },
  {
   "cell_type": "code",
   "execution_count": 12,
   "metadata": {},
   "outputs": [
    {
     "data": {
      "text/plain": [
       "[2.0, 3.0]"
      ]
     },
     "execution_count": 12,
     "metadata": {},
     "output_type": "execute_result"
    }
   ],
   "source": [
    "list6 = [x ** .5 for x in (4, -1, 9) if x >= 0]\n",
    "list6"
   ]
  },
  {
   "cell_type": "code",
   "execution_count": 13,
   "metadata": {},
   "outputs": [
    {
     "data": {
      "text/plain": [
       "[0, 1, 4]"
      ]
     },
     "execution_count": 13,
     "metadata": {},
     "output_type": "execute_result"
    }
   ],
   "source": [
    "list7 = [x ** 2 for x in range(3)]\n",
    "list7"
   ]
  },
  {
   "cell_type": "markdown",
   "metadata": {},
   "source": [
    "### 4) Default Values\n",
    "- 함수에서 특정 파라미터는 default value를 가질 수 있음.\n",
    "- 만약 함수의 arguments에 특정 파라미터에 대한 값이 생략되어 있는 경우 default value가 그 파라미터에 할당됨.\n",
    "- default value를 사용한 함수 정의의 전형적인 형식은 다음과 같음.\n",
    "    - def functionName(par1, par2, par3=value3, par4=value4):\n",
    "    - functionName(arg1, arg2)\n",
    "        - arg1 --> par1, arg2 --> par2, value3 --> par3, value4 --> par4\n",
    "        - par3, par4에 값을 할당하는 것은 선택사항임."
   ]
  },
  {
   "cell_type": "code",
   "execution_count": 1,
   "metadata": {},
   "outputs": [],
   "source": [
    "def total(w, x, y=10, z=20):\n",
    "    return (w ** x) + y + z"
   ]
  },
  {
   "cell_type": "code",
   "execution_count": 3,
   "metadata": {},
   "outputs": [
    {
     "name": "stdout",
     "output_type": "stream",
     "text": [
      "Function Call        Value      Calculated As       \n",
      "total(2,3)           38         2^3 + 10 + 20       \n",
      "total(2,3,4)         32         2^3 + 4 + 20        \n",
      "total(2, 3, 4, 5)    17         2^3 + 4 + 5         \n"
     ]
    }
   ],
   "source": [
    "print(\"Function Call\".ljust(20), \"Value\".ljust(10), \"Calculated As\".ljust(20))\n",
    "print(\"total(2,3)\".ljust(20), \"38\".ljust(10), \"2^3 + 10 + 20\".ljust(20))\n",
    "print(\"total(2,3,4)\".ljust(20), \"32\".ljust(10), \"2^3 + 4 + 20\".ljust(20))\n",
    "print(\"total(2, 3, 4, 5)\". ljust(20), \"17\".ljust(10), \"2^3 + 4 + 5\".ljust(20))"
   ]
  },
  {
   "cell_type": "markdown",
   "metadata": {},
   "source": [
    "- default value가 할당되지 않은 파라미터는 항상 default value가 할당된 파라미터보다 앞에 있어야 함.\n",
    "    - def func(par1, par2=value2, par3): 와 같이 함수를 정의하면 안됨."
   ]
  },
  {
   "cell_type": "code",
   "execution_count": 12,
   "metadata": {},
   "outputs": [
    {
     "name": "stdout",
     "output_type": "stream",
     "text": [
      "What is the capital of California? a\n",
      "What is the capital of California? a\n",
      "What is the capital of California? Sacramento\n",
      "Correct!\n"
     ]
    }
   ],
   "source": [
    "# Ex.4\n",
    "def main():\n",
    "    ## 퀴즈\n",
    "    q = \"What is the capital of California? \"\n",
    "    a = \"Sacramento\"\n",
    "    askQuestion(q,a, 5)\n",
    "    \n",
    "def askQuestion(question, answer, numberOfTries=3):\n",
    "    numTries = 0\n",
    "    while numTries < numberOfTries:\n",
    "        numTries += 1\n",
    "        ans = input(question)\n",
    "        if ans == answer:\n",
    "            print(\"Correct!\")\n",
    "            break\n",
    "    if ans != answer:\n",
    "        print(\"You have used up your allotment of guesses.\")\n",
    "        print(\"The correct answer is\", answer + '.')\n",
    "    \n",
    "main()"
   ]
  },
  {
   "cell_type": "markdown",
   "metadata": {},
   "source": [
    "### 5) Passing by Parameter Name(keyword passing)\n",
    "- 함수의 인자(arguments)는 position passing으로 함수에 값이 전달되는 방법 외에 파라미터의 변수명에 값을 할당하는 keyword passing 방법으로 함수에 값을 전달할 수 있음.\n",
    "- 이러한 방법은 keyword passing이라고 함.\n",
    "- keyword passing의 예는 다음과 같음.\n",
    "    - total(w=2, x=3) or total(x=3, w=2)\n",
    "    - total(y=4, x=3, w=2) or total(2, y=4, x=3) or total(2, 3, y=4)\n",
    "- 위의 경우처럼 position passing과 keyword passing은 같이 사용이 가능함.\n",
    "- 하지만, position passing은 항상 keyword passing보다 우선시되어야 함.\n",
    "    - total(w=2, 3, y=4)와 같이 keyword passing이 position passing보다 인자가 앞서는 경우 에러를 반환함."
   ]
  },
  {
   "cell_type": "code",
   "execution_count": 13,
   "metadata": {},
   "outputs": [
    {
     "name": "stdout",
     "output_type": "stream",
     "text": [
      "Balance\n",
      "$1,216.65\n",
      "$1,216.65\n",
      "$1,216.65\n",
      "$1,216.65\n",
      "\n",
      "$1,159.27\n",
      "$1,159.27\n",
      "$1,159.27\n",
      "$1,159.27\n"
     ]
    }
   ],
   "source": [
    "# Ex.5\n",
    "## balance = principal(1+interest rate)^number of years\n",
    "\n",
    "def main():\n",
    "    print(\"Balance\")\n",
    "    print(\"${0:,.2f}\".format(balance(1000, 5)))\n",
    "    print(\"${0:,.2f}\".format(balance(1000, 5, .04)))\n",
    "    print(\"${0:,.2f}\".format(balance(1000, intRate=.04, numYears=5)))\n",
    "    print(\"${0:,.2f}\".format(balance(numYears=5, prin=1000)))\n",
    "    print()\n",
    "    print(\"${0:,.2f}\".format(balance(1000, 5, .03)))\n",
    "    print(\"${0:,.2f}\".format(balance(1000, intRate=.03, numYears=5)))\n",
    "    print(\"${0:,.2f}\".format(balance(intRate=.03, numYears=5, prin=1000)))\n",
    "    print(\"${0:,.2f}\".format(balance(numYears=5, intRate=.03, prin=1000)))\n",
    "    \n",
    "def balance(prin, numYears, intRate=0.04):\n",
    "    return prin*((1+intRate)**numYears)\n",
    "\n",
    "main()"
   ]
  },
  {
   "cell_type": "markdown",
   "metadata": {},
   "source": [
    "### 6) Custom Sorting\n",
    "- sort() 함수: 리스트 내에 있는 항목을 오름차순으로 정렬하는 기능을 가짐.\n",
    "    - 숫자 오름차순(numerical ascending)\n",
    "    - 사전편집 오름차순(lexicographical ascending)\n",
    "- 하지만, 특정조건으로 리스트 항목을 정렬하는데 함수를 사용할 수 있음.\n",
    "    - 리스트 항목의 글자 길이 순 정렬\n",
    "    - 마지막 글자의 사전편집순 정렬\n",
    "    - 항목 내 모음의 개수 순 정렬\n",
    "    - 위처럼 특정조건으로 리스트 항목을 정렬하는 것을 custom sorting이라고 함.\n",
    "    - sort() 함수 내에 key라는 인자에 함수를 할당하면 됨.\n",
    "    - sort() 함수 내에 reverse=True와 같이 인자를 설정해주면 내림차순으로 리스트 항목이 정렬됨."
   ]
  },
  {
   "cell_type": "code",
   "execution_count": 4,
   "metadata": {},
   "outputs": [
    {
     "data": {
      "text/plain": [
       "[5, 4, 3, 2, 1]"
      ]
     },
     "execution_count": 4,
     "metadata": {},
     "output_type": "execute_result"
    }
   ],
   "source": [
    "list1 = [1,3,2,4,5]\n",
    "list1.sort(reverse=True)\n",
    "list1"
   ]
  },
  {
   "cell_type": "code",
   "execution_count": 5,
   "metadata": {},
   "outputs": [
    {
     "data": {
      "text/plain": [
       "['t', 'e', 'd', 'c', 'a']"
      ]
     },
     "execution_count": 5,
     "metadata": {},
     "output_type": "execute_result"
    }
   ],
   "source": [
    "list1 = ['a', 'd', 'c', 'e', 't'] # 숫자 < 대문자 < 소문자\n",
    "list1.sort(reverse=True)\n",
    "list1"
   ]
  },
  {
   "cell_type": "code",
   "execution_count": 19,
   "metadata": {},
   "outputs": [
    {
     "name": "stdout",
     "output_type": "stream",
     "text": [
      "Sorted by length in ascending order: \n",
      "['two', 'brrr', 'break', 'equals', 'sequioa', 'democratic'] \n",
      "\n",
      "Sorted by last character in ascending order: \n",
      "['sequioa', 'democratic', 'break', 'two', 'brrr', 'equals'] \n",
      "\n",
      "Sorted by number of vowels in descending order: \n",
      "['sequioa', 'democratic', 'equals', 'break', 'two', 'brrr']\n"
     ]
    }
   ],
   "source": [
    "# Ex.6\n",
    "\n",
    "def main():\n",
    "    list1 = [\"democratic\", \"sequioa\", \"equals\", \"brrr\", \"break\", \"two\"]\n",
    "    list1.sort(key=len) # len(\"democratic\")\n",
    "    print(\"Sorted by length in ascending order: \")\n",
    "    print(list1, '\\n')\n",
    "    list1.sort(key=lastCharacter)\n",
    "    print(\"Sorted by last character in ascending order: \")\n",
    "    print(list1, '\\n')\n",
    "    list1.sort(key=numberOfVowels, reverse=True)\n",
    "    print(\"Sorted by number of vowels in descending order: \")\n",
    "    print(list1)\n",
    "    \n",
    "def lastCharacter(word):\n",
    "    return word[-1]\n",
    "\n",
    "def numberOfVowels(word):\n",
    "    vowels = ('a', 'e', 'i', 'o', 'u')\n",
    "    total = 0\n",
    "    for vowel in vowels:\n",
    "        total += word.count(vowel)\n",
    "    return total\n",
    "main()"
   ]
  },
  {
   "cell_type": "code",
   "execution_count": 18,
   "metadata": {},
   "outputs": [
    {
     "name": "stdout",
     "output_type": "stream",
     "text": [
      "sequioa\n",
      "brrr\n"
     ]
    }
   ],
   "source": [
    "# 리스트 항목 정렬 후 가장 앞에 있는 항목과 가장 뒤에 있는 항목은 다음과 같이 추출할 수 있음.\n",
    "\n",
    "list1 = [\"democratic\", \"sequioa\", \"equals\", \"brrr\", \"break\", \"two\"]\n",
    "\n",
    "maxValue = max(list1, key=numberOfVowels)\n",
    "minValue = min(list1, key=numberOfVowels)\n",
    "print(maxValue)\n",
    "print(minValue)"
   ]
  },
  {
   "cell_type": "markdown",
   "metadata": {},
   "source": [
    "### 7) Lamda Expressions\n",
    "- lambda par1, par2, ...: expression\n",
    "- 복잡한 함수에는 적용할 수 없음.\n",
    "- 간단한 함수에 쉽게 적용이 가능함. 다음은 같은 결과를 반환함.\n",
    "    - list1.sort(key=lastCharacter)\n",
    "    - list1.sort(key=lambda x: x[-1])\n",
    "        - lastCharacter 함수 정의가 필요없음."
   ]
  },
  {
   "cell_type": "code",
   "execution_count": 20,
   "metadata": {},
   "outputs": [
    {
     "name": "stdout",
     "output_type": "stream",
     "text": [
      "John Backus, James Gosling, Alan Kay, Dennis Ritchie\n"
     ]
    }
   ],
   "source": [
    "names = [\"Dennis Ritchie\", \"Alan Kay\", \"John Backus\", \"James Gosling\"]\n",
    "names.sort(key=lambda name: name.split()[-1])\n",
    "nameString = \", \".join(names)\n",
    "print(nameString)"
   ]
  },
  {
   "cell_type": "code",
   "execution_count": 7,
   "metadata": {},
   "outputs": [
    {
     "data": {
      "text/plain": [
       "'Ritchie'"
      ]
     },
     "execution_count": 7,
     "metadata": {},
     "output_type": "execute_result"
    }
   ],
   "source": [
    "\"Dennis Ritchie\".split()[-1]"
   ]
  },
  {
   "cell_type": "code",
   "execution_count": 8,
   "metadata": {},
   "outputs": [
    {
     "data": {
      "text/plain": [
       "['John Backus', 'James Gosling', 'Alan Kay', 'Dennis Ritchie']"
      ]
     },
     "execution_count": 8,
     "metadata": {},
     "output_type": "execute_result"
    }
   ],
   "source": [
    "names = [\"Dennis Ritchie\", \"Alan Kay\", \"John Backus\", \"James Gosling\"]\n",
    "names.sort(key=lambda name: name.split()[-1])\n",
    "names"
   ]
  },
  {
   "cell_type": "code",
   "execution_count": 21,
   "metadata": {},
   "outputs": [
    {
     "data": {
      "text/plain": [
       "'John Backus, James Gosling, Alan Kay, Dennis Ritchie'"
      ]
     },
     "execution_count": 21,
     "metadata": {},
     "output_type": "execute_result"
    }
   ],
   "source": [
    "nameString"
   ]
  },
  {
   "cell_type": "markdown",
   "metadata": {},
   "source": [
    "### 8) The Sorted Function\n",
    "- sorted() 함수는 새로운 정렬된 리스트를 반환함.\n",
    "    - list2 = sorted(list1)\n",
    "    - list2는 list1의 모든 항목을 포함하고 있으면서 정렬되어 있는 상태임.\n",
    "- sorted() 함수도 sort() 함수와 마찬가지로 선택인자인 key와 reverse가 있음.\n",
    "- sort() 함수는 리스트에만 사용될 수 있지만, sorted() 함수는 리스트, 문자열, 튜플에도 사용될 수 있음."
   ]
  },
  {
   "cell_type": "code",
   "execution_count": 23,
   "metadata": {},
   "outputs": [
    {
     "data": {
      "text/plain": [
       "['White', 'blue', 'red']"
      ]
     },
     "execution_count": 23,
     "metadata": {},
     "output_type": "execute_result"
    }
   ],
   "source": [
    "list1 = [\"White\", \"blue\", \"red\"]\n",
    "\n",
    "list2 = sorted(list1)\n",
    "list2"
   ]
  },
  {
   "cell_type": "code",
   "execution_count": 25,
   "metadata": {},
   "outputs": [
    {
     "data": {
      "text/plain": [
       "['red', 'blue', 'White']"
      ]
     },
     "execution_count": 25,
     "metadata": {},
     "output_type": "execute_result"
    }
   ],
   "source": [
    "list2 = sorted(list1, reverse=True)\n",
    "list2"
   ]
  },
  {
   "cell_type": "code",
   "execution_count": 26,
   "metadata": {},
   "outputs": [
    {
     "data": {
      "text/plain": [
       "['red', 'blue', 'White']"
      ]
     },
     "execution_count": 26,
     "metadata": {},
     "output_type": "execute_result"
    }
   ],
   "source": [
    "list2 = sorted(list1, key=len)\n",
    "list2"
   ]
  },
  {
   "cell_type": "code",
   "execution_count": 27,
   "metadata": {},
   "outputs": [
    {
     "data": {
      "text/plain": [
       "['a', 'm', 'p', 's']"
      ]
     },
     "execution_count": 27,
     "metadata": {},
     "output_type": "execute_result"
    }
   ],
   "source": [
    "list2 = sorted(\"spam\")\n",
    "list2"
   ]
  },
  {
   "cell_type": "markdown",
   "metadata": {},
   "source": [
    "## Chapter 4.3. Program Design"
   ]
  },
  {
   "cell_type": "markdown",
   "metadata": {},
   "source": [
    "### 1) Top-Down Design(탑-다운 설계)\n",
    "- 전체기능이 구현되는 소프트웨어는 일반적으로 크고 복잡한 프로그램임.\n",
    "- 복잡한 문제를 보다 쉽게 이해할 수 있도록 하기 위해 사용하는 방법은 복잡한 문제를 상대적으로 작고 덜 복잡한 서브문제로 쪼개는 것임.\n",
    "- Stepwise refinement(단계적 정제): 반복적으로 \"나누고 정복하기(Divide & Conquer)\" 접근방법을 사용하여 대규모의 복잡한 문제를 상대적으로 작은 서브 문제로 쪼개는 접근방법임.\n",
    "- \"Top-Down Design\"과 \"Structural Programming\"은 프로그래밍 생산성을 높이기 위한 기술로 주목을 받고 있음.\n",
    "- 이러한 기술의 사용을 통해 프로그램에 대한 가독성이 높아지고 유지 보수도 쉬워짐.\n",
    "- \"Top-Down Design\"의 목적은 프로그램을 흐름도, 함수로 변경할 수 있는 개별 서브 작업으로 쪼개기 위함임.\n",
    "- \"Top-Down Design\"의 주요 아이디어는 일반화에서 구체화하는 단계로 전개함.\n",
    "- 문제를 작업으로 쪼개고 구성하는 프로세스는 계층 차트를 이용하여 도식화가 가능함.\n",
    "- Top-Down Design을 위해서는 다음과 같은 기준을 만족해야 함.\n",
    "    - 가독성이 좋아야 하고, 작은 함수 표기를 중요시해야 함.\n",
    "    - 작업은 차트를 읽어 내려가는 것과 마찬가지로 일반 단계에서 구체적 단계로 진행되어야 함.\n",
    "    - 서브 작업은 1개의 잘 정의된 작업을 실행해야 함.\n",
    "    - 서브 작업은 서로 가능한 한 서로 독립적이어야 하고, 서브 작업 간 모든 관계는 규정되어 있어야 함."
   ]
  },
  {
   "cell_type": "markdown",
   "metadata": {},
   "source": [
    "### 2) 구조적 프로그래밍\n",
    "- 현대 프로그램 설계 표준을 만족시키는 것을 구조적(structured)이라고 함.\n",
    "- 비록 구조적 프로그램의 공식적인 정의는 없지만, Top-Down Design을 사용하거나 다음과 같은 세 가지 유형의 논리구조를 사용해야 함.\n",
    "    - Sequences(순차): 명령이 순서대로 실행됨.\n",
    "    - Decisions(의사결정): 여러 프로그램 블록 중 하나는 어떤 조건에 대한 테스트에 근거하여 실행함.\n",
    "    - Loops(반복): 1개 이상의 명령문은 특정 조건이 참이라면 반복하여 실행해야 함."
   ]
  },
  {
   "cell_type": "markdown",
   "metadata": {},
   "source": [
    "### 3) 구조적 프로그래밍의 장점\n",
    "- 구조적 프로그래밍의 목적은 작성, 디버그, 이해 및 변경이 쉬운 명확한 프로그램을 생성하기 위함임.\n",
    "    - 작성하기 쉽다.\n",
    "        - 구조적 설계는 프로그래머가 먼저 큰 그림을 그린 후, 나중에 상세한 부분에 초점을 맞추도록 함으로써 프로그래머의 생산성을 증대시켜 줌.\n",
    "        - 몇 명의 프로그래머가 팀을 구성하여 1개의 큰 그림을 작성할 수 있고, 각자 특정 작업에 대한 작업을 책임지고 수행할 수 있음.\n",
    "        - 연구에 따르면 구조적 프로그램은 비구조적인 프로그램에 비해 상당히 적은 시간이 소요됨.\n",
    "        - 1개의 프로그램에서 작성된 함수는 동일 작업이 필요한 다른 프로그램에 재사용될 수 있음.\n",
    "        - 재사용된 함수는 이미 테스트와 디버깅이 완료되었기 때문에 프로그램을 작성하는데 시간을 절약할 뿐 아니라 신뢰성도 개선됨.\n",
    "    - 디버깅하기 쉽다.\n",
    "        - 각각의 함수는 하나 또는 여러 업무를 수행하기 위해 구체화되었기 때문에 하나의 함수는 신뢰성을 확인하도록 개별적으로 확인이 가능함.\n",
    "        - 드라이버라고 불리는 더미 프로그램이 특정 함수를 테스트하고, 그 프로그램은 특정 함수를 테스트할 최소한의 정의(definition)를 사용함.\n",
    "        - 만약 테스트할 함수에 return 명령문이 포함된 경우, 그 드라이버 프로그램은 인자에 다양한 값을 할당하고 반환되는 값을 테스트함.\n",
    "        - 인자는 일반적인 경우의 값과 특정한 경우의 값을 포함하고 있어야 함.\n",
    "        - 구방식의 비구조화한 프로그램은 특정 작업으로 그룹화되지 않은 선형 순차적인 명령문으로 구성되어 있음.\n",
    "            - 프로그램 로직은 상세한 작업들로 어수선하게 구성되어 있기 때문에 프로그램의 흐름을 이해하기가 쉽지가 않음.\n",
    "            - 필요한 작업을 쉽게 빼먹을 수 있고, 중요한 상세부분이 쉽게 무시될 수 있음.\n",
    "            - 또한, 프로그램의 복잡한 부분을 분리하고 조사할 수도 없음.\n",
    "            - 버그는 프로그램의 모든 부분에 존재할 수 있기 때문에 찾아내기 어려움.\n",
    "    - 이해하기 쉽다.\n",
    "        - 함수 간 상호연결은 프로그램의 구조적 설계를 보여줌.\n",
    "        - 연관된 주석과 함께 의미있는(잘 정의된) 함수 이름은 해당 함수에 의해 실행된 작업을 쉽게 식별할 수 있도록 해 줌.\n",
    "        - 의미있는(잘 정의된) 변수 이름은 프로그래머가 각 변수의 목적을 이해할 수 있도록 해 줌.\n",
    "    - 변경하기 쉽다.\n",
    "        - 구조적 프로그래밍은 자체문서화이기 때문에, 다른 프로그래머들에 의해 쉽게 해석될 수 있음.\n",
    "        - 구조적 프로그램을 변경하는 작업은 전체 복잡한 프로그램을 변경하는 것이 아니라 몇 가지 함수를 삽입하거나 변경하는 것을 말함.\n",
    "        - 이 점은 비구조적 프로그램의 상황과는 대조적이며, 확신을 갖고 프로그램을 변경하기 전 전체 로직을 이해해야 하는 비구조적 프로그램의 상황과는 대조적임."
   ]
  },
  {
   "cell_type": "markdown",
   "metadata": {},
   "source": [
    "### 4) 객체지향 프로그래밍\n",
    "- 객체는 데이터와 이를 활용하여 작동하는 코드를 캡슐화하는 것임.\n",
    "- 객체는 속성을 가지며, 메소드에 응답함.\n",
    "- 복잡한 문제에 대한 가장 효과적인 유형의 프로그래밍을 \"객체지향 프로그래밍\"이라고 함.\n",
    "- 대다수의 프로그래머들은 구조적 프로그래밍과 객체지향 프로그래밍을 혼용해서 사용하고 있음.\n",
    "- 파이썬은 객체지향 프로그램임.\n",
    "- 리스트나 문자열과 같은 모든 구조가 실제로는 객체임."
   ]
  }
 ],
 "metadata": {
  "kernelspec": {
   "display_name": "Python 3",
   "language": "python",
   "name": "python3"
  },
  "language_info": {
   "codemirror_mode": {
    "name": "ipython",
    "version": 3
   },
   "file_extension": ".py",
   "mimetype": "text/x-python",
   "name": "python",
   "nbconvert_exporter": "python",
   "pygments_lexer": "ipython3",
   "version": "3.7.7"
  }
 },
 "nbformat": 4,
 "nbformat_minor": 4
}
