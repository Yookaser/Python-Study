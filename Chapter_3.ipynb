{
 "cells": [
  {
   "cell_type": "markdown",
   "metadata": {},
   "source": [
    "## Chapter 2-3. Output(출력)"
   ]
  },
  {
   "cell_type": "markdown",
   "metadata": {},
   "source": [
    "## 1) print 함수 및 sep 인자\n",
    "- 값이 문자열이나 숫자인 print(value0, value1, value2, ..., valueN) 형태의 명령은 공백으로 구분된 연속된 값으로 된 값을 화면상에 표시함.\n",
    "- sep 인자를 이용하여 우리가 원하는 구분자를 변경할 수 있음."
   ]
  },
  {
   "cell_type": "code",
   "execution_count": 122,
   "metadata": {},
   "outputs": [
    {
     "name": "stdout",
     "output_type": "stream",
     "text": [
      "Hello World Python\n"
     ]
    }
   ],
   "source": [
    "print(\"Hello\", \"World\", \"Python\")"
   ]
  },
  {
   "cell_type": "code",
   "execution_count": 123,
   "metadata": {},
   "outputs": [
    {
     "name": "stdout",
     "output_type": "stream",
     "text": [
      "Hello*World*Python\n"
     ]
    }
   ],
   "source": [
    "print(\"Hello\", \"World\", \"Python\", sep = '*')"
   ]
  },
  {
   "cell_type": "code",
   "execution_count": 124,
   "metadata": {},
   "outputs": [
    {
     "name": "stdout",
     "output_type": "stream",
     "text": [
      "HelloWorldPython\n"
     ]
    }
   ],
   "source": [
    "print(\"Hello\", \"World\", \"Python\", sep='')"
   ]
  },
  {
   "cell_type": "code",
   "execution_count": 39,
   "metadata": {},
   "outputs": [
    {
     "name": "stdout",
     "output_type": "stream",
     "text": [
      "Hello - World - Python\n"
     ]
    }
   ],
   "source": [
    "print(\"Hello\", \"World\", \"Python\", sep=' - ')"
   ]
  },
  {
   "cell_type": "code",
   "execution_count": 126,
   "metadata": {},
   "outputs": [
    {
     "name": "stdout",
     "output_type": "stream",
     "text": [
      "012345678901234567890123456789\n",
      "Rank Player                 HR\n",
      "  1  Barry Bonds           762\n",
      "  2  Hank Aaron            755\n",
      "  3  Babe Ruth             714\n"
     ]
    }
   ],
   "source": [
    "print(\"012345678901234567890123456789\")\n",
    "print(\"Rank\".ljust(5), \"Player\".ljust(20), \"HR\".rjust(5), sep= \"\")\n",
    "print('1'.center(5), \"Barry Bonds\".ljust(20), \"762\".rjust(5), sep=\"\")\n",
    "print('2'.center(5), \"Hank Aaron\".ljust(20), \"755\".rjust(5), sep=\"\")\n",
    "print('3'.center(5), \"Babe Ruth\".ljust(20), \"714\".rjust(5), sep=\"\")"
   ]
  },
  {
   "cell_type": "markdown",
   "metadata": {},
   "source": [
    "## 2) end 인자\n",
    "- print(value0, value1, value2, ..., valueN, end=endString) 형태의 명령은 value0부터 valueN까지 화면상에 출력한 후 endString를 신규 행 연산없이 동일한 행에 표시함."
   ]
  },
  {
   "cell_type": "code",
   "execution_count": 130,
   "metadata": {},
   "outputs": [
    {
     "name": "stdout",
     "output_type": "stream",
     "text": [
      "Hello\n",
      "World!!\n"
     ]
    }
   ],
   "source": [
    "print(\"Hello\")\n",
    "print(\"World!!\")"
   ]
  },
  {
   "cell_type": "code",
   "execution_count": 129,
   "metadata": {},
   "outputs": [
    {
     "name": "stdout",
     "output_type": "stream",
     "text": [
      "Hello World!!\n"
     ]
    }
   ],
   "source": [
    "print(\"Hello\", end= ' ')\n",
    "print(\"World!!\")"
   ]
  },
  {
   "cell_type": "code",
   "execution_count": 42,
   "metadata": {},
   "outputs": [
    {
     "name": "stdout",
     "output_type": "stream",
     "text": [
      "HelloWorld!!\n"
     ]
    }
   ],
   "source": [
    "print(\"Hello\", end = '')\n",
    "print(\"World!!\")"
   ]
  },
  {
   "cell_type": "markdown",
   "metadata": {},
   "source": [
    "## 3) 이스케이프 시퀸스\n",
    "- 커서를 지시하거나 몇 개의 특수문자를 출력하도록 하는 문자열 내에 위치하는 짧은 시퀀스임.\n",
    "- \\t: 수평 탭\n",
    "- \\n: 신규 라인 연산 유도"
   ]
  },
  {
   "cell_type": "code",
   "execution_count": 134,
   "metadata": {},
   "outputs": [
    {
     "name": "stdout",
     "output_type": "stream",
     "text": [
      "01234567890123456\n",
      "a\tb\tc\n",
      "a    b    c\n",
      "Nudge,     nudge, \n",
      "wink,      wink.\n"
     ]
    }
   ],
   "source": [
    "print(\"01234567890123456\")\n",
    "print(\"a\\tb\\tc\")\n",
    "print(\"a\\tb\\tc\".expandtabs(5))\n",
    "print(\"Nudge, \\tnudge, \\nwink, \\twink.\".expandtabs(11))"
   ]
  },
  {
   "cell_type": "markdown",
   "metadata": {},
   "source": [
    "## 4) format 메소드로 출력물 정리하기\n",
    "- str1이 문자열이고, w가 폭이라면 다음은 동일한 결과를 반환함.\n",
    "    - print(\"{0:<ws}\".format(str1) --> print(str1.ljust(w))\n",
    "    - print(\"{0:^ws}\".format(str1) --> print(str1.center(w))\n",
    "    - print(\"{0:>ws}\".format(str1) --> print(str1.rjust(w))\n",
    "- num이 숫자이고, w가 폭이라면 다음은 동일한 결과를 반환함.\n",
    "    - print(\"{0:<wn}\".format(num)) --> print(str(num).ljust(w))\n",
    "    - print(\"{0:^wn}\".format(num)) --> print(str(num).center(w))\n",
    "    - print(\"{0:>wn}\".format(num)) --> print(str(num).rjust(w))"
   ]
  },
  {
   "cell_type": "code",
   "execution_count": 151,
   "metadata": {},
   "outputs": [
    {
     "name": "stdout",
     "output_type": "stream",
     "text": [
      "0123456789012345678901234567\n",
      "Rank Player               HR\n",
      "  1  Barry Bonds         762\n",
      "  2  Hank Aaron          755\n",
      "  3  Babe Ruth           714\n"
     ]
    }
   ],
   "source": [
    "print(\"0123456789012345678901234567\")\n",
    "print(\"{0:<5s}{1:<20s}{2:>3s}\".format(\"Rank\", \"Player\", \"HR\"))\n",
    "print(\"{0:^5n}{1:<20s}{2:>3n}\".format(1, \"Barry Bonds\", 762))\n",
    "print(\"{0:^5n}{1:<20s}{2:>3n}\".format(2, \"Hank Aaron\", 755))\n",
    "print(\"{0:^5n}{1:<20s}{2:>3n}\".format(3, \"Babe Ruth\", 714))"
   ]
  },
  {
   "cell_type": "code",
   "execution_count": 136,
   "metadata": {},
   "outputs": [
    {
     "name": "stdout",
     "output_type": "stream",
     "text": [
      "0123456789012345678901234567\n",
      "Rank Player               HR\n",
      "  1  Barry Bonds         762\n",
      "  2  Hank Aaron          755\n",
      "  3  Babe Ruth           714\n"
     ]
    }
   ],
   "source": [
    "print(\"0123456789012345678901234567\")\n",
    "print(\"Rank\".ljust(5), \"Player\".ljust(20), \"HR\".rjust(3), sep= \"\")\n",
    "print('1'.center(5), \"Barry Bonds\".ljust(20), \"762\".rjust(3), sep=\"\")\n",
    "print('2'.center(5), \"Hank Aaron\".ljust(20), \"755\".rjust(3), sep=\"\")\n",
    "print('3'.center(5), \"Babe Ruth\".ljust(20), \"714\".rjust(3), sep=\"\")"
   ]
  },
  {
   "cell_type": "markdown",
   "metadata": {},
   "source": [
    "- 숫자 출력 형식을 설정할 때, 숫자 형식에 해당하는 괄호 안에 문자 n을 사용하는 것보다 정수에는 문자 d를 사용하고, 소수점 문자에는 문자 f를 사용함.\n",
    "- 퍼센트로 표시되도록 하기 위해 부호 %를 사용함.\n",
    "- 폭 다음에 콤마를 삽입하여 천 단위 구분자를 설정할 수 있음."
   ]
  },
  {
   "cell_type": "code",
   "execution_count": 46,
   "metadata": {},
   "outputs": [
    {
     "name": "stdout",
     "output_type": "stream",
     "text": [
      "12345678  \n"
     ]
    }
   ],
   "source": [
    "print(\"{0:<10d}\".format(12345678)) # 숫자는 정수"
   ]
  },
  {
   "cell_type": "code",
   "execution_count": 47,
   "metadata": {},
   "outputs": [
    {
     "name": "stdout",
     "output_type": "stream",
     "text": [
      "12,345,678\n"
     ]
    }
   ],
   "source": [
    "print(\"{0:<10,d}\".format(12345678)) # 천 단위 구분자 추가됨"
   ]
  },
  {
   "cell_type": "code",
   "execution_count": 48,
   "metadata": {},
   "outputs": [
    {
     "name": "stdout",
     "output_type": "stream",
     "text": [
      "1234.57   \n"
     ]
    }
   ],
   "source": [
    "print(\"{0:<10.2f}\".format(1234.5678)) # 반올림"
   ]
  },
  {
   "cell_type": "code",
   "execution_count": 49,
   "metadata": {},
   "outputs": [
    {
     "name": "stdout",
     "output_type": "stream",
     "text": [
      "1,234.57  \n"
     ]
    }
   ],
   "source": [
    "print(\"{0:<10,.2f}\".format(1234.5678)) # 반올림 후 천 단위 구분자 추가"
   ]
  },
  {
   "cell_type": "code",
   "execution_count": 50,
   "metadata": {},
   "outputs": [
    {
     "name": "stdout",
     "output_type": "stream",
     "text": [
      "1,234.568 \n"
     ]
    }
   ],
   "source": [
    "print(\"{0:<10,.3f}\".format(1234.5678)) # 반올림 후 천 단위 구분자 추가"
   ]
  },
  {
   "cell_type": "code",
   "execution_count": 51,
   "metadata": {},
   "outputs": [
    {
     "name": "stdout",
     "output_type": "stream",
     "text": [
      "1234.57%  \n"
     ]
    }
   ],
   "source": [
    "print(\"{0:<10.2%}\".format(12.345678)) # %로 변환 후 반올림"
   ]
  },
  {
   "cell_type": "code",
   "execution_count": 52,
   "metadata": {},
   "outputs": [
    {
     "name": "stdout",
     "output_type": "stream",
     "text": [
      "1,234.568%\n"
     ]
    }
   ],
   "source": [
    "print(\"{0:10,.3%}\".format(12.3456789)) # %, 반올림, 천 단위 구분자 추가"
   ]
  },
  {
   "cell_type": "code",
   "execution_count": 53,
   "metadata": {},
   "outputs": [
    {
     "name": "stdout",
     "output_type": "stream",
     "text": [
      "The area of Texas is 268,820 square miles.\n",
      "The population of Texas is 8.56% of the U.S. population.\n"
     ]
    }
   ],
   "source": [
    "print(\"The area of {0:s} is {1:,d} square miles.\".format(\"Texas\", 268820))\n",
    "str1 = \"The population of {0:s} is {1:.2%} of the U.S. population.\"\n",
    "print(str1.format(\"Texas\", 26448000 / 309000000))"
   ]
  },
  {
   "cell_type": "markdown",
   "metadata": {},
   "source": [
    "- 문자열 '{}+{}={}' 내부에서 중괄호 {}이 위치한 부분에 format(3, 4, 3+4) 인자인 3, 4, 7이 순서대로 출력됨.\n",
    "- 문자열에서 {}을 제외한 나머지 부분인 '+ ='은 쓰여있는 그대로 출력됨. "
   ]
  },
  {
   "cell_type": "code",
   "execution_count": 54,
   "metadata": {},
   "outputs": [
    {
     "data": {
      "text/plain": [
       "'3+4=7'"
      ]
     },
     "execution_count": 54,
     "metadata": {},
     "output_type": "execute_result"
    }
   ],
   "source": [
    "'{}+{}={}'.format(3, 4, 3+4)"
   ]
  },
  {
   "cell_type": "code",
   "execution_count": 55,
   "metadata": {},
   "outputs": [
    {
     "name": "stdout",
     "output_type": "stream",
     "text": [
      "10*4=40\n"
     ]
    }
   ],
   "source": [
    "a, b = 10, 4\n",
    "print('{}*{}={}'.format(a,b,a*b))"
   ]
  },
  {
   "cell_type": "markdown",
   "metadata": {},
   "source": [
    "- {} 안에 정수를 삽입하면 인자의 순서와 출력의 순서를 조정할 수 있음."
   ]
  },
  {
   "cell_type": "code",
   "execution_count": 56,
   "metadata": {},
   "outputs": [
    {
     "name": "stdout",
     "output_type": "stream",
     "text": [
      "10 / 4 = 2.5\n"
     ]
    }
   ],
   "source": [
    "print('{0} / {1} = {2}'.format(a, b, a/b))"
   ]
  },
  {
   "cell_type": "code",
   "execution_count": 57,
   "metadata": {},
   "outputs": [
    {
     "name": "stdout",
     "output_type": "stream",
     "text": [
      "4 / 10 = 0.4\n"
     ]
    }
   ],
   "source": [
    "print('{1} / {0} = {2}'.format(a, b, b/a))"
   ]
  },
  {
   "cell_type": "code",
   "execution_count": 58,
   "metadata": {},
   "outputs": [
    {
     "name": "stdout",
     "output_type": "stream",
     "text": [
      "10 / 3 = 3.3333333\n",
      " 10   /     3 = 3.333     \n"
     ]
    }
   ],
   "source": [
    "a, b = 10, 3\n",
    "print('{0:d} / {1:d} = {2:.7f}'.format(a, b, a / b))\n",
    "print('{0:^5d} / {1:>5d} = {2:<10.3f}'.format(a, b, a / b))"
   ]
  },
  {
   "cell_type": "markdown",
   "metadata": {},
   "source": [
    "## Chapter 2-4. Lists, Tuples and Files\n",
    "- 파이썬의 핵심객체에는 숫자, 문자열, 리스트, 튜플, 세트, 딕셔너리가 있음.\n",
    "- 본 장에서는 리스트와 튜플에 대해 학습함."
   ]
  },
  {
   "cell_type": "markdown",
   "metadata": {},
   "source": [
    "## 1) List(리스트)\n",
    "- 리스트는 숫자나 문자열 등의 객체가 정렬된 데이터 형태임. \n",
    "- 객체 내 구성요소가 동일한 유형을 가질 필요는 없음.\n",
    "- 예를 들어, 숫자나 문자열만으로 리스트를 구성할 수도 숫자나 문자열을 섞어서 리스트를 구성할 수도 있음.\n",
    "    - [\"Seahawks\", 2014, \"CenturyLink Field\"]\n",
    "    - [ 5, 10, 4, 5]\n",
    "    - [\"spam\", \"ni\"]"
   ]
  },
  {
   "cell_type": "code",
   "execution_count": 72,
   "metadata": {},
   "outputs": [],
   "source": [
    "team = [\"Seahawks\", 2014, \"CentryLink Field\"]\n",
    "nums = [ 5, 10, 4, 5]\n",
    "words = [\"spam\", \"ni\"]"
   ]
  },
  {
   "cell_type": "code",
   "execution_count": 60,
   "metadata": {},
   "outputs": [
    {
     "data": {
      "text/plain": [
       "2"
      ]
     },
     "execution_count": 60,
     "metadata": {},
     "output_type": "execute_result"
    }
   ],
   "source": [
    "len(words) # 리스트 내 아이템 개수"
   ]
  },
  {
   "cell_type": "code",
   "execution_count": 61,
   "metadata": {},
   "outputs": [
    {
     "data": {
      "text/plain": [
       "10"
      ]
     },
     "execution_count": 61,
     "metadata": {},
     "output_type": "execute_result"
    }
   ],
   "source": [
    "max(nums) # 리스트 내 항목 중 최대값"
   ]
  },
  {
   "cell_type": "code",
   "execution_count": 62,
   "metadata": {},
   "outputs": [
    {
     "data": {
      "text/plain": [
       "4"
      ]
     },
     "execution_count": 62,
     "metadata": {},
     "output_type": "execute_result"
    }
   ],
   "source": [
    "min(nums) # 리스트 내 항목 중 최소값"
   ]
  },
  {
   "cell_type": "code",
   "execution_count": 63,
   "metadata": {},
   "outputs": [
    {
     "data": {
      "text/plain": [
       "24"
      ]
     },
     "execution_count": 63,
     "metadata": {},
     "output_type": "execute_result"
    }
   ],
   "source": [
    "sum(nums) # 리스트 내 항목을 더한 값"
   ]
  },
  {
   "cell_type": "code",
   "execution_count": 64,
   "metadata": {},
   "outputs": [
    {
     "data": {
      "text/plain": [
       "2"
      ]
     },
     "execution_count": 64,
     "metadata": {},
     "output_type": "execute_result"
    }
   ],
   "source": [
    "nums.count(5) # 리스트 내 특정 항목의 개수"
   ]
  },
  {
   "cell_type": "code",
   "execution_count": 65,
   "metadata": {},
   "outputs": [
    {
     "data": {
      "text/plain": [
       "2"
      ]
     },
     "execution_count": 65,
     "metadata": {},
     "output_type": "execute_result"
    }
   ],
   "source": [
    "nums.index(4) # 리스트 내 특정 항목의 인덱스 값"
   ]
  },
  {
   "cell_type": "code",
   "execution_count": 66,
   "metadata": {},
   "outputs": [
    {
     "data": {
      "text/plain": [
       "['ni', 'spam']"
      ]
     },
     "execution_count": 66,
     "metadata": {},
     "output_type": "execute_result"
    }
   ],
   "source": [
    "# 리스트 배열을 역순으로 변경\n",
    "\n",
    "words.reverse()\n",
    "words"
   ]
  },
  {
   "cell_type": "code",
   "execution_count": 152,
   "metadata": {},
   "outputs": [
    {
     "data": {
      "text/plain": [
       "[]"
      ]
     },
     "execution_count": 152,
     "metadata": {},
     "output_type": "execute_result"
    }
   ],
   "source": [
    "# 리스트 내 항목들을 모두 제거\n",
    "team = [\"Seahawks\", 2014, \"CentryLink Field\"]\n",
    "team.clear()\n",
    "team"
   ]
  },
  {
   "cell_type": "code",
   "execution_count": 68,
   "metadata": {},
   "outputs": [
    {
     "data": {
      "text/plain": [
       "[5, 10, 4, 5, 7]"
      ]
     },
     "execution_count": 68,
     "metadata": {},
     "output_type": "execute_result"
    }
   ],
   "source": [
    "# 리스트 항목에 특정 항목을 추가\n",
    "nums.append(7)\n",
    "nums"
   ]
  },
  {
   "cell_type": "code",
   "execution_count": 69,
   "metadata": {},
   "outputs": [
    {
     "data": {
      "text/plain": [
       "[5, 10, 4, 5, 7, 1, 2]"
      ]
     },
     "execution_count": 69,
     "metadata": {},
     "output_type": "execute_result"
    }
   ],
   "source": [
    "# 기존 리스트에 특정 리스트를 추가\n",
    "nums.extend([1,2])\n",
    "nums"
   ]
  },
  {
   "cell_type": "code",
   "execution_count": 153,
   "metadata": {},
   "outputs": [
    {
     "data": {
      "text/plain": [
       "['Seahawks', 2014]"
      ]
     },
     "execution_count": 153,
     "metadata": {},
     "output_type": "execute_result"
    }
   ],
   "source": [
    "# 리스트 내 특정 항목을 제거\n",
    "team = [\"Seahawks\", 2014, \"CentryLink Field\"]\n",
    "del team[-1]\n",
    "team"
   ]
  },
  {
   "cell_type": "code",
   "execution_count": 154,
   "metadata": {},
   "outputs": [
    {
     "data": {
      "text/plain": [
       "[10, 4, 5]"
      ]
     },
     "execution_count": 154,
     "metadata": {},
     "output_type": "execute_result"
    }
   ],
   "source": [
    "# 리스트 내 항목 중 인덱스 값이 작은 특정 값을 제거\n",
    "nums = [5, 10, 4, 5]\n",
    "nums.remove(5)\n",
    "nums"
   ]
  },
  {
   "cell_type": "code",
   "execution_count": 155,
   "metadata": {},
   "outputs": [
    {
     "data": {
      "text/plain": [
       "['spam', 'wink', 'ni']"
      ]
     },
     "execution_count": 155,
     "metadata": {},
     "output_type": "execute_result"
    }
   ],
   "source": [
    "# 특정 위치에 특정값을 삽입\n",
    "words = [\"spam\", \"ni\"]\n",
    "words.insert(1, \"wink\")\n",
    "words"
   ]
  },
  {
   "cell_type": "code",
   "execution_count": 156,
   "metadata": {},
   "outputs": [
    {
     "data": {
      "text/plain": [
       "['a', 1, 1, 2, 'b']"
      ]
     },
     "execution_count": 156,
     "metadata": {},
     "output_type": "execute_result"
    }
   ],
   "source": [
    "# 문자열처럼 리스트도 '+' 연산자로 두 개의 리스트를 합치는 것이 가능\n",
    "['a', 1] + [1, 2, 'b']"
   ]
  },
  {
   "cell_type": "code",
   "execution_count": 77,
   "metadata": {},
   "outputs": [
    {
     "data": {
      "text/plain": [
       "[0, 0, 0]"
      ]
     },
     "execution_count": 77,
     "metadata": {},
     "output_type": "execute_result"
    }
   ],
   "source": [
    "# 리스트 내 특정값을 '*' 연산자를 이용해 반복해서 나타내는 것 가능\n",
    "[0]*3"
   ]
  },
  {
   "cell_type": "code",
   "execution_count": 79,
   "metadata": {},
   "outputs": [
    {
     "data": {
      "text/plain": [
       "[1, 2, [3, 3, 4, [2, 'b']]]"
      ]
     },
     "execution_count": 79,
     "metadata": {},
     "output_type": "execute_result"
    }
   ],
   "source": [
    "# 리스트 내에 리스트가 항목으로 들어갈 수 있음.\n",
    "[1, 2, [3, 3, 4, [2, 'b']]]"
   ]
  },
  {
   "cell_type": "code",
   "execution_count": 80,
   "metadata": {},
   "outputs": [
    {
     "name": "stdout",
     "output_type": "stream",
     "text": [
      "['p', 'y', 't', 'h', 'o', 'n']\n",
      "['한', '양', '대', '학', '교']\n"
     ]
    }
   ],
   "source": [
    "# list() 함수를 이용해 문자열을 리스트 변환가능\n",
    "print(list('python'))\n",
    "print(list('한양대학교'))"
   ]
  },
  {
   "cell_type": "code",
   "execution_count": 157,
   "metadata": {},
   "outputs": [
    {
     "name": "stdout",
     "output_type": "stream",
     "text": [
      "Enter the first grade: 90\n",
      "Enter the second grade: 95\n",
      "Enter the third grade: 80\n",
      "Enter the fourth grade: 70\n",
      "Enter the fifth grade: 80\n",
      "Average Grade: 88.33\n"
     ]
    }
   ],
   "source": [
    "# Ex.1\n",
    "\n",
    "grades = []\n",
    "num = float(input(\"Enter the first grade: \"))\n",
    "grades.append(num)\n",
    "num = float(input(\"Enter the second grade: \"))\n",
    "grades.append(num)\n",
    "num = float(input(\"Enter the third grade: \"))\n",
    "grades.append(num)\n",
    "num = float(input(\"Enter the fourth grade: \"))\n",
    "grades.append(num)\n",
    "num = float(input(\"Enter the fifth grade: \"))\n",
    "grades.append(num)\n",
    "minimumGrade = min(grades)\n",
    "grades.remove(minimumGrade)\n",
    "minimumGrade = min(grades)\n",
    "grades.remove(minimumGrade)\n",
    "average = sum(grades)/len(grades)\n",
    "print(\"Average Grade: {0:.2f}\".format(average))"
   ]
  },
  {
   "cell_type": "markdown",
   "metadata": {},
   "source": [
    "## 2) 리스트 인덱싱\n",
    "- 리스트에서 첨자(index)를 사용해 항목 하나하나를 참조할 수 있음.\n",
    "- 첨자는 정수여야 하며, 이는 문자열에서 배운 첨자 방식과 동일함."
   ]
  },
  {
   "cell_type": "code",
   "execution_count": 82,
   "metadata": {},
   "outputs": [
    {
     "data": {
      "text/plain": [
       "1"
      ]
     },
     "execution_count": 82,
     "metadata": {},
     "output_type": "execute_result"
    }
   ],
   "source": [
    "a = [1,2,3,4,5]\n",
    "a[0]"
   ]
  },
  {
   "cell_type": "code",
   "execution_count": 83,
   "metadata": {},
   "outputs": [
    {
     "data": {
      "text/plain": [
       "3"
      ]
     },
     "execution_count": 83,
     "metadata": {},
     "output_type": "execute_result"
    }
   ],
   "source": [
    "a[2]"
   ]
  },
  {
   "cell_type": "code",
   "execution_count": 84,
   "metadata": {},
   "outputs": [
    {
     "data": {
      "text/plain": [
       "5"
      ]
     },
     "execution_count": 84,
     "metadata": {},
     "output_type": "execute_result"
    }
   ],
   "source": [
    "a[-1]"
   ]
  },
  {
   "cell_type": "code",
   "execution_count": 85,
   "metadata": {},
   "outputs": [
    {
     "name": "stdout",
     "output_type": "stream",
     "text": [
      "p o\n",
      "n t\n"
     ]
    }
   ],
   "source": [
    "b = list('python')\n",
    "print(b[0], b[4])\n",
    "print(b[-1], b[-4])"
   ]
  },
  {
   "cell_type": "code",
   "execution_count": 158,
   "metadata": {},
   "outputs": [
    {
     "data": {
      "text/plain": [
       "['p', 'y', 't', 'h', 'o', 'n']"
      ]
     },
     "execution_count": 158,
     "metadata": {},
     "output_type": "execute_result"
    }
   ],
   "source": [
    "b"
   ]
  },
  {
   "cell_type": "code",
   "execution_count": 86,
   "metadata": {},
   "outputs": [
    {
     "name": "stdout",
     "output_type": "stream",
     "text": [
      "C Python\n",
      "JAVA C++\n"
     ]
    }
   ],
   "source": [
    "pl = ['C', 'C++', 'Python', 'JAVA']\n",
    "print(pl[0], pl[2])\n",
    "print(pl[-1], pl[-3])"
   ]
  },
  {
   "cell_type": "markdown",
   "metadata": {},
   "source": [
    "- 다음과 같이 입력함으로써 인덱스 i에 있는 값을 변경할 수 있음.\n",
    "    - listName[i] = newValue"
   ]
  },
  {
   "cell_type": "code",
   "execution_count": 159,
   "metadata": {},
   "outputs": [
    {
     "data": {
      "text/plain": [
       "['한양', '대학교', '산업경영공학과']"
      ]
     },
     "execution_count": 159,
     "metadata": {},
     "output_type": "execute_result"
    }
   ],
   "source": [
    "a = [\"한양\", \"대학교\", \"재료공학과\"]\n",
    "a[2] = \"산업경영공학과\"\n",
    "a"
   ]
  },
  {
   "cell_type": "code",
   "execution_count": 88,
   "metadata": {},
   "outputs": [
    {
     "data": {
      "text/plain": [
       "['spam', 'eggs']"
      ]
     },
     "execution_count": 88,
     "metadata": {},
     "output_type": "execute_result"
    }
   ],
   "source": [
    "words = [\"spam\", \"ni\"]\n",
    "\n",
    "words[1] = \"eggs\"\n",
    "words"
   ]
  },
  {
   "cell_type": "markdown",
   "metadata": {},
   "source": [
    "- 인덱스의 범위를 벗어나는 경우"
   ]
  },
  {
   "cell_type": "code",
   "execution_count": 89,
   "metadata": {},
   "outputs": [
    {
     "ename": "IndexError",
     "evalue": "list index out of range",
     "output_type": "error",
     "traceback": [
      "\u001b[0;31m---------------------------------------------------------------------------\u001b[0m",
      "\u001b[0;31mIndexError\u001b[0m                                Traceback (most recent call last)",
      "\u001b[0;32m<ipython-input-89-7d8d5b3fd137>\u001b[0m in \u001b[0;36m<module>\u001b[0;34m\u001b[0m\n\u001b[1;32m      1\u001b[0m \u001b[0ma\u001b[0m \u001b[0;34m=\u001b[0m \u001b[0;34m[\u001b[0m\u001b[0;36m38\u001b[0m\u001b[0;34m,\u001b[0m \u001b[0;36m21\u001b[0m\u001b[0;34m,\u001b[0m \u001b[0;36m53\u001b[0m\u001b[0;34m,\u001b[0m \u001b[0;36m62\u001b[0m\u001b[0;34m,\u001b[0m \u001b[0;36m19\u001b[0m\u001b[0;34m]\u001b[0m\u001b[0;34m\u001b[0m\u001b[0;34m\u001b[0m\u001b[0m\n\u001b[0;32m----> 2\u001b[0;31m \u001b[0ma\u001b[0m\u001b[0;34m[\u001b[0m\u001b[0;36m5\u001b[0m\u001b[0;34m]\u001b[0m\u001b[0;34m\u001b[0m\u001b[0;34m\u001b[0m\u001b[0m\n\u001b[0m",
      "\u001b[0;31mIndexError\u001b[0m: list index out of range"
     ]
    }
   ],
   "source": [
    "a = [38, 21, 53, 62, 19]\n",
    "a[5]"
   ]
  },
  {
   "cell_type": "code",
   "execution_count": 90,
   "metadata": {},
   "outputs": [
    {
     "ename": "IndexError",
     "evalue": "list assignment index out of range",
     "output_type": "error",
     "traceback": [
      "\u001b[0;31m---------------------------------------------------------------------------\u001b[0m",
      "\u001b[0;31mIndexError\u001b[0m                                Traceback (most recent call last)",
      "\u001b[0;32m<ipython-input-90-389521408e73>\u001b[0m in \u001b[0;36m<module>\u001b[0;34m\u001b[0m\n\u001b[0;32m----> 1\u001b[0;31m \u001b[0ma\u001b[0m\u001b[0;34m[\u001b[0m\u001b[0;36m5\u001b[0m\u001b[0;34m]\u001b[0m \u001b[0;34m=\u001b[0m \u001b[0;36m10\u001b[0m\u001b[0;34m\u001b[0m\u001b[0;34m\u001b[0m\u001b[0m\n\u001b[0m\u001b[1;32m      2\u001b[0m \u001b[0ma\u001b[0m\u001b[0;34m\u001b[0m\u001b[0;34m\u001b[0m\u001b[0m\n",
      "\u001b[0;31mIndexError\u001b[0m: list assignment index out of range"
     ]
    }
   ],
   "source": [
    "a[5] = 10\n",
    "a"
   ]
  },
  {
   "cell_type": "markdown",
   "metadata": {},
   "source": [
    "- 리스트 마지막 요소에 접근"
   ]
  },
  {
   "cell_type": "code",
   "execution_count": 91,
   "metadata": {},
   "outputs": [
    {
     "data": {
      "text/plain": [
       "5"
      ]
     },
     "execution_count": 91,
     "metadata": {},
     "output_type": "execute_result"
    }
   ],
   "source": [
    "a = [38, 21, 53, 62, 19]\n",
    "len(a)"
   ]
  },
  {
   "cell_type": "code",
   "execution_count": 92,
   "metadata": {},
   "outputs": [
    {
     "ename": "IndexError",
     "evalue": "list index out of range",
     "output_type": "error",
     "traceback": [
      "\u001b[0;31m---------------------------------------------------------------------------\u001b[0m",
      "\u001b[0;31mIndexError\u001b[0m                                Traceback (most recent call last)",
      "\u001b[0;32m<ipython-input-92-4a84d856522b>\u001b[0m in \u001b[0;36m<module>\u001b[0;34m\u001b[0m\n\u001b[0;32m----> 1\u001b[0;31m \u001b[0ma\u001b[0m\u001b[0;34m[\u001b[0m\u001b[0;36m5\u001b[0m\u001b[0;34m]\u001b[0m\u001b[0;34m\u001b[0m\u001b[0;34m\u001b[0m\u001b[0m\n\u001b[0m",
      "\u001b[0;31mIndexError\u001b[0m: list index out of range"
     ]
    }
   ],
   "source": [
    "a[5]"
   ]
  },
  {
   "cell_type": "code",
   "execution_count": 93,
   "metadata": {},
   "outputs": [
    {
     "ename": "IndexError",
     "evalue": "list index out of range",
     "output_type": "error",
     "traceback": [
      "\u001b[0;31m---------------------------------------------------------------------------\u001b[0m",
      "\u001b[0;31mIndexError\u001b[0m                                Traceback (most recent call last)",
      "\u001b[0;32m<ipython-input-93-836f840eaf9f>\u001b[0m in \u001b[0;36m<module>\u001b[0;34m\u001b[0m\n\u001b[0;32m----> 1\u001b[0;31m \u001b[0ma\u001b[0m\u001b[0;34m[\u001b[0m\u001b[0mlen\u001b[0m\u001b[0;34m(\u001b[0m\u001b[0ma\u001b[0m\u001b[0;34m)\u001b[0m\u001b[0;34m]\u001b[0m\u001b[0;34m\u001b[0m\u001b[0;34m\u001b[0m\u001b[0m\n\u001b[0m",
      "\u001b[0;31mIndexError\u001b[0m: list index out of range"
     ]
    }
   ],
   "source": [
    "a[len(a)]"
   ]
  },
  {
   "cell_type": "code",
   "execution_count": 94,
   "metadata": {},
   "outputs": [
    {
     "data": {
      "text/plain": [
       "19"
      ]
     },
     "execution_count": 94,
     "metadata": {},
     "output_type": "execute_result"
    }
   ],
   "source": [
    "# 리스트 마지막 요소에 접근하는 방법\n",
    "a[len(a)-1]"
   ]
  },
  {
   "cell_type": "markdown",
   "metadata": {},
   "source": [
    "## 3) 리스트 슬라이싱\n",
    "- list[m:n] --> list의 인덱스 m부터 인덱스 n-1까지의 항목으로 구성\n",
    "- list[:] --> list의 모든 항목으로 구성\n",
    "- list[m:] --> list의 인덱스 m부터 끝까지의 항목으로 구성\n",
    "- list[:n] --> list의 첫항목부터 인덱스 n-1까지의 항목으로 구성"
   ]
  },
  {
   "cell_type": "code",
   "execution_count": 95,
   "metadata": {},
   "outputs": [],
   "source": [
    "list1 = ['a', 'b', 'c', 'd', 'e', 'f']"
   ]
  },
  {
   "cell_type": "code",
   "execution_count": 96,
   "metadata": {},
   "outputs": [
    {
     "data": {
      "text/plain": [
       "['b', 'c']"
      ]
     },
     "execution_count": 96,
     "metadata": {},
     "output_type": "execute_result"
    }
   ],
   "source": [
    "list1[1:3]"
   ]
  },
  {
   "cell_type": "code",
   "execution_count": 97,
   "metadata": {},
   "outputs": [
    {
     "data": {
      "text/plain": [
       "['c', 'd']"
      ]
     },
     "execution_count": 97,
     "metadata": {},
     "output_type": "execute_result"
    }
   ],
   "source": [
    "list1[-4:-2]"
   ]
  },
  {
   "cell_type": "code",
   "execution_count": 98,
   "metadata": {},
   "outputs": [
    {
     "data": {
      "text/plain": [
       "['a', 'b', 'c', 'd']"
      ]
     },
     "execution_count": 98,
     "metadata": {},
     "output_type": "execute_result"
    }
   ],
   "source": [
    "list1[:4]"
   ]
  },
  {
   "cell_type": "code",
   "execution_count": 99,
   "metadata": {
    "scrolled": true
   },
   "outputs": [
    {
     "data": {
      "text/plain": [
       "['e', 'f']"
      ]
     },
     "execution_count": 99,
     "metadata": {},
     "output_type": "execute_result"
    }
   ],
   "source": [
    "list1[4:]"
   ]
  },
  {
   "cell_type": "code",
   "execution_count": 100,
   "metadata": {},
   "outputs": [
    {
     "data": {
      "text/plain": [
       "['a', 'b', 'c', 'd', 'e', 'f']"
      ]
     },
     "execution_count": 100,
     "metadata": {},
     "output_type": "execute_result"
    }
   ],
   "source": [
    "list1[:]"
   ]
  },
  {
   "cell_type": "code",
   "execution_count": 101,
   "metadata": {},
   "outputs": [
    {
     "data": {
      "text/plain": [
       "['a', 'd', 'e', 'f']"
      ]
     },
     "execution_count": 101,
     "metadata": {},
     "output_type": "execute_result"
    }
   ],
   "source": [
    "del list1[1:3]\n",
    "list1"
   ]
  },
  {
   "cell_type": "code",
   "execution_count": 102,
   "metadata": {},
   "outputs": [
    {
     "data": {
      "text/plain": [
       "['c', 'd', 'e', 'f']"
      ]
     },
     "execution_count": 102,
     "metadata": {},
     "output_type": "execute_result"
    }
   ],
   "source": [
    "list1 = ['a', 'b', 'c', 'd', 'e', 'f']\n",
    "list1[2:len(list1)]"
   ]
  },
  {
   "cell_type": "code",
   "execution_count": 103,
   "metadata": {},
   "outputs": [
    {
     "data": {
      "text/plain": [
       "'c'"
      ]
     },
     "execution_count": 103,
     "metadata": {},
     "output_type": "execute_result"
    }
   ],
   "source": [
    "(list1[1:3])[1]"
   ]
  },
  {
   "cell_type": "code",
   "execution_count": 104,
   "metadata": {},
   "outputs": [
    {
     "data": {
      "text/plain": [
       "[]"
      ]
     },
     "execution_count": 104,
     "metadata": {},
     "output_type": "execute_result"
    }
   ],
   "source": [
    "list1[3:2]"
   ]
  },
  {
   "cell_type": "markdown",
   "metadata": {},
   "source": [
    "## 4) split & join 메소드\n",
    "- strVar이 \"value0, value1, value2, value3,...,valueN\"으로 구성된 문자열이라고 할 때,\n",
    "- split 메소드는 strVar 문자열을 리스트로 구성함.\n",
    "    - L = strVar.split(\",\")\n",
    "    - \",\", \"\\n\", \" \" 등이 separator로 사용됨.\n",
    "    - separator가 지정되지 않은 경우에는 \"\\n\"(new line), \"\\t\"(vertical tab), \" \"(space) 등의 whitespace를 인식함.\n",
    "- 반대로 join 메소드는 리스트 항목을 문자열로 구성함.\n",
    "    - strVar = \",\".join(L)"
   ]
  },
  {
   "cell_type": "code",
   "execution_count": 160,
   "metadata": {},
   "outputs": [
    {
     "name": "stdout",
     "output_type": "stream",
     "text": [
      "['a', 'b', 'c']\n",
      "['a', 'b', 'c']\n",
      "['a', 'b', 'c']\n",
      "['a', 'b', 'c']\n",
      "['a', 'b', 'c']\n"
     ]
    }
   ],
   "source": [
    "# Ex.2\n",
    "\n",
    "print(\"a,b,c\".split(','))\n",
    "print(\"a**b**c\".split('**'))\n",
    "print(\"a\\nb\\nc\".split())\n",
    "print(\"a b c\".split())\n",
    "print(\"a\\tb\\tc\".split())"
   ]
  },
  {
   "cell_type": "code",
   "execution_count": 106,
   "metadata": {},
   "outputs": [
    {
     "name": "stdout",
     "output_type": "stream",
     "text": [
      "To be or not to be.\n",
      "Snap, Crackle, Pop\n"
     ]
    }
   ],
   "source": [
    "# Ex.3\n",
    "line = [\"To\", \"be\", \"or\", \"not\", \"to\", \"be.\"]\n",
    "print(\" \".join(line))\n",
    "krispies = [\"Snap\", \"Crackle\", \"Pop\"]\n",
    "print(\", \".join(krispies))"
   ]
  },
  {
   "cell_type": "code",
   "execution_count": 161,
   "metadata": {},
   "outputs": [
    {
     "data": {
      "text/plain": [
       "'To be or not to be.'"
      ]
     },
     "execution_count": 161,
     "metadata": {},
     "output_type": "execute_result"
    }
   ],
   "source": [
    "line = [\"To\", \"be\", \"or\", \"not\", \"to\", \"be.\"]\n",
    "\" \".join(line)"
   ]
  },
  {
   "cell_type": "code",
   "execution_count": 162,
   "metadata": {},
   "outputs": [
    {
     "data": {
      "text/plain": [
       "'Snap, Crackle, Pop'"
      ]
     },
     "execution_count": 162,
     "metadata": {},
     "output_type": "execute_result"
    }
   ],
   "source": [
    "krispies = [\"Snap\", \"Crackle\", \"Pop\"]\n",
    "\", \".join(krispies)"
   ]
  },
  {
   "cell_type": "markdown",
   "metadata": {},
   "source": [
    "## 5) Tuples(튜플)\n",
    "- 튜플도 리스트와 마찬가지로 숫자나 문자열 등의 객체가 순서대로 나열된 시퀀스임.\n",
    "- 튜플과 리스트의 가장 큰 차이점은 튜플은 수정이 어렵다는 점이라고 할 수 있음.\n",
    "- 즉, 튜플에는 append, extend, insert 등의 메소드가 없음.\n",
    "- 튜플에 있는 항목은 삭제하거나 수정할 수 없음.\n",
    "- 튜플도 슬라이싱(slicing), 합치기(concatenation), 반복(repeat) 기능이 있음.\n",
    "- 튜플은 다음과 같이 생성할 수 있음. 괄호 ()를 사용하여 튜플을 생성함.\n",
    "    - t = ('a', 'b', 'c') or t = 'a', 'b', 'c'"
   ]
  },
  {
   "cell_type": "code",
   "execution_count": null,
   "metadata": {},
   "outputs": [],
   "source": [
    "t = ('a', 'b', 'c')"
   ]
  },
  {
   "cell_type": "code",
   "execution_count": 163,
   "metadata": {},
   "outputs": [
    {
     "data": {
      "text/plain": [
       "('a', 'b', 'c')"
      ]
     },
     "execution_count": 163,
     "metadata": {},
     "output_type": "execute_result"
    }
   ],
   "source": [
    "t1 = 'a', 'b', 'c'\n",
    "t1"
   ]
  },
  {
   "cell_type": "code",
   "execution_count": 164,
   "metadata": {},
   "outputs": [
    {
     "data": {
      "text/plain": [
       "tuple"
      ]
     },
     "execution_count": 164,
     "metadata": {},
     "output_type": "execute_result"
    }
   ],
   "source": [
    "type(t1)"
   ]
  },
  {
   "cell_type": "code",
   "execution_count": 165,
   "metadata": {},
   "outputs": [
    {
     "data": {
      "text/plain": [
       "('a', 'b', 'c')"
      ]
     },
     "execution_count": 165,
     "metadata": {},
     "output_type": "execute_result"
    }
   ],
   "source": [
    "# 괄호를 생략해도 튜플이 됨.\n",
    "\n",
    "t = 'a', 'b', 'c'\n",
    "t"
   ]
  },
  {
   "cell_type": "code",
   "execution_count": 166,
   "metadata": {},
   "outputs": [
    {
     "data": {
      "text/plain": [
       "tuple"
      ]
     },
     "execution_count": 166,
     "metadata": {},
     "output_type": "execute_result"
    }
   ],
   "source": [
    "type(t)"
   ]
  },
  {
   "cell_type": "code",
   "execution_count": 167,
   "metadata": {},
   "outputs": [
    {
     "data": {
      "text/plain": [
       "'a'"
      ]
     },
     "execution_count": 167,
     "metadata": {},
     "output_type": "execute_result"
    }
   ],
   "source": [
    "t[0]"
   ]
  },
  {
   "cell_type": "code",
   "execution_count": 168,
   "metadata": {},
   "outputs": [
    {
     "data": {
      "text/plain": [
       "'b'"
      ]
     },
     "execution_count": 168,
     "metadata": {},
     "output_type": "execute_result"
    }
   ],
   "source": [
    "t[1]"
   ]
  },
  {
   "cell_type": "code",
   "execution_count": 169,
   "metadata": {},
   "outputs": [
    {
     "data": {
      "text/plain": [
       "'c'"
      ]
     },
     "execution_count": 169,
     "metadata": {},
     "output_type": "execute_result"
    }
   ],
   "source": [
    "t[2]"
   ]
  },
  {
   "cell_type": "code",
   "execution_count": 170,
   "metadata": {},
   "outputs": [
    {
     "ename": "TypeError",
     "evalue": "'tuple' object does not support item assignment",
     "output_type": "error",
     "traceback": [
      "\u001b[0;31m---------------------------------------------------------------------------\u001b[0m",
      "\u001b[0;31mTypeError\u001b[0m                                 Traceback (most recent call last)",
      "\u001b[0;32m<ipython-input-170-9462236f94dc>\u001b[0m in \u001b[0;36m<module>\u001b[0;34m\u001b[0m\n\u001b[0;32m----> 1\u001b[0;31m \u001b[0mt\u001b[0m\u001b[0;34m[\u001b[0m\u001b[0;36m0\u001b[0m\u001b[0;34m]\u001b[0m \u001b[0;34m=\u001b[0m \u001b[0;34m'd'\u001b[0m\u001b[0;34m\u001b[0m\u001b[0;34m\u001b[0m\u001b[0m\n\u001b[0m\u001b[1;32m      2\u001b[0m \u001b[0mt\u001b[0m\u001b[0;34m\u001b[0m\u001b[0;34m\u001b[0m\u001b[0m\n",
      "\u001b[0;31mTypeError\u001b[0m: 'tuple' object does not support item assignment"
     ]
    }
   ],
   "source": [
    "t[0] = 'd'\n",
    "t"
   ]
  },
  {
   "cell_type": "code",
   "execution_count": 171,
   "metadata": {},
   "outputs": [
    {
     "name": "stdout",
     "output_type": "stream",
     "text": [
      "(5, 7, 6, 2)\n",
      "4 7 2 20\n",
      "5 2 (5, 7)\n"
     ]
    }
   ],
   "source": [
    "t = 5, 7, 6, 2\n",
    "print(t)\n",
    "print(len(t), max(t), min(t), sum(t))\n",
    "print(t[0], t[-1], t[:2])"
   ]
  },
  {
   "cell_type": "code",
   "execution_count": 177,
   "metadata": {},
   "outputs": [
    {
     "data": {
      "text/plain": [
       "(3, 3, 3)"
      ]
     },
     "execution_count": 177,
     "metadata": {},
     "output_type": "execute_result"
    }
   ],
   "source": [
    "(3,)*3"
   ]
  },
  {
   "cell_type": "code",
   "execution_count": 173,
   "metadata": {},
   "outputs": [
    {
     "data": {
      "text/plain": [
       "(3, 3, 3, 3, 3, 3)"
      ]
     },
     "execution_count": 173,
     "metadata": {},
     "output_type": "execute_result"
    }
   ],
   "source": [
    "(3,3)*3"
   ]
  },
  {
   "cell_type": "code",
   "execution_count": 174,
   "metadata": {},
   "outputs": [
    {
     "data": {
      "text/plain": [
       "(1, 2, 'a', 'b', 'c')"
      ]
     },
     "execution_count": 174,
     "metadata": {},
     "output_type": "execute_result"
    }
   ],
   "source": [
    "(1,2)+('a','b','c')"
   ]
  },
  {
   "cell_type": "code",
   "execution_count": 178,
   "metadata": {},
   "outputs": [
    {
     "data": {
      "text/plain": [
       "(6, 5)"
      ]
     },
     "execution_count": 178,
     "metadata": {},
     "output_type": "execute_result"
    }
   ],
   "source": [
    "# Ex.5\n",
    "x = 5\n",
    "y = 6\n",
    "x, y = y, x\n",
    "x, y"
   ]
  },
  {
   "cell_type": "markdown",
   "metadata": {},
   "source": [
    "## 6) Nested Lists\n",
    "- 리스트나 튜플 안에는 숫자나 문자열이 항목으로 구성되지만, 그 안에 리스트나 튜플이 항목으로 구성될 수도 있음.\n",
    "- 만약 L이 튜플로 이루어진 리스트라고 하면, L[0]는 첫번째 튜플을 의미하고, L[0][0]은 첫번째 튜플의 첫번째 데이터를 의미함.\n",
    "- L[-1][-1]은 마지막 튜플의 마지막 데이터를 의미함."
   ]
  },
  {
   "cell_type": "code",
   "execution_count": 179,
   "metadata": {},
   "outputs": [
    {
     "data": {
      "text/plain": [
       "1"
      ]
     },
     "execution_count": 179,
     "metadata": {},
     "output_type": "execute_result"
    }
   ],
   "source": [
    "a = [[1,2,3], [4,5]]\n",
    "a[0][0]"
   ]
  },
  {
   "cell_type": "code",
   "execution_count": 180,
   "metadata": {},
   "outputs": [
    {
     "data": {
      "text/plain": [
       "2"
      ]
     },
     "execution_count": 180,
     "metadata": {},
     "output_type": "execute_result"
    }
   ],
   "source": [
    "a[0][1]"
   ]
  },
  {
   "cell_type": "code",
   "execution_count": 181,
   "metadata": {},
   "outputs": [
    {
     "data": {
      "text/plain": [
       "4"
      ]
     },
     "execution_count": 181,
     "metadata": {},
     "output_type": "execute_result"
    }
   ],
   "source": [
    "a[1][0]"
   ]
  },
  {
   "cell_type": "code",
   "execution_count": 182,
   "metadata": {},
   "outputs": [
    {
     "name": "stdout",
     "output_type": "stream",
     "text": [
      "The 2010 population of the Midwest was 66.9 million.\n",
      "Total 2010 population of the U.S: 308.7 million.\n"
     ]
    }
   ],
   "source": [
    "# Ex.6\n",
    "\n",
    "regions = [(\"Northeast\", 55.3), (\"Midwest\", 66.9),\n",
    "          (\"South\", 114.6), (\"West\", 71.9)]\n",
    "print(\"The 2010 population of the\", regions[1][0], 'was', regions[1][1], 'million.')\n",
    "totalPop = regions[0][1] + regions[1][1] + regions[2][1] + regions[3][1]\n",
    "print(\"Total 2010 population of the U.S: {0:.1f} million.\".format(totalPop))"
   ]
  },
  {
   "cell_type": "markdown",
   "metadata": {},
   "source": [
    "## 7) Files\n",
    "- txt 파일로부터 list 만드는 것이 가능함.\n",
    "- 실행파일 동일한 폴더에 Data.txt 파일을 만들고 아래와 같은 코드를 실행"
   ]
  },
  {
   "cell_type": "code",
   "execution_count": 183,
   "metadata": {},
   "outputs": [],
   "source": [
    "infile = open(\"Data.txt\", 'r')\n",
    "L = [line.rstrip() for line in infile]\n",
    "infile.close()"
   ]
  },
  {
   "cell_type": "code",
   "execution_count": 184,
   "metadata": {},
   "outputs": [
    {
     "data": {
      "text/plain": [
       "['1', '2', '3', '4', '5', '6', '7', '8', '9']"
      ]
     },
     "execution_count": 184,
     "metadata": {},
     "output_type": "execute_result"
    }
   ],
   "source": [
    "L"
   ]
  },
  {
   "cell_type": "code",
   "execution_count": 185,
   "metadata": {},
   "outputs": [
    {
     "data": {
      "text/plain": [
       "[1, 2, 3, 4, 5, 6, 7, 8, 9]"
      ]
     },
     "execution_count": 185,
     "metadata": {},
     "output_type": "execute_result"
    }
   ],
   "source": [
    "infile = open(\"Data.txt\", 'r')\n",
    "L = [eval(line) for line in infile]\n",
    "infile.close()\n",
    "\n",
    "L"
   ]
  },
  {
   "cell_type": "code",
   "execution_count": null,
   "metadata": {},
   "outputs": [],
   "source": [
    "f = open(\"Data2.txt\", 'w')\n",
    "for i in range(1, 11):\n",
    "    data = \"%d\\n\" % i\n",
    "    f.write(data)\n",
    "f.close()"
   ]
  },
  {
   "cell_type": "code",
   "execution_count": null,
   "metadata": {},
   "outputs": [],
   "source": [
    "infile = open(\"Data2.txt\", 'r')\n",
    "L = [eval(line.rstrip()) for line in infile]\n",
    "infile.close()\n",
    "\n",
    "L"
   ]
  },
  {
   "cell_type": "code",
   "execution_count": null,
   "metadata": {},
   "outputs": [],
   "source": [
    "f = open(\"Data2.txt\", 'r')\n",
    "lines = f.readlines()\n",
    "f.close()\n",
    "\n",
    "L = []\n",
    "\n",
    "for line in lines:\n",
    "    line = line.rstrip()\n",
    "    L.append(line)\n",
    "\n",
    "L"
   ]
  },
  {
   "cell_type": "markdown",
   "metadata": {},
   "source": [
    "## 8) Mutable vs Immutable\n",
    "- 숫자, 문자열, 리스트, 튜플은 모두 객체임.\n",
    "- 객체는 데이터를 처리할 수 있는 메소드들로 이루어진 집합체(entity)라고 할 수 있음.\n",
    "- 어떤 변수에 숫자, 문자열, 리스트, 튜플 등의 객체 데이터를 할당하면, 할당된 데이터는 메모리에 저장이 됨.\n",
    "- 리스트가 만약 데이터 수정이 되면, 수정된 데이터는 저장된 메모리 위치에 저장됨.\n",
    "- 하지만, 숫자, 문자열, 튜플의 경우 값이 수정되면 새로운 메모리 위치에 저장됨.\n",
    "- 이처럼 기존 메모리 위치에서 데이터가 수정이 가능한 경우를 mutable이라고 하고,\n",
    "- 데이터 수정시 새로운 위치에 메모리가 할당되는 경우를 immutable이라고 함.\n",
    "- 리스트가 mutable 객체이고, 숫자, 문자열, 튜플은 immutable 객체임."
   ]
  },
  {
   "cell_type": "code",
   "execution_count": 186,
   "metadata": {},
   "outputs": [],
   "source": [
    "# 각 변수에 대한 데이터가 메모리에 할당됨.\n",
    "L = [5,6]\n",
    "n = 2\n",
    "s = \"Python\"\n",
    "t = ('a', 'b', 'c')"
   ]
  },
  {
   "cell_type": "code",
   "execution_count": 187,
   "metadata": {},
   "outputs": [
    {
     "data": {
      "text/plain": [
       "[5, 6, 7]"
      ]
     },
     "execution_count": 187,
     "metadata": {},
     "output_type": "execute_result"
    }
   ],
   "source": [
    "# 리스트는 mutable 객체이기 때문에 기존 메모리 위치에 수정된 데이터가 저장됨.\n",
    "L.append(7)\n",
    "L"
   ]
  },
  {
   "cell_type": "code",
   "execution_count": 188,
   "metadata": {},
   "outputs": [
    {
     "data": {
      "text/plain": [
       "3"
      ]
     },
     "execution_count": 188,
     "metadata": {},
     "output_type": "execute_result"
    }
   ],
   "source": [
    "# 숫자는 immutalble 객체이기 때문에 수정된 데이터가 새로운 메모리 위치에 저장됨.\n",
    "n += 1\n",
    "n"
   ]
  },
  {
   "cell_type": "code",
   "execution_count": 110,
   "metadata": {},
   "outputs": [
    {
     "data": {
      "text/plain": [
       "'PYTHON'"
      ]
     },
     "execution_count": 110,
     "metadata": {},
     "output_type": "execute_result"
    }
   ],
   "source": [
    "# 문자열은 immutable 객체이기 때문에 수정된 데이터가 새로운 메모리 위치에 저장됨.\n",
    "s = s.upper()\n",
    "s"
   ]
  },
  {
   "cell_type": "code",
   "execution_count": 111,
   "metadata": {},
   "outputs": [
    {
     "data": {
      "text/plain": [
       "('b', 'c')"
      ]
     },
     "execution_count": 111,
     "metadata": {},
     "output_type": "execute_result"
    }
   ],
   "source": [
    "# 튜플은 immutable 객체이기 때문에 수정된 데이터가 새로운 메모리 위치에 저장됨.\n",
    "t = t[1:]\n",
    "t"
   ]
  },
  {
   "cell_type": "markdown",
   "metadata": {},
   "source": [
    "## 9) 리스트 복사"
   ]
  },
  {
   "cell_type": "code",
   "execution_count": 113,
   "metadata": {},
   "outputs": [
    {
     "name": "stdout",
     "output_type": "stream",
     "text": [
      "['a', 'd', 'c']\n"
     ]
    }
   ],
   "source": [
    "list1 = ['a', 'b', 'c']\n",
    "list2 = list1 # list2가 list1과 동일한 메모리 위치에 저장됨.\n",
    "list2[1] = 'd' # list2의 항목 일부를 수정\n",
    "print(list1) # list2와 list1이 동일한 메모리 위치에 있기 때문에 list2를 수정하면 list1에 영향을 미침. "
   ]
  },
  {
   "cell_type": "code",
   "execution_count": 114,
   "metadata": {},
   "outputs": [
    {
     "name": "stdout",
     "output_type": "stream",
     "text": [
      "['a', 'b', 'c']\n"
     ]
    }
   ],
   "source": [
    "list1 = ['a', 'b', 'c']\n",
    "list2 = list(list1) # 새로운 메모리 위치에 list2 객체를 할당함.\n",
    "list2[1] = 'd' \n",
    "print(list1)  # list1이 영향을 받지 않음."
   ]
  },
  {
   "cell_type": "code",
   "execution_count": 115,
   "metadata": {},
   "outputs": [
    {
     "name": "stdout",
     "output_type": "stream",
     "text": [
      "['a', 'b', 'c']\n"
     ]
    }
   ],
   "source": [
    "list1 = ['a', 'b', 'c']\n",
    "list2 = list1[:] # 새로운 메모리 위치에 list2 객체를 할당함.\n",
    "list2[1] = 'd' \n",
    "print(list1) # list1이 영향을 받지 않음. "
   ]
  },
  {
   "cell_type": "markdown",
   "metadata": {},
   "source": [
    "## 10) 리스트 삭제"
   ]
  },
  {
   "cell_type": "code",
   "execution_count": 116,
   "metadata": {},
   "outputs": [
    {
     "data": {
      "text/plain": [
       "['a', 'b', 'c']"
      ]
     },
     "execution_count": 116,
     "metadata": {},
     "output_type": "execute_result"
    }
   ],
   "source": [
    "list1 = ['a', 'b', 'c', 'd', 'e']\n",
    "del list1[3:]\n",
    "list1"
   ]
  },
  {
   "cell_type": "code",
   "execution_count": 117,
   "metadata": {},
   "outputs": [
    {
     "ename": "TypeError",
     "evalue": "'tuple' object doesn't support item deletion",
     "output_type": "error",
     "traceback": [
      "\u001b[0;31m---------------------------------------------------------------------------\u001b[0m",
      "\u001b[0;31mTypeError\u001b[0m                                 Traceback (most recent call last)",
      "\u001b[0;32m<ipython-input-117-cd63fb727605>\u001b[0m in \u001b[0;36m<module>\u001b[0;34m\u001b[0m\n\u001b[1;32m      1\u001b[0m \u001b[0mtuple1\u001b[0m \u001b[0;34m=\u001b[0m \u001b[0;34m(\u001b[0m\u001b[0;34m'a'\u001b[0m\u001b[0;34m,\u001b[0m \u001b[0;34m'b'\u001b[0m\u001b[0;34m,\u001b[0m \u001b[0;34m'c'\u001b[0m\u001b[0;34m,\u001b[0m \u001b[0;34m'd'\u001b[0m\u001b[0;34m,\u001b[0m \u001b[0;34m'e'\u001b[0m\u001b[0;34m)\u001b[0m\u001b[0;34m\u001b[0m\u001b[0;34m\u001b[0m\u001b[0m\n\u001b[0;32m----> 2\u001b[0;31m \u001b[0;32mdel\u001b[0m \u001b[0mtuple1\u001b[0m\u001b[0;34m[\u001b[0m\u001b[0;36m0\u001b[0m\u001b[0;34m]\u001b[0m\u001b[0;34m\u001b[0m\u001b[0;34m\u001b[0m\u001b[0m\n\u001b[0m\u001b[1;32m      3\u001b[0m \u001b[0mtuple1\u001b[0m\u001b[0;34m\u001b[0m\u001b[0;34m\u001b[0m\u001b[0m\n",
      "\u001b[0;31mTypeError\u001b[0m: 'tuple' object doesn't support item deletion"
     ]
    }
   ],
   "source": [
    "tuple1 = ('a', 'b', 'c', 'd', 'e')\n",
    "del tuple1[0]\n",
    "tuple1"
   ]
  },
  {
   "cell_type": "markdown",
   "metadata": {},
   "source": [
    "## 11) 리스트 및 튜플 간 상호변환"
   ]
  },
  {
   "cell_type": "code",
   "execution_count": 118,
   "metadata": {},
   "outputs": [],
   "source": [
    "list2 = [1, 2, 3, 4, 5, 6]\n",
    "tuple2 = (1, 2, 3, 4, 5, 6)"
   ]
  },
  {
   "cell_type": "code",
   "execution_count": 119,
   "metadata": {},
   "outputs": [
    {
     "data": {
      "text/plain": [
       "(1, 2, 3, 4, 5, 6)"
      ]
     },
     "execution_count": 119,
     "metadata": {},
     "output_type": "execute_result"
    }
   ],
   "source": [
    "tuple3 = tuple(list2)\n",
    "tuple3"
   ]
  },
  {
   "cell_type": "code",
   "execution_count": 120,
   "metadata": {},
   "outputs": [
    {
     "data": {
      "text/plain": [
       "[1, 2, 3, 4, 5, 6]"
      ]
     },
     "execution_count": 120,
     "metadata": {},
     "output_type": "execute_result"
    }
   ],
   "source": [
    "list3 = list(tuple2)\n",
    "list3"
   ]
  },
  {
   "cell_type": "markdown",
   "metadata": {},
   "source": [
    "## 12) 추가_range를 이용하여 리스트 만들기\n",
    "- range() 함수를 이용하여 연속된 숫자를 생성하는 것이 가능하고, 이를 통해 리스트를 쉽게 생성할 수 있음."
   ]
  },
  {
   "cell_type": "code",
   "execution_count": null,
   "metadata": {},
   "outputs": [],
   "source": [
    "range(10)"
   ]
  },
  {
   "cell_type": "code",
   "execution_count": null,
   "metadata": {},
   "outputs": [],
   "source": [
    "a = list(range(10))\n",
    "a"
   ]
  },
  {
   "cell_type": "code",
   "execution_count": null,
   "metadata": {},
   "outputs": [],
   "source": [
    "b = list(range(3, 10))\n",
    "b"
   ]
  },
  {
   "cell_type": "code",
   "execution_count": null,
   "metadata": {},
   "outputs": [],
   "source": [
    "c = list(range(-4, 10, 2))\n",
    "c"
   ]
  },
  {
   "cell_type": "code",
   "execution_count": null,
   "metadata": {},
   "outputs": [],
   "source": [
    "d = list(range(10, 0, -1))\n",
    "d"
   ]
  },
  {
   "cell_type": "markdown",
   "metadata": {},
   "source": [
    "## 13) 추가_range를 이용하여 튜플 만들기\n",
    "- range() 함수를 이용하여 리스트를 만들듯이 튜플도 쉽게 만들 수 있음.\n",
    "- 만드는 방법은 리스트의 경우와 동일함."
   ]
  },
  {
   "cell_type": "code",
   "execution_count": null,
   "metadata": {},
   "outputs": [],
   "source": [
    "a = tuple(range(10))\n",
    "a"
   ]
  },
  {
   "cell_type": "code",
   "execution_count": null,
   "metadata": {},
   "outputs": [],
   "source": [
    "b = tuple(range(3, 9))\n",
    "b"
   ]
  },
  {
   "cell_type": "code",
   "execution_count": null,
   "metadata": {},
   "outputs": [],
   "source": [
    "c = tuple(range(-4, 10, 2))\n",
    "c"
   ]
  },
  {
   "cell_type": "code",
   "execution_count": null,
   "metadata": {},
   "outputs": [],
   "source": [
    "d = tuple(range(10, 0, -2))\n",
    "d"
   ]
  },
  {
   "cell_type": "code",
   "execution_count": null,
   "metadata": {},
   "outputs": [],
   "source": []
  }
 ],
 "metadata": {
  "kernelspec": {
   "display_name": "Python 3",
   "language": "python",
   "name": "python3"
  },
  "language_info": {
   "codemirror_mode": {
    "name": "ipython",
    "version": 3
   },
   "file_extension": ".py",
   "mimetype": "text/x-python",
   "name": "python",
   "nbconvert_exporter": "python",
   "pygments_lexer": "ipython3",
   "version": "3.7.7"
  }
 },
 "nbformat": 4,
 "nbformat_minor": 4
}
