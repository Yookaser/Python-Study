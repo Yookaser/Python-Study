{
 "cells": [
  {
   "cell_type": "code",
   "execution_count": 1,
   "metadata": {},
   "outputs": [],
   "source": [
    "#1\n",
    "\n",
    "infile = open(\"./Programs/Ch5/UN.txt\", 'r')\n",
    "outfile = open(\"NewFile1.txt\", 'w')\n",
    "for line in infile:\n",
    "    line = line.rstrip()\n",
    "    data = line.split(\",\") # [[나라명1, 대륙명1, 인구수1, 면적1],[나라명2, 대륙명2, 인구수2, 면적2],...]\n",
    "    data[3] = eval(data[3]) # 숫자로 변환\n",
    "    outfile.write(\"The area of {0} is {1:,.0f} sq. miles.\".format(data[0], data[3]) + '\\n')\n",
    "infile.close()\n",
    "outfile.close()"
   ]
  },
  {
   "cell_type": "code",
   "execution_count": 2,
   "metadata": {},
   "outputs": [],
   "source": [
    "#2\n",
    "\n",
    "infile = open(\"./Programs/Ch5/UN.txt\", 'r')\n",
    "outfile = open(\"NewFile2.txt\", 'w')\n",
    "for line in infile:\n",
    "    data = line.split(',')\n",
    "    outfile.write(data[0] + \" is in \" + data[1] + '.\\n')\n",
    "infile.close()\n",
    "outfile.close()"
   ]
  },
  {
   "cell_type": "code",
   "execution_count": 3,
   "metadata": {},
   "outputs": [],
   "source": [
    "#3\n",
    "\n",
    "infile = open(\"./Programs/Ch5/UN.txt\", 'r')\n",
    "outfile = open(\"NewFile3.txt\", 'w')\n",
    "for line in infile:\n",
    "    data = line.split(',') # [나라명1, 대륙명1, 인구수1, 면적1]\n",
    "    country = data[0]\n",
    "    continent = data[1]\n",
    "    area = data[3]\n",
    "    outfile.write(country + ',' + continent + ',' + area)\n",
    "infile.close()\n",
    "outfile.close()"
   ]
  },
  {
   "cell_type": "code",
   "execution_count": 4,
   "metadata": {},
   "outputs": [],
   "source": [
    "#4\n",
    "\n",
    "infile = open(\"./Programs/Ch5/UN.txt\", 'r')\n",
    "outfile = open(\"NewFile4.txt\", 'w')\n",
    "for line in infile:\n",
    "    data = line.split(',')\n",
    "    country = data[0]\n",
    "    pop = 1000000 * eval(data[2])\n",
    "    area = eval(data[3])\n",
    "    popDensity = pop / area\n",
    "    outfile.write(\"{0}'s pop. density is {1:0,.2f}\".format(country, popDensity) + \" people per sq. mile.\\n\")\n",
    "infile.close()\n",
    "outfile.close()"
   ]
  },
  {
   "cell_type": "code",
   "execution_count": 5,
   "metadata": {},
   "outputs": [],
   "source": [
    "#5\n",
    "\n",
    "def main():\n",
    "    countries = placeDataIntoList(\"./Programs/Ch5/UN.txt\")\n",
    "    countries.sort(key=byPop, reverse = True)\n",
    "    createFile(countries)\n",
    "    \n",
    "def placeDataIntoList(fileName):\n",
    "    countries = []\n",
    "    infile = open(fileName, 'r')\n",
    "    for line in infile:\n",
    "        line = line.split(',') #[나라명1, 대륙명1, 인구수1, 면적1]\n",
    "        if line[1] == \"Europe\":\n",
    "            countries.append(list((line[0], eval(line[2]))))\n",
    "    infile.close()\n",
    "    return countries # [[나라명1, 인구수1], [나라명2, 인구수2], ...]\n",
    "\n",
    "def byPop(country):\n",
    "    return country[1]\n",
    "\n",
    "def createFile(countries):\n",
    "    outfile = open(\"EuropeByPop.txt\", 'w')\n",
    "    for country in countries:\n",
    "        outfile.write(country[0] + ',' + str(country[1]) + \"\\n\")\n",
    "    outfile.close()\n",
    "    \n",
    "main()"
   ]
  },
  {
   "cell_type": "code",
   "execution_count": 6,
   "metadata": {},
   "outputs": [],
   "source": [
    "# 6\n",
    "\n",
    "def main():\n",
    "    countries = placeDataIntoList(\"./Programs/Ch5/UN.txt\")\n",
    "    countries.sort(key = byContinent)\n",
    "    createFile(countries)\n",
    "    \n",
    "def placeDataIntoList(fileName):\n",
    "    listOfInfo = []\n",
    "    infile = open(fileName, 'r')\n",
    "    line = infile.readline()\n",
    "    while line.startswith(\"A\"):\n",
    "        line2 = line.split(',')\n",
    "        listOfInfo.append(list((line2[0], line2[1]))) #[나라명1, 대륙명1, 인구수1, 면적1]\n",
    "        line = infile.readline()\n",
    "    infile.close()\n",
    "    return listOfInfo # [[나라명1, 대륙명1], [나라명2, 대륙명2], ...]\n",
    "\n",
    "def byContinent(country):\n",
    "    return country[1]\n",
    "\n",
    "def createFile(countries):\n",
    "    outfile = open(\"CountriesByContinent.txt\", 'w')\n",
    "    for country in countries:\n",
    "        outfile.write(country[0] + ',' + country[1] + '\\n')\n",
    "        \n",
    "main()"
   ]
  },
  {
   "cell_type": "code",
   "execution_count": 7,
   "metadata": {},
   "outputs": [
    {
     "name": "stdout",
     "output_type": "stream",
     "text": [
      "Symbols for the Thirty DOW stocks\n",
      "AXP   \tBA    \tCAT   \tCSCO  \tCVX   \tDD    \tDIS   \tGE    \tGS    \tHD    \tIBM   \tINTC  \tJNJ   \tJPM   \tKO    \tMCD   \tMMM   \tMRK   \tMSFT  \tNKE   \tPFE   \tPG    \tT     \tTRV   \tUNH   \tUTX   \tV     \tVZ    \tWMT   \tXOM   \t\n",
      "Enter a symbol: CSCO\n",
      "Company: Cisco Systems\n",
      "Industry: Computer networking\n",
      "Exchange: NASDAQ\n",
      "Growth in 2013: 14.15%\n",
      "Price/Earning ratio in 2013: 15.05\n"
     ]
    }
   ],
   "source": [
    "# 7\n",
    "\n",
    "def main():\n",
    "    symbols = placeSymbolsIntoList(\"./Programs/Ch5/DOW.txt\")\n",
    "    displaySymbols(symbols)\n",
    "    print()\n",
    "    symbol = input(\"Enter a symbol: \")\n",
    "    infile = open(\"./Programs/Ch5/DOW.txt\", 'r')\n",
    "    abbrev = ''\n",
    "    while abbrev != symbol:\n",
    "        line = infile.readline()\n",
    "        lineList = line.split(',')\n",
    "        abbrev = lineList[1] # [American Express,AXP,NYSE,Consumer finance,57.48,90.73,4.88,0.89]\n",
    "    print(\"Company:\", lineList[0])\n",
    "    print(\"Industry:\", lineList[3])\n",
    "    print(\"Exchange:\", lineList[2])\n",
    "    increase = ((float(lineList[5]) - float(lineList[4])) / \n",
    "               float(lineList[4]))\n",
    "    print(\"Growth in 2013: {0:0,.2f}%\".format(100*increase))\n",
    "    priceEarningsRatio = float(lineList[5]) / float(lineList[6])\n",
    "    print(\"Price/Earning ratio in 2013: {0:0,.2f}\".format(priceEarningsRatio))\n",
    "    \n",
    "def placeSymbolsIntoList(fileName):\n",
    "    symbolList = ['']*30\n",
    "    infile = open(fileName, 'r')\n",
    "    for i in range(30):\n",
    "        line = infile.readline()\n",
    "        lineList = line.split(',') # [American Express,AXP,NYSE,Consumer finance,57.48,90.73,4.88,0.89]\n",
    "        symbolList[i] = lineList[1]\n",
    "    infile.close()\n",
    "    return symbolList\n",
    "\n",
    "def displaySymbols(symbols):\n",
    "    symbols.sort()\n",
    "    print(\"Symbols for the Thirty DOW stocks\")\n",
    "    for symbol in symbols:\n",
    "        print(\"{0:5} \\t\".format(symbol), end='')\n",
    "        \n",
    "main()"
   ]
  },
  {
   "cell_type": "code",
   "execution_count": 8,
   "metadata": {
    "scrolled": true
   },
   "outputs": [
    {
     "name": "stdout",
     "output_type": "stream",
     "text": [
      "Best performing stock: Boeing          81.12%\n",
      "Worst performing stock: International Business Machines -2.08%\n"
     ]
    }
   ],
   "source": [
    "# 8\n",
    "\n",
    "def main():\n",
    "    infile = open(\"./Programs/Ch5/DOW.txt\", 'r')\n",
    "    lineLists = [line.rstrip().split(',') for line in infile]\n",
    "    infile.close()\n",
    "    lineLists.sort(key=percentageGrowth, reverse=True)\n",
    "    \n",
    "    print(\"Best performing stock: {0:15s} {1:.2f}%\".format(lineLists[0][0], percentageGrowth(lineLists[0])))\n",
    "    print(\"Worst performing stock: {0:15s} {1:.2f}%\".format(lineLists[-1][0], percentageGrowth(lineLists[-1])))\n",
    "    \n",
    "def percentageGrowth(lineList):\n",
    "    growth = ((float(lineList[5]) - float(lineList[4])) / float(lineList[4])) * 100\n",
    "    return growth\n",
    "\n",
    "main()"
   ]
  },
  {
   "cell_type": "code",
   "execution_count": 9,
   "metadata": {},
   "outputs": [
    {
     "name": "stdout",
     "output_type": "stream",
     "text": [
      "Company                   Symbol      Yield as of 12/31/2013\n",
      "AT&T                      T           5.15%\n",
      "Verizon                   VZ          4.19%\n",
      "Intel                     INTC        3.47%\n",
      "Merck                     MRK         3.46%\n",
      "McDonald's                MCD         3.22%\n",
      "Cisco Systems             CSCO        3.21%\n",
      "Chevron Corporation       CVX         3.20%\n",
      "Pfizer                    PFE         3.20%\n",
      "Procter & Gamble          PG          3.06%\n",
      "Microsoft                 MSFT        2.86%\n"
     ]
    }
   ],
   "source": [
    "# 9\n",
    "\n",
    "def main():\n",
    "    stockList = placeDataIntoList(\"./Programs/Ch5/DOW.txt\")\n",
    "    stockList.sort(key=byDividendToPriceRatio, reverse=True)\n",
    "    displayDogs(stockList)\n",
    "    \n",
    "def placeDataIntoList(fileName):\n",
    "    infile = open(fileName, 'r')\n",
    "    listOfLines = [line.rstrip() for line in infile]\n",
    "    infile.close()\n",
    "    for i in range(len(listOfLines)):\n",
    "        listOfLines[i] = listOfLines[i].split(',')\n",
    "        listOfLines[i][4] = eval(listOfLines[i][4])\n",
    "        listOfLines[i][5] = eval(listOfLines[i][5])\n",
    "        listOfLines[i][6] = eval(listOfLines[i][6])\n",
    "        listOfLines[i][7] = eval(listOfLines[i][7])\n",
    "    return listOfLines\n",
    "\n",
    "def byDividendToPriceRatio(stock):\n",
    "    return stock[7] / stock[5]\n",
    "\n",
    "def displayDogs(listOfStocks):\n",
    "    print(\"{0:25} {1:11} {2:s}\".format(\"Company\", \"Symbol\", \"Yield as of 12/31/2013\"))\n",
    "    for i in range(10):\n",
    "        print(\"{0:25} {1:11} {2:0.2f}%\".format(listOfStocks[i][0],\n",
    "                                              listOfStocks[i][1], 100*listOfStocks[i][7] / listOfStocks[i][5]))\n",
    "        \n",
    "main()"
   ]
  },
  {
   "cell_type": "code",
   "execution_count": 10,
   "metadata": {},
   "outputs": [
    {
     "name": "stdout",
     "output_type": "stream",
     "text": [
      "Company                   Symbol      Price on 12/31/2013\n",
      "Cisco Systems             CSCO        $22.43\n",
      "Intel                     INTC        $25.95\n",
      "General Electric          GE          $28.03\n",
      "Pfizer                    PFE         $30.63\n",
      "AT&T                      T           $35.16\n"
     ]
    }
   ],
   "source": [
    "# 10\n",
    "\n",
    "def main():\n",
    "    stockList = placeDataIntoList(\"./Programs/Ch5/DOW.txt\")\n",
    "    stockList.sort(key=lambda x: x[5])\n",
    "    displayDogs(stockList)\n",
    "    \n",
    "def displayDogs(stockList):\n",
    "    print(\"{0:25} {1:11} {2:s}\".format(\"Company\", \"Symbol\", \"Price on 12/31/2013\"))\n",
    "    for i in range(5):\n",
    "        print(\"{0:25} {1:11} ${2:0.2f}\".format(stockList[i][0], stockList[i][1], stockList[i][5]))\n",
    "        \n",
    "main()"
   ]
  },
  {
   "cell_type": "code",
   "execution_count": 11,
   "metadata": {},
   "outputs": [
    {
     "name": "stdout",
     "output_type": "stream",
     "text": [
      "Enter the name of a president: George W. Bush\n",
      "Justices Appointed: \n",
      "  John Roberts\n",
      "  Samuel Alito\n"
     ]
    }
   ],
   "source": [
    "# 11\n",
    "\n",
    "def main():\n",
    "    president = input(\"Enter the name of a president: \")\n",
    "    justices = getJusticesByPresident(president)\n",
    "    fixCurrentJustices(justices)\n",
    "    justices.sort(key=lambda justice: justice[5] - justice[4], reverse = True)\n",
    "    if len(justices) > 0:\n",
    "        print(\"Justices Appointed: \")\n",
    "        for justice in justices:\n",
    "            print(\"  \" + justice[0] + \" \" + justice[1])\n",
    "    else:\n",
    "        print(president, \"did not appoint any justices.\")\n",
    "        \n",
    "def getJusticesByPresident(president):\n",
    "    infile = open(\"./Programs/Ch5/Justices.txt\", 'r')\n",
    "    listOfRecords = [line for line in infile if line.split(',')[2] == president]\n",
    "    infile.close()\n",
    "    for i in range(len(listOfRecords)):\n",
    "        listOfRecords[i] = listOfRecords[i].split(',')\n",
    "        listOfRecords[i][4] = int(listOfRecords[i][4])\n",
    "        listOfRecords[i][5] = int(listOfRecords[i][5])\n",
    "    return listOfRecords\n",
    "\n",
    "def fixCurrentJustices(justices):\n",
    "    for justice in justices:\n",
    "        if justice[5] == 0:\n",
    "            justice[5] = 2015\n",
    "            \n",
    "main()"
   ]
  },
  {
   "cell_type": "code",
   "execution_count": 12,
   "metadata": {},
   "outputs": [
    {
     "name": "stdout",
     "output_type": "stream",
     "text": [
      "Current Justices:\n",
      "Antonin Scalia\n",
      "Anthony Kennedy\n",
      "Clarence Thomas\n",
      "Ruth Ginsburg\n",
      "Stephen Breyer\n",
      "John Roberts\n",
      "Samuel Alito\n",
      "Sonia Sotomayor\n",
      "Elena Kagan\n"
     ]
    }
   ],
   "source": [
    "# 12\n",
    "\n",
    "infile = open(\"./Programs/Ch5/Justices.txt\", 'r')\n",
    "listOfRecords = [line for line in infile if line.split(',')[5].rstrip() == '0']\n",
    "infile.close()\n",
    "print(\"Current Justices:\")\n",
    "\n",
    "listOfRecords.sort(key=lambda record: int(record.split(',')[4]))\n",
    "\n",
    "for record in listOfRecords:\n",
    "    print(record.split(',')[0], record.split(',')[1])"
   ]
  },
  {
   "cell_type": "code",
   "execution_count": 13,
   "metadata": {},
   "outputs": [
    {
     "name": "stdout",
     "output_type": "stream",
     "text": [
      "Justice              Appointing President\n",
      "William Brennan      Dwight Eisenhower\n",
      "Potter Stewart       Dwight Eisenhower\n",
      "Byron White          John Kennedy\n",
      "Thurgood Marshall    Lyndon Johnson\n",
      "Warren Burger        Richard Nixon\n",
      "Harry Blackman       Richard Nixon\n",
      "Lewis Powell         Richard Nixon\n",
      "William Rehnquist    Richard Nixon\n",
      "John Stevens         Gerald Ford\n"
     ]
    }
   ],
   "source": [
    "# 13\n",
    "\n",
    "infile = open(\"./Programs/Ch5/Justices.txt\", 'r')\n",
    "justices = [line for line in infile\n",
    "           if (int(line.split(',')[4]) < 1980)\n",
    "           and (int(line.split(',')[5]) >= 1980)]\n",
    "justices.sort(key=lambda x: int(x.split(',')[4]))\n",
    "print(\"{0:20} {1}\".format(\"Justice\", \"Appointing President\"))\n",
    "\n",
    "for justice in justices:\n",
    "    print(\"{0:20} {1}\".format(justice.split(',')[0] + \" \" +\n",
    "                             justice.split(',')[1], justice.split(',')[2]))"
   ]
  },
  {
   "cell_type": "code",
   "execution_count": 14,
   "metadata": {},
   "outputs": [
    {
     "data": {
      "text/plain": [
       "['William,Brennan,Dwight Eisenhower,NJ,1956,1990\\n',\n",
       " 'Potter,Stewart,Dwight Eisenhower,OH,1959,1981\\n',\n",
       " 'Byron,White,John Kennedy,CO,1962,1993\\n',\n",
       " 'Thurgood,Marshall,Lyndon Johnson,NY,1967,1992\\n',\n",
       " 'Warren,Burger,Richard Nixon,VA,1969,1987\\n',\n",
       " 'Harry,Blackman,Richard Nixon,MN,1970,1994\\n',\n",
       " 'Lewis,Powell,Richard Nixon,VA,1972,1987\\n',\n",
       " 'William,Rehnquist,Richard Nixon,AZ,1972,2005\\n',\n",
       " 'John,Stevens,Gerald Ford,IL,1975,2010\\n']"
      ]
     },
     "execution_count": 14,
     "metadata": {},
     "output_type": "execute_result"
    }
   ],
   "source": [
    "justices"
   ]
  },
  {
   "cell_type": "code",
   "execution_count": 15,
   "metadata": {},
   "outputs": [
    {
     "data": {
      "text/plain": [
       "'\\nstate = input(\"Enter a state abbreviation: \")\\ninfile = open(\"./Programs/Ch5/Justices.txt\", \\'r\\')\\njustices = [line.split(\\',\\') for line in infile if line.split(\\',\\')[-3] == state]\\n\\nfor i in range(len(justices)):\\n    if justices[i][-1].rstrip() == \\'0\\':\\n        justices[i][-1] == \\'2015\\'\\n\\ndef yearsServed(justice):\\n    return (eval(justice[-1]) - eval(justice[-2]))\\n            \\njustices.sort(key=yearsServed, reverse=True)\\n       \\nprint(\"{0:15} {1:20} {2:12}\".format(\"Justice\", \"Appointing Pres\", \"Yrs Served\"))\\n\\nfor i in range(len(justices)):\\n    print(\"{0:15} {1:20} {2:<12}\".format(justices[i][0]+ \" \" +justices[i][1],\\n                                              justices[i][-4].split()[-1], \\n                                              int(justices[i][-1]) - int(justices[i][-2])))\\n'"
      ]
     },
     "execution_count": 15,
     "metadata": {},
     "output_type": "execute_result"
    }
   ],
   "source": [
    "# 14 (생략)\n",
    "\"\"\"\n",
    "state = input(\"Enter a state abbreviation: \")\n",
    "infile = open(\"./Programs/Ch5/Justices.txt\", 'r')\n",
    "justices = [line.split(',') for line in infile if line.split(',')[-3] == state]\n",
    "\n",
    "for i in range(len(justices)):\n",
    "    if justices[i][-1].rstrip() == '0':\n",
    "        justices[i][-1] == '2015'\n",
    "\n",
    "def yearsServed(justice):\n",
    "    return (eval(justice[-1]) - eval(justice[-2]))\n",
    "            \n",
    "justices.sort(key=yearsServed, reverse=True)\n",
    "       \n",
    "print(\"{0:15} {1:20} {2:12}\".format(\"Justice\", \"Appointing Pres\", \"Yrs Served\"))\n",
    "\n",
    "for i in range(len(justices)):\n",
    "    print(\"{0:15} {1:20} {2:<12}\".format(justices[i][0]+ \" \" +justices[i][1],\n",
    "                                              justices[i][-4].split()[-1], \n",
    "                                              int(justices[i][-1]) - int(justices[i][-2])))\n",
    "\"\"\""
   ]
  },
  {
   "cell_type": "code",
   "execution_count": 16,
   "metadata": {},
   "outputs": [
    {
     "name": "stdout",
     "output_type": "stream",
     "text": [
      "Enter a number from 1 through 12: 10\n",
      "The gifts for day 3 are\n",
      "1 partridge in a pear tree\n",
      "2 turtle doves\n",
      "3 French hens\n",
      "4 calling birds\n",
      "5 gold rings\n",
      "6 geese-a-laying\n",
      "7 swans-a-swimming\n",
      "8 maids-a-milking\n",
      "9 ladies dancing\n",
      "10 lords-a-leaping\n",
      "\n",
      "Cost for day 10: $22,183.14\n",
      "Total cost for the first 10 days: $63,781.32\n"
     ]
    }
   ],
   "source": [
    "# 15\n",
    "\n",
    "def main():\n",
    "    listOfDaysCosts = createListOfDaysCosts()\n",
    "    day = int(input(\"Enter a number from 1 through 12: \"))\n",
    "    displayOutput(day, listOfDaysCosts)\n",
    "    \n",
    "def createListOfDaysCosts():\n",
    "    infile = open(\"./Programs/Ch5/Gifts.txt\", 'r')\n",
    "    costs = [float(line.split(',')[2]) for line in infile] # [1, partridge in a pear tree, 207.68]\n",
    "    infile.close()\n",
    "    listOfDaysCosts = [0]*12\n",
    "    for i in range(12):\n",
    "        listOfDaysCosts[i] = (i+1)*costs[i]\n",
    "    return listOfDaysCosts # [1*207.68, 2*62.50, 3*60.50, ...]\n",
    "\n",
    "def displayOutput(day, listOfDaysCosts):\n",
    "    print(\"The gifts for day 3 are\")\n",
    "    infile = open(\"./Programs/Ch5/Gifts.txt\", 'r')\n",
    "    for i in range(day):\n",
    "        data = infile.readline().split(',')\n",
    "        print(int(data[0]), data[1])\n",
    "    print()\n",
    "    print(\"Cost for day {0}: ${1:,.2f}\".format(day, sum(listOfDaysCosts[:day])))\n",
    "    totalCosts = 0\n",
    "    for i in range(day):\n",
    "        totalCosts += sum(listOfDaysCosts[:i + 1])\n",
    "    print(\"Total cost for the first {0} days: ${1:,.2f}\".format(day, totalCosts))\n",
    "    \n",
    "main()"
   ]
  },
  {
   "cell_type": "code",
   "execution_count": 17,
   "metadata": {},
   "outputs": [
    {
     "name": "stdout",
     "output_type": "stream",
     "text": [
      "Charles Babbage      \t Augusta Ada Byron    \t Alan Turing          \t John V. Atanasoff    \t Grace M. Hopper      \t John Mauchley        \t J. Presper Eckert    \t John von Neumann     \t John Backus          \t Reynold B. Johnson   \t Harlan B. Mills      \t Donald E. Knuth      \t Ted Hoff             \t Stan Mazer           \t Robert Noyce         \t Federico Faggin      \t Douglas Engelbart    \t Bill Gates           \t Paul Allen           \t Stephen Wozniak      \t Stephen Jobs         \t Dennis Ritchie       \t Ken Thompson         \t Alan Kay             \t Tim Berners뻃ee       \t Charles Simonyi      \t Bjarne Stroustrup    \t Richard M. Stallman  \t Marc Andreessen      \t James Gosling        \t Linus Torvalds       \t Guido van Rossum     \t \n",
      "Enter the name of a computer pioneer: Charles Babbage\n",
      "Charles Babbage is called the father of the computer\n",
      "\n"
     ]
    }
   ],
   "source": [
    "# 16\n",
    "\n",
    "def main():\n",
    "    infile = open(\"./Programs/Ch5/Pioneers.txt\", 'r')\n",
    "    listOfPioneers = [line.split(',') for line in infile]\n",
    "    for i in (range(len(listOfPioneers))):\n",
    "        print(\"{0:20} \\t\".format(listOfPioneers[i][0]), end=\" \")\n",
    "    print()\n",
    "    name = input(\"Enter the name of a computer pioneer: \")\n",
    "    \n",
    "    for j in (range(len(listOfPioneers))):\n",
    "        if listOfPioneers[j][0] == name:\n",
    "            print(name, listOfPioneers[j][1])\n",
    "            \n",
    "main()"
   ]
  },
  {
   "cell_type": "code",
   "execution_count": 18,
   "metadata": {},
   "outputs": [
    {
     "name": "stdout",
     "output_type": "stream",
     "text": [
      "Enter a state abbrevation: PA\n",
      "Dickinson College 1773\n",
      "Moravian College 1742\n",
      "University of Pennsylvania 1740\n",
      "University of Pittsburgh 1787\n",
      "Washington & Jefferson 1781\n"
     ]
    }
   ],
   "source": [
    "# 17\n",
    "\n",
    "def main():\n",
    "    colleges = getOrderedListOfColleges()\n",
    "    displayListOfColleges(colleges)\n",
    "    \n",
    "def getOrderedListOfColleges():\n",
    "    infile = open(\"./Programs/Ch5/Colleges.txt\", 'r')\n",
    "    colleges = [line.rstrip() for line in infile]\n",
    "    infile.close()\n",
    "    colleges.sort()\n",
    "    return colleges\n",
    "\n",
    "def displayListOfColleges(colleges):\n",
    "    found = False\n",
    "    abbrev = input(\"Enter a state abbrevation: \")\n",
    "    for college in colleges:\n",
    "        college = college.split(',')\n",
    "        if college[1] == abbrev:\n",
    "            print(college[0], college[2])\n",
    "            found = True\n",
    "    if not found:\n",
    "        print(\"There are no early colleges from\", abbrev + '.')\n",
    "        \n",
    "main()"
   ]
  },
  {
   "cell_type": "code",
   "execution_count": 19,
   "metadata": {},
   "outputs": [
    {
     "name": "stdout",
     "output_type": "stream",
     "text": [
      "Enter a state abbrevation: PA\n",
      "Last College in PA founded before 1800:\n",
      "University of Pittsburgh\n"
     ]
    }
   ],
   "source": [
    "# 18\n",
    "\n",
    "def main():\n",
    "    colleges = getOrderedListOfColleges()\n",
    "    displayLastCollege(colleges)\n",
    "    \n",
    "def getOrderedListOfColleges():\n",
    "    infile = open(\"./Programs/Ch5/Colleges.txt\", 'r')\n",
    "    colleges = [line.rstrip() for line in infile]\n",
    "    infile.close()\n",
    "    colleges.sort()\n",
    "    return colleges\n",
    "\n",
    "def displayLastCollege(colleges):\n",
    "    found = False\n",
    "    abbrev = input(\"Enter a state abbrevation: \")\n",
    "    listOfColleges = []\n",
    "    for college in colleges:\n",
    "        college = college.split(',')\n",
    "        if (college[1] == abbrev) and (int(college[2]) <= 1800):\n",
    "            listOfColleges.append(college)\n",
    "    listOfColleges.sort(key=lambda x:x[2], reverse=True)\n",
    "    print(\"Last College in\", abbrev, \"founded before 1800:\")\n",
    "    print(listOfColleges[0][0])\n",
    "        \n",
    "main()"
   ]
  },
  {
   "cell_type": "code",
   "execution_count": 20,
   "metadata": {},
   "outputs": [
    {
     "name": "stdout",
     "output_type": "stream",
     "text": [
      "Dover, Delaware\n",
      "Honolulu, Hawaii\n",
      "Indianapolis, Indiana\n",
      "Oklahoma City, Oklahoma\n"
     ]
    }
   ],
   "source": [
    "# 19\n",
    "\n",
    "def main():\n",
    "    infile = open(\"Programs/Ch5/StatesANC.txt\", 'r')\n",
    "    for line in infile:\n",
    "        data = line.split(',')\n",
    "        letter = data[0][0]\n",
    "        if data[3].startswith(letter):\n",
    "            print((data[3].rstrip()) + ',', data[0])\n",
    "    infile.close()\n",
    "    \n",
    "main()"
   ]
  }
 ],
 "metadata": {
  "kernelspec": {
   "display_name": "Python 3",
   "language": "python",
   "name": "python3"
  },
  "language_info": {
   "codemirror_mode": {
    "name": "ipython",
    "version": 3
   },
   "file_extension": ".py",
   "mimetype": "text/x-python",
   "name": "python",
   "nbconvert_exporter": "python",
   "pygments_lexer": "ipython3",
   "version": "3.7.7"
  }
 },
 "nbformat": 4,
 "nbformat_minor": 4
}
