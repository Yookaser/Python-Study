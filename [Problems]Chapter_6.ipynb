{
 "cells": [
  {
   "cell_type": "code",
   "execution_count": 1,
   "metadata": {},
   "outputs": [
    {
     "name": "stdout",
     "output_type": "stream",
     "text": [
      "H\n",
      "w\n"
     ]
    }
   ],
   "source": [
    "#1\n",
    "\n",
    "def main():\n",
    "    print(uc('h'))\n",
    "    print(uc('w'))\n",
    "    \n",
    "def uc(letter):\n",
    "    if letter == 'h':\n",
    "        return \"H\"\n",
    "    else:\n",
    "        return letter\n",
    "\n",
    "main()"
   ]
  },
  {
   "cell_type": "code",
   "execution_count": 2,
   "metadata": {},
   "outputs": [
    {
     "name": "stdout",
     "output_type": "stream",
     "text": [
      "You can park around 500 cars on a five-acre lot.\n"
     ]
    }
   ],
   "source": [
    "# 2\n",
    "\n",
    "def main():\n",
    "    acres = 5\n",
    "    print(\"You can park around\", cars(acres), \"cars on a five-acre lot.\")\n",
    "    \n",
    "def cars(n):\n",
    "    numberOfCars = 100 * n\n",
    "    return numberOfCars\n",
    "\n",
    "main()"
   ]
  },
  {
   "cell_type": "code",
   "execution_count": 3,
   "metadata": {},
   "outputs": [
    {
     "name": "stdout",
     "output_type": "stream",
     "text": [
      "Enter the time in which you want to double your money: 3\n",
      "To double your money in 3.0 years, get an interest rate of about 24.00%.\n"
     ]
    }
   ],
   "source": [
    "# 3\n",
    "\n",
    "def main():\n",
    "    t = float(input(\"Enter the time in which you want to double your money: \"))\n",
    "    print(\"To double your money in\", t, \"years, \", end=\"\")\n",
    "    print(\"get an interest rate of about {0:.2f}%.\".format(doublingRate(t)))\n",
    "    \n",
    "def doublingRate(x):\n",
    "    rate = 72/x\n",
    "    return rate\n",
    "\n",
    "main()"
   ]
  },
  {
   "cell_type": "code",
   "execution_count": 40,
   "metadata": {},
   "outputs": [
    {
     "name": "stdout",
     "output_type": "stream",
     "text": [
      "30 is an even number.\n"
     ]
    }
   ],
   "source": [
    "#4\n",
    "\n",
    "def main():\n",
    "    num = 30\n",
    "    if isEven(num):\n",
    "        print(num, \"is an even number.\")\n",
    "    else:\n",
    "        print(num, \"is an odd number.\")\n",
    "\n",
    "def isEven(n):\n",
    "    if n % 2 == 0:\n",
    "        return True\n",
    "    else:\n",
    "        return False\n",
    "\n",
    "main()"
   ]
  },
  {
   "cell_type": "code",
   "execution_count": 8,
   "metadata": {},
   "outputs": [
    {
     "name": "stdout",
     "output_type": "stream",
     "text": [
      "Your income tax is $499.00\n"
     ]
    }
   ],
   "source": [
    "#5\n",
    "\n",
    "def main():\n",
    "    taxableIncome = 16000\n",
    "    print(\"Your income tax is ${0:,.2f}\".format(stateTax(taxableIncome)))\n",
    "    \n",
    "def stateTax(income):\n",
    "    if income <= 15000:\n",
    "        return .03 * income\n",
    "    else:\n",
    "        return 450 + (.049 * (income - 15000))\n",
    "    \n",
    "main()"
   ]
  },
  {
   "cell_type": "code",
   "execution_count": 9,
   "metadata": {},
   "outputs": [
    {
     "name": "stdout",
     "output_type": "stream",
     "text": [
      "You weigh 7.8571428571428585 stone.\n"
     ]
    }
   ],
   "source": [
    "# 6\n",
    "\n",
    "def main():\n",
    "    massKg = 50\n",
    "    massStone(massKg * 2.2 / 14)\n",
    "    \n",
    "def massStone(num):\n",
    "    print(\"You weigh\", num, \"stone.\")\n",
    "    \n",
    "main()"
   ]
  },
  {
   "cell_type": "code",
   "execution_count": 2,
   "metadata": {},
   "outputs": [
    {
     "name": "stdout",
     "output_type": "stream",
     "text": [
      "Why do clocks run clockwise?\n",
      "\n",
      "Because they were invented in the northern\n",
      "hemisphere where sundials go clockwise.\n"
     ]
    }
   ],
   "source": [
    "# 7\n",
    "\n",
    "def main():\n",
    "    question()\n",
    "    answer()\n",
    "    \n",
    "def answer():\n",
    "    print(\"Because they were invented in the northern\")\n",
    "    print(\"hemisphere where sundials go clockwise.\")\n",
    "    \n",
    "def question():\n",
    "    print(\"Why do clocks run clockwise?\")\n",
    "    print()\n",
    "    \n",
    "main()"
   ]
  },
  {
   "cell_type": "code",
   "execution_count": 3,
   "metadata": {},
   "outputs": [
    {
     "name": "stdout",
     "output_type": "stream",
     "text": [
      "It was the best of times.\n",
      "It was the worst of times.\n"
     ]
    }
   ],
   "source": [
    "# 8\n",
    "\n",
    "def main():\n",
    "    times(\"best\")\n",
    "    times(\"worst\")\n",
    "    \n",
    "def times(word):\n",
    "    print(\"It was the\", word, \"of times.\")\n",
    "    \n",
    "main()"
   ]
  },
  {
   "cell_type": "code",
   "execution_count": 9,
   "metadata": {},
   "outputs": [
    {
     "name": "stdout",
     "output_type": "stream",
     "text": [
      "Message 1: 2020-10-10T11:25:04.994784\n",
      "Message 1: 2020-10-10T11:25:04.995009\n"
     ]
    }
   ],
   "source": [
    "# 9\n",
    "\n",
    "import datetime as dt\n",
    "\n",
    "def main():\n",
    "    log_time(\"Message 1\")\n",
    "    log_time(\"Message 1\", dt.datetime.now())\n",
    "\n",
    "def log_time(message, time=dt.datetime.now()):\n",
    "    print(\"{0}: {1}\".format(message, time.isoformat())) # iso 8601 format으로 시간을 표현, YYYY-MM-DD\n",
    "    \n",
    "main()"
   ]
  },
  {
   "cell_type": "code",
   "execution_count": 6,
   "metadata": {},
   "outputs": [
    {
     "name": "stdout",
     "output_type": "stream",
     "text": [
      "divorced\n",
      "beheaded\n",
      "died\n",
      "divorced\n",
      "beheaded\n",
      "survived\n"
     ]
    }
   ],
   "source": [
    "# 10\n",
    "\n",
    "def main():\n",
    "    commonFates()\n",
    "    print(\"died\")\n",
    "    commonFates()\n",
    "    print(\"survived\")\n",
    "    \n",
    "def commonFates():\n",
    "    print(\"divorced\")\n",
    "    print(\"beheaded\")\n",
    "    \n",
    "main()"
   ]
  },
  {
   "cell_type": "code",
   "execution_count": 11,
   "metadata": {},
   "outputs": [
    {
     "name": "stdout",
     "output_type": "stream",
     "text": [
      "Kailash Satyarthi won the Nobel Peace prize.\n",
      "Patrick Modiano won the Nobel Literature prize.\n"
     ]
    }
   ],
   "source": [
    "# 11\n",
    "\n",
    "def main():\n",
    "    winner = \"Kailash Satyarthi\"\n",
    "    field = \"Peace\"\n",
    "    nobelPrizeWinner(winner, field)\n",
    "    winner = \"Patrick Modiano\"\n",
    "    field = \"Literature\"\n",
    "    nobelPrizeWinner(winner, field)\n",
    "    \n",
    "def nobelPrizeWinner(winner, field):\n",
    "    print(winner, \"won the Nobel\", field, \"prize.\")\n",
    "    \n",
    "main()"
   ]
  },
  {
   "cell_type": "code",
   "execution_count": 12,
   "metadata": {},
   "outputs": [
    {
     "name": "stdout",
     "output_type": "stream",
     "text": [
      "7\n",
      "5\n"
     ]
    }
   ],
   "source": [
    "# 13\n",
    "\n",
    "x = 7 # global variable\n",
    "\n",
    "def main():\n",
    "    x = 5\n",
    "    f()\n",
    "    print(x)\n",
    "    \n",
    "def f():\n",
    "    print(x)\n",
    "    \n",
    "main()"
   ]
  },
  {
   "cell_type": "code",
   "execution_count": 9,
   "metadata": {},
   "outputs": [
    {
     "name": "stdout",
     "output_type": "stream",
     "text": [
      "5\n",
      "5\n"
     ]
    }
   ],
   "source": [
    "# 14\n",
    "\n",
    "x = 7\n",
    "\n",
    "def main():\n",
    "    global x\n",
    "    x = 5\n",
    "    f()\n",
    "    print(x)\n",
    "    \n",
    "def f():\n",
    "    print(x)\n",
    "    \n",
    "main()"
   ]
  },
  {
   "cell_type": "code",
   "execution_count": 13,
   "metadata": {},
   "outputs": [
    {
     "name": "stdout",
     "output_type": "stream",
     "text": [
      "Fredrick\n"
     ]
    }
   ],
   "source": [
    "# 15\n",
    "\n",
    "name = \"Fred\"\n",
    "\n",
    "def main():\n",
    "    global name\n",
    "    otherName = getName()\n",
    "    name += otherName\n",
    "    print(name)\n",
    "    \n",
    "def getName():\n",
    "    name = \"rick\"\n",
    "    return name\n",
    "\n",
    "main()"
   ]
  },
  {
   "cell_type": "code",
   "execution_count": 13,
   "metadata": {},
   "outputs": [
    {
     "name": "stdout",
     "output_type": "stream",
     "text": [
      "SPAM\n"
     ]
    }
   ],
   "source": [
    "# 16\n",
    "\n",
    "word = \"spam\"\n",
    "\n",
    "def main():\n",
    "    f()\n",
    "    print(word)\n",
    "    \n",
    "def f():\n",
    "    global word\n",
    "    word = word.upper()\n",
    "    \n",
    "main()"
   ]
  },
  {
   "cell_type": "code",
   "execution_count": 14,
   "metadata": {},
   "outputs": [
    {
     "name": "stdout",
     "output_type": "stream",
     "text": [
      "Total cost: $260.00\n"
     ]
    }
   ],
   "source": [
    "# 17\n",
    "\n",
    "PLANE_RIDE_COST = 200\n",
    "\n",
    "def main():\n",
    "    noOfDays = 3\n",
    "    cost = PLANE_RIDE_COST + noOfDays * 20\n",
    "    print(\"Total cost: ${0:,.2f}\".format(cost))\n",
    "    \n",
    "main()"
   ]
  },
  {
   "cell_type": "code",
   "execution_count": 15,
   "metadata": {},
   "outputs": [
    {
     "name": "stdout",
     "output_type": "stream",
     "text": [
      "You owe $900,000.00 in estate taxes.\n"
     ]
    }
   ],
   "source": [
    "# 18\n",
    "\n",
    "ESTATE_TAX_EXEMPTION = 1000000\n",
    "TAX_RATE = .45\n",
    "\n",
    "def main():\n",
    "    valueOfEstate = 3000000\n",
    "    tax = TAX_RATE * (valueOfEstate - ESTATE_TAX_EXEMPTION)\n",
    "    print(\"You owe ${0:,.2f} in estate taxes.\".format(tax))\n",
    "    \n",
    "main()"
   ]
  },
  {
   "cell_type": "code",
   "execution_count": 15,
   "metadata": {},
   "outputs": [
    {
     "name": "stdout",
     "output_type": "stream",
     "text": [
      "15\n"
     ]
    }
   ],
   "source": [
    "# 19\n",
    "\n",
    "def main():\n",
    "    num = 5\n",
    "    num1 = triple(num)\n",
    "    print(num1)\n",
    "    \n",
    "def triple(num):\n",
    "    num = 3 * num\n",
    "    return num\n",
    "    \n",
    "main()"
   ]
  },
  {
   "cell_type": "code",
   "execution_count": 16,
   "metadata": {},
   "outputs": [
    {
     "name": "stdout",
     "output_type": "stream",
     "text": [
      "brag\n",
      "garb\n"
     ]
    }
   ],
   "source": [
    "# 20\n",
    "\n",
    "def main():\n",
    "    word = \"garb\"\n",
    "    reverseWord(word)\n",
    "    print(word)\n",
    "    \n",
    "def reverseWord(word):\n",
    "    list1 = list(word)\n",
    "    list1.reverse()\n",
    "    word = \"\".join(list1)\n",
    "    print(word)\n",
    "    \n",
    "main()"
   ]
  },
  {
   "cell_type": "code",
   "execution_count": 17,
   "metadata": {},
   "outputs": [],
   "source": [
    "outfile = open(\"Independence.txt\", 'w')\n",
    "outfile.write(\"When\\n\")\n",
    "outfile.write(\"in\\n\")\n",
    "outfile.write(\"the\\n\")\n",
    "outfile.write(\"course\\n\")\n",
    "outfile.write(\"of\\n\")\n",
    "outfile.write(\"human\\n\")\n",
    "outfile.write(\"events\\n\")\n",
    "outfile.close()"
   ]
  },
  {
   "cell_type": "code",
   "execution_count": 18,
   "metadata": {},
   "outputs": [],
   "source": [
    "outfile = open(\"Independence.txt\", 'w')\n",
    "list1 = [\"When\\n\", \"in\\n\", \"the\\n\", \"course\\n\", \"of\\n\", \"human\\n\", \"events\\n\"]\n",
    "outfile.writelines(list1)\n",
    "outfile.close()"
   ]
  },
  {
   "cell_type": "code",
   "execution_count": 19,
   "metadata": {},
   "outputs": [
    {
     "name": "stdout",
     "output_type": "stream",
     "text": [
      "When in the course of human events\n"
     ]
    }
   ],
   "source": [
    "# 21\n",
    "\n",
    "def main():\n",
    "    # The file independence.txt contains seven lines.\n",
    "    # Each line contains one of the following words:\n",
    "    # When, in, the, course, of, human, events\n",
    "    independenceList = obtainList(\"Independence.txt\")\n",
    "    print(\" \".join(independenceList))\n",
    "    \n",
    "def obtainList(file):\n",
    "    infile = open(file, 'r')\n",
    "    independenceList = [line.rstrip() for line in infile]\n",
    "    infile.close()\n",
    "    return independenceList\n",
    "\n",
    "main()"
   ]
  },
  {
   "cell_type": "code",
   "execution_count": 20,
   "metadata": {},
   "outputs": [
    {
     "name": "stdout",
     "output_type": "stream",
     "text": [
      "90\n"
     ]
    }
   ],
   "source": [
    "# 22\n",
    "\n",
    "def main():\n",
    "    grades = [80, 75, 90, 100]\n",
    "    grades = dropLowest(grades)\n",
    "    average = sum(grades) / len(grades)\n",
    "    print(round(average))\n",
    "    \n",
    "def dropLowest(grades):\n",
    "    lowestGrade = min(grades)\n",
    "    grades.remove(lowestGrade)\n",
    "    return grades\n",
    "\n",
    "main()"
   ]
  },
  {
   "cell_type": "code",
   "execution_count": 23,
   "metadata": {},
   "outputs": [
    {
     "name": "stdout",
     "output_type": "stream",
     "text": [
      "Enter grade on midterm exam: 56\n",
      "Enter grade on final exam: 67\n",
      "Enter type of student (Pass/Fail) or (Letter Grade): letter grade\n",
      "Semester grade: D\n"
     ]
    }
   ],
   "source": [
    "# 23\n",
    "\n",
    "def main():\n",
    "    ## Determine semester grade.\n",
    "    grade = getAverageGrade()\n",
    "    typeOfStudent = getTypeOfStudent()\n",
    "    if typeOfStudent == \"PASS/FAIL\":\n",
    "        semesterGrade = calculatePFgrade(grade)\n",
    "    else:\n",
    "        semesterGrade = calculateLetterGrade(grade)\n",
    "    print(\"Semester grade:\", semesterGrade)\n",
    "    \n",
    "def getAverageGrade():\n",
    "    midtermGrade = int(input(\"Enter grade on midterm exam: \"))\n",
    "    finalExamGrade = int(input(\"Enter grade on final exam: \"))\n",
    "    return round((midtermGrade + finalExamGrade) / 2)\n",
    "\n",
    "def getTypeOfStudent():\n",
    "    prompt = \"Enter type of student (Pass/Fail) or (Letter Grade): \"\n",
    "    typeOfStudent = input(prompt)\n",
    "    return typeOfStudent.upper()\n",
    "\n",
    "def calculatePFgrade(grade):\n",
    "    if grade >= 60:\n",
    "        return \"Pass\"\n",
    "    else:\n",
    "        return \"Fail\"\n",
    "    \n",
    "def calculateLetterGrade(grade):\n",
    "    if grade >= 90:\n",
    "        return \"A\"\n",
    "    elif grade >= 80:\n",
    "        return \"B\"\n",
    "    elif grade >= 70:\n",
    "        return \"C\"\n",
    "    elif grade >= 60:\n",
    "        return \"D\"\n",
    "    else:\n",
    "        return \"F\"\n",
    "    \n",
    "main()"
   ]
  },
  {
   "cell_type": "code",
   "execution_count": 24,
   "metadata": {},
   "outputs": [
    {
     "name": "stdout",
     "output_type": "stream",
     "text": [
      "Enter a quotation: You miss 100% of the shots you never take. - Wayne Gretsky\n",
      "\n",
      "MENU\n",
      " 1. Count number of vowels in the quotation.\n",
      " 2. Count number of uppercase letters in the quotation.\n",
      "Select 1 or 2 from menu: 1\n",
      "Number of vowels: 15\n"
     ]
    }
   ],
   "source": [
    "# 24\n",
    "\n",
    "def main():\n",
    "    # Analyze a quotation.\n",
    "    quotation = input(\"Enter a quotation: \")\n",
    "    print(\"\\nMENU\")\n",
    "    print(\" 1. Count number of vowels in the quotation.\")\n",
    "    print(\" 2. Count number of uppercase letters in the quotation.\")\n",
    "    choice = int(input(\"Select 1 or 2 from menu: \"))\n",
    "    if choice == 1:\n",
    "        print(\"Number of vowels:\", calculateNumberOfVowels(quotation))\n",
    "    else:\n",
    "        print(\"Number of uppercase letters:\",\n",
    "             calculateNumberOfCaps(quotation))\n",
    "        \n",
    "def calculateNumberOfVowels(quotation):\n",
    "    numberOfVowels = 0\n",
    "    for ch in quotation:\n",
    "        if ch.upper() in \"AEIOU\":\n",
    "            numberOfVowels += 1\n",
    "    return numberOfVowels\n",
    "\n",
    "def calculateNumberOfCaps(quotation):\n",
    "    numberOfCaps = 0\n",
    "    for ch in quotation:\n",
    "        if \"A\" <= ch <= \"Z\":\n",
    "            numberOfCaps += 1\n",
    "    return numberOfCaps\n",
    "\n",
    "main()"
   ]
  },
  {
   "cell_type": "code",
   "execution_count": 25,
   "metadata": {},
   "outputs": [],
   "source": [
    "# 25\n",
    "\n",
    "def maximum(list1):\n",
    "    largestNumber = list1[0]\n",
    "    for number in list1:\n",
    "        if number > largestNumber:\n",
    "            largestNumber = number\n",
    "    return largestNumber"
   ]
  },
  {
   "cell_type": "code",
   "execution_count": 26,
   "metadata": {},
   "outputs": [],
   "source": [
    "# 26\n",
    "\n",
    "def Count(string):\n",
    "    i = 0\n",
    "    j = 0\n",
    "    for ch in string: # \"hanyang\"\n",
    "        if ch not in string[j+1:]:\n",
    "            i += 1\n",
    "        else:\n",
    "            pass\n",
    "        j += 1\n",
    "    return i"
   ]
  },
  {
   "cell_type": "code",
   "execution_count": 27,
   "metadata": {},
   "outputs": [
    {
     "data": {
      "text/plain": [
       "2"
      ]
     },
     "execution_count": 27,
     "metadata": {},
     "output_type": "execute_result"
    }
   ],
   "source": [
    "Count(\"aaaiii\")"
   ]
  },
  {
   "cell_type": "code",
   "execution_count": 28,
   "metadata": {},
   "outputs": [
    {
     "data": {
      "text/plain": [
       "9"
      ]
     },
     "execution_count": 28,
     "metadata": {},
     "output_type": "execute_result"
    }
   ],
   "source": [
    "Count(\"university\")"
   ]
  },
  {
   "cell_type": "code",
   "execution_count": 30,
   "metadata": {},
   "outputs": [
    {
     "name": "stdout",
     "output_type": "stream",
     "text": [
      "Enter a word: hanyang\n",
      "hanyang is not a Qwerty word.\n"
     ]
    }
   ],
   "source": [
    "# 27\n",
    "\n",
    "def main():\n",
    "    word = input(\"Enter a word: \")\n",
    "    if isQwerty(word):\n",
    "        print(word, \"is a Qwerty word.\")\n",
    "    else:\n",
    "        print(word, \"is not a Qwerty word.\")\n",
    "        \n",
    "def isQwerty(word):\n",
    "    word = word.upper()\n",
    "    for ch in word:\n",
    "        if ch not in \"QWERTYUIOP\":\n",
    "            return False # 적어도 하나의 문자가 qwertyuiop에 없으면 False를 반환\n",
    "    return True\n",
    "\n",
    "main()"
   ]
  },
  {
   "cell_type": "code",
   "execution_count": 33,
   "metadata": {},
   "outputs": [
    {
     "name": "stdout",
     "output_type": "stream",
     "text": [
      "Enter a positive integer: 0\n",
      "You entered zero or negative integer.\n",
      "Enter a positive integer: 4\n",
      "4! is 24\n"
     ]
    }
   ],
   "source": [
    "# 28\n",
    "\n",
    "def main():\n",
    "    num = eval(input(\"Enter a positive integer: \"))\n",
    "    if getN(num):\n",
    "        print(\"You entered zero or negative integer.\")\n",
    "        num = eval(input(\"Enter a positive integer: \"))\n",
    "    print(\"{}! is\".format(num), fact(num))\n",
    "\n",
    "def getN(n):\n",
    "    if n <= 0:\n",
    "        return True\n",
    "    else:\n",
    "        return False\n",
    "\n",
    "def fact(num):\n",
    "    result = 1\n",
    "    for i in range(1, num+1):\n",
    "        result = result * i\n",
    "    return result\n",
    "\n",
    "main() "
   ]
  },
  {
   "cell_type": "code",
   "execution_count": 61,
   "metadata": {},
   "outputs": [
    {
     "name": "stdout",
     "output_type": "stream",
     "text": [
      "Option 1 = $1,000.00.\n",
      "Option 2 = $1,023.00.\n",
      "Option 2 pays better.\n"
     ]
    }
   ],
   "source": [
    "# 29\n",
    "\n",
    "def main():\n",
    "    opt1 = option1()\n",
    "    opt2 = option2()\n",
    "    print(\"Option 1 = ${0:,.2f}.\".format(opt1))\n",
    "    print(\"Option 2 = ${0:,.2f}.\".format(opt2))\n",
    "    if opt1 > opt2:\n",
    "        print(\"Option 1 pays better.\")\n",
    "    elif opt1 == opt2:\n",
    "        print(\"Options pay the same.\")\n",
    "    else:\n",
    "        print(\"Option 2 pays better.\")\n",
    "        \n",
    "def option1():\n",
    "    sum = 0\n",
    "    for i in range(10):\n",
    "        sum += 100\n",
    "    return sum\n",
    "\n",
    "def option2():\n",
    "    sum = 0\n",
    "    daySalary = 1\n",
    "    for i in range(10):\n",
    "        sum += daySalary\n",
    "        daySalary *= 2\n",
    "    return sum\n",
    "\n",
    "main()  "
   ]
  },
  {
   "cell_type": "code",
   "execution_count": 35,
   "metadata": {},
   "outputs": [
    {
     "name": "stdout",
     "output_type": "stream",
     "text": [
      "Enter first name: John\n",
      "Enter last name: Doe\n",
      "Enter current salary: 48000\n",
      "New salary for John Doe $50,160.00\n"
     ]
    }
   ],
   "source": [
    "# 30\n",
    "\n",
    "def main():\n",
    "    name()\n",
    "    currentSalary = eval(input(\"Enter current salary: \"))\n",
    "    print(\"New salary for\", firstName, lastName, \"${0:,.2f}\".format(newSalary(currentSalary)))\n",
    "        \n",
    "def name():\n",
    "    global firstName\n",
    "    global lastName    \n",
    "    firstName = input(\"Enter first name: \")\n",
    "    lastName = input(\"Enter last name: \")\n",
    "\n",
    "def newSalary(salary):\n",
    "    if salary < 40000:\n",
    "        salary = salary * 1.05\n",
    "    else:\n",
    "        salary = salary + 2000 + (salary - 40000) * 0.02\n",
    "    return salary\n",
    "\n",
    "main()"
   ]
  },
  {
   "cell_type": "code",
   "execution_count": 3,
   "metadata": {},
   "outputs": [],
   "source": [
    "outfile = open(\"Months.txt\", 'w')\n",
    "ListOfMonths = [\"January\\n\", \"February\\n\", \"March\\n\", \"April\\n\", \"May\\n\", \"June\\n\", \"July\\n\", \n",
    "                \"August\\n\", \"September\\n\", \"October\\n\", \"November\\n\", \"December\\n\"]\n",
    "outfile.writelines(ListOfMonths)\n",
    "outfile.close()"
   ]
  },
  {
   "cell_type": "code",
   "execution_count": 36,
   "metadata": {},
   "outputs": [
    {
     "name": "stdout",
     "output_type": "stream",
     "text": [
      "The R months are:\n",
      "January, February, March, April, September, October, November, December\n"
     ]
    }
   ],
   "source": [
    "# 32\n",
    "\n",
    "def main():\n",
    "    fillList()\n",
    "    deleteList()\n",
    "    displayNameOfList()\n",
    "\n",
    "def fillList():\n",
    "    global months\n",
    "    months = []\n",
    "    infile = open(\"Months.txt\", 'r')\n",
    "    for line in infile:\n",
    "        months.append(line.rstrip())\n",
    "    return months\n",
    "\n",
    "def deleteList():\n",
    "    global remainList\n",
    "    remainList = []\n",
    "    for month in months:\n",
    "        if 'r' in month:\n",
    "            remainList.append(month)\n",
    "        else:\n",
    "            pass        \n",
    "    return remainList\n",
    "        \n",
    "def displayNameOfList():\n",
    "    print(\"The R months are:\")\n",
    "    print(\", \".join(remainList))\n",
    "\n",
    "main()"
   ]
  },
  {
   "cell_type": "code",
   "execution_count": 64,
   "metadata": {},
   "outputs": [],
   "source": [
    "outfile = open(\"Colors_revised.txt\", 'w')\n",
    "\n",
    "infile = open(\"Colors.txt\", 'r')\n",
    "\n",
    "for line in infile:\n",
    "    outfile.write(line.capitalize())\n",
    "\n",
    "outfile.close()\n",
    "infile.close()"
   ]
  },
  {
   "cell_type": "code",
   "execution_count": 69,
   "metadata": {},
   "outputs": [
    {
     "name": "stdout",
     "output_type": "stream",
     "text": [
      "Enter a letter: D\n",
      "  Denim\n",
      "  Desert\n"
     ]
    }
   ],
   "source": [
    "# 33\n",
    "\n",
    "\n",
    "colors = []\n",
    "\n",
    "def main():\n",
    "    letter = requestInitialLetter()\n",
    "    colors = fillListOfColors(letter)\n",
    "    displayNamesOfColors(colors)\n",
    "\n",
    "\n",
    "def requestInitialLetter():\n",
    "    inputLetter = input(\"Enter a letter: \")\n",
    "    return inputLetter\n",
    "\n",
    "def fillListOfColors(letter):\n",
    "    infile = open(\"Colors_revised.txt\", 'r')\n",
    "    for line in infile:\n",
    "        if letter in line:\n",
    "            colors.append(line)\n",
    "    return colors\n",
    "\n",
    "def displayNamesOfColors(colors):\n",
    "    for color in colors:\n",
    "        print(\" \", color, end=\"\")\n",
    "        \n",
    "main()"
   ]
  },
  {
   "cell_type": "code",
   "execution_count": 76,
   "metadata": {},
   "outputs": [
    {
     "name": "stdout",
     "output_type": "stream",
     "text": [
      "Enter your age: 65\n",
      "Enter number of months of service: 448\n",
      "Enter first of three highest salaries: 123456.78\n",
      "Enter second of three highest salaries: 119876.55\n",
      "Enter third of three highest salaries: 107546.45\n",
      "Annual pension: $82,944.08\n"
     ]
    }
   ],
   "source": [
    "# 34\n",
    "\n",
    "def main():\n",
    "    age = input(\"Enter your age: \")\n",
    "    monthsOfService = eval(input(\"Enter number of months of service: \"))\n",
    "    ave = calculateAverageSalary()\n",
    "    yrs = calculateYears(monthsOfService)\n",
    "    perRate = calculatePerRate(yrs)\n",
    "    p = min(perRate, 80)\n",
    "    amountOfPension = p*ave/100\n",
    "    print(\"Annual pension: ${0:,.2f}\".format(amountOfPension))\n",
    "\n",
    "def calculateAverageSalary():\n",
    "    firstSalary = eval(input(\"Enter first of three highest salaries: \"))\n",
    "    secondSalary = eval(input(\"Enter second of three highest salaries: \"))\n",
    "    thirdSalary = eval(input(\"Enter third of three highest salaries: \"))\n",
    "    ave = (firstSalary+secondSalary+thirdSalary)/3\n",
    "    return ave\n",
    "\n",
    "def calculateYears(numberOfMonths):\n",
    "    yrs = float(numberOfMonths / 12)\n",
    "    return yrs\n",
    "\n",
    "def calculatePerRate(yrs):\n",
    "    perRate = 1.5*5 + 1.75*5 + int(yrs - 10)*2 + ((yrs - 10) - int(yrs-10))*2\n",
    "    return perRate\n",
    "\n",
    "main()"
   ]
  }
 ],
 "metadata": {
  "kernelspec": {
   "display_name": "Python 3",
   "language": "python",
   "name": "python3"
  },
  "language_info": {
   "codemirror_mode": {
    "name": "ipython",
    "version": 3
   },
   "file_extension": ".py",
   "mimetype": "text/x-python",
   "name": "python",
   "nbconvert_exporter": "python",
   "pygments_lexer": "ipython3",
   "version": "3.7.7"
  }
 },
 "nbformat": 4,
 "nbformat_minor": 4
}
