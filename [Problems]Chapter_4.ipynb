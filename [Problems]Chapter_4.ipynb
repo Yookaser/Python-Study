{
 "cells": [
  {
   "cell_type": "code",
   "execution_count": 1,
   "metadata": {},
   "outputs": [
    {
     "name": "stdout",
     "output_type": "stream",
     "text": [
      "Python\n"
     ]
    }
   ],
   "source": [
    "# 2\n",
    "\n",
    "print(\"Py\"+chr(116)+'ho'+chr(110))"
   ]
  },
  {
   "cell_type": "code",
   "execution_count": 2,
   "metadata": {},
   "outputs": [
    {
     "name": "stdout",
     "output_type": "stream",
     "text": [
      "B\n"
     ]
    }
   ],
   "source": [
    "# 4\n",
    "\n",
    "print(chr(ord(\"B\")))"
   ]
  },
  {
   "cell_type": "code",
   "execution_count": 6,
   "metadata": {},
   "outputs": [
    {
     "name": "stdout",
     "output_type": "stream",
     "text": [
      "[3, 9, 10, 12, 17]\n",
      "Spread: 14\n"
     ]
    }
   ],
   "source": [
    "# 6\n",
    "\n",
    "list1 = [17, 3, 12, 9, 10]\n",
    "list1.sort()\n",
    "print(list1)\n",
    "print(\"Spread:\", list1[-1] - list1[0])"
   ]
  },
  {
   "cell_type": "code",
   "execution_count": 12,
   "metadata": {},
   "outputs": [
    {
     "name": "stdout",
     "output_type": "stream",
     "text": [
      "ord(\"a\"):  97\n",
      "ord(\"A\"):  65\n",
      "ord(\"D\"):  68\n",
      "32\n",
      "100\n",
      "d\n"
     ]
    }
   ],
   "source": [
    "# 8\n",
    "\n",
    "letter = \"D\"\n",
    "spread = ord('a') - ord('A')\n",
    "\n",
    "print('ord(\"a\"): ', ord('a'))\n",
    "print('ord(\"A\"): ', ord(\"A\"))\n",
    "print('ord(\"D\"): ', ord(\"D\"))\n",
    "print(spread)\n",
    "print(ord(letter)+spread)\n",
    "print(chr(ord(letter) + spread))"
   ]
  },
  {
   "cell_type": "code",
   "execution_count": 13,
   "metadata": {},
   "outputs": [],
   "source": [
    "a, b = 1, 1.5"
   ]
  },
  {
   "cell_type": "code",
   "execution_count": 17,
   "metadata": {},
   "outputs": [
    {
     "name": "stdout",
     "output_type": "stream",
     "text": [
      "6.0\n",
      "True\n"
     ]
    }
   ],
   "source": [
    "# 10\n",
    "\n",
    "print((5-a)*b)\n",
    "print(((5-a)*b) < 7)\n"
   ]
  },
  {
   "cell_type": "code",
   "execution_count": 20,
   "metadata": {},
   "outputs": [
    {
     "data": {
      "text/plain": [
       "False"
      ]
     },
     "execution_count": 20,
     "metadata": {},
     "output_type": "execute_result"
    }
   ],
   "source": [
    "# 12\n",
    "a**b == b**a"
   ]
  },
  {
   "cell_type": "code",
   "execution_count": 21,
   "metadata": {},
   "outputs": [
    {
     "data": {
      "text/plain": [
       "False"
      ]
     },
     "execution_count": 21,
     "metadata": {},
     "output_type": "execute_result"
    }
   ],
   "source": [
    "# 14\n",
    "3e-2 < .01*a"
   ]
  },
  {
   "cell_type": "code",
   "execution_count": 22,
   "metadata": {},
   "outputs": [
    {
     "name": "stdout",
     "output_type": "stream",
     "text": [
      "True\n",
      "True\n",
      "True\n"
     ]
    }
   ],
   "source": [
    "# 16\n",
    "\n",
    "print(a*a < b)\n",
    "print(not(a*a < a))\n",
    "print((a*a < b) or not(a*a < a))"
   ]
  },
  {
   "cell_type": "code",
   "execution_count": 23,
   "metadata": {},
   "outputs": [
    {
     "name": "stdout",
     "output_type": "stream",
     "text": [
      "True\n",
      "True\n",
      "False\n"
     ]
    }
   ],
   "source": [
    "# 18\n",
    "print(a<b)\n",
    "print(a<(b+a))\n",
    "print(not((a < b) and (a < (b+a))))"
   ]
  },
  {
   "cell_type": "code",
   "execution_count": 25,
   "metadata": {},
   "outputs": [
    {
     "name": "stdout",
     "output_type": "stream",
     "text": [
      "True\n",
      "True\n"
     ]
    },
    {
     "data": {
      "text/plain": [
       "True"
      ]
     },
     "execution_count": 25,
     "metadata": {},
     "output_type": "execute_result"
    }
   ],
   "source": [
    "# 20\n",
    "\n",
    "print((a == b) or not(b < a))\n",
    "print((a < b) or (b == a + 1))\n",
    "\n",
    "((a == b) or not(b < a)) and ((a < b) or (b == a + 1))"
   ]
  },
  {
   "cell_type": "code",
   "execution_count": 26,
   "metadata": {},
   "outputs": [
    {
     "data": {
      "text/plain": [
       "False"
      ]
     },
     "execution_count": 26,
     "metadata": {},
     "output_type": "execute_result"
    }
   ],
   "source": [
    "# 22\n",
    "\n",
    "'Harry' > 'Mine'"
   ]
  },
  {
   "cell_type": "code",
   "execution_count": 2,
   "metadata": {},
   "outputs": [
    {
     "name": "stdout",
     "output_type": "stream",
     "text": [
      "68\n",
      "47\n"
     ]
    },
    {
     "data": {
      "text/plain": [
       "True"
      ]
     },
     "execution_count": 2,
     "metadata": {},
     "output_type": "execute_result"
    }
   ],
   "source": [
    "# 24\n",
    "# 특수문자의 경우 ASCII values를 이용하면 됨.\n",
    "\n",
    "print(ord(\"D\"))\n",
    "print(ord(\"/\"))\n",
    "\n",
    "'D' >= '//'"
   ]
  },
  {
   "cell_type": "code",
   "execution_count": 1,
   "metadata": {},
   "outputs": [
    {
     "data": {
      "text/plain": [
       "True"
      ]
     },
     "execution_count": 1,
     "metadata": {},
     "output_type": "execute_result"
    }
   ],
   "source": [
    "# 26\n",
    "\n",
    "'1' < 'one'"
   ]
  },
  {
   "cell_type": "code",
   "execution_count": 2,
   "metadata": {},
   "outputs": [
    {
     "data": {
      "text/plain": [
       "True"
      ]
     },
     "execution_count": 2,
     "metadata": {},
     "output_type": "execute_result"
    }
   ],
   "source": [
    "# 28\n",
    "\n",
    "\"Duck\" < \"Duck\" + \"Duck\""
   ]
  },
  {
   "cell_type": "code",
   "execution_count": 4,
   "metadata": {},
   "outputs": [
    {
     "data": {
      "text/plain": [
       "True"
      ]
     },
     "execution_count": 4,
     "metadata": {},
     "output_type": "execute_result"
    }
   ],
   "source": [
    "# 30\n",
    "\n",
    "\"th\" in \"Python\""
   ]
  },
  {
   "cell_type": "code",
   "execution_count": 4,
   "metadata": {},
   "outputs": [
    {
     "data": {
      "text/plain": [
       "False"
      ]
     },
     "execution_count": 4,
     "metadata": {},
     "output_type": "execute_result"
    }
   ],
   "source": [
    "# 32\n",
    "\n",
    "(7 < 34) and (not (\"7\" > \"34\" or \"7\" == \"34\"))"
   ]
  },
  {
   "cell_type": "code",
   "execution_count": 5,
   "metadata": {},
   "outputs": [
    {
     "data": {
      "text/plain": [
       "False"
      ]
     },
     "execution_count": 5,
     "metadata": {},
     "output_type": "execute_result"
    }
   ],
   "source": [
    "# 34\n",
    "\n",
    "isinstance(32., int)"
   ]
  },
  {
   "cell_type": "code",
   "execution_count": 6,
   "metadata": {},
   "outputs": [
    {
     "data": {
      "text/plain": [
       "True"
      ]
     },
     "execution_count": 6,
     "metadata": {},
     "output_type": "execute_result"
    }
   ],
   "source": [
    "# 36\n",
    "\n",
    "isinstance(32, int)"
   ]
  },
  {
   "cell_type": "code",
   "execution_count": 7,
   "metadata": {},
   "outputs": [
    {
     "data": {
      "text/plain": [
       "False"
      ]
     },
     "execution_count": 7,
     "metadata": {},
     "output_type": "execute_result"
    }
   ],
   "source": [
    "# 38\n",
    "\n",
    "\"knight\".startswith('n')"
   ]
  },
  {
   "cell_type": "code",
   "execution_count": 8,
   "metadata": {},
   "outputs": [
    {
     "data": {
      "text/plain": [
       "False"
      ]
     },
     "execution_count": 8,
     "metadata": {},
     "output_type": "execute_result"
    }
   ],
   "source": [
    "# 40\n",
    "\n",
    "\"flute\".endswith('t')"
   ]
  },
  {
   "cell_type": "code",
   "execution_count": 9,
   "metadata": {},
   "outputs": [
    {
     "data": {
      "text/plain": [
       "False"
      ]
     },
     "execution_count": 9,
     "metadata": {},
     "output_type": "execute_result"
    }
   ],
   "source": [
    "# 42\n",
    "\n",
    "True and False"
   ]
  },
  {
   "cell_type": "code",
   "execution_count": 10,
   "metadata": {},
   "outputs": [
    {
     "data": {
      "text/plain": [
       "True"
      ]
     },
     "execution_count": 10,
     "metadata": {},
     "output_type": "execute_result"
    }
   ],
   "source": [
    "# 44\n",
    "\n",
    "not False"
   ]
  },
  {
   "cell_type": "code",
   "execution_count": 13,
   "metadata": {},
   "outputs": [
    {
     "data": {
      "text/plain": [
       "True"
      ]
     },
     "execution_count": 13,
     "metadata": {},
     "output_type": "execute_result"
    }
   ],
   "source": [
    "# 46\n",
    "\n",
    "# not(a<b) == (a>=b) --> Not equivalent"
   ]
  },
  {
   "cell_type": "code",
   "execution_count": 15,
   "metadata": {},
   "outputs": [],
   "source": [
    "# 48\n",
    "\n",
    "# not((a == b) or (a == c)); (a != b) and (a != c) --> Equivalent"
   ]
  },
  {
   "cell_type": "code",
   "execution_count": 17,
   "metadata": {},
   "outputs": [],
   "source": [
    "# 50\n",
    "\n",
    "# (a < b) and ((a > d) or (a > e)); ((a < b) and (a > d)) or ((a<b) and (a>e)) --> Equivalent"
   ]
  },
  {
   "cell_type": "code",
   "execution_count": 18,
   "metadata": {},
   "outputs": [],
   "source": [
    "# 52\n",
    "# a < b \n",
    "# not(a >= b); (a <= b) and not(a == b) --> Equivalent"
   ]
  },
  {
   "cell_type": "code",
   "execution_count": 7,
   "metadata": {},
   "outputs": [
    {
     "name": "stdout",
     "output_type": "stream",
     "text": [
      "False\n",
      "False\n"
     ]
    }
   ],
   "source": [
    "# 54\n",
    "\n",
    "# str1.upper() == str1; str1.isupper()\n",
    "# str1 has at least 1 alphabetic character.\n",
    "\n",
    "str1 = 'abCd'\n",
    "print(str1.upper() == str1)\n",
    "print(str1.isupper())\n"
   ]
  },
  {
   "cell_type": "code",
   "execution_count": null,
   "metadata": {},
   "outputs": [],
   "source": [
    "# 56\n",
    "\n",
    "# not((a == b) or (a == d))\n",
    "# --> (a != b) and (a != d)"
   ]
  },
  {
   "cell_type": "code",
   "execution_count": 1,
   "metadata": {},
   "outputs": [],
   "source": [
    "# 58\n",
    "\n",
    "# not(not((a == b) or (a > b)))\n",
    "# --> (a == b) or (a > b)"
   ]
  },
  {
   "cell_type": "code",
   "execution_count": 2,
   "metadata": {},
   "outputs": [
    {
     "data": {
      "text/plain": [
       "'(a != \"\") and (a < b) and (len(a) < 5)\\n--> (a == \"\") or (a >= b) or (len(a) >= 5)'"
      ]
     },
     "execution_count": 2,
     "metadata": {},
     "output_type": "execute_result"
    }
   ],
   "source": [
    "# 60\n",
    "\n",
    "'''(a != \"\") and (a < b) and (len(a) < 5)\n",
    "--> (a == \"\") or (a >= b) or (len(a) >= 5)'''"
   ]
  },
  {
   "cell_type": "code",
   "execution_count": 3,
   "metadata": {},
   "outputs": [],
   "source": [
    "# 62\n",
    "\n",
    "# (name == \"Athos\") or (name == \"Porthos\") or (name == \"Aramis\")\n",
    "# --> name in [\"Athos\", \"Porthos\", \"Aramis\"]"
   ]
  },
  {
   "cell_type": "code",
   "execution_count": 4,
   "metadata": {},
   "outputs": [],
   "source": [
    "# 64\n",
    "\n",
    "# (n == 1) or (n == 2) or (n == 3) or (n == 4) or (n == 5) or (n == 6)\n",
    "# --> n in [1, 2, 3, 4, 5, 6]\n",
    "# --> 1 <= n <= 6"
   ]
  },
  {
   "cell_type": "code",
   "execution_count": 5,
   "metadata": {},
   "outputs": [],
   "source": [
    "# 66\n",
    "\n",
    "# (n <= 22) and (n > 1)\n",
    "# 1 < n <= 22\n"
   ]
  },
  {
   "cell_type": "code",
   "execution_count": null,
   "metadata": {},
   "outputs": [],
   "source": [
    "# 68\n",
    "\n",
    "# (n <= 200) and (n >= 100)\n",
    "# 100 <= n <= 200"
   ]
  },
  {
   "cell_type": "code",
   "execution_count": 1,
   "metadata": {},
   "outputs": [
    {
     "name": "stdout",
     "output_type": "stream",
     "text": [
      "False\n"
     ]
    }
   ],
   "source": [
    "# 70\n",
    "\n",
    "print(\"colone1\".startswith('k'))"
   ]
  },
  {
   "cell_type": "code",
   "execution_count": 9,
   "metadata": {},
   "outputs": [
    {
     "name": "stdout",
     "output_type": "stream",
     "text": [
      "True\n"
     ]
    }
   ],
   "source": [
    "# 72\n",
    "\n",
    "str1 = \"target\"\n",
    "str2 = \"get\"\n",
    "print(str1.endswith(str2))"
   ]
  },
  {
   "cell_type": "code",
   "execution_count": 5,
   "metadata": {},
   "outputs": [
    {
     "name": "stdout",
     "output_type": "stream",
     "text": [
      "True\n"
     ]
    }
   ],
   "source": [
    "# 74\n",
    "\n",
    "str1 = \"Teapot\"\n",
    "print(str1.startswith(str1[0:4]))"
   ]
  },
  {
   "cell_type": "code",
   "execution_count": 10,
   "metadata": {},
   "outputs": [
    {
     "name": "stdout",
     "output_type": "stream",
     "text": [
      "ggs\n",
      "True\n"
     ]
    }
   ],
   "source": [
    "# 76\n",
    "\n",
    "str1 = \"spam and eggs\"\n",
    "print(str1[10:len(str1)])\n",
    "print(str1.endswith(str1[10:len(str1)]))"
   ]
  },
  {
   "cell_type": "code",
   "execution_count": 11,
   "metadata": {},
   "outputs": [
    {
     "name": "stdout",
     "output_type": "stream",
     "text": [
      "True\n"
     ]
    }
   ],
   "source": [
    "# 78\n",
    "\n",
    "num = \"1234.56\"\n",
    "print(isinstance(num, str))"
   ]
  },
  {
   "cell_type": "code",
   "execution_count": 12,
   "metadata": {},
   "outputs": [
    {
     "name": "stdout",
     "output_type": "stream",
     "text": [
      "<class 'object'>\n",
      "False\n"
     ]
    }
   ],
   "source": [
    "# 80\n",
    "\n",
    "num = object()\n",
    "print(type(num))\n",
    "print(isinstance(num, int))"
   ]
  },
  {
   "cell_type": "code",
   "execution_count": 11,
   "metadata": {},
   "outputs": [
    {
     "name": "stdout",
     "output_type": "stream",
     "text": [
      "True\n"
     ]
    }
   ],
   "source": [
    "# 82\n",
    "\n",
    "print(isinstance('34', str))"
   ]
  },
  {
   "cell_type": "code",
   "execution_count": 12,
   "metadata": {},
   "outputs": [
    {
     "name": "stdout",
     "output_type": "stream",
     "text": [
      "False\n"
     ]
    }
   ],
   "source": [
    "# 84\n",
    "\n",
    "print(\"seven\".isdigit())"
   ]
  },
  {
   "cell_type": "code",
   "execution_count": 1,
   "metadata": {},
   "outputs": [
    {
     "name": "stdout",
     "output_type": "stream",
     "text": [
      "Help on object object:\n",
      "\n",
      "class object\n",
      " |  The most base type\n",
      "\n"
     ]
    }
   ],
   "source": [
    "help(object())"
   ]
  },
  {
   "cell_type": "code",
   "execution_count": 2,
   "metadata": {},
   "outputs": [
    {
     "data": {
      "text/plain": [
       "['__class__',\n",
       " '__delattr__',\n",
       " '__dir__',\n",
       " '__doc__',\n",
       " '__eq__',\n",
       " '__format__',\n",
       " '__ge__',\n",
       " '__getattribute__',\n",
       " '__gt__',\n",
       " '__hash__',\n",
       " '__init__',\n",
       " '__init_subclass__',\n",
       " '__le__',\n",
       " '__lt__',\n",
       " '__ne__',\n",
       " '__new__',\n",
       " '__reduce__',\n",
       " '__reduce_ex__',\n",
       " '__repr__',\n",
       " '__setattr__',\n",
       " '__sizeof__',\n",
       " '__str__',\n",
       " '__subclasshook__']"
      ]
     },
     "execution_count": 2,
     "metadata": {},
     "output_type": "execute_result"
    }
   ],
   "source": [
    "dir(object())"
   ]
  },
  {
   "cell_type": "code",
   "execution_count": null,
   "metadata": {},
   "outputs": [],
   "source": []
  },
  {
   "cell_type": "code",
   "execution_count": 14,
   "metadata": {},
   "outputs": [
    {
     "name": "stdout",
     "output_type": "stream",
     "text": [
      "Honors Student\n"
     ]
    }
   ],
   "source": [
    "# 2\n",
    "\n",
    "gpa = 3.8\n",
    "result = \"\"\n",
    "if gpa >= 3.5:\n",
    "    result = \"Honors \"\n",
    "print(result + \"Student\")"
   ]
  },
  {
   "cell_type": "code",
   "execution_count": 8,
   "metadata": {},
   "outputs": [
    {
     "name": "stdout",
     "output_type": "stream",
     "text": [
      "True\n"
     ]
    }
   ],
   "source": [
    "# 4\n",
    "\n",
    "print('a*b' < 'b*c')"
   ]
  },
  {
   "cell_type": "code",
   "execution_count": 15,
   "metadata": {},
   "outputs": [
    {
     "name": "stdout",
     "output_type": "stream",
     "text": [
      "Your change contains no dollars.\n"
     ]
    }
   ],
   "source": [
    "# 6\n",
    "\n",
    "change = 99\n",
    "if change >= 100:\n",
    "    print(\"Your change contains\", change // 100, \"dollars.\")\n",
    "else:\n",
    "    print(\"Your change contains no dollars.\")"
   ]
  },
  {
   "cell_type": "code",
   "execution_count": 17,
   "metadata": {},
   "outputs": [
    {
     "name": "stdout",
     "output_type": "stream",
     "text": [
      "Enter length of cloth in yards: 3\n",
      "Cost of cloth is $8.00.\n"
     ]
    }
   ],
   "source": [
    "# 8\n",
    "\n",
    "length = eval(input(\"Enter length of cloth in yards: \"))\n",
    "if length < 1:\n",
    "    cost = 3.00\n",
    "else:\n",
    "    cost = 3.00 + ((length - 1) * 2.50)\n",
    "result = \"Cost of cloth is ${0:0.2f}.\".format(cost)\n",
    "print(result)"
   ]
  },
  {
   "cell_type": "code",
   "execution_count": 20,
   "metadata": {},
   "outputs": [
    {
     "name": "stdout",
     "output_type": "stream",
     "text": [
      "Enter a letter: 2\n",
      "You did not enter a letter.\n"
     ]
    }
   ],
   "source": [
    "# 10\n",
    "\n",
    "isvowel = False\n",
    "letter = input(\"Enter a letter: \")\n",
    "letter = letter.upper()\n",
    "if (letter in \"AEIOU\"):\n",
    "    isvowel = True\n",
    "if isvowel:\n",
    "    print(letter, \"is a vowel.\")\n",
    "elif (not(65 <= ord(letter) <= 90)):\n",
    "    print(\"You did not enter a letter.\")\n",
    "else:\n",
    "    print(letter, \"is not a vowel.\")"
   ]
  },
  {
   "cell_type": "code",
   "execution_count": 23,
   "metadata": {},
   "outputs": [
    {
     "name": "stdout",
     "output_type": "stream",
     "text": [
      "Enter a number: -8\n",
      "negative\n"
     ]
    }
   ],
   "source": [
    "# 12\n",
    "\n",
    "number = eval(input(\"Enter a number: \"))\n",
    "\n",
    "if number < 0:\n",
    "    print(\"negative\")\n",
    "else:\n",
    "    if number == 0:\n",
    "        print(\"zero\")\n",
    "    else:\n",
    "        print(\"positive\")"
   ]
  },
  {
   "cell_type": "code",
   "execution_count": 10,
   "metadata": {},
   "outputs": [
    {
     "name": "stdout",
     "output_type": "stream",
     "text": [
      "An empty string is false.\n"
     ]
    }
   ],
   "source": [
    "# 14\n",
    "\n",
    "if \"\":\n",
    "    print(\"An empty string is true.\")\n",
    "else:\n",
    "    print(\"An empty string is false.\")"
   ]
  },
  {
   "cell_type": "code",
   "execution_count": 25,
   "metadata": {},
   "outputs": [
    {
     "name": "stdout",
     "output_type": "stream",
     "text": [
      "Yes\n"
     ]
    }
   ],
   "source": [
    "# 16\n",
    "\n",
    "number = 6\n",
    "\n",
    "if number > 5 and number < 9:\n",
    "    print(\"Yes\")\n",
    "else:\n",
    "    print(\"No\")"
   ]
  },
  {
   "cell_type": "code",
   "execution_count": 26,
   "metadata": {},
   "outputs": [
    {
     "name": "stdout",
     "output_type": "stream",
     "text": [
      "Both are equal\n"
     ]
    }
   ],
   "source": [
    "# 18\n",
    "\n",
    "a = 1\n",
    "b = 1\n",
    "\n",
    "\n",
    "if a != b:\n",
    "    print(\"Both are unequal\")\n",
    "else:\n",
    "    print(\"Both are equal\")"
   ]
  },
  {
   "cell_type": "code",
   "execution_count": 15,
   "metadata": {},
   "outputs": [
    {
     "name": "stdout",
     "output_type": "stream",
     "text": [
      "eleven\n"
     ]
    }
   ],
   "source": [
    "# 20\n",
    "\n",
    "\n",
    "if (a == 7):\n",
    "    print(\"seven\")\n",
    "elif (a != 7):\n",
    "    print(\"eleven\")"
   ]
  },
  {
   "cell_type": "code",
   "execution_count": 16,
   "metadata": {},
   "outputs": [
    {
     "name": "stdout",
     "output_type": "stream",
     "text": [
      "eleven\n"
     ]
    }
   ],
   "source": [
    "if (a == 7):\n",
    "    print(\"seven\")\n",
    "else:\n",
    "    print(\"eleven\")"
   ]
  },
  {
   "cell_type": "code",
   "execution_count": 18,
   "metadata": {},
   "outputs": [
    {
     "ename": "IndentationError",
     "evalue": "expected an indented block (<ipython-input-18-309e455d481d>, line 4)",
     "output_type": "error",
     "traceback": [
      "\u001b[0;36m  File \u001b[0;32m\"<ipython-input-18-309e455d481d>\"\u001b[0;36m, line \u001b[0;32m4\u001b[0m\n\u001b[0;31m    if city == \"LA\" or city == \"SD\":\u001b[0m\n\u001b[0m    ^\u001b[0m\n\u001b[0;31mIndentationError\u001b[0m\u001b[0;31m:\u001b[0m expected an indented block\n"
     ]
    }
   ],
   "source": [
    "# 22\n",
    "\n",
    "if state == \"CA\":\n",
    "if city == \"LA\" or city == \"SD\":\n",
    "    print(\"Large city!\")"
   ]
  },
  {
   "cell_type": "code",
   "execution_count": 22,
   "metadata": {},
   "outputs": [
    {
     "name": "stdout",
     "output_type": "stream",
     "text": [
      "Not Large city!\n"
     ]
    }
   ],
   "source": [
    "state = \"MD\"\n",
    "\n",
    "if state in [\"CA\", \"LA\", \"SD\"]:\n",
    "    print(\"Large city!\")\n",
    "else:\n",
    "    print(\"Not Large city!\")"
   ]
  },
  {
   "cell_type": "code",
   "execution_count": 28,
   "metadata": {},
   "outputs": [
    {
     "name": "stdout",
     "output_type": "stream",
     "text": [
      "How tall (in feet) is the Statue of Liberty? 150\n",
      "Good\n",
      "The statue is 151 feet tall from base to torch.\n"
     ]
    }
   ],
   "source": [
    "# 24\n",
    "\n",
    "feet = eval(input(\"How tall (in feet) is the Statue of Liberty? \"))\n",
    "if (feet <= 141):\n",
    "    print(\"Nope\")\n",
    "if (feet > 141):\n",
    "    if (feet < 161):\n",
    "        print(\"Good\")\n",
    "    else:\n",
    "        print('Nope')\n",
    "print(\"The statue is 151 feet tall from base to torch.\")"
   ]
  },
  {
   "cell_type": "code",
   "execution_count": 26,
   "metadata": {},
   "outputs": [
    {
     "name": "stdout",
     "output_type": "stream",
     "text": [
      "How tall (in feet) is the Statue of Liberty? 155\n",
      "Good\n",
      "The statue is 151 feet tall from base to torch.\n"
     ]
    }
   ],
   "source": [
    "feet = eval(input(\"How tall (in feet) is the Statue of Liberty? \"))\n",
    "\n",
    "if (feet <= 141):\n",
    "    print(\"Nope\")\n",
    "elif (141 < feet < 161):\n",
    "    print(\"Good\")\n",
    "else:\n",
    "    print('Nope')\n",
    "    \n",
    "print(\"The statue is 151 feet tall from base to torch.\")"
   ]
  },
  {
   "cell_type": "code",
   "execution_count": 30,
   "metadata": {},
   "outputs": [
    {
     "name": "stdout",
     "output_type": "stream",
     "text": [
      "Enter the number of bagels: 4\n",
      "Total cost: 300 cents\n"
     ]
    }
   ],
   "source": [
    "# 26\n",
    "\n",
    "bagelNumber = eval(input(\"Enter the number of bagels: \"))\n",
    "\n",
    "if bagelNumber <= 6:\n",
    "    cost = 75*bagelNumber\n",
    "else:\n",
    "    cost = 60*bagelNumber\n",
    "    \n",
    "print(\"Total cost: {0:,d} cents\".format(cost))"
   ]
  },
  {
   "cell_type": "code",
   "execution_count": 32,
   "metadata": {},
   "outputs": [
    {
     "name": "stdout",
     "output_type": "stream",
     "text": [
      "Enter the number of copies: 110\n",
      "Total cost: 530 cents.\n"
     ]
    }
   ],
   "source": [
    "# 28\n",
    "\n",
    "copies = eval(input(\"Enter the number of copies: \"))\n",
    "\n",
    "if copies <= 100:\n",
    "    cost = 5*copies\n",
    "else:\n",
    "    cost = 5*100 + (copies - 100)*3\n",
    "    \n",
    "print(\"Total cost: {0:,d} cents.\".format(cost))"
   ]
  },
  {
   "cell_type": "code",
   "execution_count": 33,
   "metadata": {},
   "outputs": [
    {
     "name": "stdout",
     "output_type": "stream",
     "text": [
      "Enter hourly wage: 12\n",
      "Enter number of hours worked: 55\n",
      "Gross pay for the week is $750.00.\n"
     ]
    }
   ],
   "source": [
    "# 30\n",
    "\n",
    "hourlyWage = eval(input(\"Enter hourly wage: \"))\n",
    "workHours = eval(input(\"Enter number of hours worked: \"))\n",
    "\n",
    "\n",
    "if workHours <= 40:\n",
    "    grosspay = workHours * hourlyWage\n",
    "else:\n",
    "    grosspay = 40 * hourlyWage + (workHours - 40) * hourlyWage * 1.5\n",
    "    \n",
    "print(\"Gross pay for the week is ${0:,.2f}.\".format(grosspay))"
   ]
  },
  {
   "cell_type": "code",
   "execution_count": 39,
   "metadata": {},
   "outputs": [
    {
     "name": "stdout",
     "output_type": "stream",
     "text": [
      "Enter word to translate: chip\n",
      "The word in Pig Latin is ipchay\n"
     ]
    }
   ],
   "source": [
    "# 32\n",
    "\n",
    "word = input(\"Enter word to translate: \")\n",
    "\n",
    "vowel = [\"A\", \"E\", \"I\", \"O\", \"U\"]\n",
    "\n",
    "if word.upper().startswith(\"A\") or word.upper().startswith(\"E\") or word.upper().startswith(\"I\") or word.upper().startswith(\"O\") or word.upper().startswith(\"U\"):\n",
    "    pigLatin = word + \"way\"\n",
    "else:\n",
    "    minimumVowelIndex = 100\n",
    "    if \"A\" in word.upper():\n",
    "        minimumVowelIndex = word.upper().index(\"A\")\n",
    "    if \"E\" in word.upper():\n",
    "        vowelIndex_E = word.upper().index(\"E\")\n",
    "        mimimumVowelIndex = min(vowelIndex_E, minimumVowelIndex)\n",
    "    if \"I\" in word.upper():\n",
    "        vowelIndex_I = word.upper().index(\"I\")\n",
    "        minimumVowelIndex = min(vowelIndex_I, minimumVowelIndex)\n",
    "    if \"O\" in word.upper():\n",
    "        vowelIndex_O = word.upper().index(\"O\")\n",
    "        minimumVowelIndex = min(vowelIndex_O, minimumVowelIndex)\n",
    "    if \"U\" in word.upper():\n",
    "        vowelIndex_U = word.upper().index(\"U\")\n",
    "        minimumVowelIndex = min(vowelIndex_U, minimumVowelIndex)\n",
    "    pigLatin = word[minimumVowelIndex:] + word[:minimumVowelIndex] + \"ay\"\n",
    "\n",
    "print(\"The word in Pig Latin is\", pigLatin)"
   ]
  },
  {
   "cell_type": "code",
   "execution_count": null,
   "metadata": {},
   "outputs": [],
   "source": [
    "# chip\n",
    "# cepa"
   ]
  },
  {
   "cell_type": "code",
   "execution_count": 38,
   "metadata": {},
   "outputs": [
    {
     "name": "stdout",
     "output_type": "stream",
     "text": [
      "Enter word to translate: abcd\n",
      "The word in Pig Latin is abcdway\n"
     ]
    }
   ],
   "source": [
    "# 32-1\n",
    "\n",
    "word = input(\"Enter word to translate: \")\n",
    "\n",
    "vowel = (\"A\", \"E\", \"I\", \"O\", \"U\")\n",
    "\n",
    "if word.upper().startswith(vowel):\n",
    "    pigLatin = word + \"way\"\n",
    "else:\n",
    "    minimumVowelIndex = 100\n",
    "    if \"A\" in word.upper():\n",
    "        minimumVowelIndex = word.upper().index(\"A\")\n",
    "    if \"E\" in word.upper():\n",
    "        vowelIndex_E = word.upper().index(\"E\")\n",
    "        mimimumVowelIndex = min(vowelIndex_E, minimumVowelIndex)\n",
    "    if \"I\" in word.upper():\n",
    "        vowelIndex_I = word.upper().index(\"I\")\n",
    "        minimumVowelIndex = min(vowelIndex_I, minimumVowelIndex)\n",
    "    if \"O\" in word.upper():\n",
    "        vowelIndex_O = word.upper().index(\"O\")\n",
    "        minimumVowelIndex = min(vowelIndex_O, minimumVowelIndex)\n",
    "    if \"U\" in word.upper():\n",
    "        vowelIndex_U = word.upper().index(\"U\")\n",
    "        minimumVowelIndex = min(vowelIndex_U, minimumVowelIndex)\n",
    "    pigLatin = word[minimumVowelIndex:] + word[:minimumVowelIndex] + \"ay\"\n",
    "\n",
    "print(\"The word in Pig Latin is\", pigLatin)"
   ]
  },
  {
   "cell_type": "code",
   "execution_count": 55,
   "metadata": {},
   "outputs": [
    {
     "name": "stdout",
     "output_type": "stream",
     "text": [
      "Enter current balance: 200\n",
      "Enter amount of withdrawal: 250\n",
      "Withdrawal denied.\n"
     ]
    }
   ],
   "source": [
    "# 34\n",
    "\n",
    "currentBalance = eval(input(\"Enter current balance: \"))\n",
    "amountOfWithdrawal = eval(input(\"Enter amount of withdrawal: \"))\n",
    "\n",
    "if amountOfWithdrawal > currentBalance:\n",
    "    print(\"Withdrawal denied.\")\n",
    "else:\n",
    "    newBalance = currentBalance - amountOfWithdrawal\n",
    "    if newBalance <= 150:\n",
    "        print(\"The new balance is ${0:.2f}.\".format(newBalance))\n",
    "        print(\"Balance below $150.\")\n",
    "    else:\n",
    "        print(\"The new balance is ${0:.2f}.\".format(newBalance))\n",
    "        "
   ]
  },
  {
   "cell_type": "code",
   "execution_count": 70,
   "metadata": {},
   "outputs": [
    {
     "name": "stdout",
     "output_type": "stream",
     "text": [
      "Enter a year: 2016\n",
      "2016 is a leap year.\n"
     ]
    }
   ],
   "source": [
    "# 36\n",
    "\n",
    "year = eval(input(\"Enter a year: \"))\n",
    "\n",
    "if year % 4 == 0:\n",
    "    if year % 100 == 0 and year % 400 != 0:\n",
    "        print(year, \"is not a leap year.\")\n",
    "    else:\n",
    "        \n",
    "        print(year, \"is a leap year.\")\n",
    "else:\n",
    "    print(year, \"is not a leap year.\")"
   ]
  },
  {
   "cell_type": "code",
   "execution_count": 68,
   "metadata": {},
   "outputs": [
    {
     "name": "stdout",
     "output_type": "stream",
     "text": [
      "The four railroad properties area Reading, Pennsylvania, B&O, and Short Line.\n",
      "Which is not a railroad? Short Line\n",
      "Correct.\n",
      "Short Line is a bus company.\n"
     ]
    }
   ],
   "source": [
    "# 38\n",
    "\n",
    "print(\"The four railroad properties area Reading, Pennsylvania, B&O, and Short Line.\")\n",
    "\n",
    "railroad = input(\"Which is not a railroad? \")\n",
    "\n",
    "if railroad == \"Short Line\":\n",
    "    print(\"Correct.\")\n",
    "    print(railroad, \"is a bus company.\")\n",
    "else:\n",
    "    print(\"Incorrect.\")\n",
    "    print(railroad, \"is a railroad company.\")"
   ]
  },
  {
   "cell_type": "code",
   "execution_count": 71,
   "metadata": {},
   "outputs": [],
   "source": [
    "# 40\n",
    "# 아래 Ex.8 문제를 elif 구문없이 작성\n",
    "\n",
    "# 참고\n",
    "# Ex.8\n",
    "\n",
    "gpa = eval(input(\"Enter your gpa: \"))\n",
    "\n",
    "if gpa >= 3.9:\n",
    "    honors = \" summa cum laude.\"\n",
    "elif gpa >= 3.6:\n",
    "    honors = \" magna cum laude.\"\n",
    "elif gpa >= 3.3:\n",
    "    honors = \" cum laude.\"\n",
    "else:\n",
    "    honors = \".\"\n",
    "    \n",
    "print(\"You graduated\" + honors)"
   ]
  },
  {
   "cell_type": "code",
   "execution_count": 77,
   "metadata": {},
   "outputs": [
    {
     "name": "stdout",
     "output_type": "stream",
     "text": [
      "Enter your gpa: 4.2\n",
      "You graduated summa cum laude.\n"
     ]
    }
   ],
   "source": [
    "gpa = eval(input(\"Enter your gpa: \"))\n",
    "\n",
    "if gpa >= 3.9:\n",
    "    honors = \" summa cum laude.\"\n",
    "if 3.6 <= gpa <3.9:\n",
    "    honors = \" magna cum laude.\"\n",
    "if 3.3 <= gpa < 3.6:\n",
    "    honors = \" cum laude.\"\n",
    "if gpa < 3.3:\n",
    "    honors = \".\"\n",
    "    \n",
    "print(\"You graduated\" + honors)"
   ]
  },
  {
   "cell_type": "code",
   "execution_count": 72,
   "metadata": {},
   "outputs": [
    {
     "name": "stdout",
     "output_type": "stream",
     "text": [
      "Enter cost of first suit: 378.5\n",
      "Enter cost of second suit: 495.99\n",
      "Cost of the two suits is $685.24\n"
     ]
    }
   ],
   "source": [
    "# 42\n",
    "\n",
    "costOfFirstSuit = eval(input(\"Enter cost of first suit: \"))\n",
    "costOfSecondSuit = eval(input(\"Enter cost of second suit: \"))\n",
    "\n",
    "if costOfFirstSuit >= costOfSecondSuit:\n",
    "    totalcost = costOfFirstSuit + costOfSecondSuit*0.5\n",
    "else:\n",
    "    totalcost = costOfFirstSuit*0.5 + costOfSecondSuit\n",
    "    \n",
    "print(\"Cost of the two suits is ${0:.2f}\".format(totalcost))"
   ]
  },
  {
   "cell_type": "code",
   "execution_count": null,
   "metadata": {},
   "outputs": [],
   "source": []
  }
 ],
 "metadata": {
  "kernelspec": {
   "display_name": "Python 3",
   "language": "python",
   "name": "python3"
  },
  "language_info": {
   "codemirror_mode": {
    "name": "ipython",
    "version": 3
   },
   "file_extension": ".py",
   "mimetype": "text/x-python",
   "name": "python",
   "nbconvert_exporter": "python",
   "pygments_lexer": "ipython3",
   "version": "3.7.7"
  }
 },
 "nbformat": 4,
 "nbformat_minor": 4
}
