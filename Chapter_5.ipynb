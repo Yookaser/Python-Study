{
 "cells": [
  {
   "cell_type": "markdown",
   "metadata": {},
   "source": [
    "## Chapter 3-3. The while loop"
   ]
  },
  {
   "cell_type": "markdown",
   "metadata": {},
   "source": [
    "## 1) while 명령문\n",
    "- while 명령문은 특정 조건이 만족되었을 때 들여쓰기 된 명령문 블록을 반복적으로 수행함.\n",
    "- header of the loop --> the line beginning with while\n",
    "- continuation condition --> the condition in the header, evaluates True or False\n",
    "- the body of the loop --> the indented block of code\n",
    "- each execution of the body --> a pass throuth the loop\n",
    "- 들여쓰기는 동일한 공백을 가지고 있어야 함.\n",
    "- If condition is False, python skips over the execution of the body of the loop\n",
    "- If condition is True, python executes the body of the loop\n",
    "- The body of the loop --> condition이 False가 될 때까지 실행됨."
   ]
  },
  {
   "cell_type": "code",
   "execution_count": 2,
   "metadata": {},
   "outputs": [],
   "source": [
    "# while 명령문의 형태\n",
    "# while condition:\n",
    "#    indented block of statements"
   ]
  },
  {
   "cell_type": "code",
   "execution_count": 3,
   "metadata": {},
   "outputs": [
    {
     "name": "stdout",
     "output_type": "stream",
     "text": [
      "1\n",
      "2\n",
      "3\n",
      "4\n",
      "5\n"
     ]
    }
   ],
   "source": [
    "# Ex.1\n",
    "\n",
    "num = 1\n",
    "while num <= 5:\n",
    "    print(num)\n",
    "    num += 1"
   ]
  },
  {
   "cell_type": "code",
   "execution_count": 10,
   "metadata": {},
   "outputs": [
    {
     "name": "stdout",
     "output_type": "stream",
     "text": [
      "This program displays a famous movie quotation.\n",
      "Enter 1, 2, or 3: 3\n",
      "That's all folks.\n"
     ]
    }
   ],
   "source": [
    "# Ex.2(while 명령문이 input validation에 사용된 예)\n",
    "\n",
    "print(\"This program displays a famous movie quotation.\")\n",
    "responses = ('1', '2', '3')\n",
    "response = '0'\n",
    "\n",
    "while response not in responses: # continuation condition이 True인 동안 아래 명령문이 실행됨.\n",
    "# reponse = '0'이기 때문에 condition은 True이고, 아래 명령문이 실행됨.\n",
    "    response = input(\"Enter 1, 2, or 3: \")\n",
    "# reponse에 1,2,3 중 하나를 입력하면 다음 루프에서 condition이 False가 되기 때문에 더이상 다음 루프가 실행되지 않음.\n",
    "# 하지만, reponse에 1,2,3 이외의 숫자를 입력하면, condition이 True이기 때문에 다음 루프가 실행됨.\n",
    "    if response == '1':\n",
    "        print(\"Plastics.\")\n",
    "    elif response == '2':\n",
    "        print(\"Rosebud.\")\n",
    "    elif response == '3':\n",
    "        print(\"That's all folks.\")"
   ]
  },
  {
   "cell_type": "code",
   "execution_count": 11,
   "metadata": {},
   "outputs": [
    {
     "name": "stdout",
     "output_type": "stream",
     "text": [
      "(Enter -1 to terminate entering numbers.)\n",
      "Enter a nonnegative number: 2\n",
      "Enter a nonnegative number: 3\n",
      "Enter a nonnegative number: 4\n",
      "Enter a nonnegative number: 5\n",
      "Enter a nonnegative number: 1\n",
      "Enter a nonnegative number: 6\n",
      "Enter a nonnegative number: 7\n",
      "Enter a nonnegative number: 8\n",
      "Enter a nonnegative number: 9\n",
      "Enter a nonnegative number: 10\n",
      "Enter a nonnegative number: -1\n",
      "Minimum: 1\n",
      "Maximum: 10\n",
      "Average: 5.5\n"
     ]
    }
   ],
   "source": [
    "# Ex.3(입력된 수들의 최소값, 최대값, 그리고 평균을 구하는 방법)\n",
    "\n",
    "count = 0 \n",
    "total = 0\n",
    "\n",
    "print(\"(Enter -1 to terminate entering numbers.)\")\n",
    "\n",
    "# 0 혹은 양수를 입력\n",
    "num = eval(input(\"Enter a nonnegative number: \"))\n",
    "min = num # 입력된 값을 min을 설정\n",
    "max = num # 입력된 값을 max로 설정\n",
    "\n",
    "while num != -1: # 입력된 값이 -1이 아닌 경우 명령문이 계속 실행됨.\n",
    "    count += 1 # 명령 루프 실행수를 계산함.\n",
    "    total += num # 명령 루프가 진행될 때마다 입력값의 누적치를 계산함.\n",
    "    if num < min: # 초기에는 실행되지 않음. 두번째 루프부터 실행됨.\n",
    "        min = num\n",
    "    if num > max: # 초기에는 실행되지 않음. 두번째 루프부터 실행됨.\n",
    "        max = num\n",
    "    num = eval(input(\"Enter a nonnegative number: \"))\n",
    "    \n",
    "# 초기 num이 3일때 두번째 num 입력값이 4이면 4가 max가 되고, 3이 min이 됨.\n",
    "# 초기 num이 10일 때 두번째 num 입력값이 5이면 10이 max가 되고, 5가 min이 됨.\n",
    "# -1을 입력할 때까지 명령문을 계속 실행됨.\n",
    "\n",
    "if count > 0:\n",
    "    print(\"Minimum:\", min)\n",
    "    print(\"Maximum:\", max)\n",
    "    print(\"Average:\", total/count)\n",
    "else:\n",
    "    print(\"No nonnegative numbers were entered.\")\n",
    "    \n",
    "    \n",
    "# count: counter variable\n",
    "# total: accumulator variable\n",
    "# -1: sentinel value, 프로그램을 종료할 때 사용되는 값\n",
    "# the above loop: sentinel-controlled repetition"
   ]
  },
  {
   "cell_type": "code",
   "execution_count": 12,
   "metadata": {},
   "outputs": [
    {
     "name": "stdout",
     "output_type": "stream",
     "text": [
      "(Enter -1 to terminate entering numbers.)\n",
      "Enter a nonnegative number: 1\n",
      "Enter a nonnegative number: 2\n",
      "Enter a nonnegative number: 3\n",
      "Enter a nonnegative number: 4\n",
      "Enter a nonnegative number: 5\n",
      "Enter a nonnegative number: 6\n",
      "Enter a nonnegative number: 7\n",
      "Enter a nonnegative number: 8\n",
      "Enter a nonnegative number: 9\n",
      "Enter a nonnegative number: -1\n",
      "Minimum: 1\n",
      "Maximum: 9\n",
      "Average: 5.0\n"
     ]
    },
    {
     "data": {
      "text/plain": [
       "[1, 2, 3, 4, 5, 6, 7, 8, 9]"
      ]
     },
     "execution_count": 12,
     "metadata": {},
     "output_type": "execute_result"
    }
   ],
   "source": [
    "# Ex.4(리스트 내 최소값, 최대값, 평균 구하기)\n",
    "\n",
    "list1 = [] # 빈 리스트 생성\n",
    "print(\"(Enter -1 to terminate entering numbers.)\")\n",
    "num = eval(input(\"Enter a nonnegative number: \"))\n",
    "\n",
    "while num != -1: # 입력값이 -1이 아닌 경우 명령문을 계속 실행됨.\n",
    "    list1.append(num) # 빈 리스트에 입력된 num 값을 추가함.\n",
    "    num = eval(input(\"Enter a nonnegative number: \"))\n",
    "    \n",
    "if len(list1) > 0:\n",
    "    list1.sort()\n",
    "    print(\"Minimum:\", list1[0])\n",
    "    print(\"Maximum:\", list1[-1])\n",
    "    print(\"Average:\", sum(list1) / len(list1))\n",
    "else:\n",
    "    print(\"No nonnegative number were entered.\")\n",
    "    \n",
    "list1"
   ]
  },
  {
   "cell_type": "code",
   "execution_count": 14,
   "metadata": {},
   "outputs": [
    {
     "name": "stdout",
     "output_type": "stream",
     "text": [
      "Enter initial deposit: 200000\n",
      "In 42 years you will have a million dollars\n"
     ]
    }
   ],
   "source": [
    "# Ex.5\n",
    "\n",
    "numberOfYears = 0\n",
    "balance = eval(input(\"Enter initial deposit: \"))\n",
    "while balance < 1000000:\n",
    "    balance += .04*balance\n",
    "    numberOfYears += 1\n",
    "print(\"In\", numberOfYears, \"years you will have a million dollars\")"
   ]
  },
  {
   "cell_type": "markdown",
   "metadata": {},
   "source": [
    "## 2) break 명령문\n",
    "- break 명령문은 실행문을 중지시키는 역할을 함.\n",
    "- break 명령문은 일반적으로 if 명령문 안에 나타남."
   ]
  },
  {
   "cell_type": "code",
   "execution_count": 15,
   "metadata": {},
   "outputs": [
    {
     "name": "stdout",
     "output_type": "stream",
     "text": [
      "(Enter -1 to terminate entering numbers.)\n",
      "Enter a nonnegative number: 1\n",
      "Enter a nonnegative number: 2\n",
      "Enter a nonnegative number: 3\n",
      "Enter a nonnegative number: 4\n",
      "Enter a nonnegative number: 5\n",
      "Enter a nonnegative number: 6\n",
      "Enter a nonnegative number: 7\n",
      "Enter a nonnegative number: 8\n",
      "Enter a nonnegative number: 9\n",
      "Enter a nonnegative number: -1\n"
     ]
    },
    {
     "data": {
      "text/plain": [
       "[1, 2, 3, 4, 5, 6, 7, 8, 9]"
      ]
     },
     "execution_count": 15,
     "metadata": {},
     "output_type": "execute_result"
    }
   ],
   "source": [
    "# Ex.6\n",
    "\n",
    "list1 = []\n",
    "print(\"(Enter -1 to terminate entering numbers.)\")\n",
    "\n",
    "while True:\n",
    "    num = eval(input(\"Enter a nonnegative number: \"))\n",
    "    if num == -1:\n",
    "        break\n",
    "    list1.append(num)\n",
    "    \n",
    "list1"
   ]
  },
  {
   "cell_type": "markdown",
   "metadata": {},
   "source": [
    "## 3) continue 명령문\n",
    "- continue 명령문은 현재 루프 반복이 종료되고, 다음 루프 처음으로 되돌아감.\n",
    "- continue 명령문은 일반적으로 if문 안에 나타남."
   ]
  },
  {
   "cell_type": "code",
   "execution_count": 18,
   "metadata": {},
   "outputs": [
    {
     "name": "stdout",
     "output_type": "stream",
     "text": [
      "There is no int in the list that is divisible by 11.\n"
     ]
    }
   ],
   "source": [
    "# Ex.7\n",
    "\n",
    "list1 = [\"one\", 23, 17.5, \"two\", 33.5, 22.1, 242.5, \"three\"]\n",
    "i = 0\n",
    "foundFlag = False\n",
    "\n",
    "while i < len(list1):\n",
    "    x = list1[i]\n",
    "    i += 1\n",
    "    if not isinstance(x, int): # x가 int가 아닌 경우 True\n",
    "        continue\n",
    "    if x % 11 == 0: # x가 int이고, 11에 나누어 떨어지는 경우 아래 명령문 실행, 루프 종료\n",
    "        foundFlag = True\n",
    "        print(x, \"is the first int that is divisible by 11.\")\n",
    "        break\n",
    "        \n",
    "    # x가 11로 나누어 떨어지지 않는 경우 루프를 계속 실행\n",
    "        \n",
    "if not foundFlag: # foundFlag가 False일 때 아래 명령문 실행, 즉, 11로 나누어 떨어지지 않을 때 명령문 실행\n",
    "    print(\"There is no int in the list that is divisible by 11.\")"
   ]
  },
  {
   "cell_type": "code",
   "execution_count": 19,
   "metadata": {},
   "outputs": [
    {
     "name": "stdout",
     "output_type": "stream",
     "text": [
      "Enter a number from the menu to obtain a fact\n",
      "about the US or to exit the program.\n",
      "\n",
      "1. Capital\n",
      "2. National Bird\n",
      "3. National Flower\n",
      "4. Quit\n",
      "\n",
      "Make a selection from the menu: 1\n",
      "Washington, DC is the capital of the US.\n",
      "Make a selection from the menu: 2\n",
      "The American Bald Eagle is the national bird.\n",
      "Make a selection from the menu: 4\n"
     ]
    }
   ],
   "source": [
    "# Ex.8\n",
    "\n",
    "print(\"Enter a number from the menu to obtain a fact\")\n",
    "print(\"about the US or to exit the program.\\n\")\n",
    "print(\"1. Capital\")\n",
    "print(\"2. National Bird\")\n",
    "print(\"3. National Flower\")\n",
    "print(\"4. Quit\\n\")\n",
    "\n",
    "while True:\n",
    "    num = int(input(\"Make a selection from the menu: \"))\n",
    "    if num == 1:\n",
    "        print(\"Washington, DC is the capital of the US.\")\n",
    "    elif num == 2:\n",
    "        print(\"The American Bald Eagle is the national bird.\")\n",
    "    elif num == 3:\n",
    "        print(\"The Rose is the national flower.\")\n",
    "    elif num == 4:\n",
    "        break"
   ]
  },
  {
   "cell_type": "markdown",
   "metadata": {},
   "source": [
    "## 4) 무한루프\n",
    "- 무한루프는 무한 반복되는 실행문으로 실행이 끝나지 않기 때문에 주의할 필요가 있음."
   ]
  },
  {
   "cell_type": "code",
   "execution_count": 20,
   "metadata": {},
   "outputs": [
    {
     "name": "stdout",
     "output_type": "stream",
     "text": [
      "(Enter -1 to terminate entering numbers.)\n",
      "Enter a number to square: 1\n",
      "1\n",
      "Enter a number to square: 2\n",
      "4\n",
      "Enter a number to square: 3\n",
      "9\n",
      "Enter a number to square: 4\n",
      "16\n",
      "Enter a number to square: 5\n",
      "25\n",
      "Enter a number to square: 6\n",
      "36\n",
      "Enter a number to square: 7\n",
      "49\n",
      "Enter a number to square: -1\n",
      "1\n"
     ]
    },
    {
     "ename": "KeyboardInterrupt",
     "evalue": "Interrupted by user",
     "output_type": "error",
     "traceback": [
      "\u001b[0;31m---------------------------------------------------------------------------\u001b[0m",
      "\u001b[0;31mKeyboardInterrupt\u001b[0m                         Traceback (most recent call last)",
      "\u001b[0;32m<ipython-input-20-15f55896e41a>\u001b[0m in \u001b[0;36m<module>\u001b[0;34m\u001b[0m\n\u001b[1;32m      2\u001b[0m \u001b[0mnumber\u001b[0m \u001b[0;34m=\u001b[0m \u001b[0;36m0\u001b[0m\u001b[0;34m\u001b[0m\u001b[0;34m\u001b[0m\u001b[0m\n\u001b[1;32m      3\u001b[0m \u001b[0;32mwhile\u001b[0m \u001b[0mnumber\u001b[0m \u001b[0;34m>=\u001b[0m \u001b[0;36m0\u001b[0m\u001b[0;34m:\u001b[0m\u001b[0;34m\u001b[0m\u001b[0;34m\u001b[0m\u001b[0m\n\u001b[0;32m----> 4\u001b[0;31m     \u001b[0mnumber\u001b[0m \u001b[0;34m=\u001b[0m \u001b[0meval\u001b[0m\u001b[0;34m(\u001b[0m\u001b[0minput\u001b[0m\u001b[0;34m(\u001b[0m\u001b[0;34m\"Enter a number to square: \"\u001b[0m\u001b[0;34m)\u001b[0m\u001b[0;34m)\u001b[0m\u001b[0;34m\u001b[0m\u001b[0;34m\u001b[0m\u001b[0m\n\u001b[0m\u001b[1;32m      5\u001b[0m     \u001b[0mnumber\u001b[0m \u001b[0;34m=\u001b[0m \u001b[0mnumber\u001b[0m\u001b[0;34m*\u001b[0m\u001b[0mnumber\u001b[0m\u001b[0;34m\u001b[0m\u001b[0;34m\u001b[0m\u001b[0m\n\u001b[1;32m      6\u001b[0m     \u001b[0mprint\u001b[0m\u001b[0;34m(\u001b[0m\u001b[0mnumber\u001b[0m\u001b[0;34m)\u001b[0m\u001b[0;34m\u001b[0m\u001b[0;34m\u001b[0m\u001b[0m\n",
      "\u001b[0;32m~/opt/anaconda3/lib/python3.8/site-packages/ipykernel/kernelbase.py\u001b[0m in \u001b[0;36mraw_input\u001b[0;34m(self, prompt)\u001b[0m\n\u001b[1;32m    858\u001b[0m                 \u001b[0;34m\"raw_input was called, but this frontend does not support input requests.\"\u001b[0m\u001b[0;34m\u001b[0m\u001b[0;34m\u001b[0m\u001b[0m\n\u001b[1;32m    859\u001b[0m             )\n\u001b[0;32m--> 860\u001b[0;31m         return self._input_request(str(prompt),\n\u001b[0m\u001b[1;32m    861\u001b[0m             \u001b[0mself\u001b[0m\u001b[0;34m.\u001b[0m\u001b[0m_parent_ident\u001b[0m\u001b[0;34m,\u001b[0m\u001b[0;34m\u001b[0m\u001b[0;34m\u001b[0m\u001b[0m\n\u001b[1;32m    862\u001b[0m             \u001b[0mself\u001b[0m\u001b[0;34m.\u001b[0m\u001b[0m_parent_header\u001b[0m\u001b[0;34m,\u001b[0m\u001b[0;34m\u001b[0m\u001b[0;34m\u001b[0m\u001b[0m\n",
      "\u001b[0;32m~/opt/anaconda3/lib/python3.8/site-packages/ipykernel/kernelbase.py\u001b[0m in \u001b[0;36m_input_request\u001b[0;34m(self, prompt, ident, parent, password)\u001b[0m\n\u001b[1;32m    902\u001b[0m             \u001b[0;32mexcept\u001b[0m \u001b[0mKeyboardInterrupt\u001b[0m\u001b[0;34m:\u001b[0m\u001b[0;34m\u001b[0m\u001b[0;34m\u001b[0m\u001b[0m\n\u001b[1;32m    903\u001b[0m                 \u001b[0;31m# re-raise KeyboardInterrupt, to truncate traceback\u001b[0m\u001b[0;34m\u001b[0m\u001b[0;34m\u001b[0m\u001b[0;34m\u001b[0m\u001b[0m\n\u001b[0;32m--> 904\u001b[0;31m                 \u001b[0;32mraise\u001b[0m \u001b[0mKeyboardInterrupt\u001b[0m\u001b[0;34m(\u001b[0m\u001b[0;34m\"Interrupted by user\"\u001b[0m\u001b[0;34m)\u001b[0m \u001b[0;32mfrom\u001b[0m \u001b[0;32mNone\u001b[0m\u001b[0;34m\u001b[0m\u001b[0;34m\u001b[0m\u001b[0m\n\u001b[0m\u001b[1;32m    905\u001b[0m             \u001b[0;32mexcept\u001b[0m \u001b[0mException\u001b[0m \u001b[0;32mas\u001b[0m \u001b[0me\u001b[0m\u001b[0;34m:\u001b[0m\u001b[0;34m\u001b[0m\u001b[0;34m\u001b[0m\u001b[0m\n\u001b[1;32m    906\u001b[0m                 \u001b[0mself\u001b[0m\u001b[0;34m.\u001b[0m\u001b[0mlog\u001b[0m\u001b[0;34m.\u001b[0m\u001b[0mwarning\u001b[0m\u001b[0;34m(\u001b[0m\u001b[0;34m\"Invalid Message:\"\u001b[0m\u001b[0;34m,\u001b[0m \u001b[0mexc_info\u001b[0m\u001b[0;34m=\u001b[0m\u001b[0;32mTrue\u001b[0m\u001b[0;34m)\u001b[0m\u001b[0;34m\u001b[0m\u001b[0;34m\u001b[0m\u001b[0m\n",
      "\u001b[0;31mKeyboardInterrupt\u001b[0m: Interrupted by user"
     ]
    }
   ],
   "source": [
    "print(\"(Enter -1 to terminate entering numbers.)\")\n",
    "number = 0\n",
    "while number >= 0:\n",
    "    number = eval(input(\"Enter a number to square: \"))\n",
    "    number = number*number\n",
    "    print(number)"
   ]
  },
  {
   "cell_type": "markdown",
   "metadata": {},
   "source": [
    "## Chapter 3-4. The for loop\n",
    "- for 반복문의 형태는 다음과 같음."
   ]
  },
  {
   "cell_type": "code",
   "execution_count": 1,
   "metadata": {},
   "outputs": [],
   "source": [
    "# for var in sequence:\n",
    "#     indented block of statements"
   ]
  },
  {
   "cell_type": "markdown",
   "metadata": {},
   "source": [
    "- sequence에는 숫자, 문자열, 리스트, 튜플, 파일 등의 객체를 사용할 수 있음.\n",
    "- sequence에 있는 데이터가 순차적으로 var 변수에 할당이 되고, for문 아래 명령문이 실행됨.\n",
    "- for문 아래에 있는 명령문은 동일한 들여쓰기(혹은 공백)가진 명령문으로 구성됨."
   ]
  },
  {
   "cell_type": "code",
   "execution_count": 21,
   "metadata": {},
   "outputs": [
    {
     "name": "stdout",
     "output_type": "stream",
     "text": [
      "h\n",
      "a\n",
      "n\n",
      "y\n",
      "a\n",
      "n\n",
      "g\n"
     ]
    }
   ],
   "source": [
    "for i in \"hanyang\":\n",
    "    print(i)"
   ]
  },
  {
   "cell_type": "code",
   "execution_count": 22,
   "metadata": {},
   "outputs": [
    {
     "name": "stdout",
     "output_type": "stream",
     "text": [
      "1\n",
      "2\n",
      "3\n",
      "4\n",
      "5\n",
      "6\n"
     ]
    }
   ],
   "source": [
    "for i in [1,2,3,4,5,6]:\n",
    "    print(i)"
   ]
  },
  {
   "cell_type": "code",
   "execution_count": 25,
   "metadata": {},
   "outputs": [
    {
     "name": "stdout",
     "output_type": "stream",
     "text": [
      "1 2 3 4 5 "
     ]
    }
   ],
   "source": [
    "for i in (1,2,3,4,5):\n",
    "    print(i, end=' ')"
   ]
  },
  {
   "cell_type": "markdown",
   "metadata": {},
   "source": [
    "## 1) Looping Through an Arithmetic Progression of Numbers\n",
    "- range(m, n) --> m, m+1, m+2,..., n-1\n",
    "- range(3, 10) --> 3,4,5,6,7,8,9\n",
    "- range(-4, 2) --> -4, -3, -2, -1, 0, 1\n",
    "- range(0, n) equals to range(n)\n",
    "- the header of the loop: the line beginning of with for\n",
    "- the loop variable: the variable following the word for\n",
    "- the body of the loop: the indented block of statements\n",
    "- the header of the loop에 정의되는 변수는 i, j, k 등으로 표현이 가능하지만, 되도록이면 그 의미를 파악할 수 있는 변수명을 정의하는 것이 좋음.(예: for year in range(2000, 2015))"
   ]
  },
  {
   "cell_type": "code",
   "execution_count": 30,
   "metadata": {},
   "outputs": [
    {
     "data": {
      "text/plain": [
       "[3, 4, 5, 6, 7, 8]"
      ]
     },
     "execution_count": 30,
     "metadata": {},
     "output_type": "execute_result"
    }
   ],
   "source": [
    "list1 = list(range(3, 9))\n",
    "list1"
   ]
  },
  {
   "cell_type": "raw",
   "metadata": {},
   "source": []
  },
  {
   "cell_type": "code",
   "execution_count": 2,
   "metadata": {},
   "outputs": [
    {
     "name": "stdout",
     "output_type": "stream",
     "text": [
      "2 4\n",
      "3 9\n",
      "4 16\n",
      "5 25\n"
     ]
    }
   ],
   "source": [
    "# Ex.1\n",
    "\n",
    "for i in range(2, 6):\n",
    "    print(i, i*i)"
   ]
  },
  {
   "cell_type": "code",
   "execution_count": 31,
   "metadata": {},
   "outputs": [
    {
     "name": "stdout",
     "output_type": "stream",
     "text": [
      "2 4\n",
      "3 9\n",
      "4 16\n",
      "5 25\n"
     ]
    }
   ],
   "source": [
    "for i in [2,3,4,5]:\n",
    "    print(i, i*i)"
   ]
  },
  {
   "cell_type": "code",
   "execution_count": 4,
   "metadata": {},
   "outputs": [
    {
     "name": "stdout",
     "output_type": "stream",
     "text": [
      "Year       Population\n",
      "2014        300,000\n",
      "2015        309,000\n",
      "2016        318,270\n",
      "2017        327,818\n",
      "2018        337,653\n"
     ]
    }
   ],
   "source": [
    "# Ex.2\n",
    "\n",
    "pop = 300000\n",
    "print(\"{0:10} {1}\".format(\"Year\", \"Population\"))\n",
    "\n",
    "for year in range(2014, 2019):\n",
    "    print(\"{0:<10d} {1: ,d}\".format(year, round(pop)))\n",
    "    pop += 0.03*pop"
   ]
  },
  {
   "cell_type": "markdown",
   "metadata": {},
   "source": [
    "## 2) Step Values for the range Function\n",
    "- range(m, n, s) --> m, m+s, m+2s, m+3s, m+4s,..., m+rs\n",
    "- range(3, 10, 2) --> 3, 5, 7, 9\n",
    "- range(0, 24, 5) --> 0, 5, 10, 15, 20\n",
    "- range(-10, 10, 4) --> -10, -6, -2, 2, 6\n",
    "- range(6, 0, -1) --> 6, 5, 4, 3, 2, 1\n",
    "- range(5, 2, -3) --> 5\n",
    "- range(10, -10, -4) --> 10, 6, 2, -2, -6"
   ]
  },
  {
   "cell_type": "code",
   "execution_count": 32,
   "metadata": {},
   "outputs": [
    {
     "name": "stdout",
     "output_type": "stream",
     "text": [
      "Enter amount deposited: 3000\n",
      "Enter annual rate of interest; such as .02, .03, or .04: .05\n",
      "Month        Balance\n",
      "  3         $3,037.66       \n",
      "  6         $3,075.79       \n",
      "  9         $3,114.39       \n",
      " 12         $3,153.49       \n"
     ]
    }
   ],
   "source": [
    "# Ex.3\n",
    "\n",
    "initialDeposit = eval(input(\"Enter amount deposited: \"))\n",
    "prompt = \"Enter annual rate of interest; such as .02, .03, or .04: \"\n",
    "annualRateOfInterest = eval(input(prompt))\n",
    "monthlyRateOfInterest = annualRateOfInterest / 12\n",
    "\n",
    "print(\"{0}{1:>15}\".format(\"Month\", \"Balance\"))\n",
    "\n",
    "for i in range(3, 13, 3):\n",
    "    print(\"{0:^5d}       ${1:<15,.2f}\".format(i, initialDeposit * (1+monthlyRateOfInterest) ** i))"
   ]
  },
  {
   "cell_type": "markdown",
   "metadata": {},
   "source": [
    "## 3) Nested for Loops"
   ]
  },
  {
   "cell_type": "code",
   "execution_count": 40,
   "metadata": {},
   "outputs": [
    {
     "name": "stdout",
     "output_type": "stream",
     "text": [
      "1 x 1 = 1 \t1 x 2 = 2 \t1 x 3 = 3 \t1 x 4 = 4 \t1 x 5 = 5 \t1 x 6 = 6 \t1 x 7 = 7 \t\n",
      "2 x 1 = 2 \t2 x 2 = 4 \t2 x 3 = 6 \t2 x 4 = 8 \t2 x 5 = 10 \t2 x 6 = 12 \t2 x 7 = 14 \t\n",
      "3 x 1 = 3 \t3 x 2 = 6 \t3 x 3 = 9 \t3 x 4 = 12 \t3 x 5 = 15 \t3 x 6 = 18 \t3 x 7 = 21 \t\n",
      "4 x 1 = 4 \t4 x 2 = 8 \t4 x 3 = 12 \t4 x 4 = 16 \t4 x 5 = 20 \t4 x 6 = 24 \t4 x 7 = 28 \t\n",
      "5 x 1 = 5 \t5 x 2 = 10 \t5 x 3 = 15 \t5 x 4 = 20 \t5 x 5 = 25 \t5 x 6 = 30 \t5 x 7 = 35 \t\n",
      "6 x 1 = 6 \t6 x 2 = 12 \t6 x 3 = 18 \t6 x 4 = 24 \t6 x 5 = 30 \t6 x 6 = 36 \t6 x 7 = 42 \t\n",
      "7 x 1 = 7 \t7 x 2 = 14 \t7 x 3 = 21 \t7 x 4 = 28 \t7 x 5 = 35 \t7 x 6 = 42 \t7 x 7 = 49 \t\n",
      "8 x 1 = 8 \t8 x 2 = 16 \t8 x 3 = 24 \t8 x 4 = 32 \t8 x 5 = 40 \t8 x 6 = 48 \t8 x 7 = 56 \t\n",
      "9 x 1 = 9 \t9 x 2 = 18 \t9 x 3 = 27 \t9 x 4 = 36 \t9 x 5 = 45 \t9 x 6 = 54 \t9 x 7 = 63 \t\n"
     ]
    }
   ],
   "source": [
    "# Ex.4\n",
    "\n",
    "for m in range(1,10):\n",
    "    for n in range(1,8):\n",
    "        print(m, 'x', n, '=', m*n, '\\t', end = \"\")\n",
    "    print()"
   ]
  },
  {
   "cell_type": "code",
   "execution_count": 17,
   "metadata": {},
   "outputs": [
    {
     "name": "stdout",
     "output_type": "stream",
     "text": [
      "Enter a number from 1 through 20: 10\n",
      "*\n",
      "**\n",
      "***\n",
      "****\n",
      "*****\n",
      "******\n",
      "*******\n",
      "********\n",
      "*********\n",
      "**********\n"
     ]
    }
   ],
   "source": [
    "# Ex.5\n",
    "\n",
    "numberOfRows = int(input(\"Enter a number from 1 through 20: \"))\n",
    "for i in range(numberOfRows):\n",
    "    for j in range(i + 1):\n",
    "        print(\"*\", end=\"\")\n",
    "    print()"
   ]
  },
  {
   "cell_type": "markdown",
   "metadata": {},
   "source": [
    "## 4) Looping through the characters of a string"
   ]
  },
  {
   "cell_type": "markdown",
   "metadata": {},
   "source": [
    "- 문자열 시퀀스 데이터도 for문을 이용해 실행문을 작성할 수 있음."
   ]
  },
  {
   "cell_type": "code",
   "execution_count": 21,
   "metadata": {},
   "outputs": [],
   "source": [
    "# for ch in str1:\n",
    "#     indented block of statements"
   ]
  },
  {
   "cell_type": "code",
   "execution_count": 41,
   "metadata": {},
   "outputs": [
    {
     "name": "stdout",
     "output_type": "stream",
     "text": [
      "h\n",
      "a\n",
      "n\n",
      "y\n",
      "a\n",
      "n\n",
      "g\n"
     ]
    }
   ],
   "source": [
    "for ch in \"hanyang\":\n",
    "    print(ch)"
   ]
  },
  {
   "cell_type": "code",
   "execution_count": 42,
   "metadata": {},
   "outputs": [
    {
     "name": "stdout",
     "output_type": "stream",
     "text": [
      "Enter a word: abcd\n",
      "The reversed word is dcba.\n"
     ]
    }
   ],
   "source": [
    "# Ex.6\n",
    "\n",
    "word = input(\"Enter a word: \")\n",
    "reverseWord = \"\"\n",
    "for ch in word:\n",
    "    reverseWord = ch + reverseWord\n",
    "print(\"The reversed word is \"+reverseWord+\".\")"
   ]
  },
  {
   "cell_type": "markdown",
   "metadata": {},
   "source": [
    "## 5) Looping through the items of a list or tuple"
   ]
  },
  {
   "cell_type": "code",
   "execution_count": 24,
   "metadata": {},
   "outputs": [],
   "source": [
    "# for item in listOrTuple:\n",
    "#     indented block of statements"
   ]
  },
  {
   "cell_type": "code",
   "execution_count": 25,
   "metadata": {},
   "outputs": [
    {
     "name": "stdout",
     "output_type": "stream",
     "text": [
      "January\n",
      "February\n",
      "March\n",
      "April\n",
      "September\n",
      "October\n",
      "November\n",
      "December\n"
     ]
    }
   ],
   "source": [
    "# Ex.7\n",
    "\n",
    "months = (\"January\", \"February\", \"March\", \"April\", \"May\", \"June\",\n",
    "         \"July\", \"August\", \"September\", \"October\", \"November\", \"December\")\n",
    "for month in months:\n",
    "    if 'r' in month.lower():\n",
    "        print(month)"
   ]
  },
  {
   "cell_type": "code",
   "execution_count": 29,
   "metadata": {},
   "outputs": [
    {
     "name": "stdout",
     "output_type": "stream",
     "text": [
      "['Jan', 'Feb', 'Mar', 'Apr', 'May', 'Jun', 'Jul', 'Aug', 'Sep', 'Oct', 'Nov', 'Dec']\n"
     ]
    }
   ],
   "source": [
    "# Ex.8\n",
    "\n",
    "months = [\"January\", \"February\", \"March\", \"April\", \"May\", \"June\",\n",
    "         \"July\", \"August\", \"September\", \"October\", \"November\", \"December\"]\n",
    "for i in range(len(months)):\n",
    "    months[i] = months[i][0:3]\n",
    "print(months)"
   ]
  },
  {
   "cell_type": "code",
   "execution_count": 43,
   "metadata": {},
   "outputs": [
    {
     "name": "stdout",
     "output_type": "stream",
     "text": [
      "2 of spades\n",
      "2 of hearts\n",
      "2 of clubs\n",
      "2 of diamonds\n",
      "3 of spades\n",
      "3 of hearts\n",
      "3 of clubs\n",
      "3 of diamonds\n",
      "4 of spades\n",
      "4 of hearts\n",
      "4 of clubs\n",
      "4 of diamonds\n",
      "5 of spades\n",
      "5 of hearts\n",
      "5 of clubs\n",
      "5 of diamonds\n",
      "6 of spades\n",
      "6 of hearts\n",
      "6 of clubs\n",
      "6 of diamonds\n",
      "8 of spades\n",
      "8 of hearts\n",
      "8 of clubs\n",
      "8 of diamonds\n",
      "9 of spades\n",
      "9 of hearts\n",
      "9 of clubs\n",
      "9 of diamonds\n",
      "10 of spades\n",
      "10 of hearts\n",
      "10 of clubs\n",
      "10 of diamonds\n",
      "jack of spades\n",
      "jack of hearts\n",
      "jack of clubs\n",
      "jack of diamonds\n",
      "queeen of spades\n",
      "queeen of hearts\n",
      "queeen of clubs\n",
      "queeen of diamonds\n",
      "king of spades\n",
      "king of hearts\n",
      "king of clubs\n",
      "king of diamonds\n",
      "ace of spades\n",
      "ace of hearts\n",
      "ace of clubs\n",
      "ace of diamonds\n"
     ]
    },
    {
     "data": {
      "text/plain": [
       "['2 of spades',\n",
       " '2 of hearts',\n",
       " '2 of clubs',\n",
       " '2 of diamonds',\n",
       " '3 of spades',\n",
       " '3 of hearts',\n",
       " '3 of clubs',\n",
       " '3 of diamonds',\n",
       " '4 of spades',\n",
       " '4 of hearts',\n",
       " '4 of clubs',\n",
       " '4 of diamonds',\n",
       " '5 of spades',\n",
       " '5 of hearts',\n",
       " '5 of clubs',\n",
       " '5 of diamonds',\n",
       " '6 of spades',\n",
       " '6 of hearts',\n",
       " '6 of clubs',\n",
       " '6 of diamonds',\n",
       " '8 of spades',\n",
       " '8 of hearts',\n",
       " '8 of clubs',\n",
       " '8 of diamonds',\n",
       " '9 of spades',\n",
       " '9 of hearts',\n",
       " '9 of clubs',\n",
       " '9 of diamonds',\n",
       " '10 of spades',\n",
       " '10 of hearts',\n",
       " '10 of clubs',\n",
       " '10 of diamonds',\n",
       " 'jack of spades',\n",
       " 'jack of hearts',\n",
       " 'jack of clubs',\n",
       " 'jack of diamonds',\n",
       " 'queeen of spades',\n",
       " 'queeen of hearts',\n",
       " 'queeen of clubs',\n",
       " 'queeen of diamonds',\n",
       " 'king of spades',\n",
       " 'king of hearts',\n",
       " 'king of clubs',\n",
       " 'king of diamonds',\n",
       " 'ace of spades',\n",
       " 'ace of hearts',\n",
       " 'ace of clubs',\n",
       " 'ace of diamonds']"
      ]
     },
     "execution_count": 43,
     "metadata": {},
     "output_type": "execute_result"
    }
   ],
   "source": [
    "# Ex.9\n",
    "\n",
    "ranks = ['2', '3', '4', '5', '6','8', '9',\n",
    "        '10', 'jack', 'queeen', 'king', 'ace']\n",
    "suits = ['spades', 'hearts', 'clubs', 'diamonds']\n",
    "deckOfCards = []\n",
    "\n",
    "for rank in ranks:\n",
    "    for suit in suits:\n",
    "        deckOfCards.append(rank + \" of \" + suit)\n",
    "        \n",
    "for card in deckOfCards:\n",
    "    print(card)\n",
    "    \n",
    "deckOfCards"
   ]
  },
  {
   "cell_type": "markdown",
   "metadata": {},
   "source": [
    "## 6) Looping through the lines of a text file"
   ]
  },
  {
   "cell_type": "code",
   "execution_count": 32,
   "metadata": {},
   "outputs": [],
   "source": [
    "# infile = open(\"fileName.txt\", 'r')\n",
    "# for line in infile:\n",
    "#     indented block of statements\n",
    "# infile.close()"
   ]
  },
  {
   "cell_type": "code",
   "execution_count": 45,
   "metadata": {},
   "outputs": [
    {
     "name": "stdout",
     "output_type": "stream",
     "text": [
      "Enter a first name: James\n",
      "James Madison\n",
      "James Monroe\n",
      "James Knox Polk\n",
      "James Buchanan\n",
      "James Abram Garfield\n"
     ]
    }
   ],
   "source": [
    "# Ex.10\n",
    "\n",
    "firstName = input(\"Enter a first name: \")\n",
    "foundFlag = False\n",
    "infile = open(\"USPres.txt\", 'r')\n",
    "for line in infile:\n",
    "    if line.startswith(firstName + ' '):\n",
    "        print(line.rstrip())\n",
    "        foundFlag = True\n",
    "infile.close()\n",
    "if not foundFlag:\n",
    "    print(\"No president had the first name:\", firstName + '.')"
   ]
  },
  {
   "cell_type": "markdown",
   "metadata": {},
   "source": [
    "## 7) The pass statement"
   ]
  },
  {
   "cell_type": "code",
   "execution_count": 46,
   "metadata": {},
   "outputs": [
    {
     "name": "stdout",
     "output_type": "stream",
     "text": [
      "George W. Bush\n"
     ]
    }
   ],
   "source": [
    "# Ex.11\n",
    "\n",
    "# 맨 마지막 줄에 있는 데이터가 표시됨.\n",
    "\n",
    "infile = open(\"USPres.txt\", 'r')\n",
    "for line in infile:\n",
    "    pass\n",
    "print(line.rstrip())\n",
    "infile.close()"
   ]
  },
  {
   "cell_type": "markdown",
   "metadata": {},
   "source": [
    "## 8) Populating a list with the contents of a text file\n",
    "- 텍스트 파일을 분석할 때 때로는 텍스트 파일에 있는 내용을 리스트 형태로 변환시켜 사용하면 편리할 때가 있음."
   ]
  },
  {
   "cell_type": "code",
   "execution_count": 48,
   "metadata": {},
   "outputs": [],
   "source": [
    "pre = []\n",
    "infile = open(\"USPres.txt\", 'r')\n",
    "for line in infile:\n",
    "    pre.append(line.rstrip())\n",
    "infile.close()"
   ]
  },
  {
   "cell_type": "code",
   "execution_count": 49,
   "metadata": {},
   "outputs": [
    {
     "data": {
      "text/plain": [
       "['George Washington',\n",
       " 'John Adams',\n",
       " 'Thomas Jefferson',\n",
       " 'James Madison',\n",
       " 'James Monroe',\n",
       " 'John Quincy Adams',\n",
       " 'Andrew Jackson',\n",
       " 'Martin Van Buren',\n",
       " 'William Henry Harrison',\n",
       " 'John TyIer',\n",
       " 'James Knox Polk',\n",
       " 'Zachary Taylor',\n",
       " 'Millard Fillmore',\n",
       " 'Franklin Pierce',\n",
       " 'James Buchanan',\n",
       " 'Abraham Lincoln',\n",
       " 'Andrew Johnson',\n",
       " 'Ulysses Simpson Grant',\n",
       " 'Rutherford Birchard Hayes',\n",
       " 'James Abram Garfield',\n",
       " 'Chester Alan Arthur',\n",
       " 'Grover Cleveland',\n",
       " 'Benjamin Harrison',\n",
       " 'Grover Cleveland',\n",
       " 'William McKinley',\n",
       " 'Theodore Roosevelt',\n",
       " 'William Howard Taft',\n",
       " 'Woodrow Wilson',\n",
       " 'Warren Gamaliel Harding',\n",
       " 'Calvin Coolidge',\n",
       " 'Herbert Clark Hoover',\n",
       " 'Franklin Delano Roosevelt',\n",
       " 'Harry S Truman',\n",
       " 'Dwight David Eisenhower',\n",
       " 'John Fitzgerald Kennedy',\n",
       " 'Lyndon Baines Johnson',\n",
       " 'Richard Milhous Nixon',\n",
       " 'Gerald Rudolph Ford',\n",
       " 'Jimmy (James Earl) Carter',\n",
       " 'Ronald Wilson Reagan',\n",
       " 'George Herbert Walker Bush',\n",
       " 'Bill (William Jefferson) Clinton',\n",
       " 'George W. Bush']"
      ]
     },
     "execution_count": 49,
     "metadata": {},
     "output_type": "execute_result"
    }
   ],
   "source": [
    "pre"
   ]
  },
  {
   "cell_type": "code",
   "execution_count": 51,
   "metadata": {},
   "outputs": [
    {
     "data": {
      "text/plain": [
       "['George Washington',\n",
       " 'John Adams',\n",
       " 'Thomas Jefferson',\n",
       " 'James Madison',\n",
       " 'James Monroe',\n",
       " 'John Quincy Adams',\n",
       " 'Andrew Jackson',\n",
       " 'Martin Van Buren',\n",
       " 'William Henry Harrison',\n",
       " 'John TyIer',\n",
       " 'James Knox Polk',\n",
       " 'Zachary Taylor',\n",
       " 'Millard Fillmore',\n",
       " 'Franklin Pierce',\n",
       " 'James Buchanan',\n",
       " 'Abraham Lincoln',\n",
       " 'Andrew Johnson',\n",
       " 'Ulysses Simpson Grant',\n",
       " 'Rutherford Birchard Hayes',\n",
       " 'James Abram Garfield',\n",
       " 'Chester Alan Arthur',\n",
       " 'Grover Cleveland',\n",
       " 'Benjamin Harrison',\n",
       " 'Grover Cleveland',\n",
       " 'William McKinley',\n",
       " 'Theodore Roosevelt',\n",
       " 'William Howard Taft',\n",
       " 'Woodrow Wilson',\n",
       " 'Warren Gamaliel Harding',\n",
       " 'Calvin Coolidge',\n",
       " 'Herbert Clark Hoover',\n",
       " 'Franklin Delano Roosevelt',\n",
       " 'Harry S Truman',\n",
       " 'Dwight David Eisenhower',\n",
       " 'John Fitzgerald Kennedy',\n",
       " 'Lyndon Baines Johnson',\n",
       " 'Richard Milhous Nixon',\n",
       " 'Gerald Rudolph Ford',\n",
       " 'Jimmy (James Earl) Carter',\n",
       " 'Ronald Wilson Reagan',\n",
       " 'George Herbert Walker Bush',\n",
       " 'Bill (William Jefferson) Clinton',\n",
       " 'George W. Bush']"
      ]
     },
     "execution_count": 51,
     "metadata": {},
     "output_type": "execute_result"
    }
   ],
   "source": [
    "infile = open(\"USPres.txt\", 'r')\n",
    "dataList = [line.rstrip() for line in infile]\n",
    "infile.close()\n",
    "\n",
    "dataList"
   ]
  },
  {
   "cell_type": "code",
   "execution_count": 54,
   "metadata": {},
   "outputs": [
    {
     "data": {
      "text/plain": [
       "[1, 2, 3, 4, 5, 6, 7, 8, 9, 10]"
      ]
     },
     "execution_count": 54,
     "metadata": {},
     "output_type": "execute_result"
    }
   ],
   "source": [
    "infile = open(\"Data2.txt\", 'r')\n",
    "dataList1 = [eval(line) for line in infile]\n",
    "infile.close()\n",
    "\n",
    "dataList1"
   ]
  }
 ],
 "metadata": {
  "kernelspec": {
   "display_name": "Python 3",
   "language": "python",
   "name": "python3"
  },
  "language_info": {
   "codemirror_mode": {
    "name": "ipython",
    "version": 3
   },
   "file_extension": ".py",
   "mimetype": "text/x-python",
   "name": "python",
   "nbconvert_exporter": "python",
   "pygments_lexer": "ipython3",
   "version": "3.7.7"
  }
 },
 "nbformat": 4,
 "nbformat_minor": 4
}
