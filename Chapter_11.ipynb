{
 "cells": [
  {
   "cell_type": "markdown",
   "metadata": {},
   "source": [
    "## Chapter 6.1 Exception Handling"
   ]
  },
  {
   "cell_type": "markdown",
   "metadata": {},
   "source": [
    "- 파이썬에서는 프로그래머가 프로그램을 실행하는 동안 발생하는 오류를 리포팅하고 복구할 수 있는 \"exception handling\"이라고 부르는 메카니즘을 제공함. "
   ]
  },
  {
   "cell_type": "markdown",
   "metadata": {},
   "source": [
    "### 1) Exceptions(예외)\n",
    "\n",
    "- 프로그램을 실행하는 동안 발생하는 오류가 많이 존재하지만, 사용자나 실행 환경의 문제에서 발생할 수도 있음.\n",
    "    - 데이터 입력이 잘못되었거나 파일 접근이 불가능한 경우 등\n",
    "- 여러 원인에 의해 실행 중에 발생하는 오류를 exception(예외)라고 하며, 발생한 예외를 처리해 프로그램이 바로 종료되는 일이 없도록 하는 것을 exception handling(예외 처리)라고 함.\n",
    "    - 예외 처리 No --> 바로 프로그램 중단, 오류 메시지 출력\n",
    "    - 예외 처리 Yes --> 발생 예외 처리, 이후 문장 계속 실행"
   ]
  },
  {
   "cell_type": "code",
   "execution_count": 1,
   "metadata": {},
   "outputs": [
    {
     "ename": "AttributeError",
     "evalue": "'tuple' object has no attribute 'sort'",
     "output_type": "error",
     "traceback": [
      "\u001b[0;31m---------------------------------------------------------------------------\u001b[0m",
      "\u001b[0;31mAttributeError\u001b[0m                            Traceback (most recent call last)",
      "\u001b[0;32m<ipython-input-1-3fbe6dbd4b0b>\u001b[0m in \u001b[0;36m<module>\u001b[0;34m\u001b[0m\n\u001b[1;32m      1\u001b[0m \u001b[0;31m# AttibuteError\u001b[0m\u001b[0;34m\u001b[0m\u001b[0;34m\u001b[0m\u001b[0;34m\u001b[0m\u001b[0m\n\u001b[1;32m      2\u001b[0m \u001b[0;34m\u001b[0m\u001b[0m\n\u001b[0;32m----> 3\u001b[0;31m \u001b[0;34m(\u001b[0m\u001b[0;36m2\u001b[0m\u001b[0;34m,\u001b[0m\u001b[0;36m3\u001b[0m\u001b[0;34m,\u001b[0m\u001b[0;36m1\u001b[0m\u001b[0;34m)\u001b[0m\u001b[0;34m.\u001b[0m\u001b[0msort\u001b[0m\u001b[0;34m(\u001b[0m\u001b[0;34m)\u001b[0m\u001b[0;34m\u001b[0m\u001b[0;34m\u001b[0m\u001b[0m\n\u001b[0m",
      "\u001b[0;31mAttributeError\u001b[0m: 'tuple' object has no attribute 'sort'"
     ]
    }
   ],
   "source": [
    "# AttibuteError\n",
    "\n",
    "(2,3,1).sort()"
   ]
  },
  {
   "cell_type": "code",
   "execution_count": 4,
   "metadata": {},
   "outputs": [
    {
     "ename": "AttributeError",
     "evalue": "'int' object has no attribute 'endswith'",
     "output_type": "error",
     "traceback": [
      "\u001b[0;31m---------------------------------------------------------------------------\u001b[0m",
      "\u001b[0;31mAttributeError\u001b[0m                            Traceback (most recent call last)",
      "\u001b[0;32m<ipython-input-4-2ee7893dc933>\u001b[0m in \u001b[0;36m<module>\u001b[0;34m\u001b[0m\n\u001b[1;32m      1\u001b[0m \u001b[0mx\u001b[0m \u001b[0;34m=\u001b[0m \u001b[0;36m23\u001b[0m\u001b[0;34m\u001b[0m\u001b[0;34m\u001b[0m\u001b[0m\n\u001b[0;32m----> 2\u001b[0;31m \u001b[0mprint\u001b[0m\u001b[0;34m(\u001b[0m\u001b[0mx\u001b[0m\u001b[0;34m.\u001b[0m\u001b[0mendswith\u001b[0m\u001b[0;34m(\u001b[0m\u001b[0;36m3\u001b[0m\u001b[0;34m)\u001b[0m\u001b[0;34m)\u001b[0m\u001b[0;34m\u001b[0m\u001b[0;34m\u001b[0m\u001b[0m\n\u001b[0m",
      "\u001b[0;31mAttributeError\u001b[0m: 'int' object has no attribute 'endswith'"
     ]
    }
   ],
   "source": [
    "x = 23\n",
    "print(x.endswith(3))"
   ]
  },
  {
   "cell_type": "code",
   "execution_count": 5,
   "metadata": {},
   "outputs": [
    {
     "ename": "FileNotFoundError",
     "evalue": "[Errno 2] No such file or directory: 'NonexistentFile.txt'",
     "output_type": "error",
     "traceback": [
      "\u001b[0;31m---------------------------------------------------------------------------\u001b[0m",
      "\u001b[0;31mFileNotFoundError\u001b[0m                         Traceback (most recent call last)",
      "\u001b[0;32m<ipython-input-5-63093ea29af8>\u001b[0m in \u001b[0;36m<module>\u001b[0;34m\u001b[0m\n\u001b[1;32m      1\u001b[0m \u001b[0;31m# FileNotFoundError\u001b[0m\u001b[0;34m\u001b[0m\u001b[0;34m\u001b[0m\u001b[0;34m\u001b[0m\u001b[0m\n\u001b[1;32m      2\u001b[0m \u001b[0;34m\u001b[0m\u001b[0m\n\u001b[0;32m----> 3\u001b[0;31m \u001b[0mopen\u001b[0m\u001b[0;34m(\u001b[0m\u001b[0;34m\"NonexistentFile.txt\"\u001b[0m\u001b[0;34m,\u001b[0m \u001b[0;34m'r'\u001b[0m\u001b[0;34m)\u001b[0m\u001b[0;34m\u001b[0m\u001b[0;34m\u001b[0m\u001b[0m\n\u001b[0m",
      "\u001b[0;31mFileNotFoundError\u001b[0m: [Errno 2] No such file or directory: 'NonexistentFile.txt'"
     ]
    }
   ],
   "source": [
    "# FileNotFoundError\n",
    "\n",
    "open(\"NonexistentFile.txt\", 'r')"
   ]
  },
  {
   "cell_type": "code",
   "execution_count": 6,
   "metadata": {},
   "outputs": [
    {
     "ename": "ModuleNotFoundError",
     "evalue": "No module named 'nonexistentModule'",
     "output_type": "error",
     "traceback": [
      "\u001b[0;31m---------------------------------------------------------------------------\u001b[0m",
      "\u001b[0;31mModuleNotFoundError\u001b[0m                       Traceback (most recent call last)",
      "\u001b[0;32m<ipython-input-6-a7d52a52b838>\u001b[0m in \u001b[0;36m<module>\u001b[0;34m\u001b[0m\n\u001b[1;32m      1\u001b[0m \u001b[0;31m# ModuleNotFoundError\u001b[0m\u001b[0;34m\u001b[0m\u001b[0;34m\u001b[0m\u001b[0;34m\u001b[0m\u001b[0m\n\u001b[1;32m      2\u001b[0m \u001b[0;34m\u001b[0m\u001b[0m\n\u001b[0;32m----> 3\u001b[0;31m \u001b[0;32mimport\u001b[0m \u001b[0mnonexistentModule\u001b[0m\u001b[0;34m\u001b[0m\u001b[0;34m\u001b[0m\u001b[0m\n\u001b[0m",
      "\u001b[0;31mModuleNotFoundError\u001b[0m: No module named 'nonexistentModule'"
     ]
    }
   ],
   "source": [
    "# ModuleNotFoundError\n",
    "\n",
    "import nonexistentModule"
   ]
  },
  {
   "cell_type": "code",
   "execution_count": 10,
   "metadata": {},
   "outputs": [
    {
     "ename": "IndexError",
     "evalue": "string index out of range",
     "output_type": "error",
     "traceback": [
      "\u001b[0;31m---------------------------------------------------------------------------\u001b[0m",
      "\u001b[0;31mIndexError\u001b[0m                                Traceback (most recent call last)",
      "\u001b[0;32m<ipython-input-10-39bc8341a82c>\u001b[0m in \u001b[0;36m<module>\u001b[0;34m\u001b[0m\n\u001b[1;32m      1\u001b[0m \u001b[0;31m# IndexError\u001b[0m\u001b[0;34m\u001b[0m\u001b[0;34m\u001b[0m\u001b[0;34m\u001b[0m\u001b[0m\n\u001b[1;32m      2\u001b[0m \u001b[0;34m\u001b[0m\u001b[0m\n\u001b[0;32m----> 3\u001b[0;31m \u001b[0mletter\u001b[0m \u001b[0;34m=\u001b[0m \u001b[0;34m\"abcd\"\u001b[0m\u001b[0;34m[\u001b[0m\u001b[0;36m7\u001b[0m\u001b[0;34m]\u001b[0m\u001b[0;34m\u001b[0m\u001b[0;34m\u001b[0m\u001b[0m\n\u001b[0m",
      "\u001b[0;31mIndexError\u001b[0m: string index out of range"
     ]
    }
   ],
   "source": [
    "# IndexError\n",
    "\n",
    "letter = \"abcd\"[7]"
   ]
  },
  {
   "cell_type": "code",
   "execution_count": 7,
   "metadata": {},
   "outputs": [
    {
     "ename": "KeyError",
     "evalue": "'c'",
     "output_type": "error",
     "traceback": [
      "\u001b[0;31m---------------------------------------------------------------------------\u001b[0m",
      "\u001b[0;31mKeyError\u001b[0m                                  Traceback (most recent call last)",
      "\u001b[0;32m<ipython-input-7-0393e5a7f48d>\u001b[0m in \u001b[0;36m<module>\u001b[0;34m\u001b[0m\n\u001b[1;32m      2\u001b[0m \u001b[0;34m\u001b[0m\u001b[0m\n\u001b[1;32m      3\u001b[0m \u001b[0md\u001b[0m \u001b[0;34m=\u001b[0m \u001b[0;34m{\u001b[0m\u001b[0;34m'a'\u001b[0m\u001b[0;34m:\u001b[0m\u001b[0;34m\"alpha\"\u001b[0m\u001b[0;34m,\u001b[0m \u001b[0;34m'b'\u001b[0m\u001b[0;34m:\u001b[0m\u001b[0;34m'bravo'\u001b[0m\u001b[0;34m}\u001b[0m\u001b[0;34m\u001b[0m\u001b[0;34m\u001b[0m\u001b[0m\n\u001b[0;32m----> 4\u001b[0;31m \u001b[0mword\u001b[0m \u001b[0;34m=\u001b[0m \u001b[0md\u001b[0m\u001b[0;34m[\u001b[0m\u001b[0;34m'c'\u001b[0m\u001b[0;34m]\u001b[0m\u001b[0;34m\u001b[0m\u001b[0;34m\u001b[0m\u001b[0m\n\u001b[0m",
      "\u001b[0;31mKeyError\u001b[0m: 'c'"
     ]
    }
   ],
   "source": [
    "# KeyError\n",
    "\n",
    "d = {'a':\"alpha\", 'b':'bravo'}\n",
    "word = d['c']"
   ]
  },
  {
   "cell_type": "code",
   "execution_count": 8,
   "metadata": {},
   "outputs": [
    {
     "ename": "NameError",
     "evalue": "name 'word' is not defined",
     "output_type": "error",
     "traceback": [
      "\u001b[0;31m---------------------------------------------------------------------------\u001b[0m",
      "\u001b[0;31mNameError\u001b[0m                                 Traceback (most recent call last)",
      "\u001b[0;32m<ipython-input-8-f5b83431a957>\u001b[0m in \u001b[0;36m<module>\u001b[0;34m\u001b[0m\n\u001b[1;32m      1\u001b[0m \u001b[0;31m# NameError\u001b[0m\u001b[0;34m\u001b[0m\u001b[0;34m\u001b[0m\u001b[0;34m\u001b[0m\u001b[0m\n\u001b[1;32m      2\u001b[0m \u001b[0;34m\u001b[0m\u001b[0m\n\u001b[0;32m----> 3\u001b[0;31m \u001b[0mterm\u001b[0m \u001b[0;34m=\u001b[0m \u001b[0mword\u001b[0m\u001b[0;34m\u001b[0m\u001b[0;34m\u001b[0m\u001b[0m\n\u001b[0m",
      "\u001b[0;31mNameError\u001b[0m: name 'word' is not defined"
     ]
    }
   ],
   "source": [
    "# NameError\n",
    "\n",
    "term = word"
   ]
  },
  {
   "cell_type": "code",
   "execution_count": 9,
   "metadata": {},
   "outputs": [
    {
     "ename": "TypeError",
     "evalue": "object of type 'int' has no len()",
     "output_type": "error",
     "traceback": [
      "\u001b[0;31m---------------------------------------------------------------------------\u001b[0m",
      "\u001b[0;31mTypeError\u001b[0m                                 Traceback (most recent call last)",
      "\u001b[0;32m<ipython-input-9-5fd2fb15a6f4>\u001b[0m in \u001b[0;36m<module>\u001b[0;34m\u001b[0m\n\u001b[1;32m      1\u001b[0m \u001b[0;31m# TypeError\u001b[0m\u001b[0;34m\u001b[0m\u001b[0;34m\u001b[0m\u001b[0;34m\u001b[0m\u001b[0m\n\u001b[1;32m      2\u001b[0m \u001b[0;34m\u001b[0m\u001b[0m\n\u001b[0;32m----> 3\u001b[0;31m \u001b[0mx\u001b[0m \u001b[0;34m=\u001b[0m \u001b[0mlen\u001b[0m\u001b[0;34m(\u001b[0m\u001b[0;36m23\u001b[0m\u001b[0;34m)\u001b[0m\u001b[0;34m\u001b[0m\u001b[0;34m\u001b[0m\u001b[0m\n\u001b[0m",
      "\u001b[0;31mTypeError\u001b[0m: object of type 'int' has no len()"
     ]
    }
   ],
   "source": [
    "# TypeError\n",
    "\n",
    "x = len(23)"
   ]
  },
  {
   "cell_type": "code",
   "execution_count": 10,
   "metadata": {},
   "outputs": [
    {
     "ename": "TypeError",
     "evalue": "unsupported operand type(s) for /: 'int' and 'str'",
     "output_type": "error",
     "traceback": [
      "\u001b[0;31m---------------------------------------------------------------------------\u001b[0m",
      "\u001b[0;31mTypeError\u001b[0m                                 Traceback (most recent call last)",
      "\u001b[0;32m<ipython-input-10-3fa605d8249a>\u001b[0m in \u001b[0;36m<module>\u001b[0;34m\u001b[0m\n\u001b[0;32m----> 1\u001b[0;31m \u001b[0mx\u001b[0m \u001b[0;34m=\u001b[0m \u001b[0;36m6\u001b[0m \u001b[0;34m/\u001b[0m \u001b[0;34m'2'\u001b[0m\u001b[0;34m\u001b[0m\u001b[0;34m\u001b[0m\u001b[0m\n\u001b[0m",
      "\u001b[0;31mTypeError\u001b[0m: unsupported operand type(s) for /: 'int' and 'str'"
     ]
    }
   ],
   "source": [
    "x = 6 / '2'"
   ]
  },
  {
   "cell_type": "code",
   "execution_count": 16,
   "metadata": {},
   "outputs": [
    {
     "ename": "TypeError",
     "evalue": "unsupported operand type(s) for +: 'int' and 'str'",
     "output_type": "error",
     "traceback": [
      "\u001b[0;31m---------------------------------------------------------------------------\u001b[0m",
      "\u001b[0;31mTypeError\u001b[0m                                 Traceback (most recent call last)",
      "\u001b[0;32m<ipython-input-16-77abe0737451>\u001b[0m in \u001b[0;36m<module>\u001b[0;34m\u001b[0m\n\u001b[0;32m----> 1\u001b[0;31m \u001b[0mx\u001b[0m \u001b[0;34m=\u001b[0m \u001b[0;36m9\u001b[0m \u001b[0;34m+\u001b[0m \u001b[0;34m'W'\u001b[0m\u001b[0;34m\u001b[0m\u001b[0;34m\u001b[0m\u001b[0m\n\u001b[0m",
      "\u001b[0;31mTypeError\u001b[0m: unsupported operand type(s) for +: 'int' and 'str'"
     ]
    }
   ],
   "source": [
    "x = 9 + 'W'"
   ]
  },
  {
   "cell_type": "code",
   "execution_count": 11,
   "metadata": {},
   "outputs": [
    {
     "ename": "TypeError",
     "evalue": "abs() takes exactly one argument (2 given)",
     "output_type": "error",
     "traceback": [
      "\u001b[0;31m---------------------------------------------------------------------------\u001b[0m",
      "\u001b[0;31mTypeError\u001b[0m                                 Traceback (most recent call last)",
      "\u001b[0;32m<ipython-input-11-6fe591d1a43e>\u001b[0m in \u001b[0;36m<module>\u001b[0;34m\u001b[0m\n\u001b[0;32m----> 1\u001b[0;31m \u001b[0mx\u001b[0m \u001b[0;34m=\u001b[0m \u001b[0mabs\u001b[0m\u001b[0;34m(\u001b[0m\u001b[0;34m-\u001b[0m\u001b[0;36m3\u001b[0m\u001b[0;34m,\u001b[0m \u001b[0;36m4\u001b[0m\u001b[0;34m)\u001b[0m\u001b[0;34m\u001b[0m\u001b[0;34m\u001b[0m\u001b[0m\n\u001b[0m",
      "\u001b[0;31mTypeError\u001b[0m: abs() takes exactly one argument (2 given)"
     ]
    }
   ],
   "source": [
    "x = abs(-3, 4)\n"
   ]
  },
  {
   "cell_type": "code",
   "execution_count": 15,
   "metadata": {},
   "outputs": [
    {
     "ename": "ValueError",
     "evalue": "invalid literal for int() with base 10: 'b'",
     "output_type": "error",
     "traceback": [
      "\u001b[0;31m---------------------------------------------------------------------------\u001b[0m",
      "\u001b[0;31mValueError\u001b[0m                                Traceback (most recent call last)",
      "\u001b[0;32m<ipython-input-15-37ffead6d327>\u001b[0m in \u001b[0;36m<module>\u001b[0;34m\u001b[0m\n\u001b[1;32m      1\u001b[0m \u001b[0;31m# ValueError\u001b[0m\u001b[0;34m\u001b[0m\u001b[0;34m\u001b[0m\u001b[0;34m\u001b[0m\u001b[0m\n\u001b[1;32m      2\u001b[0m \u001b[0;34m\u001b[0m\u001b[0m\n\u001b[0;32m----> 3\u001b[0;31m \u001b[0mx\u001b[0m \u001b[0;34m=\u001b[0m \u001b[0mint\u001b[0m\u001b[0;34m(\u001b[0m\u001b[0;34m'b'\u001b[0m\u001b[0;34m)\u001b[0m\u001b[0;34m\u001b[0m\u001b[0;34m\u001b[0m\u001b[0m\n\u001b[0m\u001b[1;32m      4\u001b[0m \u001b[0mx\u001b[0m\u001b[0;34m\u001b[0m\u001b[0;34m\u001b[0m\u001b[0m\n",
      "\u001b[0;31mValueError\u001b[0m: invalid literal for int() with base 10: 'b'"
     ]
    }
   ],
   "source": [
    "# ValueError\n",
    "\n",
    "x = int('b')\n",
    "x"
   ]
  },
  {
   "cell_type": "code",
   "execution_count": 16,
   "metadata": {},
   "outputs": [
    {
     "ename": "ValueError",
     "evalue": "list.remove(x): x not in list",
     "output_type": "error",
     "traceback": [
      "\u001b[0;31m---------------------------------------------------------------------------\u001b[0m",
      "\u001b[0;31mValueError\u001b[0m                                Traceback (most recent call last)",
      "\u001b[0;32m<ipython-input-16-848528f84d76>\u001b[0m in \u001b[0;36m<module>\u001b[0;34m\u001b[0m\n\u001b[1;32m      1\u001b[0m \u001b[0mL\u001b[0m \u001b[0;34m=\u001b[0m \u001b[0;34m[\u001b[0m\u001b[0;36m1\u001b[0m\u001b[0;34m,\u001b[0m\u001b[0;36m2\u001b[0m\u001b[0;34m,\u001b[0m\u001b[0;36m3\u001b[0m\u001b[0;34m,\u001b[0m\u001b[0;36m4\u001b[0m\u001b[0;34m,\u001b[0m\u001b[0;36m5\u001b[0m\u001b[0;34m]\u001b[0m\u001b[0;34m\u001b[0m\u001b[0;34m\u001b[0m\u001b[0m\n\u001b[0;32m----> 2\u001b[0;31m \u001b[0mL\u001b[0m\u001b[0;34m.\u001b[0m\u001b[0mremove\u001b[0m\u001b[0;34m(\u001b[0m\u001b[0;36m6\u001b[0m\u001b[0;34m)\u001b[0m\u001b[0;34m\u001b[0m\u001b[0;34m\u001b[0m\u001b[0m\n\u001b[0m",
      "\u001b[0;31mValueError\u001b[0m: list.remove(x): x not in list"
     ]
    }
   ],
   "source": [
    "L = [1,2,3,4,5]\n",
    "L.remove(6)"
   ]
  },
  {
   "cell_type": "code",
   "execution_count": 20,
   "metadata": {},
   "outputs": [
    {
     "ename": "ZeroDivisionError",
     "evalue": "division by zero",
     "output_type": "error",
     "traceback": [
      "\u001b[0;31m---------------------------------------------------------------------------\u001b[0m",
      "\u001b[0;31mZeroDivisionError\u001b[0m                         Traceback (most recent call last)",
      "\u001b[0;32m<ipython-input-20-2dff49f56a7a>\u001b[0m in \u001b[0;36m<module>\u001b[0;34m\u001b[0m\n\u001b[1;32m      1\u001b[0m \u001b[0;31m# ZeroDivisionError\u001b[0m\u001b[0;34m\u001b[0m\u001b[0;34m\u001b[0m\u001b[0;34m\u001b[0m\u001b[0m\n\u001b[1;32m      2\u001b[0m \u001b[0;34m\u001b[0m\u001b[0m\n\u001b[0;32m----> 3\u001b[0;31m \u001b[0mnum\u001b[0m \u001b[0;34m=\u001b[0m \u001b[0;36m1\u001b[0m \u001b[0;34m/\u001b[0m \u001b[0;36m0\u001b[0m\u001b[0;34m\u001b[0m\u001b[0;34m\u001b[0m\u001b[0m\n\u001b[0m",
      "\u001b[0;31mZeroDivisionError\u001b[0m: division by zero"
     ]
    }
   ],
   "source": [
    "# ZeroDivisionError\n",
    "\n",
    "num = 1 / 0"
   ]
  },
  {
   "cell_type": "code",
   "execution_count": 21,
   "metadata": {},
   "outputs": [
    {
     "ename": "ZeroDivisionError",
     "evalue": "integer division or modulo by zero",
     "output_type": "error",
     "traceback": [
      "\u001b[0;31m---------------------------------------------------------------------------\u001b[0m",
      "\u001b[0;31mZeroDivisionError\u001b[0m                         Traceback (most recent call last)",
      "\u001b[0;32m<ipython-input-21-3a3136dde160>\u001b[0m in \u001b[0;36m<module>\u001b[0;34m\u001b[0m\n\u001b[0;32m----> 1\u001b[0;31m \u001b[0mnum\u001b[0m \u001b[0;34m=\u001b[0m \u001b[0;36m23\u001b[0m \u001b[0;34m%\u001b[0m \u001b[0;36m0\u001b[0m\u001b[0;34m\u001b[0m\u001b[0;34m\u001b[0m\u001b[0m\n\u001b[0m",
      "\u001b[0;31mZeroDivisionError\u001b[0m: integer division or modulo by zero"
     ]
    }
   ],
   "source": [
    "num = 23 % 0"
   ]
  },
  {
   "cell_type": "code",
   "execution_count": 23,
   "metadata": {},
   "outputs": [
    {
     "ename": "SyntaxError",
     "evalue": "invalid syntax (<ipython-input-23-99ba99ae1936>, line 3)",
     "output_type": "error",
     "traceback": [
      "\u001b[0;36m  File \u001b[0;32m\"<ipython-input-23-99ba99ae1936>\"\u001b[0;36m, line \u001b[0;32m3\u001b[0m\n\u001b[0;31m    for i range(3):\u001b[0m\n\u001b[0m              ^\u001b[0m\n\u001b[0;31mSyntaxError\u001b[0m\u001b[0;31m:\u001b[0m invalid syntax\n"
     ]
    }
   ],
   "source": [
    "# SyntaxError\n",
    "# 프로그램 실행 전 발생되는 오류, for문에서 in이 빠져 발생한 구문 오류\n",
    "\n",
    "\n",
    "for i range(3):"
   ]
  },
  {
   "cell_type": "code",
   "execution_count": 19,
   "metadata": {},
   "outputs": [
    {
     "name": "stdout",
     "output_type": "stream",
     "text": [
      "Enter number of dependents: \n"
     ]
    },
    {
     "ename": "ValueError",
     "evalue": "invalid literal for int() with base 10: ''",
     "output_type": "error",
     "traceback": [
      "\u001b[0;31m---------------------------------------------------------------------------\u001b[0m",
      "\u001b[0;31mValueError\u001b[0m                                Traceback (most recent call last)",
      "\u001b[0;32m<ipython-input-19-d9a59173580f>\u001b[0m in \u001b[0;36m<module>\u001b[0;34m\u001b[0m\n\u001b[1;32m      4\u001b[0m \u001b[0;31m# 빈 문자열은 정수로 변환이 불가능함.\u001b[0m\u001b[0;34m\u001b[0m\u001b[0;34m\u001b[0m\u001b[0;34m\u001b[0m\u001b[0m\n\u001b[1;32m      5\u001b[0m \u001b[0;34m\u001b[0m\u001b[0m\n\u001b[0;32m----> 6\u001b[0;31m \u001b[0mnumDependents\u001b[0m \u001b[0;34m=\u001b[0m \u001b[0mint\u001b[0m\u001b[0;34m(\u001b[0m\u001b[0minput\u001b[0m\u001b[0;34m(\u001b[0m\u001b[0;34m\"Enter number of dependents: \"\u001b[0m\u001b[0;34m)\u001b[0m\u001b[0;34m)\u001b[0m\u001b[0;34m\u001b[0m\u001b[0;34m\u001b[0m\u001b[0m\n\u001b[0m\u001b[1;32m      7\u001b[0m \u001b[0mtaxCredit\u001b[0m \u001b[0;34m=\u001b[0m \u001b[0;36m1000\u001b[0m \u001b[0;34m*\u001b[0m \u001b[0mnumDependents\u001b[0m\u001b[0;34m\u001b[0m\u001b[0;34m\u001b[0m\u001b[0m\n\u001b[1;32m      8\u001b[0m \u001b[0mprint\u001b[0m\u001b[0;34m(\u001b[0m\u001b[0;34m\"Tax credit: \"\u001b[0m\u001b[0;34m,\u001b[0m \u001b[0mtaxCredit\u001b[0m\u001b[0;34m)\u001b[0m\u001b[0;34m\u001b[0m\u001b[0;34m\u001b[0m\u001b[0m\n",
      "\u001b[0;31mValueError\u001b[0m: invalid literal for int() with base 10: ''"
     ]
    }
   ],
   "source": [
    "# input 값에 아무것도 입력하지 않고 엔터를 치면,\n",
    "# 실행이 마지막으로 된 부분이 표시되고, Traceback error 메시지가 나타남.\n",
    "# 에러메시지의 마지막 줄에는 오류의 상세원인이 나타남.\n",
    "# 빈 문자열은 정수로 변환이 불가능함.\n",
    "\n",
    "numDependents = int(input(\"Enter number of dependents: \"))\n",
    "taxCredit = 1000 * numDependents\n",
    "print(\"Tax credit: \", taxCredit)"
   ]
  },
  {
   "cell_type": "markdown",
   "metadata": {},
   "source": [
    "### 2) The try Statement"
   ]
  },
  {
   "cell_type": "markdown",
   "metadata": {},
   "source": [
    "- 실행 중 발생하는 예외를 처리해 프로그램이 바로 종료되는 일이 없도록 하는 일을 exception handling(예외 처리)라고 하였음.\n",
    "- 예외 처리는 try except 구문으로 실행함.\n",
    "- 파이썬 코드에서 예외 발생이 의심스러운 문장들은 try 블록에 배치하고, try 블록에 예외가 있을 경우 실행될 코드를 except 블록에 배치함."
   ]
  },
  {
   "cell_type": "code",
   "execution_count": 18,
   "metadata": {},
   "outputs": [],
   "source": [
    "# 오류가 발생하지 않고 종료됨.\n",
    "# 즉, ZeroDivisionError가 발생되지 않음.\n",
    "\n",
    "try:\n",
    "    10 / 0 # 예외 발생이 의심스러운 명령문 코딩\n",
    "except:\n",
    "    pass # 특별히 사용할 문장이 없거나 모를 때 사용하는 문장임."
   ]
  },
  {
   "cell_type": "code",
   "execution_count": 36,
   "metadata": {},
   "outputs": [
    {
     "name": "stdout",
     "output_type": "stream",
     "text": [
      "예외가 발생했습니다.\n"
     ]
    }
   ],
   "source": [
    "# ZeroDivisionError가 발생되지 않고, 대신에 \"예외가 발생했습니다.\"라는 문구가 출력됨.\n",
    "\n",
    "try:\n",
    "    10 / 0\n",
    "except:\n",
    "    print(\"예외가 발생했습니다.\")"
   ]
  },
  {
   "cell_type": "code",
   "execution_count": 20,
   "metadata": {},
   "outputs": [
    {
     "name": "stdout",
     "output_type": "stream",
     "text": [
      "Enter number of dependents: \n",
      "\n",
      "You did not respond with an integer value.\n",
      "We will assume your answer is zero.\n",
      "\n",
      "Tax credit: 0\n"
     ]
    }
   ],
   "source": [
    "# 더 안정적이고 강력한 프로그램들은 try 명령문을 이용하여 코드를 보호함으로써 기존 예외 구문을 더 구체적으로 처리할 수 있음.\n",
    "# 아래 코드 문장은 ValueError가 발생하는 경우 명령문 실행 위치가 except절로 이동됨.\n",
    "# 예외가 발생되든 안되든 마지막 두 줄의 코드는 항상 실행이 됨.\n",
    "\n",
    "try:\n",
    "    numDependents = int(input(\"Enter number of dependents: \"))\n",
    "except ValueError:\n",
    "    print(\"\\nYou did not respond with an integer value.\")\n",
    "    print(\"We will assume your answer is zero.\\n\")\n",
    "    numDependents = 0\n",
    "taxCredit = 1000 * numDependents\n",
    "print(\"Tax credit:\", taxCredit)"
   ]
  },
  {
   "cell_type": "markdown",
   "metadata": {},
   "source": [
    "- try 명령문은 다음과 같이 다양한 except절을 포함할 수 있음.\n",
    "    - except:\n",
    "        - 어떠한 예외가 발생하여도 해당 절 아래 블록이 실행됨.\n",
    "    - except ExceptionType:\n",
    "        - 언급된 특정 예외타입에 해당되는 경우에만 해당 절 아래 블록이 실행됨.\n",
    "    - except ExceptionType as exp:\n",
    "        - 언급된 특정 예외타입에 해당되는 경우에만 해당 절 아래 블록이 실행됨.\n",
    "        - 예외타입에 대한 추가적인 정보가 exp에 할당됨.\n",
    "        - 예) except ValueError as exc: \n",
    "            - 변수 exc에 예외타입(ValueError)을 할당함.\n",
    "            - invalid literal for int() with base 10"
   ]
  },
  {
   "cell_type": "code",
   "execution_count": 23,
   "metadata": {},
   "outputs": [
    {
     "name": "stdout",
     "output_type": "stream",
     "text": [
      "Enter the name of a file: abcd.txt\n",
      "[Errno 2] No such file or directory: 'abcd.txt'\n"
     ]
    }
   ],
   "source": [
    "# Ex.1\n",
    "\n",
    "def main():\n",
    "    \n",
    "    try:\n",
    "        fileName = input(\"Enter the name of a file: \")\n",
    "        infile = open(fileName, 'r')\n",
    "        num = float(infile.readline())\n",
    "        print(1 / num)\n",
    "    except FileNotFoundError as exc1:\n",
    "        print(exc1)\n",
    "    except ValueError as exc2:\n",
    "        print(exc2)\n",
    "        \n",
    "main()"
   ]
  },
  {
   "cell_type": "code",
   "execution_count": 88,
   "metadata": {},
   "outputs": [
    {
     "name": "stdout",
     "output_type": "stream",
     "text": [
      "Enter the name of a file: \n",
      "[Errno 2] No such file or directory: ''\n"
     ]
    }
   ],
   "source": [
    "def main():\n",
    "    \n",
    "    try:\n",
    "        fileName = input(\"Enter the name of a file: \")\n",
    "        infile = open(fileName, 'r')\n",
    "        num = float(infile.readline())\n",
    "        print(1 / num)\n",
    "    except (FileNotFoundError, ValueError) as exc1:\n",
    "        print(exc1)\n",
    "        \n",
    "main()"
   ]
  },
  {
   "cell_type": "code",
   "execution_count": 84,
   "metadata": {},
   "outputs": [
    {
     "ename": "FileNotFoundError",
     "evalue": "[Errno 2] No such file or directory: 'abcd.txt'",
     "output_type": "error",
     "traceback": [
      "\u001b[0;31m---------------------------------------------------------------------------\u001b[0m",
      "\u001b[0;31mFileNotFoundError\u001b[0m                         Traceback (most recent call last)",
      "\u001b[0;32m<ipython-input-84-3467d80bc475>\u001b[0m in \u001b[0;36m<module>\u001b[0;34m\u001b[0m\n\u001b[0;32m----> 1\u001b[0;31m \u001b[0minfile\u001b[0m \u001b[0;34m=\u001b[0m \u001b[0mopen\u001b[0m\u001b[0;34m(\u001b[0m\u001b[0;34m\"abcd.txt\"\u001b[0m\u001b[0;34m,\u001b[0m \u001b[0;34m'r'\u001b[0m\u001b[0;34m)\u001b[0m\u001b[0;34m\u001b[0m\u001b[0;34m\u001b[0m\u001b[0m\n\u001b[0m",
      "\u001b[0;31mFileNotFoundError\u001b[0m: [Errno 2] No such file or directory: 'abcd.txt'"
     ]
    }
   ],
   "source": [
    "infile = open(\"abcd.txt\", 'r')"
   ]
  },
  {
   "cell_type": "code",
   "execution_count": 27,
   "metadata": {},
   "outputs": [
    {
     "name": "stdout",
     "output_type": "stream",
     "text": [
      "Enter a, b, or c: d\n",
      "Unacceptable letter was entered.\n",
      "Enter a, b, or c: a\n",
      "alpha\n"
     ]
    }
   ],
   "source": [
    "# Ex.2\n",
    "\n",
    "def main():\n",
    "    \n",
    "    phoneticAlphabet = {'a':\"alpha\", 'b':\"bravo\", 'c':\"charlie\"}\n",
    "    while True:\n",
    "        try:\n",
    "            letter = input(\"Enter a, b, or c: \")\n",
    "            print(phoneticAlphabet[letter])\n",
    "            break\n",
    "        except KeyError:\n",
    "            print(\"Unacceptable letter was entered.\")\n",
    "\n",
    "main()"
   ]
  },
  {
   "cell_type": "code",
   "execution_count": 28,
   "metadata": {},
   "outputs": [
    {
     "name": "stdout",
     "output_type": "stream",
     "text": [
      "Enter a, b, or c: d\n"
     ]
    },
    {
     "ename": "KeyError",
     "evalue": "'d'",
     "output_type": "error",
     "traceback": [
      "\u001b[0;31m---------------------------------------------------------------------------\u001b[0m",
      "\u001b[0;31mKeyError\u001b[0m                                  Traceback (most recent call last)",
      "\u001b[0;32m<ipython-input-28-ac148a9619ce>\u001b[0m in \u001b[0;36m<module>\u001b[0;34m\u001b[0m\n\u001b[1;32m      1\u001b[0m \u001b[0mphoneticAlphabet\u001b[0m \u001b[0;34m=\u001b[0m \u001b[0;34m{\u001b[0m\u001b[0;34m'a'\u001b[0m\u001b[0;34m:\u001b[0m\u001b[0;34m\"alpha\"\u001b[0m\u001b[0;34m,\u001b[0m \u001b[0;34m'b'\u001b[0m\u001b[0;34m:\u001b[0m\u001b[0;34m\"bravo\"\u001b[0m\u001b[0;34m,\u001b[0m \u001b[0;34m'c'\u001b[0m\u001b[0;34m:\u001b[0m\u001b[0;34m\"charlie\"\u001b[0m\u001b[0;34m}\u001b[0m\u001b[0;34m\u001b[0m\u001b[0;34m\u001b[0m\u001b[0m\n\u001b[1;32m      2\u001b[0m \u001b[0mletter\u001b[0m \u001b[0;34m=\u001b[0m \u001b[0minput\u001b[0m\u001b[0;34m(\u001b[0m\u001b[0;34m\"Enter a, b, or c: \"\u001b[0m\u001b[0;34m)\u001b[0m\u001b[0;34m\u001b[0m\u001b[0;34m\u001b[0m\u001b[0m\n\u001b[0;32m----> 3\u001b[0;31m \u001b[0mprint\u001b[0m\u001b[0;34m(\u001b[0m\u001b[0mphoneticAlphabet\u001b[0m\u001b[0;34m[\u001b[0m\u001b[0mletter\u001b[0m\u001b[0;34m]\u001b[0m\u001b[0;34m)\u001b[0m\u001b[0;34m\u001b[0m\u001b[0;34m\u001b[0m\u001b[0m\n\u001b[0m\u001b[1;32m      4\u001b[0m \u001b[0;34m\u001b[0m\u001b[0m\n",
      "\u001b[0;31mKeyError\u001b[0m: 'd'"
     ]
    }
   ],
   "source": [
    "phoneticAlphabet = {'a':\"alpha\", 'b':\"bravo\", 'c':\"charlie\"}\n",
    "letter = input(\"Enter a, b, or c: \")\n",
    "print(phoneticAlphabet[letter])\n",
    "            "
   ]
  },
  {
   "cell_type": "markdown",
   "metadata": {},
   "source": [
    "### 3) The else and finally Clauses"
   ]
  },
  {
   "cell_type": "markdown",
   "metadata": {},
   "source": [
    "- try에서는 except의 옵션으로 else절이 올 수 있고, try의 옵션으로 finally절이 나올 수 있음.\n",
    "- 즉, try 블록의 문장에서 예외가 발생하면 except 블록이 실행되고, 예외가 발생하지 않으면 옵션인 else 블록이 실행됨.\n",
    "- finally 블록은 예외 발생과 상관없이 try 블록을 실행하면 반드시 실행됨.\n",
    "- 예외가 발생한 경우: try --> except --> finally\n",
    "- 예외가 발생하지 않은 경우: try --> else --> finally"
   ]
  },
  {
   "cell_type": "code",
   "execution_count": 30,
   "metadata": {},
   "outputs": [
    {
     "name": "stdout",
     "output_type": "stream",
     "text": [
      "File was empty.\n"
     ]
    }
   ],
   "source": [
    "# 3\n",
    "\n",
    "def main():\n",
    "    total = 0\n",
    "    counter = 0 \n",
    "    foundFlag = True\n",
    "    try:\n",
    "        infile = open(\"Numbers.txt\", 'r')\n",
    "    except FileNotFoundError:\n",
    "        print(\"File not found.\")\n",
    "        foundFlag = False\n",
    "    if foundFlag:\n",
    "        try:\n",
    "            for line in infile:\n",
    "                counter += 1\n",
    "                total += float(line)\n",
    "            print(\"average:\", total / counter)\n",
    "        except ValueError:\n",
    "            print(\"Line\", counter, \"could not be converted to a float.\")\n",
    "            if counter > 1:\n",
    "                print(\"Average so far:\", total / (counter - 1))\n",
    "                print(\"Total so far:\", total)\n",
    "            else:\n",
    "                print(\"No average can be calculated.\")\n",
    "        except ZeroDivisionError:\n",
    "            print(\"File was empty.\")\n",
    "        else:\n",
    "            print(\"Total:\", total)\n",
    "        finally:\n",
    "            infile.close()\n",
    "            \n",
    "main()"
   ]
  },
  {
   "cell_type": "markdown",
   "metadata": {},
   "source": [
    "## Chapter 6.2 Selecting Random Values\n",
    "- random 모듈은 리스트로부터 항목을 무작위로 선택하고, 리스트 안에서 선택된 아이템들을 무작위로 재배치하는 함수들을 포함하고 있음."
   ]
  },
  {
   "cell_type": "markdown",
   "metadata": {},
   "source": [
    "### 1) Functions from the random Module"
   ]
  },
  {
   "cell_type": "code",
   "execution_count": 39,
   "metadata": {},
   "outputs": [
    {
     "data": {
      "text/plain": [
       "4"
      ]
     },
     "execution_count": 39,
     "metadata": {},
     "output_type": "execute_result"
    }
   ],
   "source": [
    "import random\n",
    "\n",
    "L = [1,2,3,4,5]\n",
    "\n",
    "# 리스트 L의 항목 중에서 무작위로 하나를 선택\n",
    "random.choice(L)"
   ]
  },
  {
   "cell_type": "code",
   "execution_count": 43,
   "metadata": {},
   "outputs": [
    {
     "data": {
      "text/plain": [
       "'d'"
      ]
     },
     "execution_count": 43,
     "metadata": {},
     "output_type": "execute_result"
    }
   ],
   "source": [
    "L = ['a', 'b', 'c', 'd', 'e']\n",
    "random.choice(L)"
   ]
  },
  {
   "cell_type": "code",
   "execution_count": 48,
   "metadata": {},
   "outputs": [
    {
     "data": {
      "text/plain": [
       "['c', 'e', 'd']"
      ]
     },
     "execution_count": 48,
     "metadata": {},
     "output_type": "execute_result"
    }
   ],
   "source": [
    "# 리스트 L의 항목 중에서 무작위로 세 개의 항목을 선택\n",
    "\n",
    "random.sample(L, 3)"
   ]
  },
  {
   "cell_type": "code",
   "execution_count": 53,
   "metadata": {},
   "outputs": [
    {
     "data": {
      "text/plain": [
       "['c', 'd', 'a', 'e', 'b']"
      ]
     },
     "execution_count": 53,
     "metadata": {},
     "output_type": "execute_result"
    }
   ],
   "source": [
    "# 리스트 L의 항목을 무작위로 재배치함.\n",
    "\n",
    "random.shuffle(L)\n",
    "L"
   ]
  },
  {
   "cell_type": "code",
   "execution_count": 59,
   "metadata": {},
   "outputs": [
    {
     "data": {
      "text/plain": [
       "19"
      ]
     },
     "execution_count": 59,
     "metadata": {},
     "output_type": "execute_result"
    }
   ],
   "source": [
    "# 2부터 20가지의 숫자 중 하나를 무작위로 선택함.\n",
    "\n",
    "random.randint(2, 20)"
   ]
  },
  {
   "cell_type": "code",
   "execution_count": 62,
   "metadata": {},
   "outputs": [
    {
     "name": "stdout",
     "output_type": "stream",
     "text": [
      "earth\n",
      "['fire', 'air']\n",
      "['earth', 'fire', 'water', 'air']\n",
      "5\n"
     ]
    }
   ],
   "source": [
    "# Ex.1\n",
    "\n",
    "import random\n",
    "\n",
    "elements = [\"earth\", \"air\", \"fire\", \"water\"]\n",
    "print(random.choice(elements))\n",
    "print(random.sample(elements, 2))\n",
    "random.shuffle(elements)\n",
    "print(elements)\n",
    "print(random.randint(1,5))"
   ]
  },
  {
   "cell_type": "markdown",
   "metadata": {},
   "source": [
    "### 2) Games of Chance"
   ]
  },
  {
   "cell_type": "code",
   "execution_count": 64,
   "metadata": {},
   "outputs": [],
   "source": [
    "import pickle\n",
    "\n",
    "clubs = '♣'\n",
    "spades = '♠'\n",
    "hearts = '♥'\n",
    "diamonds = '◆'\n",
    "\n",
    "L = []\n",
    "\n",
    "for i in range(1, 11):\n",
    "    L.append(str(i))\n",
    "\n",
    "L1 = [\"J\", \"Q\", \"K\"]\n",
    "\n",
    "L.extend(L1)\n",
    "\n",
    "L.insert(0, \"A\")\n",
    "\n",
    "DeckOfCardsList = []\n",
    "\n",
    "for i in L:\n",
    "    for j in [clubs, spades, hearts, diamonds]:\n",
    "        DeckOfCardsList.append(i+j)\n",
    "        \n",
    "DeckOfCardsList\n",
    "\n",
    "outfile = open(\"DeckOfCardsList.dat\", 'wb')\n",
    "deckOfCards = pickle.dump(DeckOfCardsList, outfile)\n",
    "outfile.close()"
   ]
  },
  {
   "cell_type": "code",
   "execution_count": 65,
   "metadata": {},
   "outputs": [
    {
     "data": {
      "text/plain": [
       "['A', '1', '2', '3', '4', '5', '6', '7', '8', '9', '10', 'J', 'Q', 'K']"
      ]
     },
     "execution_count": 65,
     "metadata": {},
     "output_type": "execute_result"
    }
   ],
   "source": [
    "L"
   ]
  },
  {
   "cell_type": "code",
   "execution_count": 66,
   "metadata": {},
   "outputs": [
    {
     "data": {
      "text/plain": [
       "['A♣',\n",
       " 'A♠',\n",
       " 'A♥',\n",
       " 'A◆',\n",
       " '1♣',\n",
       " '1♠',\n",
       " '1♥',\n",
       " '1◆',\n",
       " '2♣',\n",
       " '2♠',\n",
       " '2♥',\n",
       " '2◆',\n",
       " '3♣',\n",
       " '3♠',\n",
       " '3♥',\n",
       " '3◆',\n",
       " '4♣',\n",
       " '4♠',\n",
       " '4♥',\n",
       " '4◆',\n",
       " '5♣',\n",
       " '5♠',\n",
       " '5♥',\n",
       " '5◆',\n",
       " '6♣',\n",
       " '6♠',\n",
       " '6♥',\n",
       " '6◆',\n",
       " '7♣',\n",
       " '7♠',\n",
       " '7♥',\n",
       " '7◆',\n",
       " '8♣',\n",
       " '8♠',\n",
       " '8♥',\n",
       " '8◆',\n",
       " '9♣',\n",
       " '9♠',\n",
       " '9♥',\n",
       " '9◆',\n",
       " '10♣',\n",
       " '10♠',\n",
       " '10♥',\n",
       " '10◆',\n",
       " 'J♣',\n",
       " 'J♠',\n",
       " 'J♥',\n",
       " 'J◆',\n",
       " 'Q♣',\n",
       " 'Q♠',\n",
       " 'Q♥',\n",
       " 'Q◆',\n",
       " 'K♣',\n",
       " 'K♠',\n",
       " 'K♥',\n",
       " 'K◆']"
      ]
     },
     "execution_count": 66,
     "metadata": {},
     "output_type": "execute_result"
    }
   ],
   "source": [
    "DeckOfCardsList"
   ]
  },
  {
   "cell_type": "code",
   "execution_count": 70,
   "metadata": {},
   "outputs": [
    {
     "name": "stdout",
     "output_type": "stream",
     "text": [
      "['10♣', '5♣', '6♣', '1♣', 'K♣']\n"
     ]
    }
   ],
   "source": [
    "# Ex.2\n",
    "\n",
    "import random\n",
    "import pickle\n",
    "\n",
    "infile = open(\"DeckOfCardsList.dat\", 'rb')\n",
    "deckOfCards = pickle.load(infile)\n",
    "infile.close()\n",
    "\n",
    "pokerHand = random.sample(deckOfCards, 5)\n",
    "print(pokerHand)"
   ]
  },
  {
   "cell_type": "code",
   "execution_count": 71,
   "metadata": {},
   "outputs": [
    {
     "name": "stdout",
     "output_type": "stream",
     "text": [
      "['K♥', '8◆', '5♥', '2♥', 'Q♠']\n"
     ]
    }
   ],
   "source": [
    "pokerHand = random.sample(deckOfCards, 5)\n",
    "print(pokerHand)"
   ]
  },
  {
   "cell_type": "code",
   "execution_count": 75,
   "metadata": {},
   "outputs": [
    {
     "name": "stdout",
     "output_type": "stream",
     "text": [
      "['2♥', '8◆', '4◆', '7♥', '8♥', '6♥', '3♥', '1♥', '2♠', '8♣']\n"
     ]
    }
   ],
   "source": [
    "pokerHand = random.sample(deckOfCards, 10)\n",
    "print(pokerHand)"
   ]
  },
  {
   "cell_type": "code",
   "execution_count": 80,
   "metadata": {},
   "outputs": [
    {
     "name": "stdout",
     "output_type": "stream",
     "text": [
      "Enter the amount of the bankroll: 14\n",
      "Ending bankroll: 0 dollars\n",
      "Number of games played: 568\n"
     ]
    }
   ],
   "source": [
    "# Ex.3\n",
    "\n",
    "def main():\n",
    "    bankroll = int(input(\"Enter the amount of the bankroll: \"))\n",
    "    (amount, timesPlayed) = playDoubleOrNothing(bankroll)\n",
    "    print(\"Ending bankroll:\", amount, \"dollars\")\n",
    "    print(\"Number of games played:\", timesPlayed)\n",
    "    \n",
    "def isOdd(n):\n",
    "    if (1 <= n <= 36) and (n % 2):\n",
    "        return True\n",
    "    else:\n",
    "        return False\n",
    "    \n",
    "def profit(n):\n",
    "    if isOdd(n):\n",
    "        return 1\n",
    "    else:\n",
    "        return -1\n",
    "    \n",
    "def playDoubleOrNothing(bankroll):\n",
    "    amount = bankroll\n",
    "    timesPlayed = 0\n",
    "    while 0 < amount < 2 * bankroll:\n",
    "        n = random.randint(0, 37)\n",
    "        timesPlayed += 1\n",
    "        amount += profit(n)\n",
    "    return (amount, timesPlayed)\n",
    "\n",
    "main()"
   ]
  },
  {
   "cell_type": "code",
   "execution_count": 83,
   "metadata": {},
   "outputs": [
    {
     "name": "stdout",
     "output_type": "stream",
     "text": [
      "Orange\n",
      "Melon\n",
      "Orange\n"
     ]
    }
   ],
   "source": [
    "# Ex.4\n",
    "\n",
    "def main():\n",
    "    for i in range(3):\n",
    "        outcome = spinWheel()\n",
    "        print(outcome)\n",
    "        \n",
    "def spinWheel():\n",
    "    n = random.randint(1, 20)\n",
    "    \n",
    "    if n > 15:\n",
    "        return \"Cherries\"\n",
    "    elif n > 10:\n",
    "        return \"Orange\"\n",
    "    elif n > 5:\n",
    "        return \"Plum\"\n",
    "    elif n > 2:\n",
    "        return \"Melon\"\n",
    "    elif n > 1:\n",
    "        return \"Bell\"\n",
    "    else:\n",
    "        return \"Bar\"\n",
    "    \n",
    "main()"
   ]
  },
  {
   "cell_type": "code",
   "execution_count": 6,
   "metadata": {},
   "outputs": [
    {
     "name": "stdout",
     "output_type": "stream",
     "text": [
      "Enter a name: 1\n",
      "Name not found.\n"
     ]
    }
   ],
   "source": [
    "# Practice Problems 6.1 #1(p.263)\n",
    "\n",
    "phoneBook = {\"Alice\":\"123-4567\", \"Bob\":\"987-6543\"}\n",
    "name = input(\"Enter a name: \")\n",
    "try:\n",
    "    print(phoneBook[name])\n",
    "except:\n",
    "    print(\"Name not found.\")"
   ]
  },
  {
   "cell_type": "code",
   "execution_count": 9,
   "metadata": {},
   "outputs": [
    {
     "name": "stdout",
     "output_type": "stream",
     "text": [
      "Enter a name: Hun\n",
      "Name not found.\n"
     ]
    }
   ],
   "source": [
    "phoneBook = {\"Alice\":\"123-4567\", \"Bob\":\"987-6543\"}\n",
    "name = input(\"Enter a name: \")\n",
    "print(phoneBook.get(name, \"Name not found.\"))"
   ]
  },
  {
   "cell_type": "code",
   "execution_count": 20,
   "metadata": {},
   "outputs": [
    {
     "name": "stdout",
     "output_type": "stream",
     "text": [
      "[8, 9]\n"
     ]
    }
   ],
   "source": [
    "# Practice Problems 6.2 #1(p.270)\n",
    "\n",
    "\n",
    "import random\n",
    "\n",
    "list1 = [1,2,3,4,5,6,7,8,9]\n",
    "\n",
    "print(random.sample(list1,2))\n",
    "\n"
   ]
  },
  {
   "cell_type": "code",
   "execution_count": 18,
   "metadata": {},
   "outputs": [
    {
     "name": "stdout",
     "output_type": "stream",
     "text": [
      "[5, 1]\n"
     ]
    }
   ],
   "source": [
    "random.shuffle(list1)\n",
    "print(list1[:2])"
   ]
  },
  {
   "cell_type": "code",
   "execution_count": 3,
   "metadata": {},
   "outputs": [
    {
     "name": "stdout",
     "output_type": "stream",
     "text": [
      "[5, 4]\n"
     ]
    }
   ],
   "source": [
    "m = random.choice(list1)\n",
    "list1.remove(m)\n",
    "n=random.choice(list1)\n",
    "print([m,n])"
   ]
  },
  {
   "cell_type": "code",
   "execution_count": 95,
   "metadata": {},
   "outputs": [],
   "source": [
    "# Practice Problems 6.2 #2(p.270)"
   ]
  },
  {
   "cell_type": "code",
   "execution_count": 24,
   "metadata": {},
   "outputs": [
    {
     "name": "stdout",
     "output_type": "stream",
     "text": [
      "3\n"
     ]
    }
   ],
   "source": [
    "import random\n",
    "print(random.choice(list1))"
   ]
  },
  {
   "cell_type": "code",
   "execution_count": 27,
   "metadata": {},
   "outputs": [
    {
     "name": "stdout",
     "output_type": "stream",
     "text": [
      "8\n"
     ]
    }
   ],
   "source": [
    "n = random.randint(0, len(list1) -1)\n",
    "print(list1[n])"
   ]
  },
  {
   "cell_type": "code",
   "execution_count": 28,
   "metadata": {},
   "outputs": [
    {
     "name": "stdout",
     "output_type": "stream",
     "text": [
      "2\n"
     ]
    }
   ],
   "source": [
    "random.shuffle(list1)\n",
    "print(list1[0])"
   ]
  },
  {
   "cell_type": "code",
   "execution_count": 31,
   "metadata": {},
   "outputs": [
    {
     "name": "stdout",
     "output_type": "stream",
     "text": [
      "Enter a nonzero integer: \n"
     ]
    },
    {
     "ename": "ValueError",
     "evalue": "invalid literal for int() with base 10: ''",
     "output_type": "error",
     "traceback": [
      "\u001b[0;31m---------------------------------------------------------------------------\u001b[0m",
      "\u001b[0;31mValueError\u001b[0m                                Traceback (most recent call last)",
      "\u001b[0;32m<ipython-input-31-f3d8bc1a9edf>\u001b[0m in \u001b[0;36m<module>\u001b[0;34m\u001b[0m\n\u001b[1;32m      5\u001b[0m \u001b[0;34m\u001b[0m\u001b[0m\n\u001b[1;32m      6\u001b[0m \u001b[0;32mwhile\u001b[0m \u001b[0;32mTrue\u001b[0m\u001b[0;34m:\u001b[0m\u001b[0;34m\u001b[0m\u001b[0;34m\u001b[0m\u001b[0m\n\u001b[0;32m----> 7\u001b[0;31m     \u001b[0mn\u001b[0m \u001b[0;34m=\u001b[0m \u001b[0mint\u001b[0m\u001b[0;34m(\u001b[0m\u001b[0minput\u001b[0m\u001b[0;34m(\u001b[0m\u001b[0;34m\"Enter a nonzero integer: \"\u001b[0m\u001b[0;34m)\u001b[0m\u001b[0;34m)\u001b[0m\u001b[0;34m\u001b[0m\u001b[0;34m\u001b[0m\u001b[0m\n\u001b[0m\u001b[1;32m      8\u001b[0m     \u001b[0;32mif\u001b[0m \u001b[0mn\u001b[0m \u001b[0;34m!=\u001b[0m \u001b[0;36m0\u001b[0m\u001b[0;34m:\u001b[0m\u001b[0;34m\u001b[0m\u001b[0;34m\u001b[0m\u001b[0m\n\u001b[1;32m      9\u001b[0m         \u001b[0mreciprocal\u001b[0m \u001b[0;34m=\u001b[0m \u001b[0;36m1\u001b[0m\u001b[0;34m/\u001b[0m\u001b[0mn\u001b[0m\u001b[0;34m\u001b[0m\u001b[0;34m\u001b[0m\u001b[0m\n",
      "\u001b[0;31mValueError\u001b[0m: invalid literal for int() with base 10: ''"
     ]
    }
   ],
   "source": [
    "# 29(p.266)\n",
    "# The following program will perform properly if the user enters 0 in response to the request for input.\n",
    "# However, the program will crash if the user responds with \"eight\".\n",
    "# Rewrite the program using a try/except statements so that it will handle both types of responses.\n",
    "\n",
    "while True:\n",
    "    n = int(input(\"Enter a nonzero integer: \"))\n",
    "    if n != 0:\n",
    "        reciprocal = 1/n\n",
    "        print(\"The reciprocal of {0} is {1:,.3f}\".format(n, reciprocal))\n",
    "        break\n",
    "    else:\n",
    "        print(\"You entered zero. Try again.\")"
   ]
  },
  {
   "cell_type": "code",
   "execution_count": 32,
   "metadata": {},
   "outputs": [
    {
     "name": "stdout",
     "output_type": "stream",
     "text": [
      "Enter a nonzero integer: 0\n",
      "You entered zero. Try again.\n",
      "Enter a nonzero integer: eight\n",
      "You did not enter a nonzero integer. Try again.\n",
      "Enter a nonzero integer: \n",
      "You did not enter a nonzero integer. Try again.\n",
      "Enter a nonzero integer: 5\n",
      "The reciprocal of 5 is 0.200\n"
     ]
    }
   ],
   "source": [
    "while True:\n",
    "    try:\n",
    "        n=int(input(\"Enter a nonzero integer: \"))\n",
    "        reciprocal = 1/n\n",
    "        print(\"The reciprocal of {0} is {1:,.3f}\".format(n, reciprocal))\n",
    "        break\n",
    "    except ValueError:\n",
    "        print(\"You did not enter a nonzero integer. Try again.\")\n",
    "    except ZeroDivisionError:\n",
    "        print(\"You entered zero. Try again.\")"
   ]
  },
  {
   "cell_type": "code",
   "execution_count": 33,
   "metadata": {},
   "outputs": [
    {
     "name": "stdout",
     "output_type": "stream",
     "text": [
      "Enter an integer from 1 to 100: 200\n",
      "Your number was not between 1 and 100.\n",
      "Enter an integer from 1 to 100: 5.5\n",
      "You did not enter an integer.\n",
      "Enter an integer from 1 to 100: five\n",
      "You did not enter an integer.\n",
      "Enter an integer from 1 to 100: \n",
      "You did not enter an integer.\n",
      "Enter an integer from 1 to 100: 5\n",
      "Your number is 5.\n"
     ]
    }
   ],
   "source": [
    "# 31(p.266)\n",
    "# write a robust program that requests an integer from 1 through 100.\n",
    "\n",
    "while True:\n",
    "    try:\n",
    "        num = int(input(\"Enter an integer from 1 to 100: \"))\n",
    "        if 1 <= num <= 100:\n",
    "            print(\"Your number is\", str(num) + '.')\n",
    "            break\n",
    "        else:\n",
    "            print(\"Your number was not between 1 and 100.\")\n",
    "    except ValueError:\n",
    "        print(\"You did not enter an integer.\")"
   ]
  },
  {
   "cell_type": "code",
   "execution_count": 38,
   "metadata": {},
   "outputs": [
    {
     "name": "stdout",
     "output_type": "stream",
     "text": [
      "2♣, K♠, 3♣, J♣, J♦, J♥, 4♠, 3♥, 10♣, 5♠, 8♠, 2♥, 6♦\n",
      "HPC = 6\n"
     ]
    }
   ],
   "source": [
    "# 23(p.272)\n",
    "# HPC(high point count)\n",
    "# ace is worth 4 points\n",
    "# king is worth 3 points\n",
    "# queen is worth 2 points\n",
    "# jack is worth 1 points\n",
    "# randomly select 13 cards from a deck of cards and calculate the HPC\n",
    "\n",
    "import pickle\n",
    "import random\n",
    "\n",
    "infile = open(\"Programs/Ch6/DeckOfCardsList.dat\", 'rb')\n",
    "list1 = pickle.load(infile)\n",
    "infile.close()\n",
    "\n",
    "randomlist = random.sample(list1, 13)\n",
    "\n",
    "hpc = 0\n",
    "\n",
    "for card in randomlist:\n",
    "    \n",
    "    if card.startswith('A'):\n",
    "        hpc += 4\n",
    "    elif card.startswith('K'):\n",
    "        hpc += 3\n",
    "    elif card.startswith('Q'):\n",
    "        hpc += 2\n",
    "    elif card.startswith('J'):\n",
    "        hpc += 1\n",
    "\n",
    "print(\", \".join(randomlist))\n",
    "print(\"HPC =\", hpc)"
   ]
  }
 ],
 "metadata": {
  "kernelspec": {
   "display_name": "Python 3",
   "language": "python",
   "name": "python3"
  },
  "language_info": {
   "codemirror_mode": {
    "name": "ipython",
    "version": 3
   },
   "file_extension": ".py",
   "mimetype": "text/x-python",
   "name": "python",
   "nbconvert_exporter": "python",
   "pygments_lexer": "ipython3",
   "version": "3.7.7"
  }
 },
 "nbformat": 4,
 "nbformat_minor": 2
}
