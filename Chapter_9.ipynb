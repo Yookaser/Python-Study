{
 "cells": [
  {
   "cell_type": "markdown",
   "metadata": {},
   "source": [
    "## Chapter 5.2 Data Processing, Part2"
   ]
  },
  {
   "cell_type": "markdown",
   "metadata": {},
   "source": [
    "### 1) CSV 파일\n",
    "- 지금까지는 행별로 1개의 파일을 갖는 텍스트 파일만을 살펴보았음.\n",
    "    - States.txt : 각 행은 주의 이름을 가짐.\n",
    "    - USPres.txt : 각 행은 대통령의 이름을 가짐.\n",
    "- CSV 포맷의 파일은 각 행에 여러 개의 데이터 항목을 콤마로 구분함.\n",
    "- 예제 파일로 UN.txt가 있고, UN 가입국 193개를 알파벳 순서로 나열한 데이터임.\n",
    "- 파일의 각 행은 국가에 대한 데이터 항목 4개(국가명, 소속 대륙, 인구수, 면적)를 갖고 있음.\n",
    "- CSV 포맷 텍스트 파일의 각 행은 레코드라고 함. 각 레코드는 4개의 필드를 갖고 있음.\n",
    "    - 국가명\n",
    "    - 소속 대륙\n",
    "    - 인구\n",
    "    - 면적"
   ]
  },
  {
   "cell_type": "markdown",
   "metadata": {},
   "source": [
    "### 2) CSV 파일 내 데이터 접근하기\n",
    "- split 메소드는 CSV 형태 파일의 필드에 접근하기 위해 사용됨."
   ]
  },
  {
   "cell_type": "code",
   "execution_count": 8,
   "metadata": {},
   "outputs": [],
   "source": [
    "infile = open(\"UN.txt\", 'r')\n",
    "a = infile.readline().rstrip()\n",
    "infile.close()"
   ]
  },
  {
   "cell_type": "code",
   "execution_count": 9,
   "metadata": {},
   "outputs": [
    {
     "data": {
      "text/plain": [
       "'Afghanistan,Asia,31.8,251772'"
      ]
     },
     "execution_count": 9,
     "metadata": {},
     "output_type": "execute_result"
    }
   ],
   "source": [
    "a"
   ]
  },
  {
   "cell_type": "code",
   "execution_count": 10,
   "metadata": {},
   "outputs": [],
   "source": [
    "csv1 = a.split(',')"
   ]
  },
  {
   "cell_type": "code",
   "execution_count": 11,
   "metadata": {},
   "outputs": [
    {
     "data": {
      "text/plain": [
       "['Afghanistan', 'Asia', '31.8', '251772']"
      ]
     },
     "execution_count": 11,
     "metadata": {},
     "output_type": "execute_result"
    }
   ],
   "source": [
    "csv1"
   ]
  },
  {
   "cell_type": "code",
   "execution_count": 16,
   "metadata": {},
   "outputs": [
    {
     "data": {
      "text/plain": [
       "'Afghanistan'"
      ]
     },
     "execution_count": 16,
     "metadata": {},
     "output_type": "execute_result"
    }
   ],
   "source": [
    "csv1[0]"
   ]
  },
  {
   "cell_type": "code",
   "execution_count": 17,
   "metadata": {},
   "outputs": [
    {
     "data": {
      "text/plain": [
       "'Asia'"
      ]
     },
     "execution_count": 17,
     "metadata": {},
     "output_type": "execute_result"
    }
   ],
   "source": [
    "csv1[1]"
   ]
  },
  {
   "cell_type": "code",
   "execution_count": 18,
   "metadata": {},
   "outputs": [
    {
     "data": {
      "text/plain": [
       "'31.8'"
      ]
     },
     "execution_count": 18,
     "metadata": {},
     "output_type": "execute_result"
    }
   ],
   "source": [
    "csv1[2]"
   ]
  },
  {
   "cell_type": "code",
   "execution_count": 19,
   "metadata": {},
   "outputs": [
    {
     "data": {
      "text/plain": [
       "'251772'"
      ]
     },
     "execution_count": 19,
     "metadata": {},
     "output_type": "execute_result"
    }
   ],
   "source": [
    "csv1[3]"
   ]
  },
  {
   "cell_type": "code",
   "execution_count": 16,
   "metadata": {},
   "outputs": [
    {
     "name": "stdout",
     "output_type": "stream",
     "text": [
      "Enter the name of a continent: africa\n",
      "Algeria\n",
      "Angola\n",
      "Benin\n",
      "Botswana\n",
      "Burkina Faso\n",
      "Burundi\n",
      "Cameroon\n",
      "Cape Verde\n",
      "Central African Republic\n",
      "Chad\n",
      "Comoros\n",
      "Cote D'Ivoire\n",
      "Democratic Republic of the Congo\n",
      "Djibouti\n",
      "Egypt\n",
      "Equatorial Guinea\n",
      "Eritrea\n",
      "Ethiopia\n",
      "Gabon\n",
      "Gambia\n",
      "Ghana\n",
      "Guinea\n",
      "Guinea Bissau\n",
      "Kenya\n",
      "Lesotho\n",
      "Liberia\n",
      "Libyan Arab Jamahiriya\n",
      "Madagascar\n",
      "Malawi\n",
      "Mali\n",
      "Mauritania\n",
      "Mauritius\n",
      "Morocco\n",
      "Mozambique\n",
      "Namibia\n",
      "Niger\n",
      "Nigeria\n",
      "Republic of the Congo\n",
      "Rwanda\n",
      "Sao Tome and Principe\n",
      "Senegal\n",
      "Seychelles\n",
      "Sierra Leone\n",
      "Somalia\n",
      "South Africa\n",
      "South Sudan\n",
      "Sudan\n",
      "Swaziland\n",
      "Togo\n",
      "Tunisia\n",
      "Uganda\n",
      "United Republic of Tanzania\n",
      "Zambia\n",
      "Zimbabwe\n"
     ]
    }
   ],
   "source": [
    "# Ex.1\n",
    "\n",
    "def main():\n",
    "    continent = input(\"Enter the name of a continent: \")\n",
    "    continent = continent.title()\n",
    "    if continent != \"Antactica\":\n",
    "        infile = open(\"UN.txt\", 'r')\n",
    "        for line in infile:\n",
    "            data = line.split(',')\n",
    "            if data[1] == continent:\n",
    "                print(data[0])\n",
    "    else:\n",
    "        print(\"There are no countries in Antarctica.\")\n",
    "\n",
    "main()"
   ]
  },
  {
   "cell_type": "markdown",
   "metadata": {},
   "source": [
    "### 3) 리스트로 CSV 파일의 데이터 분석하기"
   ]
  },
  {
   "cell_type": "code",
   "execution_count": 17,
   "metadata": {},
   "outputs": [
    {
     "name": "stdout",
     "output_type": "stream",
     "text": [
      "Country             Area (sq. mi.)\n",
      "Russian Federation  6,592,800\n",
      "Canada              3,855,000\n",
      "United States       3,794,066\n",
      "China               3,696,100\n",
      "Brazil              3,287,597\n"
     ]
    }
   ],
   "source": [
    "# Ex.2\n",
    "\n",
    "def main():\n",
    "    countries = placeRecordsIntoList(\"UN.txt\")\n",
    "    countries.sort(key=lambda country: country[3], reverse=True) # 면적 기준으로 정렬(내림차순)\n",
    "    displayFiveLargestCountries(countries)\n",
    "    createNewFile(countries) # 국가와 면적으로 구성된 파일을 생성\n",
    "    \n",
    "def placeRecordsIntoList(fileName):\n",
    "    infile = open(fileName, 'r')\n",
    "    listOfRecords = [line.rstrip() for line in infile]\n",
    "    infile.close()\n",
    "    for i in range(len(listOfRecords)):\n",
    "        listOfRecords[i] = listOfRecords[i].split(',')\n",
    "        listOfRecords[i][2] = eval(listOfRecords[i][2]) # 인구수\n",
    "        listOfRecords[i][3] = eval(listOfRecords[i][3]) # 면적\n",
    "    return listOfRecords\n",
    "\n",
    "def displayFiveLargestCountries(countries):\n",
    "    print(\"{0:20}{1:9}\".format(\"Country\", \"Area (sq. mi.)\"))\n",
    "    for i in range(5): # 면적이 가장 큰 순으로 5개 국가를 추출\n",
    "        print(\"{0:20}{1:9,d}\".format(countries[i][0], countries[i][3]))\n",
    "        \n",
    "def createNewFile(countries):\n",
    "    outfile = open(\"UNbyArea.txt\", 'w')\n",
    "    for country in countries:\n",
    "        outfile.write(country[0] + ',' + str(country[3]) + \"\\n\")\n",
    "        \n",
    "main()"
   ]
  },
  {
   "cell_type": "code",
   "execution_count": 18,
   "metadata": {},
   "outputs": [
    {
     "data": {
      "text/plain": [
       "[['Russian Federation', 'Europe', 142.5, 6592800],\n",
       " ['Canada', 'North America', 34.8, 3855000],\n",
       " ['United States', 'North America', 318.9, 3794066],\n",
       " ['China', 'Asia', 1355.7, 3696100],\n",
       " ['Brazil', 'South America', 202.7, 3287597],\n",
       " ['Australia', 'Australia/Oceania', 22.5, 2967909],\n",
       " ['India', 'Asia', 1236.3, 1269210],\n",
       " ['Argentina', 'South America', 44.0, 1068302],\n",
       " ['Kazakhstan', 'Asia', 18.0, 1052085],\n",
       " ['Sudan', 'Africa', 35.5, 967495],\n",
       " ['Algeria', 'Africa', 38.3, 919595],\n",
       " ['Democratic Republic of the Congo', 'Africa', 77.4, 905355],\n",
       " ['Saudi Arabia', 'Asia', 27.3, 829996],\n",
       " ['Mexico', 'North America', 120.3, 761606],\n",
       " ['Indonesia', 'Asia', 253.6, 735355],\n",
       " ['Libyan Arab Jamahiriya', 'Africa', 6.2, 679359],\n",
       " ['Iran', 'Asia', 80.8, 636372],\n",
       " ['Mongolia', 'Asia', 3.0, 603909],\n",
       " ['Peru', 'South America', 30.1, 496226],\n",
       " ['Chad', 'Africa', 11.4, 495753],\n",
       " ['Niger', 'Africa', 17.5, 489678],\n",
       " ['Angola', 'Africa', 19.1, 481354],\n",
       " ['Mali', 'Africa', 16.5, 478839],\n",
       " ['South Africa', 'Africa', 48.4, 471443],\n",
       " ['Colombia', 'South America', 46.2, 440839],\n",
       " ['Ethiopia', 'Africa', 96.6, 426371],\n",
       " ['Bolivia', 'South America', 10.6, 424163],\n",
       " ['Mauritania', 'Africa', 3.5, 397954],\n",
       " ['Egypt', 'Africa', 86.9, 387048],\n",
       " ['United Republic of Tanzania', 'Africa', 50.0, 364898],\n",
       " ['Nigeria', 'Africa', 177.2, 356669],\n",
       " ['Venezuela', 'South America', 28.9, 353841],\n",
       " ['Namibia', 'Africa', 2.2, 318696],\n",
       " ['Pakistan', 'Asia', 196.2, 310403],\n",
       " ['Mozambique', 'Africa', 24.7, 309496],\n",
       " ['Turkey', 'Asia', 81.6, 302535],\n",
       " ['Chile', 'South America', 17.4, 292183],\n",
       " ['Zambia', 'Africa', 14.7, 290587],\n",
       " ['Myanmar', 'Asia', 55.7, 261227],\n",
       " ['Afghanistan', 'Asia', 31.8, 251772],\n",
       " ['Somalia', 'Africa', 10.4, 246201],\n",
       " ['Central African Republic', 'Africa', 5.3, 240534],\n",
       " ['South Sudan', 'Africa', 11.6, 239285],\n",
       " ['Ukraine', 'Europe', 44.3, 233090],\n",
       " ['Madagascar', 'Africa', 23.2, 226597],\n",
       " ['Botswana', 'Africa', 2.2, 224606],\n",
       " ['Kenya', 'Africa', 45.0, 224080],\n",
       " ['France', 'Europe', 66.3, 211209],\n",
       " ['Yemen', 'Asia', 26.1, 203849],\n",
       " ['Thailand', 'Asia', 67.7, 198115],\n",
       " ['Spain', 'Europe', 47.7, 195364],\n",
       " ['Turkmenistan', 'Asia', 5.1, 188456],\n",
       " ['Cameroon', 'Africa', 23.1, 183568],\n",
       " ['Papua New Guinea', 'Australia/Oceania', 6.6, 178703],\n",
       " ['Sweden', 'Europe', 9.7, 173732],\n",
       " ['Uzbekistan', 'Asia', 28.9, 172742],\n",
       " ['Morocco', 'Africa', 33.0, 172414],\n",
       " ['Iraq', 'Asia', 32.6, 169234],\n",
       " ['Paraguay', 'South America', 6.7, 157048],\n",
       " ['Zimbabwe', 'Africa', 13.8, 150871],\n",
       " ['Norway', 'Europe', 5.1, 148746],\n",
       " ['Japan', 'Asia', 127.1, 145883],\n",
       " ['Germany', 'Europe', 81.0, 137847],\n",
       " ['Republic of the Congo', 'Africa', 4.7, 132047],\n",
       " ['Finland', 'Europe', 5.3, 130596],\n",
       " ['Vietnam', 'Asia', 93.4, 128527],\n",
       " ['Malaysia', 'Asia', 30.1, 127355],\n",
       " [\"Cote D'Ivoire\", 'Africa', 22.8, 124502],\n",
       " ['Poland', 'Europe', 38.3, 120726],\n",
       " ['Oman', 'Asia', 3.2, 119498],\n",
       " ['Italy', 'Europe', 61.7, 116346],\n",
       " ['Philippines', 'Asia', 107.7, 115831],\n",
       " ['Burkina Faso', 'Africa', 18.4, 105792],\n",
       " ['New Zealand', 'Australia/Oceania', 4.4, 103738],\n",
       " ['Gabon', 'Africa', 1.7, 103347],\n",
       " ['Ecuador', 'South America', 14.0, 98985],\n",
       " ['Guinea', 'Africa', 11.5, 94926],\n",
       " ['United Kingdom', 'Europe', 66.7, 94526],\n",
       " ['Ghana', 'Africa', 25.8, 92098],\n",
       " ['Romania', 'Europe', 21.7, 92043],\n",
       " [\"Lao People's Democratic Republic\", 'Asia', 6.8, 91429],\n",
       " ['Uganda', 'Africa', 35.9, 91136],\n",
       " ['Guyana', 'South America', 0.74, 83000],\n",
       " ['Belarus', 'Europe', 9.6, 80155],\n",
       " ['Kyrgyzstan', 'Asia', 5.6, 77181],\n",
       " ['Senegal', 'Africa', 13.6, 76000],\n",
       " ['Syrian Arab Republic', 'Asia', 18.0, 71479],\n",
       " ['Cambodia', 'Asia', 15.5, 69898],\n",
       " ['Uruguay', 'South America', 3.3, 68037],\n",
       " ['Suriname', 'South America', 0.57, 63251],\n",
       " ['Tunisia', 'Africa', 10.9, 63170],\n",
       " ['Nepal', 'Asia', 31.0, 56827],\n",
       " ['Bangladesh', 'Asia', 166.3, 55599],\n",
       " ['Tajikistan', 'Asia', 8.1, 55251],\n",
       " ['Greece', 'Europe', 11.8, 50944],\n",
       " ['Nicaragua', 'North America', 6.1, 50193],\n",
       " [\"Democratic People's Republic of Korea\", 'Asia', 24.9, 46528],\n",
       " ['Malawi', 'Africa', 17.4, 45747],\n",
       " ['Jordan', 'Asia', 7.9, 45495],\n",
       " ['Eritrea', 'Africa', 6.3, 45405],\n",
       " ['Benin', 'Africa', 10.2, 43484],\n",
       " ['Honduras', 'North America', 8.6, 43278],\n",
       " ['Liberia', 'Africa', 4.1, 43000],\n",
       " ['Bulgaria', 'Europe', 6.9, 42823],\n",
       " ['Cuba', 'North America', 11.0, 42803],\n",
       " ['Guatemala', 'North America', 14.7, 42042],\n",
       " ['Iceland', 'Europe', 0.32, 39770],\n",
       " ['Republic of Korea', 'Asia', 49.0, 38622],\n",
       " ['Hungary', 'Europe', 10.0, 35919],\n",
       " ['Portugal', 'Europe', 10.9, 35645],\n",
       " ['Serbia', 'Europe', 7.2, 34116],\n",
       " ['Azerbaijan', 'Asia', 9.7, 33436],\n",
       " ['Austria', 'Europe', 8.2, 32383],\n",
       " ['United Arab Emirates', 'Asia', 5.6, 32278],\n",
       " ['Ireland', 'Europe', 4.8, 31520],\n",
       " ['Czech Republic', 'Europe', 10.6, 30450],\n",
       " ['Panama', 'North America', 3.6, 29157],\n",
       " ['Sierra Leone', 'Africa', 5.7, 27699],\n",
       " ['Georgia', 'Asia', 4.9, 26916],\n",
       " ['Sri Lanka', 'Asia', 22.9, 25332],\n",
       " ['Lithuania', 'Europe', 3.5, 25173],\n",
       " ['Latvia', 'Europe', 2.2, 24938],\n",
       " ['Togo', 'Africa', 7.4, 21925],\n",
       " ['Croatia', 'Europe', 4.5, 21831],\n",
       " ['Bosnia and Herzegovina', 'Europe', 3.9, 19767],\n",
       " ['Costa Rica', 'North America', 4.8, 19730],\n",
       " ['Slovakia', 'Europe', 5.4, 18932],\n",
       " ['Dominican Republic', 'North America', 10.4, 18704],\n",
       " ['Estonia', 'Europe', 1.3, 17413],\n",
       " ['Denmark', 'Europe', 5.6, 16640],\n",
       " ['Netherlands', 'Europe', 16.59, 16033],\n",
       " ['Switzerland', 'Europe', 8.1, 15940],\n",
       " ['Bhutan', 'Asia', 0.73, 14824],\n",
       " ['Guinea Bissau', 'Africa', 1.7, 13948],\n",
       " ['Republic of Moldova', 'Europe', 3.6, 13067],\n",
       " ['Lesotho', 'Africa', 1.9, 12727],\n",
       " ['Belgium', 'Europe', 10.4, 11787],\n",
       " ['Armenia', 'Asia', 3.1, 11506],\n",
       " ['Albania', 'Europe', 3.0, 11100],\n",
       " ['Equatorial Guinea', 'Africa', 0.72, 10828],\n",
       " ['Burundi', 'Africa', 10.4, 10745],\n",
       " ['Haiti', 'North America', 10.2, 10714],\n",
       " ['Rwanda', 'Africa', 12.3, 10169],\n",
       " ['Djibouti', 'Africa', 0.81, 8958],\n",
       " ['Belize', 'North America', 0.34, 8867],\n",
       " ['El Salvador', 'North America', 6.2, 8124],\n",
       " ['Israel', 'Asia', 7.8, 8019],\n",
       " ['Slovenia', 'Europe', 2.0, 7827],\n",
       " ['Fiji', 'Australia/Oceania', 0.9, 7056],\n",
       " ['Kuwait', 'Asia', 2.7, 6880],\n",
       " ['Swaziland', 'Africa', 1.4, 6704],\n",
       " ['Timor-Leste', 'Asia', 1.2, 5743],\n",
       " ['Bahamas', 'North America', 0.32, 5358],\n",
       " ['Montenegro', 'Europe', 0.65, 5019],\n",
       " ['Vanuatu', 'Australia/Oceania', 0.27, 4706],\n",
       " ['Jamaica', 'North America', 2.9, 4444],\n",
       " ['Qatar', 'Asia', 2.1, 4416],\n",
       " ['Lebanon', 'Asia', 5.9, 4035],\n",
       " ['Gambia', 'Africa', 1.9, 4007],\n",
       " ['Cyprus', 'Asia', 1.2, 3572],\n",
       " ['Brunei Darussalam', 'Asia', 0.42, 2226],\n",
       " ['Trinidad and Tobago', 'North America', 1.2, 1978],\n",
       " ['Cape Verde', 'Africa', 0.54, 1557],\n",
       " ['Samoa', 'Australia/Oceania', 0.2, 1093],\n",
       " ['Luxembourg', 'Europe', 0.52, 998],\n",
       " ['Comoros', 'Africa', 0.77, 863],\n",
       " ['Mauritius', 'Africa', 1.3, 787],\n",
       " ['Sao Tome and Principe', 'Africa', 0.19, 372],\n",
       " ['Dominica', 'North America', 0.073, 290],\n",
       " ['Tonga', 'Australia/Oceania', 0.11, 289],\n",
       " ['Kiribati', 'Australia/Oceania', 0.1, 280],\n",
       " ['Singapore', 'Asia', 5.6, 274.2],\n",
       " ['Micronesia', 'Australia/Oceania', 0.11, 271],\n",
       " ['Bahrain', 'Asia', 1.3, 253],\n",
       " ['Saint Lucia', 'North America', 0.16, 239],\n",
       " ['The former Yugoslav Republic of Macedonia', 'Europe', 2.1, 205],\n",
       " ['Andorra', 'Europe', 0.085, 181],\n",
       " ['Palau', 'Australia/Oceania', 0.021, 177],\n",
       " ['Seychelles', 'Africa', 0.092, 174],\n",
       " ['Barbados', 'North America', 0.29, 167],\n",
       " ['Saint Vincent and the Grenadines', 'North America', 0.1, 150],\n",
       " ['Grenada', 'North America', 0.11, 132],\n",
       " ['Malta', 'Europe', 0.41, 121],\n",
       " ['Maldives', 'Asia', 0.39, 115],\n",
       " ['Antigua and Barbuda', 'North America', 0.091, 108],\n",
       " ['Saint Kitts and Nevis', 'North America', 0.052, 101],\n",
       " ['Marshall Islands', 'Australia/Oceania', 0.071, 69],\n",
       " ['Liechtenstein', 'Europe', 0.037, 62],\n",
       " ['Solomon Islands', 'Australia/Oceania', 0.61, 43],\n",
       " ['San Marino', 'Europe', 0.033, 23.5],\n",
       " ['Tuvalu', 'Australia/Oceania', 0.011, 10],\n",
       " ['Nauru', 'Australia/Oceania', 0.0095, 8],\n",
       " ['Monaco', 'Europe', 0.031, 0.76]]"
      ]
     },
     "execution_count": 18,
     "metadata": {},
     "output_type": "execute_result"
    }
   ],
   "source": [
    "list1 = placeRecordsIntoList(\"UN.txt\")\n",
    "list1.sort(key=lambda country: country[3], reverse=True)\n",
    "list1"
   ]
  },
  {
   "cell_type": "markdown",
   "metadata": {},
   "source": [
    "### 4) 숫자 데이터 분석하기"
   ]
  },
  {
   "cell_type": "code",
   "execution_count": 20,
   "metadata": {},
   "outputs": [
    {
     "name": "stdout",
     "output_type": "stream",
     "text": [
      "Average area: 268,550.96 square miles\n",
      "Median area: 46,528 square miles\n",
      "Standard deviation: 741,598.06 square miles\n"
     ]
    }
   ],
   "source": [
    "# Ex.3\n",
    "\n",
    "def main():\n",
    "    # 국가면적에 대한 통계분석을 실행\n",
    "    areasAsStrings = extractField(\"UN.txt\", 4)\n",
    "    areas = [eval(num) for num in areasAsStrings]\n",
    "    displaySomeStatistics(areas)\n",
    "    \n",
    "def extractField(fileName, n):\n",
    "    # CSV 파일의 각 레코드에서 n번째 필드를 추출하고 해당 데이터를 리스트에 삽입\n",
    "    infile = open(fileName, 'r')\n",
    "    return [line.rstrip().split(',')[n-1] for line in infile]\n",
    "\n",
    "def displaySomeStatistics(listOfNumbers):\n",
    "    # 면적에 대한 평균, 중위수, 표준편차를 표시\n",
    "    average = sum(listOfNumbers) / len(listOfNumbers)\n",
    "    median = calculateMedian(listOfNumbers)\n",
    "    standardDeviation = calculateStandardDeviation(listOfNumbers, average)\n",
    "    print(\"Average area: {0:,.2f} square miles\".format(average))\n",
    "    print(\"Median area: {0:,d} square miles\".format(median))\n",
    "    print(\"Standard deviation: {0:,.2f} square miles\".format(standardDeviation))\n",
    "    \n",
    "def calculateMedian(listOfNumbers):\n",
    "    listOfNumbers.sort()\n",
    "    if len(listOfNumbers) % 2 == 1:  # [0,1,2,3,4]\n",
    "        median = listOfNumbers[int(len(listOfNumbers) / 2)]\n",
    "    else:\n",
    "        m = int(len(listOfNumbers) / 2)  # [0,1,2,3,4,5]\n",
    "        median = (listOfNumbers[m] + listOfNumbers[m-1]) / 2\n",
    "    return median\n",
    "\n",
    "def calculateStandardDeviation(listOfNumbers, average):\n",
    "    m = average\n",
    "    n = len(listOfNumbers)\n",
    "    listOfSquaresOfDeviations = [0]*n\n",
    "    for i in range(n):\n",
    "        listOfSquaresOfDeviations[i] = (listOfNumbers[i] - m) ** 2\n",
    "    standardDeviation = (sum(listOfSquaresOfDeviations) / n) ** .5\n",
    "    return standardDeviation\n",
    "\n",
    "main()"
   ]
  },
  {
   "cell_type": "code",
   "execution_count": 19,
   "metadata": {},
   "outputs": [
    {
     "data": {
      "text/plain": [
       "[0, 0, 0, 0, 0]"
      ]
     },
     "execution_count": 19,
     "metadata": {},
     "output_type": "execute_result"
    }
   ],
   "source": [
    "a = [0] * 5\n",
    "a"
   ]
  },
  {
   "cell_type": "markdown",
   "metadata": {},
   "source": [
    "### 5) 엑셀과 CSV 파일\n",
    "- CSV 파일은 엑셀 스프레드시트로 변환할 수 있고 그 반대도 가능함.\n",
    "- 엑셀에서 UN.txt 파일을 연 후 구분자로 콤마를 선택하면 엑셀을 193행과 4열로 이루어진 스프레드시트를 생성함.\n",
    "- 이와 반대로 인터넷에서 다운로드하거나 생성한 스프레드시트도 CSV 파일로 변환할 수 있음.\n",
    "- 파일 메뉴에서 \"Save As\"를 클릭한 후 드롭박스에서 \"CSV(콤마 구분자)(*.csv)를 선택함."
   ]
  },
  {
   "cell_type": "code",
   "execution_count": 1,
   "metadata": {},
   "outputs": [
    {
     "data": {
      "text/html": [
       "<div>\n",
       "<style scoped>\n",
       "    .dataframe tbody tr th:only-of-type {\n",
       "        vertical-align: middle;\n",
       "    }\n",
       "\n",
       "    .dataframe tbody tr th {\n",
       "        vertical-align: top;\n",
       "    }\n",
       "\n",
       "    .dataframe thead th {\n",
       "        text-align: right;\n",
       "    }\n",
       "</style>\n",
       "<table border=\"1\" class=\"dataframe\">\n",
       "  <thead>\n",
       "    <tr style=\"text-align: right;\">\n",
       "      <th></th>\n",
       "      <th>Country</th>\n",
       "      <th>Continent</th>\n",
       "      <th>Population</th>\n",
       "      <th>Area</th>\n",
       "    </tr>\n",
       "  </thead>\n",
       "  <tbody>\n",
       "    <tr>\n",
       "      <th>0</th>\n",
       "      <td>Afghanistan</td>\n",
       "      <td>Asia</td>\n",
       "      <td>31.800</td>\n",
       "      <td>251772.0</td>\n",
       "    </tr>\n",
       "    <tr>\n",
       "      <th>1</th>\n",
       "      <td>Albania</td>\n",
       "      <td>Europe</td>\n",
       "      <td>3.000</td>\n",
       "      <td>11100.0</td>\n",
       "    </tr>\n",
       "    <tr>\n",
       "      <th>2</th>\n",
       "      <td>Algeria</td>\n",
       "      <td>Africa</td>\n",
       "      <td>38.300</td>\n",
       "      <td>919595.0</td>\n",
       "    </tr>\n",
       "    <tr>\n",
       "      <th>3</th>\n",
       "      <td>Andorra</td>\n",
       "      <td>Europe</td>\n",
       "      <td>0.085</td>\n",
       "      <td>181.0</td>\n",
       "    </tr>\n",
       "    <tr>\n",
       "      <th>4</th>\n",
       "      <td>Angola</td>\n",
       "      <td>Africa</td>\n",
       "      <td>19.100</td>\n",
       "      <td>481354.0</td>\n",
       "    </tr>\n",
       "    <tr>\n",
       "      <th>...</th>\n",
       "      <td>...</td>\n",
       "      <td>...</td>\n",
       "      <td>...</td>\n",
       "      <td>...</td>\n",
       "    </tr>\n",
       "    <tr>\n",
       "      <th>188</th>\n",
       "      <td>Venezuela</td>\n",
       "      <td>South America</td>\n",
       "      <td>28.900</td>\n",
       "      <td>353841.0</td>\n",
       "    </tr>\n",
       "    <tr>\n",
       "      <th>189</th>\n",
       "      <td>Vietnam</td>\n",
       "      <td>Asia</td>\n",
       "      <td>93.400</td>\n",
       "      <td>128527.0</td>\n",
       "    </tr>\n",
       "    <tr>\n",
       "      <th>190</th>\n",
       "      <td>Yemen</td>\n",
       "      <td>Asia</td>\n",
       "      <td>26.100</td>\n",
       "      <td>203849.0</td>\n",
       "    </tr>\n",
       "    <tr>\n",
       "      <th>191</th>\n",
       "      <td>Zambia</td>\n",
       "      <td>Africa</td>\n",
       "      <td>14.700</td>\n",
       "      <td>290587.0</td>\n",
       "    </tr>\n",
       "    <tr>\n",
       "      <th>192</th>\n",
       "      <td>Zimbabwe</td>\n",
       "      <td>Africa</td>\n",
       "      <td>13.800</td>\n",
       "      <td>150871.0</td>\n",
       "    </tr>\n",
       "  </tbody>\n",
       "</table>\n",
       "<p>193 rows × 4 columns</p>\n",
       "</div>"
      ],
      "text/plain": [
       "         Country      Continent  Population      Area\n",
       "0    Afghanistan           Asia      31.800  251772.0\n",
       "1        Albania         Europe       3.000   11100.0\n",
       "2        Algeria         Africa      38.300  919595.0\n",
       "3        Andorra         Europe       0.085     181.0\n",
       "4         Angola         Africa      19.100  481354.0\n",
       "..           ...            ...         ...       ...\n",
       "188    Venezuela  South America      28.900  353841.0\n",
       "189      Vietnam           Asia      93.400  128527.0\n",
       "190        Yemen           Asia      26.100  203849.0\n",
       "191       Zambia         Africa      14.700  290587.0\n",
       "192     Zimbabwe         Africa      13.800  150871.0\n",
       "\n",
       "[193 rows x 4 columns]"
      ]
     },
     "execution_count": 1,
     "metadata": {},
     "output_type": "execute_result"
    }
   ],
   "source": [
    "import pandas as pd\n",
    "df = pd.read_csv(\"UN.txt\", names=['Country', 'Continent', 'Population', 'Area'])\n",
    "df"
   ]
  },
  {
   "cell_type": "code",
   "execution_count": 2,
   "metadata": {},
   "outputs": [],
   "source": [
    "df.to_excel(\"UN.xls\", index = False)"
   ]
  },
  {
   "cell_type": "code",
   "execution_count": 3,
   "metadata": {},
   "outputs": [
    {
     "data": {
      "text/html": [
       "<div>\n",
       "<style scoped>\n",
       "    .dataframe tbody tr th:only-of-type {\n",
       "        vertical-align: middle;\n",
       "    }\n",
       "\n",
       "    .dataframe tbody tr th {\n",
       "        vertical-align: top;\n",
       "    }\n",
       "\n",
       "    .dataframe thead th {\n",
       "        text-align: right;\n",
       "    }\n",
       "</style>\n",
       "<table border=\"1\" class=\"dataframe\">\n",
       "  <thead>\n",
       "    <tr style=\"text-align: right;\">\n",
       "      <th></th>\n",
       "      <th>Country</th>\n",
       "      <th>Continent</th>\n",
       "      <th>Population</th>\n",
       "      <th>Area</th>\n",
       "    </tr>\n",
       "  </thead>\n",
       "  <tbody>\n",
       "    <tr>\n",
       "      <th>0</th>\n",
       "      <td>Afghanistan</td>\n",
       "      <td>Asia</td>\n",
       "      <td>31.800</td>\n",
       "      <td>251772.0</td>\n",
       "    </tr>\n",
       "    <tr>\n",
       "      <th>1</th>\n",
       "      <td>Albania</td>\n",
       "      <td>Europe</td>\n",
       "      <td>3.000</td>\n",
       "      <td>11100.0</td>\n",
       "    </tr>\n",
       "    <tr>\n",
       "      <th>2</th>\n",
       "      <td>Algeria</td>\n",
       "      <td>Africa</td>\n",
       "      <td>38.300</td>\n",
       "      <td>919595.0</td>\n",
       "    </tr>\n",
       "    <tr>\n",
       "      <th>3</th>\n",
       "      <td>Andorra</td>\n",
       "      <td>Europe</td>\n",
       "      <td>0.085</td>\n",
       "      <td>181.0</td>\n",
       "    </tr>\n",
       "    <tr>\n",
       "      <th>4</th>\n",
       "      <td>Angola</td>\n",
       "      <td>Africa</td>\n",
       "      <td>19.100</td>\n",
       "      <td>481354.0</td>\n",
       "    </tr>\n",
       "    <tr>\n",
       "      <th>...</th>\n",
       "      <td>...</td>\n",
       "      <td>...</td>\n",
       "      <td>...</td>\n",
       "      <td>...</td>\n",
       "    </tr>\n",
       "    <tr>\n",
       "      <th>188</th>\n",
       "      <td>Venezuela</td>\n",
       "      <td>South America</td>\n",
       "      <td>28.900</td>\n",
       "      <td>353841.0</td>\n",
       "    </tr>\n",
       "    <tr>\n",
       "      <th>189</th>\n",
       "      <td>Vietnam</td>\n",
       "      <td>Asia</td>\n",
       "      <td>93.400</td>\n",
       "      <td>128527.0</td>\n",
       "    </tr>\n",
       "    <tr>\n",
       "      <th>190</th>\n",
       "      <td>Yemen</td>\n",
       "      <td>Asia</td>\n",
       "      <td>26.100</td>\n",
       "      <td>203849.0</td>\n",
       "    </tr>\n",
       "    <tr>\n",
       "      <th>191</th>\n",
       "      <td>Zambia</td>\n",
       "      <td>Africa</td>\n",
       "      <td>14.700</td>\n",
       "      <td>290587.0</td>\n",
       "    </tr>\n",
       "    <tr>\n",
       "      <th>192</th>\n",
       "      <td>Zimbabwe</td>\n",
       "      <td>Africa</td>\n",
       "      <td>13.800</td>\n",
       "      <td>150871.0</td>\n",
       "    </tr>\n",
       "  </tbody>\n",
       "</table>\n",
       "<p>193 rows × 4 columns</p>\n",
       "</div>"
      ],
      "text/plain": [
       "         Country      Continent  Population      Area\n",
       "0    Afghanistan           Asia      31.800  251772.0\n",
       "1        Albania         Europe       3.000   11100.0\n",
       "2        Algeria         Africa      38.300  919595.0\n",
       "3        Andorra         Europe       0.085     181.0\n",
       "4         Angola         Africa      19.100  481354.0\n",
       "..           ...            ...         ...       ...\n",
       "188    Venezuela  South America      28.900  353841.0\n",
       "189      Vietnam           Asia      93.400  128527.0\n",
       "190        Yemen           Asia      26.100  203849.0\n",
       "191       Zambia         Africa      14.700  290587.0\n",
       "192     Zimbabwe         Africa      13.800  150871.0\n",
       "\n",
       "[193 rows x 4 columns]"
      ]
     },
     "execution_count": 3,
     "metadata": {},
     "output_type": "execute_result"
    }
   ],
   "source": [
    "df_X = pd.read_excel(\"UN.xls\")\n",
    "df_X"
   ]
  },
  {
   "cell_type": "code",
   "execution_count": 4,
   "metadata": {},
   "outputs": [],
   "source": [
    "df.to_csv(\"UN.csv\", index = False)"
   ]
  },
  {
   "cell_type": "code",
   "execution_count": 5,
   "metadata": {},
   "outputs": [
    {
     "data": {
      "text/html": [
       "<div>\n",
       "<style scoped>\n",
       "    .dataframe tbody tr th:only-of-type {\n",
       "        vertical-align: middle;\n",
       "    }\n",
       "\n",
       "    .dataframe tbody tr th {\n",
       "        vertical-align: top;\n",
       "    }\n",
       "\n",
       "    .dataframe thead th {\n",
       "        text-align: right;\n",
       "    }\n",
       "</style>\n",
       "<table border=\"1\" class=\"dataframe\">\n",
       "  <thead>\n",
       "    <tr style=\"text-align: right;\">\n",
       "      <th></th>\n",
       "      <th>Country</th>\n",
       "      <th>Continent</th>\n",
       "      <th>Population</th>\n",
       "      <th>Area</th>\n",
       "    </tr>\n",
       "  </thead>\n",
       "  <tbody>\n",
       "    <tr>\n",
       "      <th>0</th>\n",
       "      <td>Afghanistan</td>\n",
       "      <td>Asia</td>\n",
       "      <td>31.800</td>\n",
       "      <td>251772.0</td>\n",
       "    </tr>\n",
       "    <tr>\n",
       "      <th>1</th>\n",
       "      <td>Albania</td>\n",
       "      <td>Europe</td>\n",
       "      <td>3.000</td>\n",
       "      <td>11100.0</td>\n",
       "    </tr>\n",
       "    <tr>\n",
       "      <th>2</th>\n",
       "      <td>Algeria</td>\n",
       "      <td>Africa</td>\n",
       "      <td>38.300</td>\n",
       "      <td>919595.0</td>\n",
       "    </tr>\n",
       "    <tr>\n",
       "      <th>3</th>\n",
       "      <td>Andorra</td>\n",
       "      <td>Europe</td>\n",
       "      <td>0.085</td>\n",
       "      <td>181.0</td>\n",
       "    </tr>\n",
       "    <tr>\n",
       "      <th>4</th>\n",
       "      <td>Angola</td>\n",
       "      <td>Africa</td>\n",
       "      <td>19.100</td>\n",
       "      <td>481354.0</td>\n",
       "    </tr>\n",
       "    <tr>\n",
       "      <th>...</th>\n",
       "      <td>...</td>\n",
       "      <td>...</td>\n",
       "      <td>...</td>\n",
       "      <td>...</td>\n",
       "    </tr>\n",
       "    <tr>\n",
       "      <th>188</th>\n",
       "      <td>Venezuela</td>\n",
       "      <td>South America</td>\n",
       "      <td>28.900</td>\n",
       "      <td>353841.0</td>\n",
       "    </tr>\n",
       "    <tr>\n",
       "      <th>189</th>\n",
       "      <td>Vietnam</td>\n",
       "      <td>Asia</td>\n",
       "      <td>93.400</td>\n",
       "      <td>128527.0</td>\n",
       "    </tr>\n",
       "    <tr>\n",
       "      <th>190</th>\n",
       "      <td>Yemen</td>\n",
       "      <td>Asia</td>\n",
       "      <td>26.100</td>\n",
       "      <td>203849.0</td>\n",
       "    </tr>\n",
       "    <tr>\n",
       "      <th>191</th>\n",
       "      <td>Zambia</td>\n",
       "      <td>Africa</td>\n",
       "      <td>14.700</td>\n",
       "      <td>290587.0</td>\n",
       "    </tr>\n",
       "    <tr>\n",
       "      <th>192</th>\n",
       "      <td>Zimbabwe</td>\n",
       "      <td>Africa</td>\n",
       "      <td>13.800</td>\n",
       "      <td>150871.0</td>\n",
       "    </tr>\n",
       "  </tbody>\n",
       "</table>\n",
       "<p>193 rows × 4 columns</p>\n",
       "</div>"
      ],
      "text/plain": [
       "         Country      Continent  Population      Area\n",
       "0    Afghanistan           Asia      31.800  251772.0\n",
       "1        Albania         Europe       3.000   11100.0\n",
       "2        Algeria         Africa      38.300  919595.0\n",
       "3        Andorra         Europe       0.085     181.0\n",
       "4         Angola         Africa      19.100  481354.0\n",
       "..           ...            ...         ...       ...\n",
       "188    Venezuela  South America      28.900  353841.0\n",
       "189      Vietnam           Asia      93.400  128527.0\n",
       "190        Yemen           Asia      26.100  203849.0\n",
       "191       Zambia         Africa      14.700  290587.0\n",
       "192     Zimbabwe         Africa      13.800  150871.0\n",
       "\n",
       "[193 rows x 4 columns]"
      ]
     },
     "execution_count": 5,
     "metadata": {},
     "output_type": "execute_result"
    }
   ],
   "source": [
    "df_Y = pd.read_csv(\"UN.csv\")\n",
    "df_Y"
   ]
  },
  {
   "cell_type": "markdown",
   "metadata": {},
   "source": [
    "## Chapter 5.3 Dictionaries"
   ]
  },
  {
   "cell_type": "code",
   "execution_count": 6,
   "metadata": {},
   "outputs": [],
   "source": [
    "# 영어를 스페인어로 해석하는 함수\n",
    "\n",
    "def translate(color):\n",
    "    if color == \"red\":\n",
    "        return \"rojo\"\n",
    "    elif color == \"blue\":\n",
    "        return \"aloz\"\n",
    "    elif color == \"green\":\n",
    "        return \"verdi\"\n",
    "    elif color == \"white\":\n",
    "        return \"blanco\"\n",
    "    \n",
    "# 이러한 유형의 함수를 매핑(mapping)이라고 함.\n",
    "## 매핑 용어에서 단어 red, blue, green, white는 키(key)라고 하고,\n",
    "## 단어 rojo, aloz, verdi, blanco는 값(values)이라고 함."
   ]
  },
  {
   "cell_type": "code",
   "execution_count": 8,
   "metadata": {},
   "outputs": [
    {
     "data": {
      "text/plain": [
       "'blanco'"
      ]
     },
     "execution_count": 8,
     "metadata": {},
     "output_type": "execute_result"
    }
   ],
   "source": [
    "translate(\"white\")"
   ]
  },
  {
   "cell_type": "markdown",
   "metadata": {},
   "source": [
    "- 파이썬은 딕셔너리(dictionary)라고 하는 효율적이고 융통성있는 매핑 디바이스를 가지고 있음.\n",
    "- 위 함수와 동일한 기능을 수행하는 딕셔너리는 다음과 같이 정의함."
   ]
  },
  {
   "cell_type": "code",
   "execution_count": 82,
   "metadata": {},
   "outputs": [],
   "source": [
    "translate = {\"red\":\"rojo\", \"blue\":\"aloz\", \"green\":\"verdi\", \"white\":\"blanco\"}"
   ]
  },
  {
   "cell_type": "code",
   "execution_count": 83,
   "metadata": {},
   "outputs": [
    {
     "data": {
      "text/plain": [
       "'rojo'"
      ]
     },
     "execution_count": 83,
     "metadata": {},
     "output_type": "execute_result"
    }
   ],
   "source": [
    "translate[\"red\"]"
   ]
  },
  {
   "cell_type": "code",
   "execution_count": 84,
   "metadata": {},
   "outputs": [
    {
     "data": {
      "text/plain": [
       "'aloz'"
      ]
     },
     "execution_count": 84,
     "metadata": {},
     "output_type": "execute_result"
    }
   ],
   "source": [
    "translate['blue']"
   ]
  },
  {
   "cell_type": "markdown",
   "metadata": {},
   "source": [
    "### 1) 딕셔너리 개요\n",
    "- 딕셔너리는 콤마로 구분된 \"key:value\"의 값을 대괄호({})로 포함시킨 데이터의 집합으로 정의함.\n",
    "- 딕셔너리의 key값은 문자열, 숫자, 튜플과 같은 immutable 객체를 사용함.\n",
    "- 하지만, 딕셔너리의 value값은 어떠한 데이터 형태도 가능함."
   ]
  },
  {
   "cell_type": "code",
   "execution_count": 85,
   "metadata": {},
   "outputs": [
    {
     "name": "stdout",
     "output_type": "stream",
     "text": [
      "Robert Smith is 19 years old.\n"
     ]
    }
   ],
   "source": [
    "bob = {\"firstName\":\"Robert\", \"lastName\":\"Smith\", \"age\":19}\n",
    "print(bob[\"firstName\"], bob[\"lastName\"], \"is\", bob[\"age\"], \"years old.\")"
   ]
  },
  {
   "cell_type": "code",
   "execution_count": 10,
   "metadata": {},
   "outputs": [
    {
     "name": "stdout",
     "output_type": "stream",
     "text": [
      "Enter a person's name: Ted\n",
      "Ted's phone number is 5436666\n"
     ]
    }
   ],
   "source": [
    "phoneNum = {\"Sam\":2345678, \"Ted\":5436666, \"Joe\":4443456}\n",
    "name = input(\"Enter a person's name: \")\n",
    "print(name + \"'s phone number is\", phoneNum[name])"
   ]
  },
  {
   "cell_type": "code",
   "execution_count": 11,
   "metadata": {},
   "outputs": [
    {
     "name": "stdout",
     "output_type": "stream",
     "text": [
      "Seventy-Six Trombones\n"
     ]
    }
   ],
   "source": [
    "band = {6:\"Six\", \"instrument\":\"Trombone\", 7: \"seventy\"}\n",
    "print(band[7].capitalize() + '-' + band[6], band[\"instrument\"] + \"s\")"
   ]
  },
  {
   "cell_type": "code",
   "execution_count": 13,
   "metadata": {},
   "outputs": [
    {
     "data": {
      "text/plain": [
       "4"
      ]
     },
     "execution_count": 13,
     "metadata": {},
     "output_type": "execute_result"
    }
   ],
   "source": [
    "# len() 함수는 딕셔너리 내 아이템(key:value쌍)의 개수를 반환함.\n",
    "\n",
    "translate = {\"red\":\"rojo\", \"blue\":\"aloz\", \"green\":\"verdi\", \"white\":\"blanco\"}\n",
    "len(translate)"
   ]
  },
  {
   "cell_type": "code",
   "execution_count": 14,
   "metadata": {},
   "outputs": [
    {
     "name": "stdout",
     "output_type": "stream",
     "text": [
      "True\n",
      "False\n"
     ]
    }
   ],
   "source": [
    "# x in d --> x가 딕셔너리의 키이면 참임.\n",
    "\n",
    "print('red' in translate)\n",
    "print('black' in translate)"
   ]
  },
  {
   "cell_type": "code",
   "execution_count": 15,
   "metadata": {},
   "outputs": [
    {
     "name": "stdout",
     "output_type": "stream",
     "text": [
      "False\n",
      "True\n"
     ]
    }
   ],
   "source": [
    "# x:y in d --> x:y가 딕셔너리 아이템이면 참임. 그렇지 않으면 거짓임.\n",
    "\n",
    "print('red:rojo' in translate)\n",
    "print(\"red:rojo\" not in translate)"
   ]
  },
  {
   "cell_type": "code",
   "execution_count": 16,
   "metadata": {},
   "outputs": [
    {
     "name": "stdout",
     "output_type": "stream",
     "text": [
      "rojo\n",
      "aloz\n",
      "verdi\n",
      "blanco\n"
     ]
    },
    {
     "ename": "KeyError",
     "evalue": "'black'",
     "output_type": "error",
     "traceback": [
      "\u001b[0;31m---------------------------------------------------------------------------\u001b[0m",
      "\u001b[0;31mKeyError\u001b[0m                                  Traceback (most recent call last)",
      "\u001b[0;32m<ipython-input-16-695441273ec5>\u001b[0m in \u001b[0;36m<module>\u001b[0;34m\u001b[0m\n\u001b[1;32m      5\u001b[0m \u001b[0mprint\u001b[0m\u001b[0;34m(\u001b[0m\u001b[0mtranslate\u001b[0m\u001b[0;34m[\u001b[0m\u001b[0;34m'green'\u001b[0m\u001b[0;34m]\u001b[0m\u001b[0;34m)\u001b[0m\u001b[0;34m\u001b[0m\u001b[0;34m\u001b[0m\u001b[0m\n\u001b[1;32m      6\u001b[0m \u001b[0mprint\u001b[0m\u001b[0;34m(\u001b[0m\u001b[0mtranslate\u001b[0m\u001b[0;34m[\u001b[0m\u001b[0;34m'white'\u001b[0m\u001b[0;34m]\u001b[0m\u001b[0;34m)\u001b[0m\u001b[0;34m\u001b[0m\u001b[0;34m\u001b[0m\u001b[0m\n\u001b[0;32m----> 7\u001b[0;31m \u001b[0mprint\u001b[0m\u001b[0;34m(\u001b[0m\u001b[0mtranslate\u001b[0m\u001b[0;34m[\u001b[0m\u001b[0;34m'black'\u001b[0m\u001b[0;34m]\u001b[0m\u001b[0;34m)\u001b[0m\u001b[0;34m\u001b[0m\u001b[0;34m\u001b[0m\u001b[0m\n\u001b[0m",
      "\u001b[0;31mKeyError\u001b[0m: 'black'"
     ]
    }
   ],
   "source": [
    "# d[key1]은 key1과 연관된 값을 반환함. key1이 d의 키가 아니면 오류를 발생시킴.\n",
    "\n",
    "print(translate['red'])\n",
    "print(translate['blue'])\n",
    "print(translate['green'])\n",
    "print(translate['white'])\n",
    "print(translate['black'])"
   ]
  },
  {
   "cell_type": "code",
   "execution_count": 109,
   "metadata": {},
   "outputs": [
    {
     "name": "stdout",
     "output_type": "stream",
     "text": [
      "2\n",
      "rojo\n"
     ]
    }
   ],
   "source": [
    "# d.get(key1, default) --> key1이 딕셔너리의 키값이 아니면 기본 설정값을 반환함. 그렇지 않은 경우 key1과 연과된 값을 반환함.\n",
    "\n",
    "print(translate.get('black', 2)) # 'black'이 딕셔너리의 키값이 아니기 때문에 기본 설정값을 반환\n",
    "print(translate.get('red', 2)) # 'red'가 딕셔너리의 키값이기 때문에 연관된 값 'rojo'를 반환함."
   ]
  },
  {
   "cell_type": "code",
   "execution_count": 104,
   "metadata": {},
   "outputs": [
    {
     "data": {
      "text/plain": [
       "{'red': 'rojo', 'blue': 'aloz', 'green': 'verdi', 'white': 'blanco'}"
      ]
     },
     "execution_count": 104,
     "metadata": {},
     "output_type": "execute_result"
    }
   ],
   "source": [
    "translate"
   ]
  },
  {
   "cell_type": "code",
   "execution_count": 18,
   "metadata": {},
   "outputs": [
    {
     "data": {
      "text/plain": [
       "dict_keys(['red', 'blue', 'green', 'white'])"
      ]
     },
     "execution_count": 18,
     "metadata": {},
     "output_type": "execute_result"
    }
   ],
   "source": [
    "translate.keys()"
   ]
  },
  {
   "cell_type": "code",
   "execution_count": 110,
   "metadata": {},
   "outputs": [
    {
     "data": {
      "text/plain": [
       "['red', 'blue', 'green', 'white']"
      ]
     },
     "execution_count": 110,
     "metadata": {},
     "output_type": "execute_result"
    }
   ],
   "source": [
    "# 딕셔너리의 key값을 리스트로 반환\n",
    "list(translate.keys())"
   ]
  },
  {
   "cell_type": "code",
   "execution_count": 112,
   "metadata": {},
   "outputs": [
    {
     "data": {
      "text/plain": [
       "['rojo', 'aloz', 'verdi', 'blanco']"
      ]
     },
     "execution_count": 112,
     "metadata": {},
     "output_type": "execute_result"
    }
   ],
   "source": [
    "# 딕셔너리의 value값을 리스트로 반환\n",
    "list(translate.values())"
   ]
  },
  {
   "cell_type": "code",
   "execution_count": 19,
   "metadata": {},
   "outputs": [
    {
     "data": {
      "text/plain": [
       "[('red', 'rojo'), ('blue', 'aloz'), ('green', 'verdi'), ('white', 'blanco')]"
      ]
     },
     "execution_count": 19,
     "metadata": {},
     "output_type": "execute_result"
    }
   ],
   "source": [
    "list(translate.items())"
   ]
  },
  {
   "cell_type": "code",
   "execution_count": 116,
   "metadata": {},
   "outputs": [
    {
     "name": "stdout",
     "output_type": "stream",
     "text": [
      "dict_items([('red', 'rojo'), ('blue', 'aloz'), ('green', 'verdi'), ('white', 'blanco')])\n"
     ]
    }
   ],
   "source": [
    "# 딕셔너리의 아이템(key:value쌍)을 (key, value)형태로 튜플로 이루어진 리스트를 반환\n",
    "print(translate.items())"
   ]
  },
  {
   "cell_type": "code",
   "execution_count": 20,
   "metadata": {},
   "outputs": [
    {
     "data": {
      "text/plain": [
       "['red', 'blue', 'green', 'white']"
      ]
     },
     "execution_count": 20,
     "metadata": {},
     "output_type": "execute_result"
    }
   ],
   "source": [
    "# 딕셔너리 내 키값을 리스트로 반환함.\n",
    "list(translate)"
   ]
  },
  {
   "cell_type": "code",
   "execution_count": 21,
   "metadata": {},
   "outputs": [
    {
     "data": {
      "text/plain": [
       "('red', 'blue', 'green', 'white')"
      ]
     },
     "execution_count": 21,
     "metadata": {},
     "output_type": "execute_result"
    }
   ],
   "source": [
    "# 딕셔너리 내 키값을 튜플로 반환함.\n",
    "tuple(translate)"
   ]
  },
  {
   "cell_type": "code",
   "execution_count": 22,
   "metadata": {},
   "outputs": [
    {
     "data": {
      "text/plain": [
       "{'blue', 'green', 'red', 'white'}"
      ]
     },
     "execution_count": 22,
     "metadata": {},
     "output_type": "execute_result"
    }
   ],
   "source": [
    "# 딕셔너리 내 키값을 세트로 반환함.\n",
    "set(translate)"
   ]
  },
  {
   "cell_type": "code",
   "execution_count": 120,
   "metadata": {},
   "outputs": [
    {
     "data": {
      "text/plain": [
       "{}"
      ]
     },
     "execution_count": 120,
     "metadata": {},
     "output_type": "execute_result"
    }
   ],
   "source": [
    "# 비어있는 딕셔너리 생성\n",
    "d1 = {}\n",
    "d1"
   ]
  },
  {
   "cell_type": "code",
   "execution_count": 23,
   "metadata": {},
   "outputs": [
    {
     "data": {
      "text/plain": [
       "{'red': 'rojo', 'blue': 'aloz', 'green': 'verdi', 'white': 'blanco'}"
      ]
     },
     "execution_count": 23,
     "metadata": {},
     "output_type": "execute_result"
    }
   ],
   "source": [
    "# 딕셔너리 translate로부터 복사본 d2 생성\n",
    "\n",
    "d2 = dict(translate)\n",
    "d2"
   ]
  },
  {
   "cell_type": "code",
   "execution_count": 123,
   "metadata": {},
   "outputs": [
    {
     "data": {
      "text/plain": [
       "{'red': 'rojo', 'blue': 'aloz', 'green': 'verdi'}"
      ]
     },
     "execution_count": 123,
     "metadata": {},
     "output_type": "execute_result"
    }
   ],
   "source": [
    "# 특정 키와 값을 제거\n",
    "\n",
    "del d2['white']\n",
    "d2"
   ]
  },
  {
   "cell_type": "code",
   "execution_count": 24,
   "metadata": {},
   "outputs": [
    {
     "data": {
      "text/plain": [
       "{}"
      ]
     },
     "execution_count": 24,
     "metadata": {},
     "output_type": "execute_result"
    }
   ],
   "source": [
    "# 모든 아이템을 딕셔너리에서 제거\n",
    "\n",
    "d2.clear()\n",
    "d2"
   ]
  },
  {
   "cell_type": "code",
   "execution_count": 25,
   "metadata": {},
   "outputs": [
    {
     "data": {
      "text/plain": [
       "['red', 'blue', 'green', 'white']"
      ]
     },
     "execution_count": 25,
     "metadata": {},
     "output_type": "execute_result"
    }
   ],
   "source": [
    "d3 = []\n",
    "\n",
    "for i in translate:  # 딕셔너리에서 키값만 추출해서 for문 조건문 생성\n",
    "    d3.append(i)\n",
    "    \n",
    "d3"
   ]
  },
  {
   "cell_type": "code",
   "execution_count": 27,
   "metadata": {},
   "outputs": [
    {
     "data": {
      "text/plain": [
       "{'red': 1,\n",
       " 'blue': 'aloz',\n",
       " 'green': 'verdi',\n",
       " 'white': 'blanco',\n",
       " 'black': 2,\n",
       " 'pink': 3}"
      ]
     },
     "execution_count": 27,
     "metadata": {},
     "output_type": "execute_result"
    }
   ],
   "source": [
    "translate"
   ]
  },
  {
   "cell_type": "code",
   "execution_count": 26,
   "metadata": {},
   "outputs": [
    {
     "data": {
      "text/plain": [
       "{'red': 1,\n",
       " 'blue': 'aloz',\n",
       " 'green': 'verdi',\n",
       " 'white': 'blanco',\n",
       " 'black': 2,\n",
       " 'pink': 3}"
      ]
     },
     "execution_count": 26,
     "metadata": {},
     "output_type": "execute_result"
    }
   ],
   "source": [
    "# d.update(c) --> 모든 딕셔너리의 c 입력값을 딕셔너리 d와 병합함. 두 아이템이 동일한 키를 가지면 c의 값을 d의 값으로 대체함.\n",
    "\n",
    "d = translate\n",
    "c = {'red': 1, 'black':2, 'pink':3}\n",
    "\n",
    "d.update(c)\n",
    "d"
   ]
  },
  {
   "cell_type": "code",
   "execution_count": 131,
   "metadata": {},
   "outputs": [
    {
     "data": {
      "text/plain": [
       "'red'"
      ]
     },
     "execution_count": 131,
     "metadata": {},
     "output_type": "execute_result"
    }
   ],
   "source": [
    "# d.keys()의 최대값(단, 모든 데이터는 동일한 데이터 유형을 갖는다고 가정함.)\n",
    "\n",
    "max(c)"
   ]
  },
  {
   "cell_type": "code",
   "execution_count": 133,
   "metadata": {},
   "outputs": [
    {
     "data": {
      "text/plain": [
       "'black'"
      ]
     },
     "execution_count": 133,
     "metadata": {},
     "output_type": "execute_result"
    }
   ],
   "source": [
    "# d.keys()의 최소값(단, 모든 데이터는 동일한 데이터 유형을 갖는다고 가정함.)\n",
    "\n",
    "min(c)"
   ]
  },
  {
   "cell_type": "code",
   "execution_count": 28,
   "metadata": {},
   "outputs": [
    {
     "ename": "TypeError",
     "evalue": "'>' not supported between instances of 'int' and 'str'",
     "output_type": "error",
     "traceback": [
      "\u001b[0;31m---------------------------------------------------------------------------\u001b[0m",
      "\u001b[0;31mTypeError\u001b[0m                                 Traceback (most recent call last)",
      "\u001b[0;32m<ipython-input-28-c35fd690ef2e>\u001b[0m in \u001b[0;36m<module>\u001b[0;34m\u001b[0m\n\u001b[1;32m      1\u001b[0m \u001b[0me\u001b[0m \u001b[0;34m=\u001b[0m \u001b[0;34m{\u001b[0m\u001b[0;34m'red'\u001b[0m\u001b[0;34m:\u001b[0m\u001b[0;36m1\u001b[0m\u001b[0;34m,\u001b[0m \u001b[0;34m'1'\u001b[0m\u001b[0;34m:\u001b[0m\u001b[0;36m3\u001b[0m\u001b[0;34m,\u001b[0m \u001b[0;36m3\u001b[0m\u001b[0;34m:\u001b[0m\u001b[0;34m'white'\u001b[0m\u001b[0;34m,\u001b[0m \u001b[0;36m4\u001b[0m\u001b[0;34m:\u001b[0m\u001b[0;34m'red'\u001b[0m\u001b[0;34m}\u001b[0m\u001b[0;34m\u001b[0m\u001b[0;34m\u001b[0m\u001b[0m\n\u001b[0;32m----> 2\u001b[0;31m \u001b[0mmax\u001b[0m\u001b[0;34m(\u001b[0m\u001b[0me\u001b[0m\u001b[0;34m)\u001b[0m\u001b[0;34m\u001b[0m\u001b[0;34m\u001b[0m\u001b[0m\n\u001b[0m",
      "\u001b[0;31mTypeError\u001b[0m: '>' not supported between instances of 'int' and 'str'"
     ]
    }
   ],
   "source": [
    "# 키들의 자료형이 다르면 비교를 못함\n",
    "e = {'red':1, '1':3, 3:'white', 4:'red'}\n",
    "max(e)"
   ]
  },
  {
   "cell_type": "code",
   "execution_count": 29,
   "metadata": {},
   "outputs": [],
   "source": [
    "d1 = {'red': 'rojo', 'blue': 'aloz', 'green': 'verdi', 'white': 'blanco'}"
   ]
  },
  {
   "cell_type": "code",
   "execution_count": 30,
   "metadata": {},
   "outputs": [],
   "source": [
    "d1[\"black\"] = \"123\""
   ]
  },
  {
   "cell_type": "code",
   "execution_count": 31,
   "metadata": {},
   "outputs": [
    {
     "data": {
      "text/plain": [
       "{'red': 'rojo',\n",
       " 'blue': 'aloz',\n",
       " 'green': 'verdi',\n",
       " 'white': 'blanco',\n",
       " 'black': '123'}"
      ]
     },
     "execution_count": 31,
     "metadata": {},
     "output_type": "execute_result"
    }
   ],
   "source": [
    "d1"
   ]
  },
  {
   "cell_type": "code",
   "execution_count": 32,
   "metadata": {},
   "outputs": [
    {
     "data": {
      "text/plain": [
       "{'red': 'rojo',\n",
       " 'blue': 'aloz',\n",
       " 'green': 'verdi',\n",
       " 'white': 'blanco',\n",
       " 'black': '123',\n",
       " 'yellow': 234}"
      ]
     },
     "execution_count": 32,
     "metadata": {},
     "output_type": "execute_result"
    }
   ],
   "source": [
    "d1[\"yellow\"] = 234\n",
    "d1"
   ]
  },
  {
   "cell_type": "code",
   "execution_count": null,
   "metadata": {},
   "outputs": [],
   "source": []
  }
 ],
 "metadata": {
  "kernelspec": {
   "display_name": "Python 3",
   "language": "python",
   "name": "python3"
  },
  "language_info": {
   "codemirror_mode": {
    "name": "ipython",
    "version": 3
   },
   "file_extension": ".py",
   "mimetype": "text/x-python",
   "name": "python",
   "nbconvert_exporter": "python",
   "pygments_lexer": "ipython3",
   "version": "3.7.7"
  }
 },
 "nbformat": 4,
 "nbformat_minor": 4
}
