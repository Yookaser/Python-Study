{
 "cells": [
  {
   "cell_type": "markdown",
   "metadata": {},
   "source": [
    "## Chapter 3-1. Relational and Logical Operators"
   ]
  },
  {
   "cell_type": "markdown",
   "metadata": {},
   "source": [
    "## 1) ASCII Values\n",
    "- 키보드로 표현가능한 문자들이 있으나 한계가 있음.\n",
    "- 키보드로 표현가능한 문자들 뿐만 아니라 표현하기 힘든 문자들은 chr(n) 함수를 이용하여 표현가능함.\n",
    "- ASCII 표준은 이러한 문자들을 숫자로 할당을 해놓았음. 문자에 해당되는 숫자를 ASCII 값이라고 함.\n",
    "- Appendix A에 문자에 할당된 ASCII 값이 정리되어 있음.\n",
    "- ASCII 값들을 이용하면 파이썬에서도 특수문자들을 효과적으로 사용할 수 있음."
   ]
  },
  {
   "cell_type": "code",
   "execution_count": 1,
   "metadata": {},
   "outputs": [
    {
     "data": {
      "text/plain": [
       "'0'"
      ]
     },
     "execution_count": 1,
     "metadata": {},
     "output_type": "execute_result"
    }
   ],
   "source": [
    "chr(48)"
   ]
  },
  {
   "cell_type": "code",
   "execution_count": 5,
   "metadata": {},
   "outputs": [
    {
     "data": {
      "text/plain": [
       "'µA'"
      ]
     },
     "execution_count": 5,
     "metadata": {},
     "output_type": "execute_result"
    }
   ],
   "source": [
    "chr(181)+'A'"
   ]
  },
  {
   "cell_type": "code",
   "execution_count": 6,
   "metadata": {},
   "outputs": [
    {
     "data": {
      "text/plain": [
       "'ø'"
      ]
     },
     "execution_count": 6,
     "metadata": {},
     "output_type": "execute_result"
    }
   ],
   "source": [
    "chr(248)"
   ]
  },
  {
   "cell_type": "code",
   "execution_count": 7,
   "metadata": {},
   "outputs": [
    {
     "data": {
      "text/plain": [
       "181"
      ]
     },
     "execution_count": 7,
     "metadata": {},
     "output_type": "execute_result"
    }
   ],
   "source": [
    "ord('µ')"
   ]
  },
  {
   "cell_type": "code",
   "execution_count": 8,
   "metadata": {},
   "outputs": [
    {
     "name": "stdout",
     "output_type": "stream",
     "text": [
      "A\n"
     ]
    }
   ],
   "source": [
    "print(chr(65))"
   ]
  },
  {
   "cell_type": "code",
   "execution_count": 9,
   "metadata": {},
   "outputs": [
    {
     "name": "stdout",
     "output_type": "stream",
     "text": [
      "65\n"
     ]
    }
   ],
   "source": [
    "print(ord(\"A\"))"
   ]
  },
  {
   "cell_type": "code",
   "execution_count": 17,
   "metadata": {},
   "outputs": [
    {
     "name": "stdout",
     "output_type": "stream",
     "text": [
      "32° Fahrenheit\n"
     ]
    }
   ],
   "source": [
    "print(\"32\" + chr(176) + \" Fahrenheit\")"
   ]
  },
  {
   "cell_type": "markdown",
   "metadata": {},
   "source": [
    "## 2) Relational Operators\n",
    "- '==' : equal(identical) to\n",
    "- '!=' : not equal to(different from)\n",
    "- '<' : less than\n",
    "-  '>' : greater than\n",
    "- '<=' : less than or equal to\n",
    "-  '>=' : greater than or equal to\n",
    "- in : substring of\n",
    "- not in : not a substring of\n",
    "- \"less than\" relational operator\n",
    "    - 2 < 5 --> True\n",
    "    - -5 < -2 --> True\n",
    "    - 0 < 3.5 --> True\n",
    "    - 문자열 비교도 가능함.\n",
    "        - 소문자 > 대문자 > 숫자\n",
    "        - '9W' > 'bat' --> False\n",
    "        - 'Dog' > 'dog' --> False\n",
    "        - 이러한 배열순서를 사전편집순서(lexicographical ordering)이라고 함."
   ]
  },
  {
   "cell_type": "code",
   "execution_count": 18,
   "metadata": {},
   "outputs": [
    {
     "data": {
      "text/plain": [
       "True"
      ]
     },
     "execution_count": 18,
     "metadata": {},
     "output_type": "execute_result"
    }
   ],
   "source": [
    "3 > 0"
   ]
  },
  {
   "cell_type": "code",
   "execution_count": 19,
   "metadata": {},
   "outputs": [
    {
     "data": {
      "text/plain": [
       "False"
      ]
     },
     "execution_count": 19,
     "metadata": {},
     "output_type": "execute_result"
    }
   ],
   "source": [
    "2 < 1"
   ]
  },
  {
   "cell_type": "code",
   "execution_count": 20,
   "metadata": {},
   "outputs": [
    {
     "data": {
      "text/plain": [
       "False"
      ]
     },
     "execution_count": 20,
     "metadata": {},
     "output_type": "execute_result"
    }
   ],
   "source": [
    "'Dog' > 'dog'"
   ]
  },
  {
   "cell_type": "code",
   "execution_count": 16,
   "metadata": {},
   "outputs": [
    {
     "data": {
      "text/plain": [
       "False"
      ]
     },
     "execution_count": 16,
     "metadata": {},
     "output_type": "execute_result"
    }
   ],
   "source": [
    "'9W' > 'bat'"
   ]
  },
  {
   "cell_type": "code",
   "execution_count": 17,
   "metadata": {},
   "outputs": [
    {
     "data": {
      "text/plain": [
       "True"
      ]
     },
     "execution_count": 17,
     "metadata": {},
     "output_type": "execute_result"
    }
   ],
   "source": [
    "'9W' < 'Dog'"
   ]
  },
  {
   "cell_type": "code",
   "execution_count": 18,
   "metadata": {},
   "outputs": [
    {
     "data": {
      "text/plain": [
       "True"
      ]
     },
     "execution_count": 18,
     "metadata": {},
     "output_type": "execute_result"
    }
   ],
   "source": [
    "'cat' < 'dog'"
   ]
  },
  {
   "cell_type": "code",
   "execution_count": 22,
   "metadata": {},
   "outputs": [
    {
     "data": {
      "text/plain": [
       "True"
      ]
     },
     "execution_count": 22,
     "metadata": {},
     "output_type": "execute_result"
    }
   ],
   "source": [
    "\n",
    "'123' < '345'"
   ]
  },
  {
   "cell_type": "code",
   "execution_count": 23,
   "metadata": {},
   "outputs": [
    {
     "data": {
      "text/plain": [
       "True"
      ]
     },
     "execution_count": 23,
     "metadata": {},
     "output_type": "execute_result"
    }
   ],
   "source": [
    "'123' < '3'"
   ]
  },
  {
   "cell_type": "code",
   "execution_count": 24,
   "metadata": {},
   "outputs": [
    {
     "data": {
      "text/plain": [
       "True"
      ]
     },
     "execution_count": 24,
     "metadata": {},
     "output_type": "execute_result"
    }
   ],
   "source": [
    "'cart' < 'cat'"
   ]
  },
  {
   "cell_type": "code",
   "execution_count": 22,
   "metadata": {},
   "outputs": [
    {
     "data": {
      "text/plain": [
       "True"
      ]
     },
     "execution_count": 22,
     "metadata": {},
     "output_type": "execute_result"
    }
   ],
   "source": [
    "'cat' < 'catalog'"
   ]
  },
  {
   "cell_type": "code",
   "execution_count": 25,
   "metadata": {},
   "outputs": [
    {
     "data": {
      "text/plain": [
       "True"
      ]
     },
     "execution_count": 25,
     "metadata": {},
     "output_type": "execute_result"
    }
   ],
   "source": [
    "'sales_99' < 'sales_retail'"
   ]
  },
  {
   "cell_type": "code",
   "execution_count": 26,
   "metadata": {},
   "outputs": [
    {
     "name": "stdout",
     "output_type": "stream",
     "text": [
      "True\n",
      "False\n",
      "True\n",
      "True\n",
      "True\n",
      "False\n"
     ]
    }
   ],
   "source": [
    "# Ex.1\n",
    "\n",
    "print(1 <= 1)\n",
    "print(1 < 1)\n",
    "print('car' < 'cat')\n",
    "print('Dog' < 'dog')\n",
    "print('fun' in 'refund')\n",
    "print('funt' in 'refund')"
   ]
  },
  {
   "cell_type": "code",
   "execution_count": 26,
   "metadata": {},
   "outputs": [
    {
     "name": "stdout",
     "output_type": "stream",
     "text": [
      "True\n",
      "True\n",
      "False\n"
     ]
    }
   ],
   "source": [
    "# Ex.2\n",
    "\n",
    "a, b = 4, 3\n",
    "c, d = 'hello', 'bye'\n",
    "\n",
    "print((a+b) < (2*a))\n",
    "print((len(c) - b) == (a/2))\n",
    "print(c < (\"good\"+d))"
   ]
  },
  {
   "cell_type": "markdown",
   "metadata": {},
   "source": [
    "- 정수는 실수와 비교가 가능함.\n",
    "- 하지만 서로 다른 타입의 데이터와는 비교가 불가능함. 예를 들어 문자열은 숫자와 비교가 불가능함.\n",
    "- relational operators는 리스트나 튜플에도 적용이 가능함."
   ]
  },
  {
   "cell_type": "code",
   "execution_count": 27,
   "metadata": {},
   "outputs": [
    {
     "data": {
      "text/plain": [
       "True"
      ]
     },
     "execution_count": 27,
     "metadata": {},
     "output_type": "execute_result"
    }
   ],
   "source": [
    "3 < 3.1"
   ]
  },
  {
   "cell_type": "code",
   "execution_count": 28,
   "metadata": {},
   "outputs": [
    {
     "ename": "TypeError",
     "evalue": "'<' not supported between instances of 'int' and 'str'",
     "output_type": "error",
     "traceback": [
      "\u001b[0;31m---------------------------------------------------------------------------\u001b[0m",
      "\u001b[0;31mTypeError\u001b[0m                                 Traceback (most recent call last)",
      "\u001b[0;32m<ipython-input-28-f20e9f1ff429>\u001b[0m in \u001b[0;36m<module>\u001b[0;34m\u001b[0m\n\u001b[0;32m----> 1\u001b[0;31m \u001b[0;36m3\u001b[0m \u001b[0;34m<\u001b[0m \u001b[0;34m\"3\"\u001b[0m\u001b[0;34m\u001b[0m\u001b[0;34m\u001b[0m\u001b[0m\n\u001b[0m",
      "\u001b[0;31mTypeError\u001b[0m: '<' not supported between instances of 'int' and 'str'"
     ]
    }
   ],
   "source": [
    "3 < \"3\""
   ]
  },
  {
   "cell_type": "code",
   "execution_count": 27,
   "metadata": {},
   "outputs": [
    {
     "data": {
      "text/plain": [
       "True"
      ]
     },
     "execution_count": 27,
     "metadata": {},
     "output_type": "execute_result"
    }
   ],
   "source": [
    "[3, 5] < [3, 7]"
   ]
  },
  {
   "cell_type": "code",
   "execution_count": 28,
   "metadata": {},
   "outputs": [
    {
     "data": {
      "text/plain": [
       "True"
      ]
     },
     "execution_count": 28,
     "metadata": {},
     "output_type": "execute_result"
    }
   ],
   "source": [
    "[3, 5] < [3, 5, 7]"
   ]
  },
  {
   "cell_type": "code",
   "execution_count": 29,
   "metadata": {},
   "outputs": [
    {
     "data": {
      "text/plain": [
       "True"
      ]
     },
     "execution_count": 29,
     "metadata": {},
     "output_type": "execute_result"
    }
   ],
   "source": [
    "[3, 5, 7] < [3, 7, 2]"
   ]
  },
  {
   "cell_type": "code",
   "execution_count": 30,
   "metadata": {},
   "outputs": [
    {
     "data": {
      "text/plain": [
       "True"
      ]
     },
     "execution_count": 30,
     "metadata": {},
     "output_type": "execute_result"
    }
   ],
   "source": [
    "[7, 'three', 5] < [7, 'two', 2]"
   ]
  },
  {
   "cell_type": "code",
   "execution_count": 31,
   "metadata": {},
   "outputs": [
    {
     "data": {
      "text/plain": [
       "True"
      ]
     },
     "execution_count": 31,
     "metadata": {},
     "output_type": "execute_result"
    }
   ],
   "source": [
    "'b' in ['a', 'b', 'c']"
   ]
  },
  {
   "cell_type": "code",
   "execution_count": 32,
   "metadata": {},
   "outputs": [
    {
     "data": {
      "text/plain": [
       "True"
      ]
     },
     "execution_count": 32,
     "metadata": {},
     "output_type": "execute_result"
    }
   ],
   "source": [
    "'B' not in ('a', 'b', 'c')"
   ]
  },
  {
   "cell_type": "markdown",
   "metadata": {},
   "source": [
    "## 3) 리스트 항목 정렬\n",
    "- sort() 메소드를 이용하여 리스트 내의 항목을 정렬하는 것이 가능함."
   ]
  },
  {
   "cell_type": "code",
   "execution_count": 36,
   "metadata": {},
   "outputs": [
    {
     "name": "stdout",
     "output_type": "stream",
     "text": [
      "[-5, 3.5, 4, 6]\n",
      "['7', 'B', 'ha', 'hi']\n"
     ]
    }
   ],
   "source": [
    "# Ex.3\n",
    "\n",
    "list1 = [6, 4, -5, 3.5]\n",
    "list1.sort()\n",
    "print(list1)\n",
    "list2 = ['ha', 'hi', 'B', '7']\n",
    "list2.sort()\n",
    "print(list2)"
   ]
  },
  {
   "cell_type": "code",
   "execution_count": 37,
   "metadata": {},
   "outputs": [
    {
     "name": "stdout",
     "output_type": "stream",
     "text": [
      "['5¢', '8-ball', 'Dog', 'M', 'car', 'cat', 'dog']\n"
     ]
    }
   ],
   "source": [
    "# Ex.4\n",
    "\n",
    "list1 = [chr(77), \"cat\", \"car\", \"Dog\", \"dog\", \"8-ball\", \"5\"+chr(162)]\n",
    "list1.sort()\n",
    "print(list1)"
   ]
  },
  {
   "cell_type": "code",
   "execution_count": 38,
   "metadata": {},
   "outputs": [
    {
     "name": "stdout",
     "output_type": "stream",
     "text": [
      "[('Elizabeth', 1), ('Elizabeth', 2), ('George', 5), ('George', 6)]\n"
     ]
    }
   ],
   "source": [
    "# Ex.5\n",
    "\n",
    "monarchs = [(\"George\", 5), (\"Elizabeth\", 2), (\"George\", 6), (\"Elizabeth\", 1)]\n",
    "monarchs.sort()\n",
    "print(monarchs)"
   ]
  },
  {
   "cell_type": "markdown",
   "metadata": {},
   "source": [
    "## 4) Logical Operators\n",
    "- 길이가 10이고, 'gram'을 포함하는 문자열 str1을 원한다면 다음과 같은 조건이 필요함.\n",
    "    - (len(str1) == 10) and ('gram' in str1)\n",
    "- 주요 logical operator는 and, or, 그리고 not이 있음.\n",
    "- compound conditions: 다음과 같이 logical operator를 쓰는 조건문을 일컬음.\n",
    "    - cond1 and cond2 --> cond1와 cond2가 모두 True인 경우를 제외하고는 모두 False임.\n",
    "    - cond1 or cond2 --> cond1 혹은 cond2가 True이면 True, 나머지는 False임.\n",
    "    - not cond1 --> cond1이 False이면 True임."
   ]
  },
  {
   "cell_type": "code",
   "execution_count": 14,
   "metadata": {},
   "outputs": [
    {
     "data": {
      "text/html": [
       "<div>\n",
       "<style scoped>\n",
       "    .dataframe tbody tr th:only-of-type {\n",
       "        vertical-align: middle;\n",
       "    }\n",
       "\n",
       "    .dataframe tbody tr th {\n",
       "        vertical-align: top;\n",
       "    }\n",
       "\n",
       "    .dataframe thead th {\n",
       "        text-align: right;\n",
       "    }\n",
       "</style>\n",
       "<table border=\"1\" class=\"dataframe\">\n",
       "  <thead>\n",
       "    <tr style=\"text-align: right;\">\n",
       "      <th></th>\n",
       "      <th>cond1</th>\n",
       "      <th>cond2</th>\n",
       "      <th>cond1 and cond2</th>\n",
       "      <th>cond1 or cond2</th>\n",
       "      <th>not cond2</th>\n",
       "    </tr>\n",
       "  </thead>\n",
       "  <tbody>\n",
       "    <tr>\n",
       "      <th>0</th>\n",
       "      <td>True</td>\n",
       "      <td>True</td>\n",
       "      <td>True</td>\n",
       "      <td>True</td>\n",
       "      <td>False</td>\n",
       "    </tr>\n",
       "    <tr>\n",
       "      <th>1</th>\n",
       "      <td>True</td>\n",
       "      <td>False</td>\n",
       "      <td>False</td>\n",
       "      <td>True</td>\n",
       "      <td>True</td>\n",
       "    </tr>\n",
       "    <tr>\n",
       "      <th>2</th>\n",
       "      <td>False</td>\n",
       "      <td>True</td>\n",
       "      <td>False</td>\n",
       "      <td>True</td>\n",
       "      <td>False</td>\n",
       "    </tr>\n",
       "    <tr>\n",
       "      <th>3</th>\n",
       "      <td>False</td>\n",
       "      <td>False</td>\n",
       "      <td>False</td>\n",
       "      <td>False</td>\n",
       "      <td>True</td>\n",
       "    </tr>\n",
       "  </tbody>\n",
       "</table>\n",
       "</div>"
      ],
      "text/plain": [
       "   cond1  cond2  cond1 and cond2  cond1 or cond2  not cond2\n",
       "0   True   True             True            True      False\n",
       "1   True  False            False            True       True\n",
       "2  False   True            False            True      False\n",
       "3  False  False            False           False       True"
      ]
     },
     "execution_count": 14,
     "metadata": {},
     "output_type": "execute_result"
    }
   ],
   "source": [
    "import pandas as pd\n",
    "df = pd.read_excel(\"LogicalOperators.xlsx\")\n",
    "df"
   ]
  },
  {
   "cell_type": "code",
   "execution_count": 16,
   "metadata": {},
   "outputs": [
    {
     "name": "stdout",
     "output_type": "stream",
     "text": [
      "#1:  True\n",
      "#2:  True\n",
      "#3:  False\n",
      "#4:  True\n",
      "#5:  False\n",
      "#6:  True\n",
      "#7:  False\n",
      "#8:  True\n",
      "#9:  False\n"
     ]
    }
   ],
   "source": [
    "# Ex.6\n",
    "\n",
    "n = 4\n",
    "answ = 'Y'\n",
    "\n",
    "print(\"#1: \", (2<n) and (n<6))\n",
    "print(\"#2: \", (2<n) or (n==6))\n",
    "print(\"#3: \", not (n<6))\n",
    "print(\"#4: \", (answ == 'Y') or (answ == 'y'))\n",
    "print(\"#5: \", (answ == 'y') and (answ =='y'))\n",
    "print(\"#6: \", (not(answ == 'y')))\n",
    "print(\"#7: \", ((2 < n) and (n == 5+1)) or (answ =='No'))\n",
    "print(\"#8: \", ((n == 2) and (n == 7)) or (answ =='Y'))\n",
    "print(\"#9: \", (n==2) and ((n==7) or (answ=='Y')))"
   ]
  },
  {
   "cell_type": "markdown",
   "metadata": {},
   "source": [
    "## 5) Short-Circuit Evaluation\n",
    "- cond1 and cond2와 같은 compound condition이 있다고 할 때,\n",
    "    - cond1이 False이면, 위 compound condtion은 False임.\n",
    "    - 즉, cond2를 고려할 필요가 없음.\n",
    "- cond1 or cond2로 이루어진 compound condition이 있다고 할 때,\n",
    "    - cond1이 True라고 할 때, compound condition은 True임.\n",
    "    - 즉, 더이상 cond2를 고려할 필요가 없음.\n",
    "- 이처럼 첫번째 조건문만으로 전체 compound condition을 평가하는 것을 short-circuit evaluation이라고 함.\n",
    "- 예를 들어, 다음과 같은 코드를 컴퓨터가 실행한다고 가정하면,\n",
    "    - (number != 0) and (m == (n/number))\n",
    "    - 만약 전체 코드를 실행한다면 number=0이라고 하면,\n",
    "    - 두번째 조건문에서 에러가 발생함.\n",
    "    - 하지만, short-circuit evaluation 때문에 첫번째 코드만 실행하고 True or False를 반환하므로, 에러가 발생하지 않음.\n",
    "- Short-circuit evaluation은 가끔 프로그램의 성능을 향상시키는 역할을 함.\n",
    "    - 두번째 조건문(cond2)을 실행할 필요가 없을 때는 더욱 그러함."
   ]
  },
  {
   "cell_type": "code",
   "execution_count": 29,
   "metadata": {},
   "outputs": [
    {
     "data": {
      "text/plain": [
       "False"
      ]
     },
     "execution_count": 29,
     "metadata": {},
     "output_type": "execute_result"
    }
   ],
   "source": [
    "number = 0\n",
    "(number != 0) and (2 == (1/number))"
   ]
  },
  {
   "cell_type": "code",
   "execution_count": 9,
   "metadata": {},
   "outputs": [
    {
     "data": {
      "text/plain": [
       "True"
      ]
     },
     "execution_count": 9,
     "metadata": {},
     "output_type": "execute_result"
    }
   ],
   "source": [
    "number = 0\n",
    "(number == 0) or (2 == (1/number))"
   ]
  },
  {
   "cell_type": "code",
   "execution_count": 10,
   "metadata": {},
   "outputs": [
    {
     "ename": "ZeroDivisionError",
     "evalue": "division by zero",
     "output_type": "error",
     "traceback": [
      "\u001b[0;31m---------------------------------------------------------------------------\u001b[0m",
      "\u001b[0;31mZeroDivisionError\u001b[0m                         Traceback (most recent call last)",
      "\u001b[0;32m<ipython-input-10-f33ad1433d23>\u001b[0m in \u001b[0;36m<module>\u001b[0;34m\u001b[0m\n\u001b[1;32m      1\u001b[0m \u001b[0mnumber\u001b[0m \u001b[0;34m=\u001b[0m \u001b[0;36m0\u001b[0m\u001b[0;34m\u001b[0m\u001b[0;34m\u001b[0m\u001b[0m\n\u001b[0;32m----> 2\u001b[0;31m \u001b[0;34m(\u001b[0m\u001b[0mnumber\u001b[0m \u001b[0;34m!=\u001b[0m \u001b[0;36m0\u001b[0m\u001b[0;34m)\u001b[0m \u001b[0;32mor\u001b[0m \u001b[0;34m(\u001b[0m\u001b[0;36m2\u001b[0m \u001b[0;34m==\u001b[0m \u001b[0;34m(\u001b[0m\u001b[0;36m1\u001b[0m\u001b[0;34m/\u001b[0m\u001b[0mnumber\u001b[0m\u001b[0;34m)\u001b[0m\u001b[0;34m)\u001b[0m\u001b[0;34m\u001b[0m\u001b[0;34m\u001b[0m\u001b[0m\n\u001b[0m",
      "\u001b[0;31mZeroDivisionError\u001b[0m: division by zero"
     ]
    }
   ],
   "source": [
    "number = 0\n",
    "(number != 0) or (2 == (1/number))"
   ]
  },
  {
   "cell_type": "markdown",
   "metadata": {},
   "source": [
    "## 6) The bool data type\n",
    "- print(condition) 명령문은 True 혹은 False를 반환함.\n",
    "- True 혹은 False 형태의 객체를 boolean data type이라고 함.\n",
    "- type(True) 혹은 type(False)는 bool을 반환함."
   ]
  },
  {
   "cell_type": "code",
   "execution_count": 2,
   "metadata": {},
   "outputs": [
    {
     "name": "stdout",
     "output_type": "stream",
     "text": [
      "False\n"
     ]
    }
   ],
   "source": [
    "x = 5\n",
    "print((3+x) < 7)"
   ]
  },
  {
   "cell_type": "code",
   "execution_count": 3,
   "metadata": {},
   "outputs": [
    {
     "name": "stdout",
     "output_type": "stream",
     "text": [
      "True\n"
     ]
    }
   ],
   "source": [
    "x = 2\n",
    "y = 3\n",
    "var = x < y\n",
    "print(var)"
   ]
  },
  {
   "cell_type": "code",
   "execution_count": 4,
   "metadata": {},
   "outputs": [
    {
     "name": "stdout",
     "output_type": "stream",
     "text": [
      "False\n"
     ]
    }
   ],
   "source": [
    "n = 4\n",
    "answ = \"Y\"\n",
    "print((n == 2) and ((n == 7) or (answ ==\"Y\")))"
   ]
  },
  {
   "cell_type": "markdown",
   "metadata": {},
   "source": [
    "## 7) Boolean 값을 반환하는 여러 가지 방법\n",
    "- 문자열 str1와 str2가 있다고 할 때,\n",
    "    - str1.startswith(str2)\n",
    "        - str1이 str2로 시작되는 경우 True\n",
    "    - str1.endswith(str2)\n",
    "        - str1이 str2로 끝나는 경우 True"
   ]
  },
  {
   "cell_type": "code",
   "execution_count": 5,
   "metadata": {},
   "outputs": [
    {
     "data": {
      "text/plain": [
       "True"
      ]
     },
     "execution_count": 5,
     "metadata": {},
     "output_type": "execute_result"
    }
   ],
   "source": [
    "\"fantastic\".startswith(\"fan\")"
   ]
  },
  {
   "cell_type": "code",
   "execution_count": 6,
   "metadata": {},
   "outputs": [
    {
     "data": {
      "text/plain": [
       "True"
      ]
     },
     "execution_count": 6,
     "metadata": {},
     "output_type": "execute_result"
    }
   ],
   "source": [
    "\"fantastic\".endswith(\"stic\")"
   ]
  },
  {
   "cell_type": "code",
   "execution_count": 12,
   "metadata": {},
   "outputs": [
    {
     "name": "stdout",
     "output_type": "stream",
     "text": [
      "False\n",
      "False\n"
     ]
    }
   ],
   "source": [
    "var1 = \"fantastic\"\n",
    "var2 = \"Fan\"\n",
    "\n",
    "print(var1.startswith(var2))\n",
    "print(\"elephant\".endswith(var2))"
   ]
  },
  {
   "cell_type": "markdown",
   "metadata": {},
   "source": [
    "- isinstance(item, datatype)의 형태도 boolean data type을 반환함."
   ]
  },
  {
   "cell_type": "code",
   "execution_count": 30,
   "metadata": {},
   "outputs": [
    {
     "data": {
      "text/plain": [
       "True"
      ]
     },
     "execution_count": 30,
     "metadata": {},
     "output_type": "execute_result"
    }
   ],
   "source": [
    "isinstance(\"32\", str)"
   ]
  },
  {
   "cell_type": "code",
   "execution_count": 14,
   "metadata": {},
   "outputs": [
    {
     "data": {
      "text/plain": [
       "True"
      ]
     },
     "execution_count": 14,
     "metadata": {},
     "output_type": "execute_result"
    }
   ],
   "source": [
    "isinstance(32, int)"
   ]
  },
  {
   "cell_type": "markdown",
   "metadata": {},
   "source": [
    "- boolean data type을 반환하는 다른 방법들은 다음과 같음.\n",
    "    - str1.isdigit(): str1의 모든 문자가 숫자로 이루어진 경우 True\n",
    "    - str1.isalpha(): str1의 모든 문자가 알파벳으로 이루어진 경우 True\n",
    "    - str1.isalnum(): str1의 모든 문자가 알파벳 혹은 숫자로 이루어진 경우 True\n",
    "    - str1.islower(): str1이 적어도 하나의 알파벳 문자를 가지고 있고, 알파벳 문자가 소문자인 경우 True\n",
    "    - str1.isupper(): str1이 적어도 하나의 알파벳 문자를 가지고 있고, 알파벳 문자가 대문자인 경우 True\n",
    "    - str1.isspace(): str1이 \"whitespace\" 문자만 가지고 있는 경우 True\n",
    "        - whitespace: \\n, \\t, space를 일컬음."
   ]
  },
  {
   "cell_type": "code",
   "execution_count": 31,
   "metadata": {},
   "outputs": [
    {
     "data": {
      "text/plain": [
       "True"
      ]
     },
     "execution_count": 31,
     "metadata": {},
     "output_type": "execute_result"
    }
   ],
   "source": [
    "\"123456\".isdigit()"
   ]
  },
  {
   "cell_type": "code",
   "execution_count": 16,
   "metadata": {},
   "outputs": [
    {
     "data": {
      "text/plain": [
       "False"
      ]
     },
     "execution_count": 16,
     "metadata": {},
     "output_type": "execute_result"
    }
   ],
   "source": [
    "\"1234asd\".isdigit()"
   ]
  },
  {
   "cell_type": "code",
   "execution_count": 17,
   "metadata": {},
   "outputs": [
    {
     "data": {
      "text/plain": [
       "True"
      ]
     },
     "execution_count": 17,
     "metadata": {},
     "output_type": "execute_result"
    }
   ],
   "source": [
    "\"abcdefg\".isalpha()"
   ]
  },
  {
   "cell_type": "code",
   "execution_count": 18,
   "metadata": {},
   "outputs": [
    {
     "data": {
      "text/plain": [
       "True"
      ]
     },
     "execution_count": 18,
     "metadata": {},
     "output_type": "execute_result"
    }
   ],
   "source": [
    "\"1234abc\".isalnum()"
   ]
  },
  {
   "cell_type": "code",
   "execution_count": 19,
   "metadata": {},
   "outputs": [
    {
     "data": {
      "text/plain": [
       "True"
      ]
     },
     "execution_count": 19,
     "metadata": {},
     "output_type": "execute_result"
    }
   ],
   "source": [
    "\"1234abc\".islower()"
   ]
  },
  {
   "cell_type": "code",
   "execution_count": 22,
   "metadata": {},
   "outputs": [
    {
     "data": {
      "text/plain": [
       "True"
      ]
     },
     "execution_count": 22,
     "metadata": {},
     "output_type": "execute_result"
    }
   ],
   "source": [
    "\"1234ABC\".isupper()"
   ]
  },
  {
   "cell_type": "code",
   "execution_count": 23,
   "metadata": {},
   "outputs": [
    {
     "data": {
      "text/plain": [
       "False"
      ]
     },
     "execution_count": 23,
     "metadata": {},
     "output_type": "execute_result"
    }
   ],
   "source": [
    "\"1234Abc\".isupper()"
   ]
  },
  {
   "cell_type": "markdown",
   "metadata": {},
   "source": [
    "## 8) 조건문 표현을 단순하게 하는 법\n",
    "- 다음과 같은 조건문들은 서로 같은 표현임.\n",
    "    - (state == \"MD\") or (state == \"VA\") or (state == \"WV\") or (state == \"DE\")\n",
    "    - state in [\"MD\", \"VA\", \"WV\", \"DE\"]\n",
    "- (x > 10) and (x <= 20)은 다음과 같이 표현할 수 있음.\n",
    "    - 10 < x <= 20\n",
    "- (x <= 10) or (x > 20)은 다음과 같이 표현할 수 있음.\n",
    "    - not(10 < x <= 20)\n",
    "- De Morgan's Law\n",
    "    - not(cond1 and cond2)은 not(cond1) or not(cond2)와 같음.\n",
    "    - not(cond1 or cond2)은 not(cond1) and not(cond2)와 같음.\n",
    "    - 예시\n",
    "        - not((temperature >= 80) and (humidity <=60))은 (temperature < 80) or (humidity > 60)와 같음.\n",
    "        - not(len(word) == 5) and not(word.startswith('A'))은 not((len(word) == 5) or (word.startswith('A'))와 같음."
   ]
  },
  {
   "cell_type": "markdown",
   "metadata": {},
   "source": [
    "## Chapter 3-2. Decision Structures"
   ]
  },
  {
   "cell_type": "markdown",
   "metadata": {},
   "source": [
    "## 1) if-else 명령문\n",
    "- if-else 명령문은 다음과 같은 구조를 가지고 있음.\n",
    "    - condition이 True인 경우 첫번째 블록의 명령문을 실행하고,\n",
    "    - condition이 False인 경우 두번째 블록의 명령문을 실행함.\n",
    "    - if-else 명령문 작성시 들여쓰기가 중요함.\n",
    "        - if문의 블록 명령문과 else문 블록 명령문의 들여쓰기가 같아야 함.\n",
    "        - 들여쓰기는 일반적으로 4칸으로 함."
   ]
  },
  {
   "cell_type": "code",
   "execution_count": 28,
   "metadata": {},
   "outputs": [
    {
     "name": "stdout",
     "output_type": "stream",
     "text": [
      "\n",
      "if condition:\n",
      "    indented block of statements\n",
      "else:\n",
      "    indented block of statements\n",
      "\n"
     ]
    }
   ],
   "source": [
    "print(\"\"\"\n",
    "if condition:\n",
    "    indented block of statements\n",
    "else:\n",
    "    indented block of statements\n",
    "\"\"\")"
   ]
  },
  {
   "cell_type": "code",
   "execution_count": 32,
   "metadata": {},
   "outputs": [
    {
     "name": "stdout",
     "output_type": "stream",
     "text": [
      "Enter the first number: 9\n",
      "Enter the second number: 8\n",
      "The larger value is 9.\n"
     ]
    }
   ],
   "source": [
    "# Ex.1\n",
    "\n",
    "num1 = eval(input(\"Enter the first number: \"))\n",
    "num2 = eval(input(\"Enter the second number: \"))\n",
    "\n",
    "if num1 > num2:\n",
    "    largerValue = num1\n",
    "else:\n",
    "    largerValue = num2\n",
    "print(\"The larger value is\", str(largerValue) + '.')"
   ]
  },
  {
   "cell_type": "code",
   "execution_count": 35,
   "metadata": {},
   "outputs": [
    {
     "name": "stdout",
     "output_type": "stream",
     "text": [
      "How many gallons does a ten-gallon hat hold? 0.8\n",
      "Good,  it holds about 3/4 of a gallon.\n"
     ]
    }
   ],
   "source": [
    "# Ex.2\n",
    "\n",
    "answer = eval(input(\"How many gallons does a ten-gallon hat hold? \"))\n",
    "if (0.5 <= answer <= 1):\n",
    "    print(\"Good, \", end= ' ')\n",
    "else:\n",
    "    print(\"No, \", end= ' ')\n",
    "print(\"it holds about 3/4 of a gallon.\")"
   ]
  },
  {
   "cell_type": "markdown",
   "metadata": {},
   "source": [
    "## 2) if 명령문\n",
    "- else문은 생략이 가능하고 if문을 두 개 사용하여 명령문을 만들 수 있음."
   ]
  },
  {
   "cell_type": "code",
   "execution_count": 36,
   "metadata": {},
   "outputs": [
    {
     "name": "stdout",
     "output_type": "stream",
     "text": [
      "Enter first number: 9\n",
      "Enter second number: 8\n",
      "Enter third number: 7\n",
      "The largest number is 9.\n"
     ]
    }
   ],
   "source": [
    "# Ex.3\n",
    "\n",
    "# 3개의 값 중에서 가장 큰 값을 찾아냄.\n",
    "\n",
    "firstNumber = eval(input(\"Enter first number: \"))\n",
    "secondNumber = eval(input(\"Enter second number: \"))\n",
    "thirdNumber = eval(input(\"Enter third number: \"))\n",
    "\n",
    "max = firstNumber\n",
    "\n",
    "if secondNumber > max:\n",
    "    max = secondNumber\n",
    "if thirdNumber > max:\n",
    "    max = thirdNumber\n",
    "print(\"The largest number is\", str(max) + \".\")\n"
   ]
  },
  {
   "cell_type": "markdown",
   "metadata": {},
   "source": [
    "## 3) 내포된 if-else 문\n",
    "- 들여쓰기한 if-else문과 if문의 블록은 다른 if-else와 if문을 포함할 수 있음.\n",
    "- 여기서 포함된 명령문을 내포(nested)되었다고 할 수 있음."
   ]
  },
  {
   "cell_type": "code",
   "execution_count": 37,
   "metadata": {},
   "outputs": [
    {
     "name": "stdout",
     "output_type": "stream",
     "text": [
      "Enter a color (BLUE or RED): red\n",
      "Enter a mode (STEADY or FLASHING): flashing\n",
      "The weather forecast is Snow Ahead.\n"
     ]
    }
   ],
   "source": [
    "# Ex.4\n",
    "\n",
    "# 보스턴의 오래된 존 핸콕 빌딩 위에 비친 불빛의 색상은 다음 운율에 따라 날씨를 예측함.\n",
    "\n",
    "# =============================\n",
    "# Steady blue, clear view.\n",
    "# Flashing blue, clouds due.\n",
    "# Steady red, rain ahead.\n",
    "# Flashing red, snow instead.\n",
    "# =============================\n",
    "\n",
    "color = input(\"Enter a color (BLUE or RED): \")\n",
    "mode = input(\"Enter a mode (STEADY or FLASHING): \")\n",
    "color = color.upper()\n",
    "mode = mode.upper()\n",
    "\n",
    "result = \"\"\n",
    "\n",
    "if color == \"BLUE\":\n",
    "    if mode == \"STEADY\":\n",
    "        result = \"Clear View.\"\n",
    "    else:\n",
    "        result = \"Clouds Due.\"\n",
    "else:\n",
    "    if mode == \"STEADY\":\n",
    "        result = \"Rain Ahead.\"\n",
    "    else:\n",
    "        result = \"Snow Ahead.\"\n",
    "print(\"The weather forecast is\", result)"
   ]
  },
  {
   "cell_type": "code",
   "execution_count": 38,
   "metadata": {},
   "outputs": [
    {
     "name": "stdout",
     "output_type": "stream",
     "text": [
      "Enter total costs: 200\n",
      "Enter total revenue: 180\n",
      "Loss is $20.00.\n"
     ]
    }
   ],
   "source": [
    "# Ex.5\n",
    "\n",
    "costs = eval(input(\"Enter total costs: \"))\n",
    "revenue = eval(input(\"Enter total revenue: \"))\n",
    "\n",
    "if costs == revenue:\n",
    "    result = \"Break even.\"\n",
    "else:\n",
    "    if costs < revenue:\n",
    "        profit = revenue - costs\n",
    "        result = \"Profit is ${0:.2f}.\".format(profit)\n",
    "    else:\n",
    "        loss = costs - revenue\n",
    "        result = \"Loss is ${0:.2f}.\".format(loss)\n",
    "print(result)"
   ]
  },
  {
   "cell_type": "markdown",
   "metadata": {},
   "source": [
    "## 4) elif문\n",
    "- if-else문의 확장을 통해 다음과 같이 여러 개의 elif문을 사용할 수 있음."
   ]
  },
  {
   "cell_type": "code",
   "execution_count": 4,
   "metadata": {},
   "outputs": [],
   "source": [
    "# if cond1:\n",
    "#     indented block of statements to execute if cond1 is true\n",
    "# elif cond2:\n",
    "#     indented block of statements to execute if cond2 is true\n",
    "# elif cond3:\n",
    "#     indented block of statements to execute if cond3 is true\n",
    "# else:\n",
    "#     indented block of statements to execute if non of the above conds are true"
   ]
  },
  {
   "cell_type": "code",
   "execution_count": 40,
   "metadata": {},
   "outputs": [
    {
     "name": "stdout",
     "output_type": "stream",
     "text": [
      "Enter the first number: 15\n",
      "Enter the second number: 15\n",
      "The two values are equal.\n"
     ]
    }
   ],
   "source": [
    "# Ex.6\n",
    "\n",
    "# 두 숫자 중 보다 큰 숫자를 결정\n",
    "\n",
    "num1 = eval(input(\"Enter the first number: \"))\n",
    "num2 = eval(input(\"Enter the second number: \"))\n",
    "\n",
    "if num1 > num2:\n",
    "    print(\"The larger value is\", str(num1) + \".\")\n",
    "elif num2 > num1:\n",
    "    print(\"The larger value is\", str(num2) + \".\")\n",
    "else:\n",
    "    print(\"The two values are equal.\")"
   ]
  },
  {
   "cell_type": "code",
   "execution_count": 42,
   "metadata": {},
   "outputs": [
    {
     "name": "stdout",
     "output_type": "stream",
     "text": [
      "Enter total earning for this year prior to current pay period: 11000\n",
      "Enter earnings for the current pay period: 10000\n",
      "FICA tax for the current pay period: $765.00\n"
     ]
    }
   ],
   "source": [
    "# Ex.7\n",
    "# 독신 임직원에 대한 FICA 세금을 계산\n",
    "\n",
    "str1 = \"Enter total earning for this year prior to current pay period: \"\n",
    "ytdEarnings = eval(input(str1))\n",
    "curEarnings = eval(input(\"Enter earnings for the current pay period: \"))\n",
    "totalEarings = ytdEarnings + curEarnings\n",
    "\n",
    "socialSecurityBenTax = 0\n",
    "if totalEarings <= 117000:\n",
    "    socialSecurityBenTax = 0.062*curEarnings\n",
    "elif ytdEarnings < 117000:\n",
    "    socialSecurityBenTax = 0.062*(117000 - ytdEarnings)\n",
    "    \n",
    "medicareTax = 0.0145*curEarnings\n",
    "if ytdEarnings >=200000:\n",
    "    medicareTax += 0.009*curEarnings\n",
    "elif totalEarings > 200000:\n",
    "    medicareTax += 0.009*(totalEarings - 200000)\n",
    "\n",
    "ficaTax = socialSecurityBenTax + medicareTax\n",
    "\n",
    "print(\"FICA tax for the current pay period: ${0:.2f}\".format(ficaTax))"
   ]
  },
  {
   "cell_type": "code",
   "execution_count": 44,
   "metadata": {},
   "outputs": [
    {
     "name": "stdout",
     "output_type": "stream",
     "text": [
      "Enter your gpa: 3.7\n",
      "You graduated magna cum laude.\n"
     ]
    }
   ],
   "source": [
    "# Ex.8\n",
    "\n",
    "gpa = eval(input(\"Enter your gpa: \"))\n",
    "\n",
    "if gpa >= 3.9:\n",
    "    honors = \" summa cum laude.\"\n",
    "elif gpa >= 3.6:\n",
    "    honors = \" magna cum laude.\"\n",
    "elif gpa >= 3.3:\n",
    "    honors = \" cum laude.\"\n",
    "else:\n",
    "    honors = \".\"\n",
    "    \n",
    "print(\"You graduated\" + honors)"
   ]
  },
  {
   "cell_type": "markdown",
   "metadata": {},
   "source": [
    "## 5) if-elif-else 명령문으로 입력값 검증\n",
    "- 만약, 사용자가 숫자를 잘못 입력하거나 입력하지 않은 경우 해당 프로그램은 오류를 발생시킴.\n",
    "- isdigit() 메소드를 이용하여 이러한 오류를 사전에 방지할 수 있음."
   ]
  },
  {
   "cell_type": "code",
   "execution_count": 3,
   "metadata": {},
   "outputs": [
    {
     "name": "stdout",
     "output_type": "stream",
     "text": [
      "Enter first number: six\n",
      "Enter second number: 9\n",
      "The first entry was not a proper number.\n"
     ]
    }
   ],
   "source": [
    "# Ex.9\n",
    "\n",
    "num1 = input(\"Enter first number: \")\n",
    "num2 = input(\"Enter second number: \")\n",
    "\n",
    "if num1.isdigit() and num2.isdigit():\n",
    "    print(\"The sum is\", str(eval(num1) + eval(num2)) + \".\")\n",
    "elif not num1.isdigit():\n",
    "    if not num2.isdigit():\n",
    "        print(\"Neither entry was a proper number.\")\n",
    "    else:\n",
    "        print(\"The first entry was not a proper number.\")\n",
    "else:\n",
    "    print(\"The second entry was not a proper number.\")\n"
   ]
  },
  {
   "cell_type": "markdown",
   "metadata": {},
   "source": [
    "## 6) True and False\n",
    "- 모든 객체는 이와 관련된 True/False 값을 가짐.\n",
    "- 숫자가 조건으로 사용된다면, 0은 False이고, 나머지 숫자는 True임.\n",
    "- 문자열, 리스트, 튜플은 공백일 경우 False이고, 그 밖의 경우는 True임. "
   ]
  },
  {
   "cell_type": "code",
   "execution_count": 13,
   "metadata": {},
   "outputs": [
    {
     "name": "stdout",
     "output_type": "stream",
     "text": [
      "A nonzero number is true.\n",
      "An empty list is false.\n",
      "A nonempty list is true.\n"
     ]
    }
   ],
   "source": [
    "# Ex.10\n",
    "\n",
    "if 7:\n",
    "    print(\"A nonzero number is true.\")\n",
    "else:\n",
    "    print(\"The number zero is false.\")\n",
    "if []:\n",
    "    print(\"The nonempty list is true.\")\n",
    "else:\n",
    "    print(\"An empty list is false.\")\n",
    "if [\"spam\"]:\n",
    "    print(\"A nonempty list is true.\")\n",
    "else:\n",
    "    print(\"The empty list is false.\")"
   ]
  },
  {
   "cell_type": "code",
   "execution_count": null,
   "metadata": {},
   "outputs": [],
   "source": []
  }
 ],
 "metadata": {
  "kernelspec": {
   "display_name": "Python 3",
   "language": "python",
   "name": "python3"
  },
  "language_info": {
   "codemirror_mode": {
    "name": "ipython",
    "version": 3
   },
   "file_extension": ".py",
   "mimetype": "text/x-python",
   "name": "python",
   "nbconvert_exporter": "python",
   "pygments_lexer": "ipython3",
   "version": "3.7.7"
  }
 },
 "nbformat": 4,
 "nbformat_minor": 4
}
