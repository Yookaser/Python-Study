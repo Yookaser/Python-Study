{
 "cells": [
  {
   "cell_type": "markdown",
   "metadata": {},
   "source": [
    "## Exercise 2.3."
   ]
  },
  {
   "cell_type": "code",
   "execution_count": 1,
   "metadata": {},
   "outputs": [
    {
     "name": "stdout",
     "output_type": "stream",
     "text": [
      "Price: 90%\n"
     ]
    }
   ],
   "source": [
    "#2\n",
    "\n",
    "print(\"Price: \", 90, '%', sep = \"\")"
   ]
  },
  {
   "cell_type": "code",
   "execution_count": 2,
   "metadata": {},
   "outputs": [
    {
     "name": "stdout",
     "output_type": "stream",
     "text": [
      "Python\n"
     ]
    }
   ],
   "source": [
    "#4\n",
    "\n",
    "print(\"Py\", \"th\", \"on\", sep = \"\")"
   ]
  },
  {
   "cell_type": "code",
   "execution_count": 4,
   "metadata": {},
   "outputs": [
    {
     "name": "stdout",
     "output_type": "stream",
     "text": [
      "tic-tac-toe\n"
     ]
    }
   ],
   "source": [
    "# 6\n",
    "\n",
    "print(\"tic\", \"tac\", \"toe\", sep = '-')"
   ]
  },
  {
   "cell_type": "code",
   "execution_count": 5,
   "metadata": {},
   "outputs": [
    {
     "name": "stdout",
     "output_type": "stream",
     "text": [
      "one, two, three\n"
     ]
    }
   ],
   "source": [
    "# 8\n",
    "\n",
    "print(\"one\", \" two\", \" three\", sep = ',')"
   ]
  },
  {
   "cell_type": "code",
   "execution_count": 6,
   "metadata": {},
   "outputs": [
    {
     "name": "stdout",
     "output_type": "stream",
     "text": [
      "spam and eggs\n"
     ]
    }
   ],
   "source": [
    "# 10\n",
    "\n",
    "print(\"spam\", end = ' and ')\n",
    "print(\"eggs\")"
   ]
  },
  {
   "cell_type": "code",
   "execution_count": 7,
   "metadata": {},
   "outputs": [
    {
     "name": "stdout",
     "output_type": "stream",
     "text": [
      "on-siterepair\n"
     ]
    }
   ],
   "source": [
    "# 12\n",
    "\n",
    "print(\"on\", \"site\", sep = '-', end = '')\n",
    "print(\"repair\")"
   ]
  },
  {
   "cell_type": "code",
   "execution_count": 8,
   "metadata": {},
   "outputs": [
    {
     "name": "stdout",
     "output_type": "stream",
     "text": [
      "Hello\n",
      ",World!\n"
     ]
    }
   ],
   "source": [
    "# 14\n",
    "\n",
    "print(\"Hello\\n\", end = ',')\n",
    "print(\"World!\")"
   ]
  },
  {
   "cell_type": "code",
   "execution_count": 9,
   "metadata": {},
   "outputs": [
    {
     "name": "stdout",
     "output_type": "stream",
     "text": [
      "1\t2\t3\n",
      "\tDetroit\tLions\n",
      "Indiana\t\tColts\n"
     ]
    }
   ],
   "source": [
    "# 16\n",
    "print(\"1\\t2\\t3\")\n",
    "print(\"\\tDetroit\\tLions\")\n",
    "print(\"Indiana\\t\\tColts\")"
   ]
  },
  {
   "cell_type": "code",
   "execution_count": 10,
   "metadata": {},
   "outputs": [
    {
     "name": "stdout",
     "output_type": "stream",
     "text": [
      "COUNTRY\t LAND AREA\n",
      "India\t 2.5 million sq km\n",
      "China\t 9.6 million sq km\n"
     ]
    }
   ],
   "source": [
    "# 18\n",
    "\n",
    "print(\"COUNTRY\\t\", \"LAND AREA\")\n",
    "print(\"India\\t\", 2.5, \"million sq km\")\n",
    "print(\"China\\t\", 9.6, \"million sq km\")"
   ]
  },
  {
   "cell_type": "code",
   "execution_count": 12,
   "metadata": {},
   "outputs": [
    {
     "name": "stdout",
     "output_type": "stream",
     "text": [
      "STATE          CAPITAL\n",
      "North Dakota   Bismarck\n",
      "South Dakota   Pierre\n"
     ]
    }
   ],
   "source": [
    "# 20\n",
    "\n",
    "print(\"STATE\\tCAPITAL\".expandtabs(15))\n",
    "print(\"North Dakota\\tBismarck\".expandtabs(15))\n",
    "print(\"South Dakota\\tPierre\".expandtabs(15))"
   ]
  },
  {
   "cell_type": "code",
   "execution_count": 15,
   "metadata": {},
   "outputs": [
    {
     "name": "stdout",
     "output_type": "stream",
     "text": [
      "01234567890123456\n",
      "  one  two  three\n"
     ]
    }
   ],
   "source": [
    "# 22\n",
    "\n",
    "print(\"01234567890123456\")\n",
    "print(\"one\".center(7), \"two\".ljust(4), \"three\".rjust(6), sep = \"\")"
   ]
  },
  {
   "cell_type": "code",
   "execution_count": 17,
   "metadata": {},
   "outputs": [
    {
     "name": "stdout",
     "output_type": "stream",
     "text": [
      "01234567890123456\n",
      "  one two   three\n"
     ]
    }
   ],
   "source": [
    "# 24\n",
    "\n",
    "print(\"01234567890123456\")\n",
    "print(\"{0:>5s}{1:^5s}{2:>7s}\".format(\"one\", \"two\", \"three\"))"
   ]
  },
  {
   "cell_type": "code",
   "execution_count": 21,
   "metadata": {},
   "outputs": [
    {
     "name": "stdout",
     "output_type": "stream",
     "text": [
      "0123456789\n",
      "     12.3%\n",
      "  123.0%  \n",
      "1,230.0%  \n"
     ]
    }
   ],
   "source": [
    "# 26\n",
    "\n",
    "print(\"0123456789\")\n",
    "print(\"{0:10.1%}\".format(.123))\n",
    "print(\"{0:^10.1%}\".format(1.23))\n",
    "print(\"{0:<10,.1%}\".format(12.3))"
   ]
  },
  {
   "cell_type": "code",
   "execution_count": 27,
   "metadata": {},
   "outputs": [
    {
     "name": "stdout",
     "output_type": "stream",
     "text": [
      "1,235\n"
     ]
    }
   ],
   "source": [
    "# 28\n",
    "\n",
    "print(\"{0:,.0f}\".format(1234.567))"
   ]
  },
  {
   "cell_type": "code",
   "execution_count": 29,
   "metadata": {},
   "outputs": [
    {
     "name": "stdout",
     "output_type": "stream",
     "text": [
      "$1,234.00\n"
     ]
    }
   ],
   "source": [
    "# 30\n",
    "print(\"${0:,.2f}\".format(1234))"
   ]
  },
  {
   "cell_type": "code",
   "execution_count": 34,
   "metadata": {},
   "outputs": [
    {
     "name": "stdout",
     "output_type": "stream",
     "text": [
      "Major         Percent of Students\n",
      "Biology             6.2%\n",
      "Nursing             4.7%\n"
     ]
    }
   ],
   "source": [
    "# 32\n",
    "\n",
    "print(\"{0:14s}{1:s}\".format(\"Major\", \"Percent of Students\"))\n",
    "print(\"{0:14s}{1:10.1%}\".format(\"Biology\", .062))\n",
    "print(\"{0:14s}{1:10.1%}\".format(\"Nursing\", .047))"
   ]
  },
  {
   "cell_type": "code",
   "execution_count": 35,
   "metadata": {},
   "outputs": [
    {
     "name": "stdout",
     "output_type": "stream",
     "text": [
      "Plan first, code later\n"
     ]
    }
   ],
   "source": [
    "# 34\n",
    "\n",
    "print(\"Plan {0:s}, code {1:s}\".format(\"first\", \"later\"))"
   ]
  },
  {
   "cell_type": "code",
   "execution_count": 36,
   "metadata": {},
   "outputs": [
    {
     "name": "stdout",
     "output_type": "stream",
     "text": [
      "And now for something completely different.\n"
     ]
    }
   ],
   "source": [
    "#36\n",
    "\n",
    "print(\"And now for {0:s} completely {1:s}.\".format(\"something\", \"different\"))"
   ]
  },
  {
   "cell_type": "code",
   "execution_count": 40,
   "metadata": {},
   "outputs": [
    {
     "name": "stdout",
     "output_type": "stream",
     "text": [
      "And now for different completely something.\n"
     ]
    }
   ],
   "source": [
    "print(\"And now for {1} completely {0}.\".format(\"something\", \"different\"))"
   ]
  },
  {
   "cell_type": "code",
   "execution_count": 41,
   "metadata": {},
   "outputs": [
    {
     "name": "stdout",
     "output_type": "stream",
     "text": [
      "Facebook has 1.3 billion users in the world.\n"
     ]
    }
   ],
   "source": [
    "# 38\n",
    "\n",
    "str1 = \"{0:s} has {1:.1f} billion users in the world.\"\n",
    "print(str1.format(\"Facebook\", 1.3))"
   ]
  },
  {
   "cell_type": "code",
   "execution_count": 42,
   "metadata": {},
   "outputs": [
    {
     "name": "stdout",
     "output_type": "stream",
     "text": [
      "Pi is approximately 3.142.\n"
     ]
    }
   ],
   "source": [
    "# 40\n",
    "\n",
    "pi = 3.14159265898\n",
    "print(\"Pi is approximately {0:.3f}.\".format(pi))"
   ]
  },
  {
   "cell_type": "code",
   "execution_count": 44,
   "metadata": {},
   "outputs": [
    {
     "name": "stdout",
     "output_type": "stream",
     "text": [
      "The population of Canada is 3.540 people per km square.\n"
     ]
    }
   ],
   "source": [
    "# 42\n",
    "\n",
    "areaOfCanada = 9984670\n",
    "popOfCanada = 35344962\n",
    "str1 = \"The population of Canada is {0:.3f} people per km square.\"\n",
    "print(str1.format(popOfCanada / areaOfCanada))"
   ]
  },
  {
   "cell_type": "code",
   "execution_count": 45,
   "metadata": {},
   "outputs": [
    {
     "name": "stdout",
     "output_type": "stream",
     "text": [
      "12% of the members of the U.S. Senate are from New England.\n"
     ]
    }
   ],
   "source": [
    "# 44\n",
    "\n",
    "str1 = \"{0:.0%} of the members of the U.S. Senate are from {1:s}.\"\n",
    "print(str1.format(12 / 100, \"New England\"))"
   ]
  },
  {
   "cell_type": "code",
   "execution_count": 46,
   "metadata": {},
   "outputs": [
    {
     "name": "stdout",
     "output_type": "stream",
     "text": [
      "The area of Canada is 263.2% of the area of the U.S.\n"
     ]
    }
   ],
   "source": [
    "# 46\n",
    "\n",
    "str1 = \"The area of {0:s} is {1:.1%} of the area of the U.S.\"\n",
    "print(str1.format(\"Canada\", 9984670 / 3794000))"
   ]
  },
  {
   "cell_type": "code",
   "execution_count": 47,
   "metadata": {},
   "outputs": [
    {
     "name": "stdout",
     "output_type": "stream",
     "text": [
      "When you have nothing to say, say nothing.\n"
     ]
    }
   ],
   "source": [
    "# 48\n",
    "\n",
    "print(\"When you have {0:s} to {1:s}, {1:s} {0:s}.\".format(\"nothing\", \"say\"))"
   ]
  },
  {
   "cell_type": "code",
   "execution_count": 48,
   "metadata": {},
   "outputs": [
    {
     "name": "stdout",
     "output_type": "stream",
     "text": [
      "If you can dream it, you can do it. - Walt Disney\n"
     ]
    }
   ],
   "source": [
    "# 50\n",
    "\n",
    "str1 = \"If {0:s} dream it, {0:s} do it. - Walt Disney\"\n",
    "print(str1.format(\"you can\"))"
   ]
  },
  {
   "cell_type": "code",
   "execution_count": 49,
   "metadata": {},
   "outputs": [
    {
     "name": "stdout",
     "output_type": "stream",
     "text": [
      "Hello\tWorld!\n",
      "Hello   World!\n"
     ]
    }
   ],
   "source": [
    "# 52\n",
    "\n",
    "print(\"Hello\\tWorld!\")\n",
    "print(\"Hello\\tWorld!\".expandtabs(8))"
   ]
  },
  {
   "cell_type": "code",
   "execution_count": 50,
   "metadata": {},
   "outputs": [
    {
     "name": "stdout",
     "output_type": "stream",
     "text": [
      "Enter revenue: 550000\n",
      "Enter expenses: 410000\n",
      "Net income: $140,000.00\n"
     ]
    }
   ],
   "source": [
    "# 54\n",
    "\n",
    "annualRevenue = eval(input(\"Enter revenue: \"))\n",
    "annualExpenses = eval(input(\"Enter expenses: \"))\n",
    "netIncome = annualRevenue - annualExpenses\n",
    "print(\"Net income: ${0:,.2f}\".format(netIncome))"
   ]
  },
  {
   "cell_type": "code",
   "execution_count": 54,
   "metadata": {},
   "outputs": [
    {
     "name": "stdout",
     "output_type": "stream",
     "text": [
      "Enter beginning salary: 35000\n",
      "New salary: $40,516.88\n",
      "Change: 15.76%\n"
     ]
    }
   ],
   "source": [
    "# 56\n",
    "\n",
    "beginningSalary = eval(input(\"Enter beginning salary: \"))\n",
    "newSalary = beginningSalary*(1.05)**3\n",
    "changeOfSalary = newSalary / beginningSalary - 1\n",
    "print(\"New salary: ${0:,.2f}\".format(newSalary))\n",
    "print(\"Change: {0:.2%}\".format(changeOfSalary))"
   ]
  },
  {
   "cell_type": "code",
   "execution_count": 55,
   "metadata": {},
   "outputs": [
    {
     "name": "stdout",
     "output_type": "stream",
     "text": [
      "Enter future value: 10000\n",
      "Enter interest rate (as %): 4\n",
      "Enter number of years: 6\n",
      "Present value: $7,903.15\n"
     ]
    }
   ],
   "source": [
    "# 58\n",
    "\n",
    "futureValue = eval(input(\"Enter future value: \"))\n",
    "interestRate = eval(input(\"Enter interest rate (as %): \"))\n",
    "numberOfYears = eval(input(\"Enter number of years: \"))\n",
    "presentValue = futureValue / (1+interestRate/100)**numberOfYears\n",
    "print(\"Present value: ${0:,.2f}\".format(presentValue))"
   ]
  },
  {
   "cell_type": "markdown",
   "metadata": {},
   "source": [
    "## Exercise 2.4."
   ]
  },
  {
   "cell_type": "code",
   "execution_count": 12,
   "metadata": {},
   "outputs": [],
   "source": [
    "countries = [\"Japan\", \"India\", \"Algeria\", \"Brazil\", \"Angola\", \"England\", \"Argentina\",\n",
    "            \"Portugal\", \"China\", \"Australia\", \"Austria\", \"Ghana\", \"Bahamas\", \"Bangladesh\",\n",
    "            \"Belgium\", \"Bhutan\", \"Bosnia\", \"Cameroon\", \"Canada\", \"Denmark\"]"
   ]
  },
  {
   "cell_type": "code",
   "execution_count": 13,
   "metadata": {},
   "outputs": [
    {
     "name": "stdout",
     "output_type": "stream",
     "text": [
      "Brazil Cameroon\n"
     ]
    }
   ],
   "source": [
    "# 2\n",
    "\n",
    "print(countries[3],\n",
    "     countries[-3])"
   ]
  },
  {
   "cell_type": "code",
   "execution_count": 14,
   "metadata": {},
   "outputs": [
    {
     "name": "stdout",
     "output_type": "stream",
     "text": [
      "20\n"
     ]
    }
   ],
   "source": [
    "# 4\n",
    "\n",
    "print(len(countries))"
   ]
  },
  {
   "cell_type": "code",
   "execution_count": 15,
   "metadata": {},
   "outputs": [
    {
     "name": "stdout",
     "output_type": "stream",
     "text": [
      "17\n"
     ]
    }
   ],
   "source": [
    "# 6\n",
    "\n",
    "print(countries.index(\"Cameroon\"))"
   ]
  },
  {
   "cell_type": "code",
   "execution_count": 16,
   "metadata": {},
   "outputs": [
    {
     "name": "stdout",
     "output_type": "stream",
     "text": [
      "10\n"
     ]
    }
   ],
   "source": [
    "# 8\n",
    "\n",
    "print(countries.index(countries[10]))"
   ]
  },
  {
   "cell_type": "code",
   "execution_count": 17,
   "metadata": {},
   "outputs": [
    {
     "name": "stdout",
     "output_type": "stream",
     "text": [
      "JAPAN\n"
     ]
    }
   ],
   "source": [
    "# 10\n",
    "\n",
    "print(countries[0].upper())"
   ]
  },
  {
   "cell_type": "code",
   "execution_count": 18,
   "metadata": {},
   "outputs": [
    {
     "name": "stdout",
     "output_type": "stream",
     "text": [
      "Germany\n"
     ]
    }
   ],
   "source": [
    "# 12\n",
    "\n",
    "countries.insert(5, \"Germany\")\n",
    "print(countries[5])"
   ]
  },
  {
   "cell_type": "code",
   "execution_count": 19,
   "metadata": {},
   "outputs": [
    {
     "name": "stdout",
     "output_type": "stream",
     "text": [
      "13\n"
     ]
    }
   ],
   "source": [
    "# 14\n",
    "\n",
    "countries.insert(11, \"Nepal\")\n",
    "print(countries.index(\"Ghana\"))"
   ]
  },
  {
   "cell_type": "code",
   "execution_count": 20,
   "metadata": {},
   "outputs": [
    {
     "data": {
      "text/plain": [
       "['Japan',\n",
       " 'India',\n",
       " 'Algeria',\n",
       " 'Brazil',\n",
       " 'Angola',\n",
       " 'Germany',\n",
       " 'England',\n",
       " 'Argentina',\n",
       " 'Portugal',\n",
       " 'China',\n",
       " 'Australia',\n",
       " 'Nepal',\n",
       " 'Austria',\n",
       " 'Ghana',\n",
       " 'Bahamas',\n",
       " 'Bangladesh',\n",
       " 'Belgium',\n",
       " 'Bhutan',\n",
       " 'Bosnia',\n",
       " 'Cameroon',\n",
       " 'Canada',\n",
       " 'Denmark']"
      ]
     },
     "execution_count": 20,
     "metadata": {},
     "output_type": "execute_result"
    }
   ],
   "source": [
    "countries"
   ]
  },
  {
   "cell_type": "code",
   "execution_count": 21,
   "metadata": {},
   "outputs": [
    {
     "name": "stdout",
     "output_type": "stream",
     "text": [
      "6\n"
     ]
    }
   ],
   "source": [
    "# 16\n",
    "del countries[3]\n",
    "print(countries.index(\"Argentina\"))"
   ]
  },
  {
   "cell_type": "code",
   "execution_count": 1,
   "metadata": {},
   "outputs": [
    {
     "name": "stdout",
     "output_type": "stream",
     "text": [
      "[]\n"
     ]
    }
   ],
   "source": [
    "#18\n",
    "\n",
    "countries = [\"Japan\", \"India\", \"Algeria\", \"Brazil\", \"Angola\", \"England\", \"Argentina\",\n",
    "            \"Portugal\", \"China\", \"Australia\", \"Austria\", \"Ghana\", \"Bahamas\", \"Bangladesh\",\n",
    "            \"Belgium\", \"Bhutan\", \"Bosnia\", \"Cameroon\", \"Canada\", \"Denmark\"]\n",
    "\n",
    "print(countries[-1:4])"
   ]
  },
  {
   "cell_type": "code",
   "execution_count": 2,
   "metadata": {},
   "outputs": [
    {
     "name": "stdout",
     "output_type": "stream",
     "text": [
      "['Angola', 'England', 'Argentina', 'Portugal', 'China', 'Australia', 'Austria', 'Ghana', 'Bahamas', 'Bangladesh', 'Belgium', 'Bhutan', 'Bosnia', 'Cameroon', 'Canada']\n"
     ]
    }
   ],
   "source": [
    "#20\n",
    "\n",
    "countries = [\"Japan\", \"India\", \"Algeria\", \"Brazil\", \"Angola\", \"England\", \"Argentina\",\n",
    "            \"Portugal\", \"China\", \"Australia\", \"Austria\", \"Ghana\", \"Bahamas\", \"Bangladesh\",\n",
    "            \"Belgium\", \"Bhutan\", \"Bosnia\", \"Cameroon\", \"Canada\", \"Denmark\"]\n",
    "\n",
    "print(countries[4:-1])"
   ]
  },
  {
   "cell_type": "code",
   "execution_count": 3,
   "metadata": {},
   "outputs": [
    {
     "name": "stdout",
     "output_type": "stream",
     "text": [
      "['Austria', 'Ghana', 'Bahamas', 'Bangladesh', 'Belgium', 'Bhutan', 'Bosnia', 'Cameroon', 'Canada', 'Denmark']\n"
     ]
    }
   ],
   "source": [
    "#22\n",
    "\n",
    "countries = [\"Japan\", \"India\", \"Algeria\", \"Brazil\", \"Angola\", \"England\", \"Argentina\",\n",
    "            \"Portugal\", \"China\", \"Australia\", \"Austria\", \"Ghana\", \"Bahamas\", \"Bangladesh\",\n",
    "            \"Belgium\", \"Bhutan\", \"Bosnia\", \"Cameroon\", \"Canada\", \"Denmark\"]\n",
    "\n",
    "print(countries[10:])"
   ]
  },
  {
   "cell_type": "code",
   "execution_count": 4,
   "metadata": {},
   "outputs": [
    {
     "name": "stdout",
     "output_type": "stream",
     "text": [
      "['Japan', 'India', 'Algeria', 'Brazil', 'Angola', 'England', 'Argentina', 'Portugal', 'China', 'Australia', 'Austria', 'Ghana', 'Bahamas', 'Bangladesh', 'Belgium', 'Bhutan', 'Bosnia', 'Cameroon', 'Canada']\n"
     ]
    }
   ],
   "source": [
    "#24\n",
    "\n",
    "countries = [\"Japan\", \"India\", \"Algeria\", \"Brazil\", \"Angola\", \"England\", \"Argentina\",\n",
    "            \"Portugal\", \"China\", \"Australia\", \"Austria\", \"Ghana\", \"Bahamas\", \"Bangladesh\",\n",
    "            \"Belgium\", \"Bhutan\", \"Bosnia\", \"Cameroon\", \"Canada\", \"Denmark\"]\n",
    "\n",
    "print(countries[:-1])"
   ]
  },
  {
   "cell_type": "code",
   "execution_count": 5,
   "metadata": {},
   "outputs": [
    {
     "name": "stdout",
     "output_type": "stream",
     "text": [
      "[]\n"
     ]
    }
   ],
   "source": [
    "#26\n",
    "\n",
    "countries = [\"Japan\", \"India\", \"Algeria\", \"Brazil\", \"Angola\", \"England\", \"Argentina\",\n",
    "            \"Portugal\", \"China\", \"Australia\", \"Austria\", \"Ghana\", \"Bahamas\", \"Bangladesh\",\n",
    "            \"Belgium\", \"Bhutan\", \"Bosnia\", \"Cameroon\", \"Canada\", \"Denmark\"]\n",
    "\n",
    "print(countries[-1:-4])"
   ]
  },
  {
   "cell_type": "code",
   "execution_count": 6,
   "metadata": {},
   "outputs": [
    {
     "name": "stdout",
     "output_type": "stream",
     "text": [
      "['Canada', 'Denmark']\n"
     ]
    }
   ],
   "source": [
    "#28\n",
    "\n",
    "countries = [\"Japan\", \"India\", \"Algeria\", \"Brazil\", \"Angola\", \"England\", \"Argentina\",\n",
    "            \"Portugal\", \"China\", \"Australia\", \"Austria\", \"Ghana\", \"Bahamas\", \"Bangladesh\",\n",
    "            \"Belgium\", \"Bhutan\", \"Bosnia\", \"Cameroon\", \"Canada\", \"Denmark\"]\n",
    "\n",
    "print(countries[-2:len(countries)])"
   ]
  },
  {
   "cell_type": "code",
   "execution_count": 8,
   "metadata": {},
   "outputs": [
    {
     "name": "stdout",
     "output_type": "stream",
     "text": [
      "Bosnia\n",
      "s\n"
     ]
    }
   ],
   "source": [
    "#30\n",
    "\n",
    "countries = [\"Japan\", \"India\", \"Algeria\", \"Brazil\", \"Angola\", \"England\", \"Argentina\",\n",
    "            \"Portugal\", \"China\", \"Australia\", \"Austria\", \"Ghana\", \"Bahamas\", \"Bangladesh\",\n",
    "            \"Belgium\", \"Bhutan\", \"Bosnia\", \"Cameroon\", \"Canada\", \"Denmark\"]\n",
    "\n",
    "print(countries[-4])\n",
    "print(countries[-4][-4])"
   ]
  },
  {
   "cell_type": "code",
   "execution_count": 11,
   "metadata": {},
   "outputs": [
    {
     "name": "stdout",
     "output_type": "stream",
     "text": [
      "20\n",
      "20\n"
     ]
    }
   ],
   "source": [
    "#32\n",
    "\n",
    "countries = [\"Japan\", \"India\", \"Algeria\", \"Brazil\", \"Angola\", \"England\", \"Argentina\",\n",
    "            \"Portugal\", \"China\", \"Australia\", \"Austria\", \"Ghana\", \"Bahamas\", \"Bangladesh\",\n",
    "            \"Belgium\", \"Bhutan\", \"Bosnia\", \"Cameroon\", \"Canada\", \"Denmark\"]\n",
    "\n",
    "print(len(countries[-20:]))\n",
    "print(len(countries))"
   ]
  },
  {
   "cell_type": "code",
   "execution_count": 12,
   "metadata": {},
   "outputs": [
    {
     "name": "stdout",
     "output_type": "stream",
     "text": [
      "20\n",
      "20\n"
     ]
    }
   ],
   "source": [
    "#34\n",
    "\n",
    "countries = [\"Japan\", \"India\", \"Algeria\", \"Brazil\", \"Angola\", \"England\", \"Argentina\",\n",
    "            \"Portugal\", \"China\", \"Australia\", \"Austria\", \"Ghana\", \"Bahamas\", \"Bangladesh\",\n",
    "            \"Belgium\", \"Bhutan\", \"Bosnia\", \"Cameroon\", \"Canada\", \"Denmark\"]\n",
    "\n",
    "print(len(countries[:]))\n",
    "print(len(countries))"
   ]
  },
  {
   "cell_type": "code",
   "execution_count": 13,
   "metadata": {},
   "outputs": [
    {
     "name": "stdout",
     "output_type": "stream",
     "text": [
      "16\n"
     ]
    }
   ],
   "source": [
    "#36\n",
    "\n",
    "countries = [\"Japan\", \"India\", \"Algeria\", \"Brazil\", \"Angola\", \"England\", \"Argentina\",\n",
    "            \"Portugal\", \"China\", \"Australia\", \"Austria\", \"Ghana\", \"Bahamas\", \"Bangladesh\",\n",
    "            \"Belgium\", \"Bhutan\", \"Bosnia\", \"Cameroon\", \"Canada\", \"Denmark\"]\n",
    "\n",
    "print(len(countries[2:-2]))"
   ]
  },
  {
   "cell_type": "code",
   "execution_count": 15,
   "metadata": {},
   "outputs": [
    {
     "data": {
      "text/plain": [
       "['Japan',\n",
       " 'India',\n",
       " 'Algeria',\n",
       " 'Brazil',\n",
       " 'Angola',\n",
       " 'England',\n",
       " 'Argentina',\n",
       " 'Portugal',\n",
       " 'China',\n",
       " 'Australia',\n",
       " 'Austria',\n",
       " 'Ghana',\n",
       " 'Bahamas',\n",
       " 'Bangladesh',\n",
       " 'Belgium',\n",
       " 'Bhutan',\n",
       " 'Bosnia',\n",
       " 'Cameroon',\n",
       " 'Canada',\n",
       " 'Denmark',\n",
       " ['New Zealand', 'Norway']]"
      ]
     },
     "execution_count": 15,
     "metadata": {},
     "output_type": "execute_result"
    }
   ],
   "source": [
    "#38\n",
    "\n",
    "countries = [\"Japan\", \"India\", \"Algeria\", \"Brazil\", \"Angola\", \"England\", \"Argentina\",\n",
    "            \"Portugal\", \"China\", \"Australia\", \"Austria\", \"Ghana\", \"Bahamas\", \"Bangladesh\",\n",
    "            \"Belgium\", \"Bhutan\", \"Bosnia\", \"Cameroon\", \"Canada\", \"Denmark\"]\n",
    "\n",
    "countries.append([\"New Zealand\", \"Norway\"])\n",
    "countries"
   ]
  },
  {
   "cell_type": "code",
   "execution_count": 16,
   "metadata": {},
   "outputs": [
    {
     "data": {
      "text/plain": [
       "['Japan',\n",
       " 'India',\n",
       " 'Algeria',\n",
       " 'Brazil',\n",
       " 'Angola',\n",
       " 'England',\n",
       " 'Argentina',\n",
       " 'Portugal',\n",
       " 'China',\n",
       " 'Australia',\n",
       " 'Austria',\n",
       " 'Ghana',\n",
       " 'Bahamas',\n",
       " 'Bangladesh',\n",
       " 'Belgium',\n",
       " 'Bhutan',\n",
       " 'Bosnia',\n",
       " 'Cameroon',\n",
       " 'Canada',\n",
       " 'Denmark',\n",
       " 'New Zealand',\n",
       " 'Norway']"
      ]
     },
     "execution_count": 16,
     "metadata": {},
     "output_type": "execute_result"
    }
   ],
   "source": [
    "countries = [\"Japan\", \"India\", \"Algeria\", \"Brazil\", \"Angola\", \"England\", \"Argentina\",\n",
    "            \"Portugal\", \"China\", \"Australia\", \"Austria\", \"Ghana\", \"Bahamas\", \"Bangladesh\",\n",
    "            \"Belgium\", \"Bhutan\", \"Bosnia\", \"Cameroon\", \"Canada\", \"Denmark\"]\n",
    "\n",
    "countries.extend([\"New Zealand\", \"Norway\"])\n",
    "countries"
   ]
  },
  {
   "cell_type": "code",
   "execution_count": 17,
   "metadata": {},
   "outputs": [
    {
     "name": "stdout",
     "output_type": "stream",
     "text": [
      "['Japan', 'Poland', 'Algeria']\n"
     ]
    }
   ],
   "source": [
    "# 40\n",
    "countries = [\"Japan\", \"India\", \"Algeria\", \"Brazil\", \"Angola\", \"England\", \"Argentina\",\n",
    "            \"Portugal\", \"China\", \"Australia\", \"Austria\", \"Ghana\", \"Bahamas\", \"Bangladesh\",\n",
    "            \"Belgium\", \"Bhutan\", \"Bosnia\", \"Cameroon\", \"Canada\", \"Denmark\"]\n",
    "\n",
    "countries[1] = \"Poland\"\n",
    "\n",
    "\n",
    "print(countries[:3])"
   ]
  },
  {
   "cell_type": "code",
   "execution_count": 18,
   "metadata": {},
   "outputs": [
    {
     "data": {
      "text/plain": [
       "['Japan',\n",
       " 'Poland',\n",
       " 'Algeria',\n",
       " 'Brazil',\n",
       " 'Angola',\n",
       " 'England',\n",
       " 'Argentina',\n",
       " 'Portugal',\n",
       " 'China',\n",
       " 'Australia',\n",
       " 'Austria',\n",
       " 'Ghana',\n",
       " 'Bahamas',\n",
       " 'Bangladesh',\n",
       " 'Belgium',\n",
       " 'Bhutan',\n",
       " 'Bosnia',\n",
       " 'Cameroon',\n",
       " 'Canada',\n",
       " 'Denmark']"
      ]
     },
     "execution_count": 18,
     "metadata": {},
     "output_type": "execute_result"
    }
   ],
   "source": [
    "countries"
   ]
  },
  {
   "cell_type": "code",
   "execution_count": 30,
   "metadata": {},
   "outputs": [
    {
     "name": "stdout",
     "output_type": "stream",
     "text": [
      "['Bosnia']\n",
      "['B', 'o', 's', 'n', 'i', 'a']\n",
      "['Canada', 'South Korea', 'Denmark']\n"
     ]
    }
   ],
   "source": [
    "# 42\n",
    "countries = [\"Japan\", \"India\", \"Algeria\", \"Brazil\", \"Angola\", \"England\", \"Argentina\",\n",
    "            \"Portugal\", \"China\", \"Australia\", \"Austria\", \"Ghana\", \"Bahamas\", \"Bangladesh\",\n",
    "            \"Belgium\", \"Bhutan\", \"Bosnia\", \"Cameroon\", \"Canada\", \"Denmark\"]\n",
    "\n",
    "print(countries[-4].split())\n",
    "print(list(countries[-4]))\n",
    "countries.insert(-1, \"South Korea\")\n",
    "print(countries[-3:])"
   ]
  },
  {
   "cell_type": "code",
   "execution_count": 28,
   "metadata": {},
   "outputs": [
    {
     "name": "stdout",
     "output_type": "stream",
     "text": [
      "India,Algeria,Brazil\n"
     ]
    }
   ],
   "source": [
    "# 44\n",
    "\n",
    "countries = [\"Japan\", \"India\", \"Algeria\", \"Brazil\", \"Angola\", \"England\", \"Argentina\",\n",
    "            \"Portugal\", \"China\", \"Australia\", \"Austria\", \"Ghana\", \"Bahamas\", \"Bangladesh\",\n",
    "            \"Belgium\", \"Bhutan\", \"Bosnia\", \"Cameroon\", \"Canada\", \"Denmark\"]\n",
    "\n",
    "print((',').join(countries[1:4]))"
   ]
  },
  {
   "cell_type": "code",
   "execution_count": 31,
   "metadata": {},
   "outputs": [
    {
     "name": "stdout",
     "output_type": "stream",
     "text": [
      "Bhutan\n"
     ]
    }
   ],
   "source": [
    "# 46\n",
    "\n",
    "countries = [\"Japan\", \"India\", \"Algeria\", \"Brazil\", \"Angola\", \"England\", \"Argentina\",\n",
    "            \"Portugal\", \"China\", \"Australia\", \"Austria\", \"Ghana\", \"Bahamas\", \"Bangladesh\",\n",
    "            \"Belgium\", \"Bhutan\", \"Bosnia\", \"Cameroon\", \"Canada\", \"Denmark\"]\n",
    "\n",
    "countries.remove(countries[-4])\n",
    "print(countries[-4])"
   ]
  },
  {
   "cell_type": "code",
   "execution_count": 33,
   "metadata": {},
   "outputs": [
    {
     "name": "stdout",
     "output_type": "stream",
     "text": [
      "Spain\n"
     ]
    }
   ],
   "source": [
    "# 48\n",
    "\n",
    "countries = [\"Japan\", \"India\", \"Algeria\", \"Brazil\", \"Angola\", \"England\", \"Argentina\",\n",
    "            \"Portugal\", \"China\", \"Australia\", \"Austria\", \"Ghana\", \"Bahamas\", \"Bangladesh\",\n",
    "            \"Belgium\", \"Bhutan\", \"Bosnia\", \"Cameroon\", \"Canada\", \"Denmark\"]\n",
    "\n",
    "countries.append(\"Spain\")\n",
    "print(countries[-1])"
   ]
  },
  {
   "cell_type": "code",
   "execution_count": 35,
   "metadata": {
    "collapsed": true
   },
   "outputs": [
    {
     "data": {
      "text/plain": [
       "[0,\n",
       " 1,\n",
       " 2,\n",
       " 3,\n",
       " 4,\n",
       " 5,\n",
       " 6,\n",
       " 7,\n",
       " 8,\n",
       " 9,\n",
       " 10,\n",
       " 11,\n",
       " 12,\n",
       " 13,\n",
       " 14,\n",
       " 15,\n",
       " 16,\n",
       " 17,\n",
       " 18,\n",
       " 19,\n",
       " 20,\n",
       " 21,\n",
       " 22,\n",
       " 23,\n",
       " 24,\n",
       " 25,\n",
       " 26,\n",
       " 27,\n",
       " 28,\n",
       " 29,\n",
       " 30,\n",
       " 31,\n",
       " 32,\n",
       " 33,\n",
       " 34,\n",
       " 35,\n",
       " 36,\n",
       " 37,\n",
       " 38,\n",
       " 39,\n",
       " 40,\n",
       " 41,\n",
       " 42,\n",
       " 43,\n",
       " 44,\n",
       " 45,\n",
       " 46,\n",
       " 47,\n",
       " 48,\n",
       " 49,\n",
       " 50,\n",
       " 51,\n",
       " 52,\n",
       " 53,\n",
       " 54,\n",
       " 55,\n",
       " 56,\n",
       " 57,\n",
       " 58,\n",
       " 59,\n",
       " 60,\n",
       " 61,\n",
       " 62,\n",
       " 63,\n",
       " 64,\n",
       " 65,\n",
       " 66,\n",
       " 67,\n",
       " 68,\n",
       " 69,\n",
       " 70,\n",
       " 71,\n",
       " 72,\n",
       " 73,\n",
       " 74,\n",
       " 75,\n",
       " 76,\n",
       " 77,\n",
       " 78,\n",
       " 79,\n",
       " 80,\n",
       " 81,\n",
       " 82,\n",
       " 83,\n",
       " 84,\n",
       " 85,\n",
       " 86,\n",
       " 87,\n",
       " 88,\n",
       " 89,\n",
       " 90,\n",
       " 91,\n",
       " 92,\n",
       " 93,\n",
       " 94,\n",
       " 95,\n",
       " 96,\n",
       " 97,\n",
       " 98,\n",
       " 99]"
      ]
     },
     "execution_count": 35,
     "metadata": {},
     "output_type": "execute_result"
    }
   ],
   "source": [
    "list1 = [i for i in range(100)]\n",
    "list1"
   ]
  },
  {
   "cell_type": "code",
   "execution_count": 37,
   "metadata": {},
   "outputs": [
    {
     "data": {
      "text/plain": [
       "8"
      ]
     },
     "execution_count": 37,
     "metadata": {},
     "output_type": "execute_result"
    }
   ],
   "source": [
    "# 50\n",
    "\n",
    "len(list1[:8])"
   ]
  },
  {
   "cell_type": "code",
   "execution_count": 38,
   "metadata": {},
   "outputs": [
    {
     "data": {
      "text/plain": [
       "7"
      ]
     },
     "execution_count": 38,
     "metadata": {},
     "output_type": "execute_result"
    }
   ],
   "source": [
    "# 52\n",
    "\n",
    "len(list1[-8:-1])"
   ]
  },
  {
   "cell_type": "code",
   "execution_count": 39,
   "metadata": {},
   "outputs": [
    {
     "data": {
      "text/plain": [
       "98"
      ]
     },
     "execution_count": 39,
     "metadata": {},
     "output_type": "execute_result"
    }
   ],
   "source": [
    "# 54\n",
    "\n",
    "len(list1[1:-1])"
   ]
  },
  {
   "cell_type": "code",
   "execution_count": 43,
   "metadata": {},
   "outputs": [
    {
     "name": "stdout",
     "output_type": "stream",
     "text": [
      "Largest Number:  8\n",
      "Length:  4\n",
      "Total:  16\n",
      "Number lot:  4.0\n"
     ]
    }
   ],
   "source": [
    "# 55~58\n",
    "\n",
    "nums = [6,2,8,0]\n",
    "\n",
    "print(\"Largest Number: \", max(nums))\n",
    "print(\"Length: \", len(nums))\n",
    "print(\"Total: \", sum(nums))\n",
    "print(\"Number lot: \", sum(nums) / len(nums))"
   ]
  },
  {
   "cell_type": "code",
   "execution_count": 44,
   "metadata": {},
   "outputs": [
    {
     "name": "stdout",
     "output_type": "stream",
     "text": [
      "['all', 'for', 'one']\n"
     ]
    }
   ],
   "source": [
    "# 60\n",
    "\n",
    "L = [\"one\", \"for\", \"all\"]\n",
    "L[0], L[-1] = L[-1], L[0]\n",
    "print(L)"
   ]
  },
  {
   "cell_type": "code",
   "execution_count": 46,
   "metadata": {},
   "outputs": [
    {
     "name": "stdout",
     "output_type": "stream",
     "text": [
      "Enter name with three parts: Guido van Rossum\n",
      "['Guido', 'van', 'Rossum']\n",
      "Guido Rossum\n"
     ]
    }
   ],
   "source": [
    "# 62\n",
    "name = input(\"Enter name with three parts: \")\n",
    "L = name.split()\n",
    "print(L)\n",
    "print(L[0], L[2])"
   ]
  },
  {
   "cell_type": "code",
   "execution_count": 48,
   "metadata": {},
   "outputs": [
    {
     "name": "stdout",
     "output_type": "stream",
     "text": [
      "['P', 'y', 't', 'h', 'o', 'n']\n",
      "Python\n"
     ]
    }
   ],
   "source": [
    "# 64\n",
    "\n",
    "list1 = ['h', 'o', 'n', 'P', 'y', 't']\n",
    "list2 = list1[3:]+list1[:3]\n",
    "print(list2)\n",
    "print((\"\").join(list2))"
   ]
  },
  {
   "cell_type": "code",
   "execution_count": 49,
   "metadata": {},
   "outputs": [
    {
     "name": "stdout",
     "output_type": "stream",
     "text": [
      "['Less', 'is', 'more.']\n",
      "Less is more.\n"
     ]
    }
   ],
   "source": [
    "# 66\n",
    "\n",
    "list1 = [\"is\", \"Less\", \"more.\"]\n",
    "list1[0], list1[1] = list1[1], list1[0]\n",
    "print(list1)\n",
    "print(\" \".join(list1))"
   ]
  },
  {
   "cell_type": "code",
   "execution_count": 50,
   "metadata": {},
   "outputs": [
    {
     "name": "stdout",
     "output_type": "stream",
     "text": [
      "merry-go-round\n"
     ]
    }
   ],
   "source": [
    "# 68\n",
    "\n",
    "carousel = [\"merry\", \"go\", \"round\"]\n",
    "print(('-').join(carousel))"
   ]
  },
  {
   "cell_type": "code",
   "execution_count": 51,
   "metadata": {},
   "outputs": [
    {
     "name": "stdout",
     "output_type": "stream",
     "text": [
      "['around', 'the', 'clock']\n"
     ]
    }
   ],
   "source": [
    "# 70\n",
    "\n",
    "allDay = \"around-the-clock\"\n",
    "print(allDay.split('-'))"
   ]
  },
  {
   "cell_type": "code",
   "execution_count": 52,
   "metadata": {},
   "outputs": [
    {
     "name": "stdout",
     "output_type": "stream",
     "text": [
      "['France', 'England', 'Spain']\n"
     ]
    }
   ],
   "source": [
    "# 72\n",
    "\n",
    "nations = \"France\\nEngland\\nSpain\"\n",
    "countries = nations.split()\n",
    "print(countries)"
   ]
  },
  {
   "cell_type": "code",
   "execution_count": 58,
   "metadata": {},
   "outputs": [
    {
     "name": "stdout",
     "output_type": "stream",
     "text": [
      "a bcd\n"
     ]
    }
   ],
   "source": [
    "# 74\n",
    "\n",
    "outfile = open(\"Abc.txt\", 'w')\n",
    "outfile.write(\"a b\\n\")\n",
    "outfile.write(\"c\\n\")\n",
    "outfile.write(\"d\\n\")\n",
    "outfile.close()\n",
    "\n",
    "infile = open(\"Abc.txt\", 'r')\n",
    "alpha = [line.rstrip() for line in infile]\n",
    "infile.close()\n",
    "word = (\"\").join(alpha)\n",
    "print(word)"
   ]
  },
  {
   "cell_type": "code",
   "execution_count": 59,
   "metadata": {},
   "outputs": [
    {
     "name": "stdout",
     "output_type": "stream",
     "text": [
      "a bcd\n"
     ]
    }
   ],
   "source": [
    "outfile = open(\"Abc1.txt\", 'w')\n",
    "L = [\"a b\\n\", \"c\\n\", \"d\\n\"]\n",
    "outfile.writelines(L)\n",
    "outfile.close()\n",
    "\n",
    "infile = open(\"Abc1.txt\", 'r')\n",
    "alpha = [line.rstrip() for line in infile]\n",
    "infile.close()\n",
    "word = (\"\").join(alpha)\n",
    "print(word)"
   ]
  },
  {
   "cell_type": "code",
   "execution_count": 64,
   "metadata": {},
   "outputs": [
    {
     "name": "stdout",
     "output_type": "stream",
     "text": [
      "Live! let! live!\n"
     ]
    }
   ],
   "source": [
    "# 76\n",
    "\n",
    "outfile = open(\"Live.txt\", 'w')\n",
    "outfile.write(\"Live\\n\")\n",
    "outfile.write(\"let\\n\")\n",
    "outfile.close()\n",
    "\n",
    "infile = open(\"Live.txt\", 'r')\n",
    "words = [line.rstrip() for line in infile]\n",
    "infile.close()\n",
    "words.append(words[0].lower())\n",
    "quote = (\"! \").join(words) + \"!\"\n",
    "print(quote)"
   ]
  },
  {
   "cell_type": "code",
   "execution_count": 65,
   "metadata": {},
   "outputs": [
    {
     "name": "stdout",
     "output_type": "stream",
     "text": [
      "Largest Number: 8\n",
      "Length: 4\n",
      "Total: 16\n",
      "Number list: [6, 2, 8, 0]\n"
     ]
    }
   ],
   "source": [
    "# 78\n",
    "\n",
    "nums = (6, 2, 8, 0)\n",
    "print(\"Largest Number:\", max(nums))\n",
    "print(\"Length:\", len(nums))\n",
    "print(\"Total:\", sum(nums))\n",
    "print(\"Number list:\", list(nums))"
   ]
  },
  {
   "cell_type": "code",
   "execution_count": 70,
   "metadata": {},
   "outputs": [
    {
     "name": "stdout",
     "output_type": "stream",
     "text": [
      "['d', 'i', 'a', 'r', 'y']\n",
      "['d', 'i', 'a', 'i', 'r', 'y']\n",
      "['d', 'a', 'i', 'r', 'y']\n",
      "dairy\n"
     ]
    }
   ],
   "source": [
    "# 80\n",
    "\n",
    "word = \"diary\"\n",
    "list1 = list(word)\n",
    "print(list1)\n",
    "list1.insert(3, list1[1])\n",
    "print(list1)\n",
    "del list1[1]\n",
    "print(list1)\n",
    "word = \"\".join(list1)\n",
    "print(word)"
   ]
  },
  {
   "cell_type": "code",
   "execution_count": 67,
   "metadata": {},
   "outputs": [
    {
     "data": {
      "text/plain": [
       "['d', 'a', 'i', 'r', 'y']"
      ]
     },
     "execution_count": 67,
     "metadata": {},
     "output_type": "execute_result"
    }
   ],
   "source": [
    "list1"
   ]
  },
  {
   "cell_type": "code",
   "execution_count": 71,
   "metadata": {},
   "outputs": [
    {
     "name": "stdout",
     "output_type": "stream",
     "text": [
      "(-5, 17, 123)\n"
     ]
    }
   ],
   "source": [
    "# 82\n",
    "\n",
    "nums = [-5, 17, 123]\n",
    "print(tuple(nums))"
   ]
  },
  {
   "cell_type": "code",
   "execution_count": 72,
   "metadata": {},
   "outputs": [
    {
     "name": "stdout",
     "output_type": "stream",
     "text": [
      "(0, 2, 3)\n"
     ]
    }
   ],
   "source": [
    "# 84\n",
    "\n",
    "t = (1,2,3)\n",
    "t = (0,) + t[1:]\n",
    "print(t)"
   ]
  },
  {
   "cell_type": "code",
   "execution_count": 73,
   "metadata": {},
   "outputs": [
    {
     "name": "stdout",
     "output_type": "stream",
     "text": [
      "['soprano', 'tenor', 'alto', 'bass']\n"
     ]
    }
   ],
   "source": [
    "# 86\n",
    "list1 = [\"soprano\", \"tenor\"]\n",
    "list2 = [\"alto\", \"bass\"]\n",
    "print(list1 + list2)"
   ]
  },
  {
   "cell_type": "code",
   "execution_count": 74,
   "metadata": {},
   "outputs": [
    {
     "name": "stdout",
     "output_type": "stream",
     "text": [
      "['gold', 'silver', 'bronze']\n"
     ]
    }
   ],
   "source": [
    "# 88\n",
    "\n",
    "list1 = [\"gold\"]\n",
    "list2 = [\"silver\", \"bronze\"]\n",
    "list1.extend(list2)\n",
    "print(list1)"
   ]
  },
  {
   "cell_type": "code",
   "execution_count": 75,
   "metadata": {},
   "outputs": [
    {
     "name": "stdout",
     "output_type": "stream",
     "text": [
      "[0, 0, 0, 0]\n"
     ]
    }
   ],
   "source": [
    "# 90\n",
    "\n",
    "list1 = [0]\n",
    "print(list1*4)"
   ]
  },
  {
   "cell_type": "code",
   "execution_count": 76,
   "metadata": {},
   "outputs": [
    {
     "name": "stdout",
     "output_type": "stream",
     "text": [
      "['Nina', 'Pinta']\n"
     ]
    }
   ],
   "source": [
    "# 92\n",
    "ships = [\"Nina\", \"Pinta\", \"Santa Maria\"]\n",
    "print(ships[-5:2])"
   ]
  },
  {
   "cell_type": "code",
   "execution_count": 78,
   "metadata": {},
   "outputs": [
    {
     "data": {
      "text/plain": [
       "2"
      ]
     },
     "execution_count": 78,
     "metadata": {},
     "output_type": "execute_result"
    }
   ],
   "source": [
    "# 94\n",
    "numbers = (3,5,7,7,3)\n",
    "location = numbers.index(7)\n",
    "location"
   ]
  },
  {
   "cell_type": "code",
   "execution_count": 79,
   "metadata": {},
   "outputs": [
    {
     "ename": "TypeError",
     "evalue": "'str' object does not support item assignment",
     "output_type": "error",
     "traceback": [
      "\u001b[0;31m---------------------------------------------------------------------------\u001b[0m",
      "\u001b[0;31mTypeError\u001b[0m                                 Traceback (most recent call last)",
      "\u001b[0;32m<ipython-input-79-c83e686281d7>\u001b[0m in \u001b[0;36m<module>\u001b[0;34m\u001b[0m\n\u001b[1;32m      2\u001b[0m \u001b[0;34m\u001b[0m\u001b[0m\n\u001b[1;32m      3\u001b[0m \u001b[0mword\u001b[0m \u001b[0;34m=\u001b[0m \u001b[0;34m\"sea\"\u001b[0m\u001b[0;34m\u001b[0m\u001b[0;34m\u001b[0m\u001b[0m\n\u001b[0;32m----> 4\u001b[0;31m \u001b[0mword\u001b[0m\u001b[0;34m[\u001b[0m\u001b[0;36m1\u001b[0m\u001b[0;34m]\u001b[0m \u001b[0;34m=\u001b[0m \u001b[0;34m'p'\u001b[0m\u001b[0;34m\u001b[0m\u001b[0;34m\u001b[0m\u001b[0m\n\u001b[0m\u001b[1;32m      5\u001b[0m \u001b[0mprint\u001b[0m\u001b[0;34m(\u001b[0m\u001b[0mword\u001b[0m\u001b[0;34m)\u001b[0m\u001b[0;34m\u001b[0m\u001b[0;34m\u001b[0m\u001b[0m\n",
      "\u001b[0;31mTypeError\u001b[0m: 'str' object does not support item assignment"
     ]
    }
   ],
   "source": [
    "# 96\n",
    "\n",
    "word = \"sea\"\n",
    "word[1] = 'p'\n",
    "print(word)"
   ]
  },
  {
   "cell_type": "code",
   "execution_count": 80,
   "metadata": {},
   "outputs": [
    {
     "ename": "IndexError",
     "evalue": "tuple index out of range",
     "output_type": "error",
     "traceback": [
      "\u001b[0;31m---------------------------------------------------------------------------\u001b[0m",
      "\u001b[0;31mIndexError\u001b[0m                                Traceback (most recent call last)",
      "\u001b[0;32m<ipython-input-80-09bd3bff189f>\u001b[0m in \u001b[0;36m<module>\u001b[0;34m\u001b[0m\n\u001b[1;32m      2\u001b[0m \u001b[0;34m\u001b[0m\u001b[0m\n\u001b[1;32m      3\u001b[0m \u001b[0mvirtues\u001b[0m \u001b[0;34m=\u001b[0m \u001b[0;34m(\u001b[0m\u001b[0;34m\"wisdom\"\u001b[0m\u001b[0;34m,\u001b[0m \u001b[0;34m\"courage\"\u001b[0m\u001b[0;34m,\u001b[0m \u001b[0;34m\"temperance\"\u001b[0m\u001b[0;34m,\u001b[0m \u001b[0;34m\"justice\"\u001b[0m\u001b[0;34m)\u001b[0m\u001b[0;34m\u001b[0m\u001b[0;34m\u001b[0m\u001b[0m\n\u001b[0;32m----> 4\u001b[0;31m \u001b[0mprint\u001b[0m\u001b[0;34m(\u001b[0m\u001b[0mvirtues\u001b[0m\u001b[0;34m[\u001b[0m\u001b[0;36m4\u001b[0m\u001b[0;34m]\u001b[0m\u001b[0;34m)\u001b[0m\u001b[0;34m\u001b[0m\u001b[0;34m\u001b[0m\u001b[0m\n\u001b[0m",
      "\u001b[0;31mIndexError\u001b[0m: tuple index out of range"
     ]
    }
   ],
   "source": [
    "# 98\n",
    "\n",
    "virtues = (\"wisdom\", \"courage\", \"temperance\", \"justice\")\n",
    "print(virtues[4])"
   ]
  },
  {
   "cell_type": "code",
   "execution_count": 81,
   "metadata": {},
   "outputs": [
    {
     "ename": "AttributeError",
     "evalue": "'tuple' object has no attribute 'append'",
     "output_type": "error",
     "traceback": [
      "\u001b[0;31m---------------------------------------------------------------------------\u001b[0m",
      "\u001b[0;31mAttributeError\u001b[0m                            Traceback (most recent call last)",
      "\u001b[0;32m<ipython-input-81-8a0fcf3d6825>\u001b[0m in \u001b[0;36m<module>\u001b[0;34m\u001b[0m\n\u001b[1;32m      2\u001b[0m \u001b[0;34m\u001b[0m\u001b[0m\n\u001b[1;32m      3\u001b[0m \u001b[0mwords\u001b[0m \u001b[0;34m=\u001b[0m \u001b[0;34m(\u001b[0m\u001b[0;34m\"Keep\"\u001b[0m\u001b[0;34m,\u001b[0m \u001b[0;34m\"cool\"\u001b[0m\u001b[0;34m,\u001b[0m \u001b[0;34m\"but\"\u001b[0m\u001b[0;34m,\u001b[0m \u001b[0;34m\"don't\"\u001b[0m\u001b[0;34m)\u001b[0m\u001b[0;34m\u001b[0m\u001b[0;34m\u001b[0m\u001b[0m\n\u001b[0;32m----> 4\u001b[0;31m \u001b[0mwords\u001b[0m\u001b[0;34m.\u001b[0m\u001b[0mappend\u001b[0m\u001b[0;34m(\u001b[0m\u001b[0;34m\"freeze.\"\u001b[0m\u001b[0;34m)\u001b[0m\u001b[0;34m\u001b[0m\u001b[0;34m\u001b[0m\u001b[0m\n\u001b[0m\u001b[1;32m      5\u001b[0m \u001b[0mprint\u001b[0m\u001b[0;34m(\u001b[0m\u001b[0mwords\u001b[0m\u001b[0;34m)\u001b[0m\u001b[0;34m\u001b[0m\u001b[0;34m\u001b[0m\u001b[0m\n",
      "\u001b[0;31mAttributeError\u001b[0m: 'tuple' object has no attribute 'append'"
     ]
    }
   ],
   "source": [
    "# 100\n",
    "\n",
    "words = (\"Keep\", \"cool\", \"but\", \"don't\")\n",
    "words.append(\"freeze.\")\n",
    "print(words)"
   ]
  },
  {
   "cell_type": "code",
   "execution_count": 86,
   "metadata": {},
   "outputs": [
    {
     "name": "stdout",
     "output_type": "stream",
     "text": [
      "Enter a sentence: Reach for the stars.\n",
      "First word:  Reach\n",
      "Last word:  stars\n"
     ]
    }
   ],
   "source": [
    "# 102\n",
    "\n",
    "sentence = input(\"Enter a sentence: \")\n",
    "firstWord = sentence.split()[0]\n",
    "lastWord = sentence.split()[-1]\n",
    "lastWord = list(lastWord)\n",
    "del lastWord[-1]\n",
    "lastWord = \"\".join(lastWord)\n",
    "print(\"First word: \", firstWord)\n",
    "print(\"Last word: \", lastWord)"
   ]
  },
  {
   "cell_type": "code",
   "execution_count": null,
   "metadata": {},
   "outputs": [],
   "source": []
  }
 ],
 "metadata": {
  "kernelspec": {
   "display_name": "Python 3",
   "language": "python",
   "name": "python3"
  },
  "language_info": {
   "codemirror_mode": {
    "name": "ipython",
    "version": 3
   },
   "file_extension": ".py",
   "mimetype": "text/x-python",
   "name": "python",
   "nbconvert_exporter": "python",
   "pygments_lexer": "ipython3",
   "version": "3.8.3"
  }
 },
 "nbformat": 4,
 "nbformat_minor": 4
}
